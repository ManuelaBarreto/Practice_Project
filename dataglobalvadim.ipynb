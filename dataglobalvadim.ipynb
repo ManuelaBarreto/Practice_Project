{
 "cells": [
  {
   "cell_type": "code",
   "execution_count": 172,
   "metadata": {},
   "outputs": [],
   "source": [
    "import pandas as pd\n",
    "import numpy as np\n",
    "import matplotlib.pyplot as plt"
   ]
  },
  {
   "cell_type": "code",
   "execution_count": 174,
   "metadata": {},
   "outputs": [],
   "source": [
    "def trimester_to_date(trimester):\n",
    "    year, quarter = trimester.split('-')\n",
    "    quarter=quarter[1]\n",
    "    month = int(quarter) * 3\n",
    "    return pd.Timestamp(year=int(year), month=month, day=1)"
   ]
  },
  {
   "cell_type": "code",
   "execution_count": 215,
   "metadata": {},
   "outputs": [],
   "source": [
    "employment=pd.read_csv('data/global/data/employment.csv')"
   ]
  },
  {
   "cell_type": "code",
   "execution_count": 216,
   "metadata": {},
   "outputs": [
    {
     "data": {
      "text/plain": [
       "Index(['STRUCTURE', 'STRUCTURE_ID', 'STRUCTURE_NAME', 'ACTION', 'FREQ',\n",
       "       'Fréquence d'observation', 'ADJUSTMENT', 'Ajustement', 'REF_AREA',\n",
       "       'Zone de référence', 'SECTOR', 'Secteur institutionnel',\n",
       "       'COUNTERPART_SECTOR', 'Secteur institutionnel de contrepartie',\n",
       "       'TRANSACTION', 'Transaction', 'INSTR_ASSET',\n",
       "       'Instruments financiers et actifs non financiers', 'ACTIVITY',\n",
       "       'Activité économique', 'EXPENDITURE', 'Dépense', 'UNIT_MEASURE',\n",
       "       'Unité de mesure', 'PRICE_BASE', 'Type de prix', 'TRANSFORMATION',\n",
       "       'Transformation', 'TABLE_IDENTIFIER', 'Identifiant de tableau',\n",
       "       'TIME_PERIOD', 'Période temporelle', 'OBS_VALUE',\n",
       "       'Valeur d'observation', 'REF_YEAR_PRICE', 'Prix ​​année de référence',\n",
       "       'BASE_PER', 'Période de base', 'CONF_STATUS',\n",
       "       'Statut de confidentialité', 'DECIMALS', 'Décimales', 'OBS_STATUS',\n",
       "       'Statut d'observation', 'UNIT_MULT', 'Multiplicateur d'unité',\n",
       "       'CURRENCY', 'Monnaie'],\n",
       "      dtype='object')"
      ]
     },
     "execution_count": 216,
     "metadata": {},
     "output_type": "execute_result"
    }
   ],
   "source": [
    "employment.columns"
   ]
  },
  {
   "cell_type": "code",
   "execution_count": 217,
   "metadata": {},
   "outputs": [],
   "source": [
    "employment=employment[employment['UNIT_MEASURE']=='H']\n",
    "employment=employment[employment['Transaction']=='Emploi total']\n",
    "employment=employment[employment['ADJUSTMENT']=='Y']\n"
   ]
  },
  {
   "cell_type": "code",
   "execution_count": 218,
   "metadata": {},
   "outputs": [],
   "source": [
    "employment2=employment.drop(['STRUCTURE','STRUCTURE_ID','STRUCTURE_NAME','ACTION','FREQ',\n",
    "       'ADJUSTMENT', 'Ajustement', 'REF_AREA','SECTOR','Secteur institutionnel','COUNTERPART_SECTOR','Secteur institutionnel de contrepartie',\n",
    "       'TRANSACTION','INSTR_ASSET','Instruments financiers et actifs non financiers','ACTIVITY','EXPENDITURE','Dépense','UNIT_MEASURE','PRICE_BASE',\n",
    "       'Type de prix','TRANSFORMATION','Transformation','TABLE_IDENTIFIER','Identifiant de tableau','Période temporelle','Valeur d\\'observation',\n",
    "       'REF_YEAR_PRICE','Prix ​​année de référence','BASE_PER','Période de base','CONF_STATUS','Statut de confidentialité','DECIMALS','Décimales',\n",
    "       'OBS_STATUS','Statut d\\'observation','UNIT_MULT','CURRENCY','Monnaie'],axis=1)"
   ]
  },
  {
   "cell_type": "code",
   "execution_count": 219,
   "metadata": {},
   "outputs": [
    {
     "data": {
      "text/plain": [
       "Index(['Fréquence d'observation', 'Zone de référence', 'Transaction',\n",
       "       'Activité économique', 'Unité de mesure', 'TIME_PERIOD', 'OBS_VALUE',\n",
       "       'Multiplicateur d'unité'],\n",
       "      dtype='object')"
      ]
     },
     "execution_count": 219,
     "metadata": {},
     "output_type": "execute_result"
    }
   ],
   "source": [
    "employment2.columns"
   ]
  },
  {
   "cell_type": "code",
   "execution_count": 220,
   "metadata": {},
   "outputs": [],
   "source": [
    "employment2.TIME_PERIOD=employment2.TIME_PERIOD.astype(str)\n",
    "employment2=employment2[employment2['Fréquence d\\'observation']=='Trimestrielle']\n",
    "employment2.OBS_VALUE=employment2.OBS_VALUE.astype(float)\n"
   ]
  },
  {
   "cell_type": "code",
   "execution_count": 221,
   "metadata": {},
   "outputs": [],
   "source": [
    "for country in employment2['Zone de référence'].unique():\n",
    "    for activite in employment2['Activité économique'].unique():\n",
    "        a=employment2[(employment2['Zone de référence']==country) & (employment2['Activité économique']==activite)]['OBS_VALUE'].pct_change()\n",
    "        employment2.loc[(employment2['Zone de référence']==country) & (employment2['Activité économique']==activite),'OBS_VALUE']=a\n",
    "\n",
    "employment2=employment2.dropna(subset='OBS_VALUE')\n",
    "employment2.loc[:,'TIME_PERIOD']=employment2.TIME_PERIOD.apply(lambda x: trimester_to_date(x))"
   ]
  },
  {
   "cell_type": "code",
   "execution_count": null,
   "metadata": {},
   "outputs": [],
   "source": []
  },
  {
   "cell_type": "code",
   "execution_count": 229,
   "metadata": {},
   "outputs": [],
   "source": [
    "gdp=pd.read_csv('data/global/data/realgdpg20.csv')"
   ]
  },
  {
   "cell_type": "code",
   "execution_count": 233,
   "metadata": {},
   "outputs": [
    {
     "data": {
      "text/plain": [
       "3138"
      ]
     },
     "execution_count": 233,
     "metadata": {},
     "output_type": "execute_result"
    }
   ],
   "source": [
    "len(gdp[(gdp['Zone de référence']=='France') & (gdp['FREQ']=='Q')])"
   ]
  },
  {
   "cell_type": "code",
   "execution_count": 237,
   "metadata": {},
   "outputs": [
    {
     "data": {
      "text/plain": [
       "756"
      ]
     },
     "execution_count": 237,
     "metadata": {},
     "output_type": "execute_result"
    }
   ],
   "source": [
    "len(gdp[(gdp['Zone de référence']=='France') & (gdp['FREQ']=='A')])"
   ]
  }
 ],
 "metadata": {
  "kernelspec": {
   "display_name": "machinelearning",
   "language": "python",
   "name": "python3"
  },
  "language_info": {
   "codemirror_mode": {
    "name": "ipython",
    "version": 3
   },
   "file_extension": ".py",
   "mimetype": "text/x-python",
   "name": "python",
   "nbconvert_exporter": "python",
   "pygments_lexer": "ipython3",
   "version": "3.10.0"
  }
 },
 "nbformat": 4,
 "nbformat_minor": 2
}
