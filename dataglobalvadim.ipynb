{
 "cells": [
  {
   "cell_type": "code",
   "execution_count": 1,
   "metadata": {},
   "outputs": [
    {
     "name": "stdout",
     "output_type": "stream",
     "text": [
      "Requirement already satisfied: mtranslate==1.8 in c:\\users\\manue\\anaconda3\\envs\\machinelearning\\lib\\site-packages (1.8)\n"
     ]
    }
   ],
   "source": [
    "!pip install mtranslate==1.8"
   ]
  },
  {
   "cell_type": "code",
   "execution_count": 3,
   "metadata": {},
   "outputs": [],
   "source": [
    "import pandas as pd\n",
    "import numpy as np\n",
    "import matplotlib.pyplot as plt\n",
    "\n",
    "import mtranslate as mt"
   ]
  },
  {
   "cell_type": "markdown",
   "metadata": {},
   "source": [
    "# Employment"
   ]
  },
  {
   "cell_type": "code",
   "execution_count": 4,
   "metadata": {},
   "outputs": [],
   "source": [
    "def trimester_to_date(trimester):\n",
    "    year, quarter = trimester.split('-')\n",
    "    quarter=quarter[1]\n",
    "    month = int(quarter) * 3\n",
    "    return pd.Timestamp(year=int(year), month=month, day=1)"
   ]
  },
  {
   "cell_type": "code",
   "execution_count": 14,
   "metadata": {},
   "outputs": [],
   "source": [
    "def translate_country_name(text):\n",
    "    return mt.translate(text, 'en', 'fr')"
   ]
  },
  {
   "cell_type": "code",
   "execution_count": 6,
   "metadata": {},
   "outputs": [],
   "source": [
    "employment=pd.read_csv('Global_original/employment.csv')"
   ]
  },
  {
   "cell_type": "code",
   "execution_count": 7,
   "metadata": {},
   "outputs": [
    {
     "data": {
      "text/plain": [
       "Index(['STRUCTURE', 'STRUCTURE_ID', 'STRUCTURE_NAME', 'ACTION', 'FREQ',\n",
       "       'Fréquence d'observation', 'ADJUSTMENT', 'Ajustement', 'REF_AREA',\n",
       "       'Zone de référence', 'SECTOR', 'Secteur institutionnel',\n",
       "       'COUNTERPART_SECTOR', 'Secteur institutionnel de contrepartie',\n",
       "       'TRANSACTION', 'Transaction', 'INSTR_ASSET',\n",
       "       'Instruments financiers et actifs non financiers', 'ACTIVITY',\n",
       "       'Activité économique', 'EXPENDITURE', 'Dépense', 'UNIT_MEASURE',\n",
       "       'Unité de mesure', 'PRICE_BASE', 'Type de prix', 'TRANSFORMATION',\n",
       "       'Transformation', 'TABLE_IDENTIFIER', 'Identifiant de tableau',\n",
       "       'TIME_PERIOD', 'Période temporelle', 'OBS_VALUE',\n",
       "       'Valeur d'observation', 'REF_YEAR_PRICE', 'Prix ​​année de référence',\n",
       "       'BASE_PER', 'Période de base', 'CONF_STATUS',\n",
       "       'Statut de confidentialité', 'DECIMALS', 'Décimales', 'OBS_STATUS',\n",
       "       'Statut d'observation', 'UNIT_MULT', 'Multiplicateur d'unité',\n",
       "       'CURRENCY', 'Monnaie'],\n",
       "      dtype='object')"
      ]
     },
     "execution_count": 7,
     "metadata": {},
     "output_type": "execute_result"
    }
   ],
   "source": [
    "employment.columns"
   ]
  },
  {
   "cell_type": "code",
   "execution_count": 8,
   "metadata": {},
   "outputs": [],
   "source": [
    "employment=employment[employment['UNIT_MEASURE']=='H']\n",
    "employment=employment[employment['Transaction']=='Emploi total']\n",
    "employment=employment[employment['ADJUSTMENT']=='Y']\n"
   ]
  },
  {
   "cell_type": "code",
   "execution_count": 9,
   "metadata": {},
   "outputs": [],
   "source": [
    "employment2=employment.drop(['STRUCTURE','STRUCTURE_ID','STRUCTURE_NAME','ACTION','FREQ',\n",
    "       'ADJUSTMENT', 'Ajustement', 'REF_AREA','SECTOR','Secteur institutionnel','COUNTERPART_SECTOR','Secteur institutionnel de contrepartie',\n",
    "       'TRANSACTION','INSTR_ASSET','Instruments financiers et actifs non financiers','ACTIVITY','EXPENDITURE','Dépense','UNIT_MEASURE','PRICE_BASE',\n",
    "       'Type de prix','TRANSFORMATION','Transformation','TABLE_IDENTIFIER','Identifiant de tableau','Période temporelle','Valeur d\\'observation',\n",
    "       'REF_YEAR_PRICE','Prix ​​année de référence','BASE_PER','Période de base','CONF_STATUS','Statut de confidentialité','DECIMALS','Décimales',\n",
    "       'OBS_STATUS','Statut d\\'observation','UNIT_MULT','CURRENCY','Monnaie'],axis=1)"
   ]
  },
  {
   "cell_type": "code",
   "execution_count": 10,
   "metadata": {},
   "outputs": [
    {
     "data": {
      "text/plain": [
       "Index(['Fréquence d'observation', 'Zone de référence', 'Transaction',\n",
       "       'Activité économique', 'Unité de mesure', 'TIME_PERIOD', 'OBS_VALUE',\n",
       "       'Multiplicateur d'unité'],\n",
       "      dtype='object')"
      ]
     },
     "execution_count": 10,
     "metadata": {},
     "output_type": "execute_result"
    }
   ],
   "source": [
    "employment2.columns"
   ]
  },
  {
   "cell_type": "code",
   "execution_count": 11,
   "metadata": {},
   "outputs": [],
   "source": [
    "employment2.TIME_PERIOD=employment2.TIME_PERIOD.astype(str)\n",
    "employment2=employment2[employment2['Fréquence d\\'observation']=='Trimestrielle']\n",
    "employment2.OBS_VALUE=employment2.OBS_VALUE.astype(float)\n"
   ]
  },
  {
   "cell_type": "code",
   "execution_count": 12,
   "metadata": {},
   "outputs": [],
   "source": [
    "for country in employment2['Zone de référence'].unique():\n",
    "    for activite in employment2['Activité économique'].unique():\n",
    "        a=employment2[(employment2['Zone de référence']==country) & (employment2['Activité économique']==activite)]['OBS_VALUE'].pct_change()\n",
    "        employment2.loc[(employment2['Zone de référence']==country) & (employment2['Activité économique']==activite),'OBS_VALUE']=a\n",
    "\n",
    "employment2=employment2.dropna(subset='OBS_VALUE')\n",
    "employment2.loc[:,'TIME_PERIOD']=employment2.TIME_PERIOD.apply(lambda x: trimester_to_date(x))\n",
    "employment2['TIME_PERIOD']=pd.to_datetime(employment2['TIME_PERIOD'])"
   ]
  },
  {
   "cell_type": "code",
   "execution_count": 15,
   "metadata": {},
   "outputs": [],
   "source": [
    "translate_dic = {}\n",
    "for country in list(employment2['Zone de référence'].unique()):\n",
    "    translate_dic[country] = translate_country_name(country)\n",
    "    \n",
    "    \n",
    "employment2['Zone de référence'] = employment2['Zone de référence'].replace(translate_dic)"
   ]
  },
  {
   "cell_type": "code",
   "execution_count": 17,
   "metadata": {},
   "outputs": [],
   "source": [
    "employment2.to_csv('global/dataglobal/clean_employment.csv')"
   ]
  },
  {
   "cell_type": "markdown",
   "metadata": {},
   "source": [
    "# Employee Compensation"
   ]
  },
  {
   "cell_type": "code",
   "execution_count": 18,
   "metadata": {},
   "outputs": [],
   "source": [
    "compensation=pd.read_csv('Global_original/employeecompensation.csv')"
   ]
  },
  {
   "cell_type": "code",
   "execution_count": 19,
   "metadata": {},
   "outputs": [],
   "source": [
    "compensation=compensation[compensation['FREQ']=='Q']\n",
    "compensation=compensation[compensation['ADJUSTMENT']=='Y']\n"
   ]
  },
  {
   "cell_type": "code",
   "execution_count": 20,
   "metadata": {},
   "outputs": [],
   "source": [
    "compensation2=compensation.drop(['STRUCTURE','STRUCTURE_ID','ACTION','FREQ','Fréquence d\\'observation','ADJUSTMENT','Ajustement',\n",
    "                                 'REF_AREA','SECTOR','COUNTERPART_SECTOR','Secteur institutionnel de contrepartie','TRANSACTION','INSTR_ASSET','Instruments financiers et actifs non financiers',\n",
    "                                 'ACTIVITY','EXPENDITURE','Dépense','UNIT_MEASURE','Unité de mesure','PRICE_BASE','Type de prix','TRANSFORMATION','Transformation',\n",
    "                                 'TABLE_IDENTIFIER','Identifiant de tableau','Période temporelle','Valeur d\\'observation','REF_YEAR_PRICE','Prix ​​année de référence',\n",
    "                                 'BASE_PER','Période de base','CONF_STATUS','Statut de confidentialité','DECIMALS','Décimales','OBS_STATUS','Statut d\\'observation',\n",
    "                                 'UNIT_MULT','CURRENCY','Monnaie'],axis=1)"
   ]
  },
  {
   "cell_type": "code",
   "execution_count": 21,
   "metadata": {},
   "outputs": [],
   "source": [
    "compensation2.TIME_PERIOD=compensation2.TIME_PERIOD.astype(str)\n",
    "compensation2.OBS_VALUE=compensation2.OBS_VALUE.astype(float)"
   ]
  },
  {
   "cell_type": "code",
   "execution_count": 22,
   "metadata": {},
   "outputs": [],
   "source": [
    "for country in compensation2['Zone de référence'].unique():\n",
    "    for activite in compensation2[compensation2['Zone de référence']==country]['Activité économique'].unique():\n",
    "        a=compensation2[(compensation2['Zone de référence']==country) & (compensation2['Activité économique']==activite)]['OBS_VALUE'].pct_change()\n",
    "        compensation2.loc[(compensation2['Zone de référence']==country) & (compensation2['Activité économique']==activite),'OBS_VALUE']=a\n",
    "\n",
    "compensation2=compensation2.dropna(subset='OBS_VALUE')\n",
    "compensation2.loc[:,'TIME_PERIOD']=compensation2.TIME_PERIOD.apply(lambda x: trimester_to_date(x))\n",
    "compensation2['TIME_PERIOD']=pd.to_datetime(compensation2['TIME_PERIOD'])"
   ]
  },
  {
   "cell_type": "code",
   "execution_count": null,
   "metadata": {},
   "outputs": [],
   "source": [
    "translate_dic = {}\n",
    "for country in list(compensation2['Zone de référence'].unique()):\n",
    "    translate_dic[country] = translate_country_name(country)\n",
    "    \n",
    "    \n",
    "compensation2['Zone de référence'] = compensation2['Zone de référence'].replace(translate_dic)"
   ]
  },
  {
   "cell_type": "code",
   "execution_count": 24,
   "metadata": {},
   "outputs": [],
   "source": [
    "compensation2.to_csv('global/dataglobal/clean_employee_compensation.csv')"
   ]
  }
 ],
 "metadata": {
  "kernelspec": {
   "display_name": "machinelearning",
   "language": "python",
   "name": "python3"
  },
  "language_info": {
   "codemirror_mode": {
    "name": "ipython",
    "version": 3
   },
   "file_extension": ".py",
   "mimetype": "text/x-python",
   "name": "python",
   "nbconvert_exporter": "python",
   "pygments_lexer": "ipython3",
   "version": "3.10.0"
  }
 },
 "nbformat": 4,
 "nbformat_minor": 2
}
