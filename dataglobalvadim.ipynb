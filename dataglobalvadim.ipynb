{
 "cells": [
  {
   "cell_type": "code",
   "execution_count": 9,
   "metadata": {},
   "outputs": [],
   "source": [
    "import pandas as pd\n",
    "import numpy as np\n",
    "import matplotlib.pyplot as plt"
   ]
  },
  {
   "cell_type": "code",
   "execution_count": 10,
   "metadata": {},
   "outputs": [],
   "source": [
    "def trimester_to_date(trimester):\n",
    "    year, quarter = trimester.split('-')\n",
    "    quarter=quarter[1]\n",
    "    month = int(quarter) * 3\n",
    "    return pd.Timestamp(year=int(year), month=month, day=1)"
   ]
  },
  {
   "cell_type": "code",
   "execution_count": 28,
   "metadata": {},
   "outputs": [],
   "source": [
    "employment=pd.read_csv('data/global/employment.csv')"
   ]
  },
  {
   "cell_type": "code",
   "execution_count": 12,
   "metadata": {},
   "outputs": [
    {
     "data": {
      "text/plain": [
       "Index(['STRUCTURE', 'STRUCTURE_ID', 'STRUCTURE_NAME', 'ACTION', 'FREQ',\n",
       "       'Fréquence d'observation', 'ADJUSTMENT', 'Ajustement', 'REF_AREA',\n",
       "       'Zone de référence', 'SECTOR', 'Secteur institutionnel',\n",
       "       'COUNTERPART_SECTOR', 'Secteur institutionnel de contrepartie',\n",
       "       'TRANSACTION', 'Transaction', 'INSTR_ASSET',\n",
       "       'Instruments financiers et actifs non financiers', 'ACTIVITY',\n",
       "       'Activité économique', 'EXPENDITURE', 'Dépense', 'UNIT_MEASURE',\n",
       "       'Unité de mesure', 'PRICE_BASE', 'Type de prix', 'TRANSFORMATION',\n",
       "       'Transformation', 'TABLE_IDENTIFIER', 'Identifiant de tableau',\n",
       "       'TIME_PERIOD', 'Période temporelle', 'OBS_VALUE',\n",
       "       'Valeur d'observation', 'REF_YEAR_PRICE', 'Prix ​​année de référence',\n",
       "       'BASE_PER', 'Période de base', 'CONF_STATUS',\n",
       "       'Statut de confidentialité', 'DECIMALS', 'Décimales', 'OBS_STATUS',\n",
       "       'Statut d'observation', 'UNIT_MULT', 'Multiplicateur d'unité',\n",
       "       'CURRENCY', 'Monnaie'],\n",
       "      dtype='object')"
      ]
     },
     "execution_count": 12,
     "metadata": {},
     "output_type": "execute_result"
    }
   ],
   "source": [
    "employment.columns"
   ]
  },
  {
   "cell_type": "code",
   "execution_count": 13,
   "metadata": {},
   "outputs": [],
   "source": [
    "employment=employment[employment['UNIT_MEASURE']=='H']\n",
    "employment=employment[employment['Transaction']=='Emploi total']\n",
    "employment=employment[employment['ADJUSTMENT']=='Y']\n"
   ]
  },
  {
   "cell_type": "code",
   "execution_count": 14,
   "metadata": {},
   "outputs": [],
   "source": [
    "employment2=employment.drop(['STRUCTURE','STRUCTURE_ID','STRUCTURE_NAME','ACTION','FREQ',\n",
    "       'ADJUSTMENT', 'Ajustement', 'REF_AREA','SECTOR','Secteur institutionnel','COUNTERPART_SECTOR','Secteur institutionnel de contrepartie',\n",
    "       'TRANSACTION','INSTR_ASSET','Instruments financiers et actifs non financiers','ACTIVITY','EXPENDITURE','Dépense','UNIT_MEASURE','PRICE_BASE',\n",
    "       'Type de prix','TRANSFORMATION','Transformation','TABLE_IDENTIFIER','Identifiant de tableau','Période temporelle','Valeur d\\'observation',\n",
    "       'REF_YEAR_PRICE','Prix ​​année de référence','BASE_PER','Période de base','CONF_STATUS','Statut de confidentialité','DECIMALS','Décimales',\n",
    "       'OBS_STATUS','Statut d\\'observation','UNIT_MULT','CURRENCY','Monnaie'],axis=1)"
   ]
  },
  {
   "cell_type": "code",
   "execution_count": 15,
   "metadata": {},
   "outputs": [
    {
     "data": {
      "text/plain": [
       "Index(['Fréquence d'observation', 'Zone de référence', 'Transaction',\n",
       "       'Activité économique', 'Unité de mesure', 'TIME_PERIOD', 'OBS_VALUE',\n",
       "       'Multiplicateur d'unité'],\n",
       "      dtype='object')"
      ]
     },
     "execution_count": 15,
     "metadata": {},
     "output_type": "execute_result"
    }
   ],
   "source": [
    "employment2.columns"
   ]
  },
  {
   "cell_type": "code",
   "execution_count": 16,
   "metadata": {},
   "outputs": [],
   "source": [
    "employment2.TIME_PERIOD=employment2.TIME_PERIOD.astype(str)\n",
    "employment2=employment2[employment2['Fréquence d\\'observation']=='Trimestrielle']\n",
    "employment2.OBS_VALUE=employment2.OBS_VALUE.astype(float)\n"
   ]
  },
  {
   "cell_type": "code",
   "execution_count": 17,
   "metadata": {},
   "outputs": [],
   "source": [
    "for country in employment2['Zone de référence'].unique():\n",
    "    for activite in employment2['Activité économique'].unique():\n",
    "        a=employment2[(employment2['Zone de référence']==country) & (employment2['Activité économique']==activite)]['OBS_VALUE'].pct_change()\n",
    "        employment2.loc[(employment2['Zone de référence']==country) & (employment2['Activité économique']==activite),'OBS_VALUE']=a\n",
    "\n",
    "employment2=employment2.dropna(subset='OBS_VALUE')\n",
    "employment2.loc[:,'TIME_PERIOD']=employment2.TIME_PERIOD.apply(lambda x: trimester_to_date(x))"
   ]
  },
  {
   "cell_type": "code",
   "execution_count": null,
   "metadata": {},
   "outputs": [],
   "source": []
  },
  {
   "cell_type": "code",
   "execution_count": 19,
   "metadata": {},
   "outputs": [],
   "source": [
    "employment2.to_csv('global/dataglobal/clean_employment.csv')"
   ]
  },
  {
   "cell_type": "code",
   "execution_count": null,
   "metadata": {},
   "outputs": [],
   "source": []
  },
  {
   "cell_type": "code",
   "execution_count": 43,
   "metadata": {},
   "outputs": [],
   "source": [
    "compensation=pd.read_csv('global/employeecompensation.csv')"
   ]
  },
  {
   "cell_type": "code",
   "execution_count": 44,
   "metadata": {},
   "outputs": [],
   "source": [
    "compensation=compensation[compensation['FREQ']=='Q']\n",
    "compensation=compensation[compensation['ADJUSTMENT']=='Y']"
   ]
  },
  {
   "cell_type": "code",
   "execution_count": 48,
   "metadata": {},
   "outputs": [],
   "source": [
    "compensation2=compensation.drop(['STRUCTURE','STRUCTURE_ID','ACTION','FREQ','Fréquence d\\'observation','ADJUSTMENT','Ajustement',\n",
    "                                 'REF_AREA','SECTOR','COUNTERPART_SECTOR','Secteur institutionnel de contrepartie','TRANSACTION','INSTR_ASSET','Instruments financiers et actifs non financiers',\n",
    "                                 'ACTIVITY','EXPENDITURE','Dépense','UNIT_MEASURE','Unité de mesure','PRICE_BASE','Type de prix','TRANSFORMATION','Transformation',\n",
    "                                 'TABLE_IDENTIFIER','Identifiant de tableau','Période temporelle','Valeur d\\'observation','REF_YEAR_PRICE','Prix ​​année de référence',\n",
    "                                 'BASE_PER','Période de base','CONF_STATUS','Statut de confidentialité','DECIMALS','Décimales','OBS_STATUS','Statut d\\'observation',\n",
    "                                 'UNIT_MULT','CURRENCY','Monnaie'],axis=1)"
   ]
  },
  {
   "cell_type": "code",
   "execution_count": 49,
   "metadata": {},
   "outputs": [],
   "source": [
    "for country in compensation2['Zone de référence'].unique():\n",
    "    for activite in compensation2[compensation2['Zone de référence']==country]['Activité économique'].unique():\n",
    "        a=compensation2[(compensation2['Zone de référence']==country) & (compensation2['Activité économique']==activite)]['OBS_VALUE'].pct_change()\n",
    "        compensation2.loc[(compensation2['Zone de référence']==country) & (compensation2['Activité économique']==activite),'OBS_VALUE']=a\n",
    "\n",
    "compensation2=compensation2.dropna(subset='OBS_VALUE')\n",
    "compensation2.loc[:,'TIME_PERIOD']=compensation2.TIME_PERIOD.apply(lambda x: trimester_to_date(x))"
   ]
  },
  {
   "cell_type": "code",
   "execution_count": 50,
   "metadata": {},
   "outputs": [
    {
     "data": {
      "text/html": [
       "<div>\n",
       "<style scoped>\n",
       "    .dataframe tbody tr th:only-of-type {\n",
       "        vertical-align: middle;\n",
       "    }\n",
       "\n",
       "    .dataframe tbody tr th {\n",
       "        vertical-align: top;\n",
       "    }\n",
       "\n",
       "    .dataframe thead th {\n",
       "        text-align: right;\n",
       "    }\n",
       "</style>\n",
       "<table border=\"1\" class=\"dataframe\">\n",
       "  <thead>\n",
       "    <tr style=\"text-align: right;\">\n",
       "      <th></th>\n",
       "      <th>STRUCTURE_NAME</th>\n",
       "      <th>Zone de référence</th>\n",
       "      <th>Secteur institutionnel</th>\n",
       "      <th>Transaction</th>\n",
       "      <th>Activité économique</th>\n",
       "      <th>TIME_PERIOD</th>\n",
       "      <th>OBS_VALUE</th>\n",
       "      <th>Multiplicateur d'unité</th>\n",
       "    </tr>\n",
       "  </thead>\n",
       "  <tbody>\n",
       "    <tr>\n",
       "      <th>117</th>\n",
       "      <td>Rémunération trimestrielle des salariés par ac...</td>\n",
       "      <td>Espagne</td>\n",
       "      <td>Economie totale</td>\n",
       "      <td>Cotisations sociales à la charge des employeurs</td>\n",
       "      <td>Construction</td>\n",
       "      <td>1995-06-01 00:00:00</td>\n",
       "      <td>-0.001887</td>\n",
       "      <td>Millions</td>\n",
       "    </tr>\n",
       "    <tr>\n",
       "      <th>118</th>\n",
       "      <td>Rémunération trimestrielle des salariés par ac...</td>\n",
       "      <td>Espagne</td>\n",
       "      <td>Economie totale</td>\n",
       "      <td>Cotisations sociales à la charge des employeurs</td>\n",
       "      <td>Construction</td>\n",
       "      <td>1995-09-01 00:00:00</td>\n",
       "      <td>0.006616</td>\n",
       "      <td>Millions</td>\n",
       "    </tr>\n",
       "    <tr>\n",
       "      <th>119</th>\n",
       "      <td>Rémunération trimestrielle des salariés par ac...</td>\n",
       "      <td>Espagne</td>\n",
       "      <td>Economie totale</td>\n",
       "      <td>Cotisations sociales à la charge des employeurs</td>\n",
       "      <td>Construction</td>\n",
       "      <td>1995-12-01 00:00:00</td>\n",
       "      <td>0.000939</td>\n",
       "      <td>Millions</td>\n",
       "    </tr>\n",
       "    <tr>\n",
       "      <th>120</th>\n",
       "      <td>Rémunération trimestrielle des salariés par ac...</td>\n",
       "      <td>Espagne</td>\n",
       "      <td>Economie totale</td>\n",
       "      <td>Cotisations sociales à la charge des employeurs</td>\n",
       "      <td>Construction</td>\n",
       "      <td>1996-03-01 00:00:00</td>\n",
       "      <td>0.004690</td>\n",
       "      <td>Millions</td>\n",
       "    </tr>\n",
       "    <tr>\n",
       "      <th>121</th>\n",
       "      <td>Rémunération trimestrielle des salariés par ac...</td>\n",
       "      <td>Espagne</td>\n",
       "      <td>Economie totale</td>\n",
       "      <td>Cotisations sociales à la charge des employeurs</td>\n",
       "      <td>Construction</td>\n",
       "      <td>1996-06-01 00:00:00</td>\n",
       "      <td>0.000934</td>\n",
       "      <td>Millions</td>\n",
       "    </tr>\n",
       "    <tr>\n",
       "      <th>...</th>\n",
       "      <td>...</td>\n",
       "      <td>...</td>\n",
       "      <td>...</td>\n",
       "      <td>...</td>\n",
       "      <td>...</td>\n",
       "      <td>...</td>\n",
       "      <td>...</td>\n",
       "      <td>...</td>\n",
       "    </tr>\n",
       "    <tr>\n",
       "      <th>331049</th>\n",
       "      <td>Rémunération trimestrielle des salariés par ac...</td>\n",
       "      <td>Tchéquie</td>\n",
       "      <td>Economie totale</td>\n",
       "      <td>Cotisations sociales à la charge des employeurs</td>\n",
       "      <td>Activités de fabrication</td>\n",
       "      <td>2022-12-01 00:00:00</td>\n",
       "      <td>0.022210</td>\n",
       "      <td>Millions</td>\n",
       "    </tr>\n",
       "    <tr>\n",
       "      <th>331050</th>\n",
       "      <td>Rémunération trimestrielle des salariés par ac...</td>\n",
       "      <td>Tchéquie</td>\n",
       "      <td>Economie totale</td>\n",
       "      <td>Cotisations sociales à la charge des employeurs</td>\n",
       "      <td>Activités de fabrication</td>\n",
       "      <td>2023-03-01 00:00:00</td>\n",
       "      <td>0.027327</td>\n",
       "      <td>Millions</td>\n",
       "    </tr>\n",
       "    <tr>\n",
       "      <th>331051</th>\n",
       "      <td>Rémunération trimestrielle des salariés par ac...</td>\n",
       "      <td>Tchéquie</td>\n",
       "      <td>Economie totale</td>\n",
       "      <td>Cotisations sociales à la charge des employeurs</td>\n",
       "      <td>Activités de fabrication</td>\n",
       "      <td>2023-06-01 00:00:00</td>\n",
       "      <td>-0.001654</td>\n",
       "      <td>Millions</td>\n",
       "    </tr>\n",
       "    <tr>\n",
       "      <th>331052</th>\n",
       "      <td>Rémunération trimestrielle des salariés par ac...</td>\n",
       "      <td>Tchéquie</td>\n",
       "      <td>Economie totale</td>\n",
       "      <td>Cotisations sociales à la charge des employeurs</td>\n",
       "      <td>Activités de fabrication</td>\n",
       "      <td>2023-09-01 00:00:00</td>\n",
       "      <td>-0.012044</td>\n",
       "      <td>Millions</td>\n",
       "    </tr>\n",
       "    <tr>\n",
       "      <th>331053</th>\n",
       "      <td>Rémunération trimestrielle des salariés par ac...</td>\n",
       "      <td>Tchéquie</td>\n",
       "      <td>Economie totale</td>\n",
       "      <td>Cotisations sociales à la charge des employeurs</td>\n",
       "      <td>Activités de fabrication</td>\n",
       "      <td>2023-12-01 00:00:00</td>\n",
       "      <td>0.010121</td>\n",
       "      <td>Millions</td>\n",
       "    </tr>\n",
       "  </tbody>\n",
       "</table>\n",
       "<p>130293 rows × 8 columns</p>\n",
       "</div>"
      ],
      "text/plain": [
       "                                           STRUCTURE_NAME Zone de référence  \\\n",
       "117     Rémunération trimestrielle des salariés par ac...           Espagne   \n",
       "118     Rémunération trimestrielle des salariés par ac...           Espagne   \n",
       "119     Rémunération trimestrielle des salariés par ac...           Espagne   \n",
       "120     Rémunération trimestrielle des salariés par ac...           Espagne   \n",
       "121     Rémunération trimestrielle des salariés par ac...           Espagne   \n",
       "...                                                   ...               ...   \n",
       "331049  Rémunération trimestrielle des salariés par ac...          Tchéquie   \n",
       "331050  Rémunération trimestrielle des salariés par ac...          Tchéquie   \n",
       "331051  Rémunération trimestrielle des salariés par ac...          Tchéquie   \n",
       "331052  Rémunération trimestrielle des salariés par ac...          Tchéquie   \n",
       "331053  Rémunération trimestrielle des salariés par ac...          Tchéquie   \n",
       "\n",
       "       Secteur institutionnel  \\\n",
       "117           Economie totale   \n",
       "118           Economie totale   \n",
       "119           Economie totale   \n",
       "120           Economie totale   \n",
       "121           Economie totale   \n",
       "...                       ...   \n",
       "331049        Economie totale   \n",
       "331050        Economie totale   \n",
       "331051        Economie totale   \n",
       "331052        Economie totale   \n",
       "331053        Economie totale   \n",
       "\n",
       "                                            Transaction  \\\n",
       "117     Cotisations sociales à la charge des employeurs   \n",
       "118     Cotisations sociales à la charge des employeurs   \n",
       "119     Cotisations sociales à la charge des employeurs   \n",
       "120     Cotisations sociales à la charge des employeurs   \n",
       "121     Cotisations sociales à la charge des employeurs   \n",
       "...                                                 ...   \n",
       "331049  Cotisations sociales à la charge des employeurs   \n",
       "331050  Cotisations sociales à la charge des employeurs   \n",
       "331051  Cotisations sociales à la charge des employeurs   \n",
       "331052  Cotisations sociales à la charge des employeurs   \n",
       "331053  Cotisations sociales à la charge des employeurs   \n",
       "\n",
       "             Activité économique          TIME_PERIOD  OBS_VALUE  \\\n",
       "117                 Construction  1995-06-01 00:00:00  -0.001887   \n",
       "118                 Construction  1995-09-01 00:00:00   0.006616   \n",
       "119                 Construction  1995-12-01 00:00:00   0.000939   \n",
       "120                 Construction  1996-03-01 00:00:00   0.004690   \n",
       "121                 Construction  1996-06-01 00:00:00   0.000934   \n",
       "...                          ...                  ...        ...   \n",
       "331049  Activités de fabrication  2022-12-01 00:00:00   0.022210   \n",
       "331050  Activités de fabrication  2023-03-01 00:00:00   0.027327   \n",
       "331051  Activités de fabrication  2023-06-01 00:00:00  -0.001654   \n",
       "331052  Activités de fabrication  2023-09-01 00:00:00  -0.012044   \n",
       "331053  Activités de fabrication  2023-12-01 00:00:00   0.010121   \n",
       "\n",
       "       Multiplicateur d'unité  \n",
       "117                  Millions  \n",
       "118                  Millions  \n",
       "119                  Millions  \n",
       "120                  Millions  \n",
       "121                  Millions  \n",
       "...                       ...  \n",
       "331049               Millions  \n",
       "331050               Millions  \n",
       "331051               Millions  \n",
       "331052               Millions  \n",
       "331053               Millions  \n",
       "\n",
       "[130293 rows x 8 columns]"
      ]
     },
     "execution_count": 50,
     "metadata": {},
     "output_type": "execute_result"
    }
   ],
   "source": [
    "compensation2.to_csv('')"
   ]
  }
 ],
 "metadata": {
  "kernelspec": {
   "display_name": "machinelearning",
   "language": "python",
   "name": "python3"
  },
  "language_info": {
   "codemirror_mode": {
    "name": "ipython",
    "version": 3
   },
   "file_extension": ".py",
   "mimetype": "text/x-python",
   "name": "python",
   "nbconvert_exporter": "python",
   "pygments_lexer": "ipython3",
   "version": "3.10.0"
  }
 },
 "nbformat": 4,
 "nbformat_minor": 2
}
