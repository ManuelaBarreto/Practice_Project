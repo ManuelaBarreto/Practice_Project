{
 "cells": [
  {
   "cell_type": "code",
   "execution_count": 1,
   "metadata": {},
   "outputs": [],
   "source": [
    "import pandas as pd\n",
    "import numpy as np\n",
    "import matplotlib.pyplot as plt"
   ]
  },
  {
   "cell_type": "code",
   "execution_count": 23,
   "metadata": {},
   "outputs": [],
   "source": [
    "def trimester_to_date(trimester):\n",
    "    year, quarter = trimester.split('-')\n",
    "    quarter=quarter[1]\n",
    "    month = int(quarter) * 3\n",
    "    return pd.Timestamp(year=int(year), month=month, day=1)"
   ]
  },
  {
   "cell_type": "code",
   "execution_count": 28,
   "metadata": {},
   "outputs": [],
   "source": [
    "chomage=pd.read_excel('data/france/econ-gen-taux-cho-trim-2.xlsx')\n",
    "\n"
   ]
  },
  {
   "cell_type": "code",
   "execution_count": 29,
   "metadata": {},
   "outputs": [],
   "source": [
    "chomage=chomage.transpose()\n",
    "chomage.columns=chomage.iloc[0]\n",
    "chomage=chomage.drop('Taux de chômage selon le sexe et l\\'âge')\n",
    "chomage=chomage.reset_index()\n",
    "chomage=chomage.set_index('Sexe et âge')\n",
    "chomage=chomage[['Hommes','Femmes ','Ensemble ']]\n",
    "chomage.columns=['Hommes','Femmes','Ensemble']\n",
    "chomage.index.names=['Date']\n",
    "chomage[['Hommes','Femmes','Ensemble']]=chomage[['Hommes','Femmes','Ensemble']].astype(float)\n",
    "chomage.index=chomage.index.map(trimester_to_date)\n"
   ]
  },
  {
   "cell_type": "code",
   "execution_count": 43,
   "metadata": {},
   "outputs": [],
   "source": [
    "inflation=pd.read_excel('data/france/econ-gen-taux-inflation.xlsx')\n",
    "inflation.columns=inflation.iloc[2]\n",
    "inflation=inflation.drop([0,1,2])\n",
    "inflation=inflation[['Année','Taux d\\'inflation']].set_index('Année')\n",
    "inflation.columns.name=''\n",
    "inflation=inflation.drop(inflation.index[-4:-1])\n",
    "inflation=inflation.drop(inflation.index[-1])\n",
    "inflation['Taux d\\'inflation']=inflation['Taux d\\'inflation'].astype(float)\n",
    "inflation.index=inflation.index.astype(int)"
   ]
  },
  {
   "cell_type": "code",
   "execution_count": null,
   "metadata": {},
   "outputs": [],
   "source": []
  },
  {
   "cell_type": "code",
   "execution_count": 51,
   "metadata": {},
   "outputs": [],
   "source": [
    "pib=pd.read_excel('data/france/econ-gen-pib-composante-trim.xlsx')\n",
    "\n",
    "pib=pib.iloc[4:]\n",
    "pib=pib[pib.columns[:6]]\n",
    "pib=pib.iloc[:174]\n",
    "colonnes=['Date', 'PIB','Importations',\t'Dépense de consommation des ménages', 'Dépense de consommation des APU', 'FBCF']\n",
    "pib.columns=colonnes\n",
    "pib=pib.set_index('Date')\n",
    "pib.index=pib.index.map(trimester_to_date)\n",
    "pib[pib.columns]=pib[pib.columns].astype(float)\n"
   ]
  },
  {
   "cell_type": "code",
   "execution_count": null,
   "metadata": {},
   "outputs": [],
   "source": []
  },
  {
   "cell_type": "code",
   "execution_count": 8,
   "metadata": {},
   "outputs": [],
   "source": [
    "confindex=pd.read_csv('data/france/consconfindex.csv',sep=';')\n",
    "confindex=confindex.iloc[3:][confindex.columns[:2]]\n",
    "confindex.columns=[['Date','confidence_index']]\n",
    "confindex.confidence_index=confindex.confidence_index.astype(float)\n",
    "confindex.Date=confindex.Date.apply(lambda x: pd.to_datetime(x,format='%Y-%m'))"
   ]
  },
  {
   "cell_type": "code",
   "execution_count": 9,
   "metadata": {},
   "outputs": [],
   "source": []
  },
  {
   "cell_type": "code",
   "execution_count": 10,
   "metadata": {},
   "outputs": [],
   "source": []
  },
  {
   "cell_type": "code",
   "execution_count": null,
   "metadata": {},
   "outputs": [],
   "source": []
  },
  {
   "cell_type": "code",
   "execution_count": null,
   "metadata": {},
   "outputs": [],
   "source": []
  }
 ],
 "metadata": {
  "kernelspec": {
   "display_name": "machinelearning",
   "language": "python",
   "name": "python3"
  },
  "language_info": {
   "codemirror_mode": {
    "name": "ipython",
    "version": 3
   },
   "file_extension": ".py",
   "mimetype": "text/x-python",
   "name": "python",
   "nbconvert_exporter": "python",
   "pygments_lexer": "ipython3",
   "version": "3.10.0"
  }
 },
 "nbformat": 4,
 "nbformat_minor": 2
}
