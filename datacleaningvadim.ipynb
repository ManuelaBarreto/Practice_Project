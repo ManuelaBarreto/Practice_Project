{
 "cells": [
  {
   "cell_type": "code",
   "execution_count": 67,
   "metadata": {},
   "outputs": [],
   "source": [
    "import pandas as pd\n",
    "import numpy as np\n",
    "import matplotlib.pyplot as plt"
   ]
  },
  {
   "cell_type": "code",
   "execution_count": 164,
   "metadata": {},
   "outputs": [],
   "source": [
    "chomage=pd.read_excel('data/france/econ-gen-taux-cho-trim-2.xlsx')\n",
    "pib=pd.read_excel('data/france/econ-gen-pib-composante-trim.xlsx')\n",
    "inflation=pd.read_excel('data/france/econ-gen-taux-inflation.xlsx')\n"
   ]
  },
  {
   "cell_type": "code",
   "execution_count": 165,
   "metadata": {},
   "outputs": [],
   "source": [
    "chomage=chomage.transpose()\n",
    "chomage.columns=chomage.iloc[0]\n",
    "chomage=chomage.drop('Taux de chômage selon le sexe et l\\'âge')\n",
    "chomage=chomage.reset_index()\n",
    "chomage=chomage.set_index('Sexe et âge')\n",
    "chomage=chomage[['Hommes','Femmes ','Ensemble ']]\n",
    "chomage.columns=['Hommes','Femmes','Ensemble']\n",
    "chomage.index.names=['Date']\n",
    "chomage[['Hommes','Femmes','Ensemble']]=chomage[['Hommes','Femmes','Ensemble']].astype(float)\n"
   ]
  },
  {
   "cell_type": "code",
   "execution_count": 174,
   "metadata": {},
   "outputs": [
    {
     "name": "stderr",
     "output_type": "stream",
     "text": [
      "C:\\Users\\vadim\\AppData\\Local\\Temp\\ipykernel_6888\\3396317755.py:1: UserWarning: Could not infer format, so each element will be parsed individually, falling back to `dateutil`. To ensure parsing is consistent and as-expected, please specify a format.\n",
      "  pd.to_datetime(chomage.index.astype(str))\n"
     ]
    },
    {
     "data": {
      "text/plain": [
       "DatetimeIndex(['1975-01-01', '1975-02-01', '1975-03-01', '1975-04-01',\n",
       "               '1976-01-01', '1976-02-01', '1976-03-01', '1976-04-01',\n",
       "               '1977-01-01', '1977-02-01',\n",
       "               ...\n",
       "               '2021-03-01', '2021-04-01', '2022-01-01', '2022-02-01',\n",
       "               '2022-03-01', '2022-04-01', '2023-01-01', '2023-02-01',\n",
       "               '2023-03-01', '2023-04-01'],\n",
       "              dtype='datetime64[ns]', name='Date', length=196, freq=None)"
      ]
     },
     "execution_count": 174,
     "metadata": {},
     "output_type": "execute_result"
    }
   ],
   "source": [
    "pd.to_datetime(chomage.index.astype(str))"
   ]
  },
  {
   "cell_type": "code",
   "execution_count": 45,
   "metadata": {},
   "outputs": [],
   "source": [
    "inflation.columns=inflation.iloc[2]\n",
    "inflation=inflation.drop([0,1,2])\n",
    "inflation=inflation[['Année','Taux d\\'inflation']].set_index('Année')\n",
    "inflation.columns.name=''\n",
    "inflation=inflation.drop(inflation.index[-4:-1])\n",
    "inflation=inflation.drop(inflation.index[-1])"
   ]
  },
  {
   "cell_type": "code",
   "execution_count": 46,
   "metadata": {},
   "outputs": [],
   "source": [
    "pib=pib.iloc[4:]\n",
    "pib=pib[pib.columns[:6]]\n",
    "pib=pib.iloc[:174]\n",
    "colonnes=['Date', 'PIB','Importations',\t'Dépense de consommation des ménages', 'Dépense de consommation des APU', 'FBCF']\n",
    "pib.columns=colonnes\n",
    "pib=pib.set_index('Date')\n"
   ]
  },
  {
   "cell_type": "code",
   "execution_count": 143,
   "metadata": {},
   "outputs": [],
   "source": [
    "confindex=pd.read_csv('data/france/consconfindex.csv',sep=';')\n",
    "\n"
   ]
  },
  {
   "cell_type": "code",
   "execution_count": 144,
   "metadata": {},
   "outputs": [],
   "source": [
    "confindex=confindex.iloc[3:][confindex.columns[:2]]\n",
    "confindex.columns=[['Date','confidence_index']]\n",
    "confindex.confidence_index=confindex.confidence_index.astype(float)"
   ]
  },
  {
   "cell_type": "code",
   "execution_count": 150,
   "metadata": {},
   "outputs": [],
   "source": [
    "confindex.Date=confindex.Date.apply(lambda x: pd.to_datetime(x,format='%Y-%m'))"
   ]
  },
  {
   "cell_type": "code",
   "execution_count": 151,
   "metadata": {},
   "outputs": [
    {
     "data": {
      "text/plain": [
       "Date                datetime64[ns]\n",
       "confidence_index           float64\n",
       "dtype: object"
      ]
     },
     "execution_count": 151,
     "metadata": {},
     "output_type": "execute_result"
    }
   ],
   "source": [
    "confindex.dtypes\n"
   ]
  },
  {
   "cell_type": "code",
   "execution_count": null,
   "metadata": {},
   "outputs": [],
   "source": []
  }
 ],
 "metadata": {
  "kernelspec": {
   "display_name": "machinelearning",
   "language": "python",
   "name": "python3"
  },
  "language_info": {
   "codemirror_mode": {
    "name": "ipython",
    "version": 3
   },
   "file_extension": ".py",
   "mimetype": "text/x-python",
   "name": "python",
   "nbconvert_exporter": "python",
   "pygments_lexer": "ipython3",
   "version": "3.10.0"
  }
 },
 "nbformat": 4,
 "nbformat_minor": 2
}
