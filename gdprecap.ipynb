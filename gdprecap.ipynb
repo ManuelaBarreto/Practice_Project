{
 "cells": [
  {
   "cell_type": "code",
   "execution_count": 175,
   "metadata": {},
   "outputs": [],
   "source": [
    "import pandas as pd"
   ]
  },
  {
   "cell_type": "code",
   "execution_count": 176,
   "metadata": {},
   "outputs": [],
   "source": [
    "def trimester_to_date(trimester):\n",
    "    year, quarter = trimester.split('-')\n",
    "    quarter=quarter[1]\n",
    "    month = int(quarter) * 3\n",
    "    return pd.Timestamp(year=int(year), month=month, day=1)"
   ]
  },
  {
   "cell_type": "code",
   "execution_count": 177,
   "metadata": {},
   "outputs": [],
   "source": [
    "egypt=pd.read_csv('global\\dataglobal\\clean_gdp_gdp.csv',index_col='Unnamed: 0')\n",
    "nigeria=pd.read_csv('global\\dataglobal\\clean_nig_gdp.csv',index_col='Unnamed: 0')\n",
    "gdp=pd.read_csv('global/dataglobal/clean_realgdp.csv',index_col='Unnamed: 0')\n",
    "gdp20=pd.read_csv('global/dataglobal/clean_realgdpg20.csv',index_col='Unnamed: 0')"
   ]
  },
  {
   "cell_type": "code",
   "execution_count": 178,
   "metadata": {},
   "outputs": [],
   "source": [
    "gdp20countries=[i for i in gdp20['Zone de référence'].unique() if i not in gdp['Zone de référence'].unique()]"
   ]
  },
  {
   "cell_type": "code",
   "execution_count": 179,
   "metadata": {},
   "outputs": [],
   "source": [
    "gdp20=gdp20[gdp20['Zone de référence'].isin(gdp20countries)]"
   ]
  },
  {
   "cell_type": "code",
   "execution_count": 180,
   "metadata": {},
   "outputs": [],
   "source": [
    "gdp=pd.concat([gdp,gdp20])"
   ]
  },
  {
   "cell_type": "code",
   "execution_count": 181,
   "metadata": {},
   "outputs": [],
   "source": [
    "egypt['Fiscal Year']=egypt['Fiscal Year'].apply(lambda x: x[:4])\n",
    "egypt['TIME_PERIOD']=egypt['Fiscal Year']+'-'+egypt['Quarter']\n",
    "egypt['TIME_PERIOD']=egypt['TIME_PERIOD'].apply(lambda x: trimester_to_date(x))\n",
    "egypt=egypt.drop(['Indicator','Unit','Quarter','Fiscal Year'],axis=1)\n",
    "egypt[['Zone de référence','Secteur institutionnel','Transaction','Activité économique','Unité de mesure','Transformation']]='Egypte','Economie totale','Produit intérieur brut','Non applicable','Changement en pourcentage','Taux de croissance, sur 1 an'\n",
    "egypt=egypt.rename(columns={'Real Growth Rate':'OBS_VALUE'})"
   ]
  },
  {
   "cell_type": "code",
   "execution_count": 182,
   "metadata": {},
   "outputs": [],
   "source": [
    "gdp=pd.concat([gdp,egypt])"
   ]
  },
  {
   "cell_type": "code",
   "execution_count": 183,
   "metadata": {},
   "outputs": [
    {
     "data": {
      "text/html": [
       "<div>\n",
       "<style scoped>\n",
       "    .dataframe tbody tr th:only-of-type {\n",
       "        vertical-align: middle;\n",
       "    }\n",
       "\n",
       "    .dataframe tbody tr th {\n",
       "        vertical-align: top;\n",
       "    }\n",
       "\n",
       "    .dataframe thead th {\n",
       "        text-align: right;\n",
       "    }\n",
       "</style>\n",
       "<table border=\"1\" class=\"dataframe\">\n",
       "  <thead>\n",
       "    <tr style=\"text-align: right;\">\n",
       "      <th></th>\n",
       "      <th>year</th>\n",
       "      <th>Period</th>\n",
       "      <th>GDP at 2010 Constant Basic Prices</th>\n",
       "    </tr>\n",
       "  </thead>\n",
       "  <tbody>\n",
       "    <tr>\n",
       "      <th>1</th>\n",
       "      <td>1982</td>\n",
       "      <td>Annual</td>\n",
       "      <td>-0.068047</td>\n",
       "    </tr>\n",
       "    <tr>\n",
       "      <th>2</th>\n",
       "      <td>1983</td>\n",
       "      <td>Annual</td>\n",
       "      <td>-0.109250</td>\n",
       "    </tr>\n",
       "    <tr>\n",
       "      <th>3</th>\n",
       "      <td>1984</td>\n",
       "      <td>Annual</td>\n",
       "      <td>-0.011122</td>\n",
       "    </tr>\n",
       "    <tr>\n",
       "      <th>4</th>\n",
       "      <td>1985</td>\n",
       "      <td>Annual</td>\n",
       "      <td>0.059147</td>\n",
       "    </tr>\n",
       "    <tr>\n",
       "      <th>5</th>\n",
       "      <td>1986</td>\n",
       "      <td>Annual</td>\n",
       "      <td>0.000603</td>\n",
       "    </tr>\n",
       "    <tr>\n",
       "      <th>...</th>\n",
       "      <td>...</td>\n",
       "      <td>...</td>\n",
       "      <td>...</td>\n",
       "    </tr>\n",
       "    <tr>\n",
       "      <th>91</th>\n",
       "      <td>2022</td>\n",
       "      <td>Q3</td>\n",
       "      <td>0.022483</td>\n",
       "    </tr>\n",
       "    <tr>\n",
       "      <th>92</th>\n",
       "      <td>2022</td>\n",
       "      <td>Q4</td>\n",
       "      <td>0.035181</td>\n",
       "    </tr>\n",
       "    <tr>\n",
       "      <th>94</th>\n",
       "      <td>2023</td>\n",
       "      <td>Q1</td>\n",
       "      <td>0.023095</td>\n",
       "    </tr>\n",
       "    <tr>\n",
       "      <th>95</th>\n",
       "      <td>2023</td>\n",
       "      <td>Q2</td>\n",
       "      <td>0.025076</td>\n",
       "    </tr>\n",
       "    <tr>\n",
       "      <th>96</th>\n",
       "      <td>2023</td>\n",
       "      <td>Q3</td>\n",
       "      <td>0.025439</td>\n",
       "    </tr>\n",
       "  </tbody>\n",
       "</table>\n",
       "<p>80 rows × 3 columns</p>\n",
       "</div>"
      ],
      "text/plain": [
       "    year  Period  GDP at 2010 Constant Basic Prices\n",
       "1   1982  Annual                          -0.068047\n",
       "2   1983  Annual                          -0.109250\n",
       "3   1984  Annual                          -0.011122\n",
       "4   1985  Annual                           0.059147\n",
       "5   1986  Annual                           0.000603\n",
       "..   ...     ...                                ...\n",
       "91  2022      Q3                           0.022483\n",
       "92  2022      Q4                           0.035181\n",
       "94  2023      Q1                           0.023095\n",
       "95  2023      Q2                           0.025076\n",
       "96  2023      Q3                           0.025439\n",
       "\n",
       "[80 rows x 3 columns]"
      ]
     },
     "execution_count": 183,
     "metadata": {},
     "output_type": "execute_result"
    }
   ],
   "source": [
    "nigeria"
   ]
  },
  {
   "cell_type": "code",
   "execution_count": 184,
   "metadata": {},
   "outputs": [],
   "source": [
    "nigeria['Period']=nigeria['Period'].replace({'Annual':'Q1'})\n",
    "nigeria['TIME_PERIOD']=nigeria['year'].astype(str)+'-'+nigeria['Period']\n",
    "nigeria[['Zone de référence','Secteur institutionnel','Transaction','Activité économique','Unité de mesure','Transformation']]='Nigeria','Economie totale','Produit intérieur brut','Non applicable','Changement en pourcentage','Taux de croissance, sur 1 an'\n",
    "nigeria=nigeria.drop(['year','Period'],axis=1)\n",
    "nigeria=nigeria.rename(columns={'GDP at 2010 Constant Basic Prices':'OBS_VALUE'})\n",
    "nigeria['OBS_VALUE']=nigeria['OBS_VALUE']*100\n",
    "nigeria['TIME_PERIOD']=nigeria['TIME_PERIOD'].apply(lambda x: trimester_to_date(x))"
   ]
  },
  {
   "cell_type": "code",
   "execution_count": 187,
   "metadata": {},
   "outputs": [],
   "source": [
    "gdp=pd.concat([gdp,nigeria])"
   ]
  },
  {
   "cell_type": "code",
   "execution_count": 188,
   "metadata": {},
   "outputs": [],
   "source": [
    "gdp.to_csv('global\\dataglobal\\clean_gdp_recap.csv')"
   ]
  }
 ],
 "metadata": {
  "kernelspec": {
   "display_name": "machinelearning",
   "language": "python",
   "name": "python3"
  },
  "language_info": {
   "codemirror_mode": {
    "name": "ipython",
    "version": 3
   },
   "file_extension": ".py",
   "mimetype": "text/x-python",
   "name": "python",
   "nbconvert_exporter": "python",
   "pygments_lexer": "ipython3",
   "version": "3.10.0"
  }
 },
 "nbformat": 4,
 "nbformat_minor": 2
}
