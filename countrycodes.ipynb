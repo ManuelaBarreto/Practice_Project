{
 "cells": [
  {
   "cell_type": "code",
   "execution_count": 1,
   "metadata": {},
   "outputs": [],
   "source": [
    "import pandas as pd\n",
    "import matplotlib.pyplot as plt"
   ]
  },
  {
   "cell_type": "code",
   "execution_count": 19,
   "metadata": {},
   "outputs": [],
   "source": [
    "codes=pd.read_html('https://www.iban.com/country-codes')\n",
    "cases=pd.read_csv('global\\dataglobal\\clean_weekly_cases_per_million.csv',parse_dates=True)\n",
    "cases['date']=pd.to_datetime(cases['date'])"
   ]
  },
  {
   "cell_type": "code",
   "execution_count": null,
   "metadata": {},
   "outputs": [],
   "source": []
  },
  {
   "cell_type": "code",
   "execution_count": null,
   "metadata": {},
   "outputs": [],
   "source": []
  },
  {
   "cell_type": "code",
   "execution_count": 20,
   "metadata": {},
   "outputs": [],
   "source": []
  },
  {
   "cell_type": "code",
   "execution_count": 21,
   "metadata": {},
   "outputs": [],
   "source": [
    "cases=cases[(cases['date']>=pd.Timestamp(year=2021,month=1,day=1)) & (cases['date']<pd.Timestamp(year=2023,month=1,day=1))][['Countries','Cases']]\n",
    "cases=cases.groupby('Countries').mean()\n",
    "codes=pd.DataFrame(codes[0])[['Country','Alpha-3 code']]\n"
   ]
  },
  {
   "cell_type": "code",
   "execution_count": 22,
   "metadata": {},
   "outputs": [],
   "source": [
    "codes['Country']=codes.Country.replace({'United States of America (the)':'United States','Venezuela (Bolivarian Republic of)':'Venezuela',\n",
    "               'Bolivia (Plurinational State of)':'Bolivia','Côte d\\'Ivoire':'Cote d\\'Ivoire','Russian Federation (the)':'Russia',\n",
    "               'United Kingdom of Great Britain and Northern Ireland (the)':'United Kingdom','Viet Nam':'Vietnam',\n",
    "               'Lao People\\'s Democratic Republic (the)':'Laos','Korea (the Republic of)':'South Korea'})"
   ]
  },
  {
   "cell_type": "code",
   "execution_count": 23,
   "metadata": {},
   "outputs": [],
   "source": [
    "codes=codes.set_index('Country')\n",
    "df=cases.join(codes,how='inner')\n",
    "df.columns=['Cases','Alpha3']"
   ]
  },
  {
   "cell_type": "code",
   "execution_count": null,
   "metadata": {},
   "outputs": [],
   "source": []
  },
  {
   "cell_type": "code",
   "execution_count": 151,
   "metadata": {},
   "outputs": [],
   "source": [
    "\n",
    "df.to_csv('global\\dataglobal\\clean_countrycodes.csv')"
   ]
  }
 ],
 "metadata": {
  "kernelspec": {
   "display_name": "machinelearning",
   "language": "python",
   "name": "python3"
  },
  "language_info": {
   "codemirror_mode": {
    "name": "ipython",
    "version": 3
   },
   "file_extension": ".py",
   "mimetype": "text/x-python",
   "name": "python",
   "nbconvert_exporter": "python",
   "pygments_lexer": "ipython3",
   "version": "3.10.0"
  }
 },
 "nbformat": 4,
 "nbformat_minor": 2
}
