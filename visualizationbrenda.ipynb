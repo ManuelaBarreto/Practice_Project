{
 "cells": [
  {
   "cell_type": "code",
   "execution_count": 2,
   "metadata": {},
   "outputs": [],
   "source": [
    "import plotly as plt\n",
    "import plotly.express as px\n",
    "import pandas as pd"
   ]
  },
  {
   "cell_type": "markdown",
   "metadata": {},
   "source": [
    "## France Graph"
   ]
  },
  {
   "cell_type": "code",
   "execution_count": 101,
   "metadata": {},
   "outputs": [
    {
     "data": {
      "text/html": [
       "<div>\n",
       "<style scoped>\n",
       "    .dataframe tbody tr th:only-of-type {\n",
       "        vertical-align: middle;\n",
       "    }\n",
       "\n",
       "    .dataframe tbody tr th {\n",
       "        vertical-align: top;\n",
       "    }\n",
       "\n",
       "    .dataframe thead th {\n",
       "        text-align: right;\n",
       "    }\n",
       "</style>\n",
       "<table border=\"1\" class=\"dataframe\">\n",
       "  <thead>\n",
       "    <tr style=\"text-align: right;\">\n",
       "      <th></th>\n",
       "      <th>Unnamed: 0</th>\n",
       "      <th>Zone de référence</th>\n",
       "      <th>Secteur institutionnel</th>\n",
       "      <th>Transaction</th>\n",
       "      <th>Activité économique</th>\n",
       "      <th>Unité de mesure</th>\n",
       "      <th>Transformation</th>\n",
       "      <th>TIME_PERIOD</th>\n",
       "      <th>OBS_VALUE</th>\n",
       "    </tr>\n",
       "  </thead>\n",
       "  <tbody>\n",
       "    <tr>\n",
       "      <th>5217</th>\n",
       "      <td>82984</td>\n",
       "      <td>France</td>\n",
       "      <td>Economie totale</td>\n",
       "      <td>Produit intérieur brut</td>\n",
       "      <td>Non applicable</td>\n",
       "      <td>Changement en pourcentage</td>\n",
       "      <td>Taux de croissance, période sur période</td>\n",
       "      <td>1960-06-01</td>\n",
       "      <td>0.375710</td>\n",
       "    </tr>\n",
       "    <tr>\n",
       "      <th>5218</th>\n",
       "      <td>82985</td>\n",
       "      <td>France</td>\n",
       "      <td>Economie totale</td>\n",
       "      <td>Produit intérieur brut</td>\n",
       "      <td>Non applicable</td>\n",
       "      <td>Changement en pourcentage</td>\n",
       "      <td>Taux de croissance, période sur période</td>\n",
       "      <td>1960-09-01</td>\n",
       "      <td>0.748561</td>\n",
       "    </tr>\n",
       "    <tr>\n",
       "      <th>5219</th>\n",
       "      <td>82986</td>\n",
       "      <td>France</td>\n",
       "      <td>Economie totale</td>\n",
       "      <td>Produit intérieur brut</td>\n",
       "      <td>Non applicable</td>\n",
       "      <td>Changement en pourcentage</td>\n",
       "      <td>Taux de croissance, période sur période</td>\n",
       "      <td>1960-12-01</td>\n",
       "      <td>1.185218</td>\n",
       "    </tr>\n",
       "    <tr>\n",
       "      <th>5220</th>\n",
       "      <td>82987</td>\n",
       "      <td>France</td>\n",
       "      <td>Economie totale</td>\n",
       "      <td>Produit intérieur brut</td>\n",
       "      <td>Non applicable</td>\n",
       "      <td>Changement en pourcentage</td>\n",
       "      <td>Taux de croissance, période sur période</td>\n",
       "      <td>1961-03-01</td>\n",
       "      <td>1.608374</td>\n",
       "    </tr>\n",
       "    <tr>\n",
       "      <th>5221</th>\n",
       "      <td>82988</td>\n",
       "      <td>France</td>\n",
       "      <td>Economie totale</td>\n",
       "      <td>Produit intérieur brut</td>\n",
       "      <td>Non applicable</td>\n",
       "      <td>Changement en pourcentage</td>\n",
       "      <td>Taux de croissance, période sur période</td>\n",
       "      <td>1961-06-01</td>\n",
       "      <td>1.600329</td>\n",
       "    </tr>\n",
       "    <tr>\n",
       "      <th>...</th>\n",
       "      <td>...</td>\n",
       "      <td>...</td>\n",
       "      <td>...</td>\n",
       "      <td>...</td>\n",
       "      <td>...</td>\n",
       "      <td>...</td>\n",
       "      <td>...</td>\n",
       "      <td>...</td>\n",
       "      <td>...</td>\n",
       "    </tr>\n",
       "    <tr>\n",
       "      <th>5467</th>\n",
       "      <td>83234</td>\n",
       "      <td>France</td>\n",
       "      <td>Economie totale</td>\n",
       "      <td>Produit intérieur brut</td>\n",
       "      <td>Non applicable</td>\n",
       "      <td>Changement en pourcentage</td>\n",
       "      <td>Taux de croissance, période sur période</td>\n",
       "      <td>2022-12-01</td>\n",
       "      <td>-0.046063</td>\n",
       "    </tr>\n",
       "    <tr>\n",
       "      <th>5468</th>\n",
       "      <td>83235</td>\n",
       "      <td>France</td>\n",
       "      <td>Economie totale</td>\n",
       "      <td>Produit intérieur brut</td>\n",
       "      <td>Non applicable</td>\n",
       "      <td>Changement en pourcentage</td>\n",
       "      <td>Taux de croissance, période sur période</td>\n",
       "      <td>2023-03-01</td>\n",
       "      <td>0.048680</td>\n",
       "    </tr>\n",
       "    <tr>\n",
       "      <th>5469</th>\n",
       "      <td>83236</td>\n",
       "      <td>France</td>\n",
       "      <td>Economie totale</td>\n",
       "      <td>Produit intérieur brut</td>\n",
       "      <td>Non applicable</td>\n",
       "      <td>Changement en pourcentage</td>\n",
       "      <td>Taux de croissance, période sur période</td>\n",
       "      <td>2023-06-01</td>\n",
       "      <td>0.629831</td>\n",
       "    </tr>\n",
       "    <tr>\n",
       "      <th>5470</th>\n",
       "      <td>83237</td>\n",
       "      <td>France</td>\n",
       "      <td>Economie totale</td>\n",
       "      <td>Produit intérieur brut</td>\n",
       "      <td>Non applicable</td>\n",
       "      <td>Changement en pourcentage</td>\n",
       "      <td>Taux de croissance, période sur période</td>\n",
       "      <td>2023-09-01</td>\n",
       "      <td>-0.011540</td>\n",
       "    </tr>\n",
       "    <tr>\n",
       "      <th>5471</th>\n",
       "      <td>83238</td>\n",
       "      <td>France</td>\n",
       "      <td>Economie totale</td>\n",
       "      <td>Produit intérieur brut</td>\n",
       "      <td>Non applicable</td>\n",
       "      <td>Changement en pourcentage</td>\n",
       "      <td>Taux de croissance, période sur période</td>\n",
       "      <td>2023-12-01</td>\n",
       "      <td>0.052434</td>\n",
       "    </tr>\n",
       "  </tbody>\n",
       "</table>\n",
       "<p>255 rows × 9 columns</p>\n",
       "</div>"
      ],
      "text/plain": [
       "      Unnamed: 0 Zone de référence Secteur institutionnel  \\\n",
       "5217       82984            France        Economie totale   \n",
       "5218       82985            France        Economie totale   \n",
       "5219       82986            France        Economie totale   \n",
       "5220       82987            France        Economie totale   \n",
       "5221       82988            France        Economie totale   \n",
       "...          ...               ...                    ...   \n",
       "5467       83234            France        Economie totale   \n",
       "5468       83235            France        Economie totale   \n",
       "5469       83236            France        Economie totale   \n",
       "5470       83237            France        Economie totale   \n",
       "5471       83238            France        Economie totale   \n",
       "\n",
       "                 Transaction Activité économique            Unité de mesure  \\\n",
       "5217  Produit intérieur brut      Non applicable  Changement en pourcentage   \n",
       "5218  Produit intérieur brut      Non applicable  Changement en pourcentage   \n",
       "5219  Produit intérieur brut      Non applicable  Changement en pourcentage   \n",
       "5220  Produit intérieur brut      Non applicable  Changement en pourcentage   \n",
       "5221  Produit intérieur brut      Non applicable  Changement en pourcentage   \n",
       "...                      ...                 ...                        ...   \n",
       "5467  Produit intérieur brut      Non applicable  Changement en pourcentage   \n",
       "5468  Produit intérieur brut      Non applicable  Changement en pourcentage   \n",
       "5469  Produit intérieur brut      Non applicable  Changement en pourcentage   \n",
       "5470  Produit intérieur brut      Non applicable  Changement en pourcentage   \n",
       "5471  Produit intérieur brut      Non applicable  Changement en pourcentage   \n",
       "\n",
       "                               Transformation TIME_PERIOD  OBS_VALUE  \n",
       "5217  Taux de croissance, période sur période  1960-06-01   0.375710  \n",
       "5218  Taux de croissance, période sur période  1960-09-01   0.748561  \n",
       "5219  Taux de croissance, période sur période  1960-12-01   1.185218  \n",
       "5220  Taux de croissance, période sur période  1961-03-01   1.608374  \n",
       "5221  Taux de croissance, période sur période  1961-06-01   1.600329  \n",
       "...                                       ...         ...        ...  \n",
       "5467  Taux de croissance, période sur période  2022-12-01  -0.046063  \n",
       "5468  Taux de croissance, période sur période  2023-03-01   0.048680  \n",
       "5469  Taux de croissance, période sur période  2023-06-01   0.629831  \n",
       "5470  Taux de croissance, période sur période  2023-09-01  -0.011540  \n",
       "5471  Taux de croissance, période sur période  2023-12-01   0.052434  \n",
       "\n",
       "[255 rows x 9 columns]"
      ]
     },
     "execution_count": 101,
     "metadata": {},
     "output_type": "execute_result"
    }
   ],
   "source": [
    "fr_gdp = pd.read_csv(\"global/dataglobal/clean_realgdp.csv\")\n",
    "fr_gdp = fr_gdp[(fr_gdp[\"Zone de référence\"] == \"France\")]\n",
    "\n",
    "fr_gdp"
   ]
  },
  {
   "cell_type": "code",
   "execution_count": 104,
   "metadata": {},
   "outputs": [
    {
     "data": {
      "application/vnd.plotly.v1+json": {
       "config": {
        "plotlyServerURL": "https://plot.ly"
       },
       "data": [
        {
         "hovertemplate": "TIME_PERIOD=%{x}<br>OBS_VALUE=%{y}<extra></extra>",
         "legendgroup": "",
         "line": {
          "color": "#636efa",
          "dash": "solid"
         },
         "marker": {
          "symbol": "circle"
         },
         "mode": "lines",
         "name": "",
         "orientation": "v",
         "showlegend": false,
         "type": "scatter",
         "x": [
          "1960-06-01",
          "1960-09-01",
          "1960-12-01",
          "1961-03-01",
          "1961-06-01",
          "1961-09-01",
          "1961-12-01",
          "1962-03-01",
          "1962-06-01",
          "1962-09-01",
          "1962-12-01",
          "1963-03-01",
          "1963-06-01",
          "1963-09-01",
          "1963-12-01",
          "1964-03-01",
          "1964-06-01",
          "1964-09-01",
          "1964-12-01",
          "1965-03-01",
          "1965-06-01",
          "1965-09-01",
          "1965-12-01",
          "1966-03-01",
          "1966-06-01",
          "1966-09-01",
          "1966-12-01",
          "1967-03-01",
          "1967-06-01",
          "1967-09-01",
          "1967-12-01",
          "1968-03-01",
          "1968-06-01",
          "1968-09-01",
          "1968-12-01",
          "1969-03-01",
          "1969-06-01",
          "1969-09-01",
          "1969-12-01",
          "1970-03-01",
          "1970-06-01",
          "1970-09-01",
          "1970-12-01",
          "1971-03-01",
          "1971-06-01",
          "1971-09-01",
          "1971-12-01",
          "1972-03-01",
          "1972-06-01",
          "1972-09-01",
          "1972-12-01",
          "1973-03-01",
          "1973-06-01",
          "1973-09-01",
          "1973-12-01",
          "1974-03-01",
          "1974-06-01",
          "1974-09-01",
          "1974-12-01",
          "1975-03-01",
          "1975-06-01",
          "1975-09-01",
          "1975-12-01",
          "1976-03-01",
          "1976-06-01",
          "1976-09-01",
          "1976-12-01",
          "1977-03-01",
          "1977-06-01",
          "1977-09-01",
          "1977-12-01",
          "1978-03-01",
          "1978-06-01",
          "1978-09-01",
          "1978-12-01",
          "1979-03-01",
          "1979-06-01",
          "1979-09-01",
          "1979-12-01",
          "1980-03-01",
          "1980-06-01",
          "1980-09-01",
          "1980-12-01",
          "1981-03-01",
          "1981-06-01",
          "1981-09-01",
          "1981-12-01",
          "1982-03-01",
          "1982-06-01",
          "1982-09-01",
          "1982-12-01",
          "1983-03-01",
          "1983-06-01",
          "1983-09-01",
          "1983-12-01",
          "1984-03-01",
          "1984-06-01",
          "1984-09-01",
          "1984-12-01",
          "1985-03-01",
          "1985-06-01",
          "1985-09-01",
          "1985-12-01",
          "1986-03-01",
          "1986-06-01",
          "1986-09-01",
          "1986-12-01",
          "1987-03-01",
          "1987-06-01",
          "1987-09-01",
          "1987-12-01",
          "1988-03-01",
          "1988-06-01",
          "1988-09-01",
          "1988-12-01",
          "1989-03-01",
          "1989-06-01",
          "1989-09-01",
          "1989-12-01",
          "1990-03-01",
          "1990-06-01",
          "1990-09-01",
          "1990-12-01",
          "1991-03-01",
          "1991-06-01",
          "1991-09-01",
          "1991-12-01",
          "1992-03-01",
          "1992-06-01",
          "1992-09-01",
          "1992-12-01",
          "1993-03-01",
          "1993-06-01",
          "1993-09-01",
          "1993-12-01",
          "1994-03-01",
          "1994-06-01",
          "1994-09-01",
          "1994-12-01",
          "1995-03-01",
          "1995-06-01",
          "1995-09-01",
          "1995-12-01",
          "1996-03-01",
          "1996-06-01",
          "1996-09-01",
          "1996-12-01",
          "1997-03-01",
          "1997-06-01",
          "1997-09-01",
          "1997-12-01",
          "1998-03-01",
          "1998-06-01",
          "1998-09-01",
          "1998-12-01",
          "1999-03-01",
          "1999-06-01",
          "1999-09-01",
          "1999-12-01",
          "2000-03-01",
          "2000-06-01",
          "2000-09-01",
          "2000-12-01",
          "2001-03-01",
          "2001-06-01",
          "2001-09-01",
          "2001-12-01",
          "2002-03-01",
          "2002-06-01",
          "2002-09-01",
          "2002-12-01",
          "2003-03-01",
          "2003-06-01",
          "2003-09-01",
          "2003-12-01",
          "2004-03-01",
          "2004-06-01",
          "2004-09-01",
          "2004-12-01",
          "2005-03-01",
          "2005-06-01",
          "2005-09-01",
          "2005-12-01",
          "2006-03-01",
          "2006-06-01",
          "2006-09-01",
          "2006-12-01",
          "2007-03-01",
          "2007-06-01",
          "2007-09-01",
          "2007-12-01",
          "2008-03-01",
          "2008-06-01",
          "2008-09-01",
          "2008-12-01",
          "2009-03-01",
          "2009-06-01",
          "2009-09-01",
          "2009-12-01",
          "2010-03-01",
          "2010-06-01",
          "2010-09-01",
          "2010-12-01",
          "2011-03-01",
          "2011-06-01",
          "2011-09-01",
          "2011-12-01",
          "2012-03-01",
          "2012-06-01",
          "2012-09-01",
          "2012-12-01",
          "2013-03-01",
          "2013-06-01",
          "2013-09-01",
          "2013-12-01",
          "2014-03-01",
          "2014-06-01",
          "2014-09-01",
          "2014-12-01",
          "2015-03-01",
          "2015-06-01",
          "2015-09-01",
          "2015-12-01",
          "2016-03-01",
          "2016-06-01",
          "2016-09-01",
          "2016-12-01",
          "2017-03-01",
          "2017-06-01",
          "2017-09-01",
          "2017-12-01",
          "2018-03-01",
          "2018-06-01",
          "2018-09-01",
          "2018-12-01",
          "2019-03-01",
          "2019-06-01",
          "2019-09-01",
          "2019-12-01",
          "2020-03-01",
          "2020-06-01",
          "2020-09-01",
          "2020-12-01",
          "2021-03-01",
          "2021-06-01",
          "2021-09-01",
          "2021-12-01",
          "2022-03-01",
          "2022-06-01",
          "2022-09-01",
          "2022-12-01",
          "2023-03-01",
          "2023-06-01",
          "2023-09-01",
          "2023-12-01"
         ],
         "xaxis": "x",
         "y": [
          0.375710027,
          0.748560969,
          1.185217727,
          1.608373557,
          1.600329267,
          1.59221853,
          1.699021949,
          1.800279466,
          1.615682117,
          1.439785328,
          1.251796955,
          -1.665799419,
          4.465475469,
          3.298802433,
          0.311286644,
          1.882604425,
          0.958920529,
          1.226254685,
          0.903738702,
          0.221994873,
          2.488095418,
          1.445018966,
          1.392214333,
          0.902205649,
          1.512521587,
          1.140425464,
          0.545946646,
          1.713639564,
          1.094577234,
          0.956190097,
          0.974727457,
          2.909618399,
          -7.580956365,
          11.373243098,
          1.024590164,
          0.183745183,
          2.453037118,
          0.94538382,
          0.790251715,
          1.911374445,
          1.262038455,
          1.377238609,
          1.570186063,
          0.129083296,
          1.821986785,
          1.630601407,
          0.856781066,
          1.309796145,
          0.38417729,
          0.887960161,
          1.660236385,
          1.99228223,
          1.080382169,
          0.858845143,
          1.278319135,
          0.959287031,
          0.500642661,
          0.943450926,
          -1.510183316,
          -0.44990402,
          0.252750122,
          0.38735228,
          1.350335463,
          1.467728516,
          1.192260978,
          0.472915631,
          1.245840306,
          1.105448055,
          0.434796121,
          0.458443057,
          0.228252482,
          1.389138596,
          1.662617478,
          -0.087958221,
          0.851110816,
          0.860055009,
          0.955992372,
          1.143098761,
          0.190206929,
          1.247834907,
          -0.780400321,
          0.116188465,
          -0.177294547,
          0.341439433,
          0.685903288,
          0.665638372,
          0.58008017,
          0.83582524,
          0.716352383,
          -0.041624981,
          0.610731714,
          0.384402408,
          0.02657405,
          0.1414816,
          0.587998206,
          0.400890504,
          0.458125968,
          0.658149476,
          -0.086228568,
          0.293953397,
          0.877085635,
          0.528858816,
          0.477965659,
          0.332488206,
          1.068311586,
          0.503513216,
          0.107268753,
          0.119328267,
          1.505605643,
          0.670064031,
          1.477518679,
          1.226815382,
          0.840802069,
          1.275533843,
          0.822222254,
          1.162971119,
          1.220998906,
          1.116052395,
          1.418431088,
          0.294592727,
          0.52056024,
          0.595039794,
          -0.168948116,
          0.223221979,
          0.336639547,
          0.347586309,
          0.567457565,
          0.810165623,
          0.139074847,
          -0.176256749,
          -0.106714875,
          -0.631589824,
          -0.079284745,
          0.098487722,
          0.341397579,
          0.651081656,
          0.998113537,
          0.889476714,
          0.904982856,
          0.326801893,
          0.634928231,
          0.159033304,
          -0.036014221,
          0.744115705,
          0.144398574,
          0.41238745,
          0.331263405,
          0.316374283,
          1.003763556,
          0.960572045,
          1.048699823,
          0.97750801,
          0.789395914,
          0.582784949,
          0.718728374,
          0.664925406,
          0.61500729,
          1.491979513,
          1.346372483,
          0.834585323,
          1.024228887,
          0.844185727,
          0.59343411,
          0.45927747,
          0.164303647,
          0.642981938,
          -0.438387637,
          0.589153263,
          0.412234648,
          0.493676045,
          -0.008996493,
          0.095731299,
          -0.252973673,
          0.968534195,
          0.429788506,
          0.990330472,
          0.571505003,
          0.374528597,
          0.632140553,
          0.269998806,
          0.226727363,
          0.667367173,
          0.636168123,
          0.745135032,
          1.039896686,
          0.170765356,
          0.614044973,
          0.780238663,
          0.678606827,
          0.425655325,
          0.211667062,
          0.49347087,
          -0.594037829,
          -0.127651426,
          -1.507534031,
          -1.719634907,
          0.018995938,
          0.080935024,
          0.853212534,
          0.267075663,
          0.500767171,
          0.611825951,
          0.614929795,
          1.062421617,
          -0.027586999,
          0.437919446,
          0.250544374,
          -0.050372724,
          -0.094446854,
          0.238553381,
          -0.134881184,
          0.018933056,
          0.732411885,
          -0.096734834,
          0.730043342,
          -0.048957916,
          0.093283756,
          0.564955649,
          -0.091209896,
          0.532147931,
          0.163011555,
          0.209200476,
          0.199962664,
          0.619485205,
          -0.375219922,
          0.391084538,
          0.605032241,
          0.627782922,
          0.875025671,
          0.896555096,
          0.59578768,
          -0.015241574,
          0.45086419,
          0.4736779,
          0.545274603,
          0.69080505,
          0.643046758,
          0.101081134,
          -0.416965644,
          -5.297836274,
          -13.147869132,
          17.529993052,
          -0.647098119,
          0.047628283,
          0.865790202,
          2.980170012,
          0.562569898,
          -0.126129436,
          0.343294532,
          0.576492069,
          -0.046063206,
          0.048679546,
          0.62983062,
          -0.0115403,
          0.052434391
         ],
         "yaxis": "y"
        }
       ],
       "layout": {
        "legend": {
         "tracegroupgap": 0
        },
        "margin": {
         "t": 60
        },
        "template": {
         "data": {
          "bar": [
           {
            "error_x": {
             "color": "#2a3f5f"
            },
            "error_y": {
             "color": "#2a3f5f"
            },
            "marker": {
             "line": {
              "color": "#E5ECF6",
              "width": 0.5
             },
             "pattern": {
              "fillmode": "overlay",
              "size": 10,
              "solidity": 0.2
             }
            },
            "type": "bar"
           }
          ],
          "barpolar": [
           {
            "marker": {
             "line": {
              "color": "#E5ECF6",
              "width": 0.5
             },
             "pattern": {
              "fillmode": "overlay",
              "size": 10,
              "solidity": 0.2
             }
            },
            "type": "barpolar"
           }
          ],
          "carpet": [
           {
            "aaxis": {
             "endlinecolor": "#2a3f5f",
             "gridcolor": "white",
             "linecolor": "white",
             "minorgridcolor": "white",
             "startlinecolor": "#2a3f5f"
            },
            "baxis": {
             "endlinecolor": "#2a3f5f",
             "gridcolor": "white",
             "linecolor": "white",
             "minorgridcolor": "white",
             "startlinecolor": "#2a3f5f"
            },
            "type": "carpet"
           }
          ],
          "choropleth": [
           {
            "colorbar": {
             "outlinewidth": 0,
             "ticks": ""
            },
            "type": "choropleth"
           }
          ],
          "contour": [
           {
            "colorbar": {
             "outlinewidth": 0,
             "ticks": ""
            },
            "colorscale": [
             [
              0,
              "#0d0887"
             ],
             [
              0.1111111111111111,
              "#46039f"
             ],
             [
              0.2222222222222222,
              "#7201a8"
             ],
             [
              0.3333333333333333,
              "#9c179e"
             ],
             [
              0.4444444444444444,
              "#bd3786"
             ],
             [
              0.5555555555555556,
              "#d8576b"
             ],
             [
              0.6666666666666666,
              "#ed7953"
             ],
             [
              0.7777777777777778,
              "#fb9f3a"
             ],
             [
              0.8888888888888888,
              "#fdca26"
             ],
             [
              1,
              "#f0f921"
             ]
            ],
            "type": "contour"
           }
          ],
          "contourcarpet": [
           {
            "colorbar": {
             "outlinewidth": 0,
             "ticks": ""
            },
            "type": "contourcarpet"
           }
          ],
          "heatmap": [
           {
            "colorbar": {
             "outlinewidth": 0,
             "ticks": ""
            },
            "colorscale": [
             [
              0,
              "#0d0887"
             ],
             [
              0.1111111111111111,
              "#46039f"
             ],
             [
              0.2222222222222222,
              "#7201a8"
             ],
             [
              0.3333333333333333,
              "#9c179e"
             ],
             [
              0.4444444444444444,
              "#bd3786"
             ],
             [
              0.5555555555555556,
              "#d8576b"
             ],
             [
              0.6666666666666666,
              "#ed7953"
             ],
             [
              0.7777777777777778,
              "#fb9f3a"
             ],
             [
              0.8888888888888888,
              "#fdca26"
             ],
             [
              1,
              "#f0f921"
             ]
            ],
            "type": "heatmap"
           }
          ],
          "heatmapgl": [
           {
            "colorbar": {
             "outlinewidth": 0,
             "ticks": ""
            },
            "colorscale": [
             [
              0,
              "#0d0887"
             ],
             [
              0.1111111111111111,
              "#46039f"
             ],
             [
              0.2222222222222222,
              "#7201a8"
             ],
             [
              0.3333333333333333,
              "#9c179e"
             ],
             [
              0.4444444444444444,
              "#bd3786"
             ],
             [
              0.5555555555555556,
              "#d8576b"
             ],
             [
              0.6666666666666666,
              "#ed7953"
             ],
             [
              0.7777777777777778,
              "#fb9f3a"
             ],
             [
              0.8888888888888888,
              "#fdca26"
             ],
             [
              1,
              "#f0f921"
             ]
            ],
            "type": "heatmapgl"
           }
          ],
          "histogram": [
           {
            "marker": {
             "pattern": {
              "fillmode": "overlay",
              "size": 10,
              "solidity": 0.2
             }
            },
            "type": "histogram"
           }
          ],
          "histogram2d": [
           {
            "colorbar": {
             "outlinewidth": 0,
             "ticks": ""
            },
            "colorscale": [
             [
              0,
              "#0d0887"
             ],
             [
              0.1111111111111111,
              "#46039f"
             ],
             [
              0.2222222222222222,
              "#7201a8"
             ],
             [
              0.3333333333333333,
              "#9c179e"
             ],
             [
              0.4444444444444444,
              "#bd3786"
             ],
             [
              0.5555555555555556,
              "#d8576b"
             ],
             [
              0.6666666666666666,
              "#ed7953"
             ],
             [
              0.7777777777777778,
              "#fb9f3a"
             ],
             [
              0.8888888888888888,
              "#fdca26"
             ],
             [
              1,
              "#f0f921"
             ]
            ],
            "type": "histogram2d"
           }
          ],
          "histogram2dcontour": [
           {
            "colorbar": {
             "outlinewidth": 0,
             "ticks": ""
            },
            "colorscale": [
             [
              0,
              "#0d0887"
             ],
             [
              0.1111111111111111,
              "#46039f"
             ],
             [
              0.2222222222222222,
              "#7201a8"
             ],
             [
              0.3333333333333333,
              "#9c179e"
             ],
             [
              0.4444444444444444,
              "#bd3786"
             ],
             [
              0.5555555555555556,
              "#d8576b"
             ],
             [
              0.6666666666666666,
              "#ed7953"
             ],
             [
              0.7777777777777778,
              "#fb9f3a"
             ],
             [
              0.8888888888888888,
              "#fdca26"
             ],
             [
              1,
              "#f0f921"
             ]
            ],
            "type": "histogram2dcontour"
           }
          ],
          "mesh3d": [
           {
            "colorbar": {
             "outlinewidth": 0,
             "ticks": ""
            },
            "type": "mesh3d"
           }
          ],
          "parcoords": [
           {
            "line": {
             "colorbar": {
              "outlinewidth": 0,
              "ticks": ""
             }
            },
            "type": "parcoords"
           }
          ],
          "pie": [
           {
            "automargin": true,
            "type": "pie"
           }
          ],
          "scatter": [
           {
            "fillpattern": {
             "fillmode": "overlay",
             "size": 10,
             "solidity": 0.2
            },
            "type": "scatter"
           }
          ],
          "scatter3d": [
           {
            "line": {
             "colorbar": {
              "outlinewidth": 0,
              "ticks": ""
             }
            },
            "marker": {
             "colorbar": {
              "outlinewidth": 0,
              "ticks": ""
             }
            },
            "type": "scatter3d"
           }
          ],
          "scattercarpet": [
           {
            "marker": {
             "colorbar": {
              "outlinewidth": 0,
              "ticks": ""
             }
            },
            "type": "scattercarpet"
           }
          ],
          "scattergeo": [
           {
            "marker": {
             "colorbar": {
              "outlinewidth": 0,
              "ticks": ""
             }
            },
            "type": "scattergeo"
           }
          ],
          "scattergl": [
           {
            "marker": {
             "colorbar": {
              "outlinewidth": 0,
              "ticks": ""
             }
            },
            "type": "scattergl"
           }
          ],
          "scattermapbox": [
           {
            "marker": {
             "colorbar": {
              "outlinewidth": 0,
              "ticks": ""
             }
            },
            "type": "scattermapbox"
           }
          ],
          "scatterpolar": [
           {
            "marker": {
             "colorbar": {
              "outlinewidth": 0,
              "ticks": ""
             }
            },
            "type": "scatterpolar"
           }
          ],
          "scatterpolargl": [
           {
            "marker": {
             "colorbar": {
              "outlinewidth": 0,
              "ticks": ""
             }
            },
            "type": "scatterpolargl"
           }
          ],
          "scatterternary": [
           {
            "marker": {
             "colorbar": {
              "outlinewidth": 0,
              "ticks": ""
             }
            },
            "type": "scatterternary"
           }
          ],
          "surface": [
           {
            "colorbar": {
             "outlinewidth": 0,
             "ticks": ""
            },
            "colorscale": [
             [
              0,
              "#0d0887"
             ],
             [
              0.1111111111111111,
              "#46039f"
             ],
             [
              0.2222222222222222,
              "#7201a8"
             ],
             [
              0.3333333333333333,
              "#9c179e"
             ],
             [
              0.4444444444444444,
              "#bd3786"
             ],
             [
              0.5555555555555556,
              "#d8576b"
             ],
             [
              0.6666666666666666,
              "#ed7953"
             ],
             [
              0.7777777777777778,
              "#fb9f3a"
             ],
             [
              0.8888888888888888,
              "#fdca26"
             ],
             [
              1,
              "#f0f921"
             ]
            ],
            "type": "surface"
           }
          ],
          "table": [
           {
            "cells": {
             "fill": {
              "color": "#EBF0F8"
             },
             "line": {
              "color": "white"
             }
            },
            "header": {
             "fill": {
              "color": "#C8D4E3"
             },
             "line": {
              "color": "white"
             }
            },
            "type": "table"
           }
          ]
         },
         "layout": {
          "annotationdefaults": {
           "arrowcolor": "#2a3f5f",
           "arrowhead": 0,
           "arrowwidth": 1
          },
          "autotypenumbers": "strict",
          "coloraxis": {
           "colorbar": {
            "outlinewidth": 0,
            "ticks": ""
           }
          },
          "colorscale": {
           "diverging": [
            [
             0,
             "#8e0152"
            ],
            [
             0.1,
             "#c51b7d"
            ],
            [
             0.2,
             "#de77ae"
            ],
            [
             0.3,
             "#f1b6da"
            ],
            [
             0.4,
             "#fde0ef"
            ],
            [
             0.5,
             "#f7f7f7"
            ],
            [
             0.6,
             "#e6f5d0"
            ],
            [
             0.7,
             "#b8e186"
            ],
            [
             0.8,
             "#7fbc41"
            ],
            [
             0.9,
             "#4d9221"
            ],
            [
             1,
             "#276419"
            ]
           ],
           "sequential": [
            [
             0,
             "#0d0887"
            ],
            [
             0.1111111111111111,
             "#46039f"
            ],
            [
             0.2222222222222222,
             "#7201a8"
            ],
            [
             0.3333333333333333,
             "#9c179e"
            ],
            [
             0.4444444444444444,
             "#bd3786"
            ],
            [
             0.5555555555555556,
             "#d8576b"
            ],
            [
             0.6666666666666666,
             "#ed7953"
            ],
            [
             0.7777777777777778,
             "#fb9f3a"
            ],
            [
             0.8888888888888888,
             "#fdca26"
            ],
            [
             1,
             "#f0f921"
            ]
           ],
           "sequentialminus": [
            [
             0,
             "#0d0887"
            ],
            [
             0.1111111111111111,
             "#46039f"
            ],
            [
             0.2222222222222222,
             "#7201a8"
            ],
            [
             0.3333333333333333,
             "#9c179e"
            ],
            [
             0.4444444444444444,
             "#bd3786"
            ],
            [
             0.5555555555555556,
             "#d8576b"
            ],
            [
             0.6666666666666666,
             "#ed7953"
            ],
            [
             0.7777777777777778,
             "#fb9f3a"
            ],
            [
             0.8888888888888888,
             "#fdca26"
            ],
            [
             1,
             "#f0f921"
            ]
           ]
          },
          "colorway": [
           "#636efa",
           "#EF553B",
           "#00cc96",
           "#ab63fa",
           "#FFA15A",
           "#19d3f3",
           "#FF6692",
           "#B6E880",
           "#FF97FF",
           "#FECB52"
          ],
          "font": {
           "color": "#2a3f5f"
          },
          "geo": {
           "bgcolor": "white",
           "lakecolor": "white",
           "landcolor": "#E5ECF6",
           "showlakes": true,
           "showland": true,
           "subunitcolor": "white"
          },
          "hoverlabel": {
           "align": "left"
          },
          "hovermode": "closest",
          "mapbox": {
           "style": "light"
          },
          "paper_bgcolor": "white",
          "plot_bgcolor": "#E5ECF6",
          "polar": {
           "angularaxis": {
            "gridcolor": "white",
            "linecolor": "white",
            "ticks": ""
           },
           "bgcolor": "#E5ECF6",
           "radialaxis": {
            "gridcolor": "white",
            "linecolor": "white",
            "ticks": ""
           }
          },
          "scene": {
           "xaxis": {
            "backgroundcolor": "#E5ECF6",
            "gridcolor": "white",
            "gridwidth": 2,
            "linecolor": "white",
            "showbackground": true,
            "ticks": "",
            "zerolinecolor": "white"
           },
           "yaxis": {
            "backgroundcolor": "#E5ECF6",
            "gridcolor": "white",
            "gridwidth": 2,
            "linecolor": "white",
            "showbackground": true,
            "ticks": "",
            "zerolinecolor": "white"
           },
           "zaxis": {
            "backgroundcolor": "#E5ECF6",
            "gridcolor": "white",
            "gridwidth": 2,
            "linecolor": "white",
            "showbackground": true,
            "ticks": "",
            "zerolinecolor": "white"
           }
          },
          "shapedefaults": {
           "line": {
            "color": "#2a3f5f"
           }
          },
          "ternary": {
           "aaxis": {
            "gridcolor": "white",
            "linecolor": "white",
            "ticks": ""
           },
           "baxis": {
            "gridcolor": "white",
            "linecolor": "white",
            "ticks": ""
           },
           "bgcolor": "#E5ECF6",
           "caxis": {
            "gridcolor": "white",
            "linecolor": "white",
            "ticks": ""
           }
          },
          "title": {
           "x": 0.05
          },
          "xaxis": {
           "automargin": true,
           "gridcolor": "white",
           "linecolor": "white",
           "ticks": "",
           "title": {
            "standoff": 15
           },
           "zerolinecolor": "white",
           "zerolinewidth": 2
          },
          "yaxis": {
           "automargin": true,
           "gridcolor": "white",
           "linecolor": "white",
           "ticks": "",
           "title": {
            "standoff": 15
           },
           "zerolinecolor": "white",
           "zerolinewidth": 2
          }
         }
        },
        "title": {
         "text": "GDP France"
        },
        "xaxis": {
         "anchor": "y",
         "domain": [
          0,
          1
         ],
         "range": [
          "1990-01-01",
          "2023-09-01"
         ],
         "title": {
          "text": "TIME_PERIOD"
         }
        },
        "yaxis": {
         "anchor": "x",
         "domain": [
          0,
          1
         ],
         "title": {
          "text": "OBS_VALUE"
         }
        }
       }
      }
     },
     "metadata": {},
     "output_type": "display_data"
    }
   ],
   "source": [
    "fig = px.line(fr_gdp, x='TIME_PERIOD', y=\"OBS_VALUE\")\n",
    "fig.update_layout(xaxis_range=['1990-01-01','2023-09-01'],\n",
    "                  title_text= \"GDP France\")\n",
    "fig.show()"
   ]
  },
  {
   "cell_type": "markdown",
   "metadata": {},
   "source": [
    "## World Graph"
   ]
  },
  {
   "cell_type": "code",
   "execution_count": 135,
   "metadata": {},
   "outputs": [],
   "source": [
    "real_gdp = pd.read_csv(\"global/dataglobal/clean_realgdp.csv\")\n",
    "real_gdp20 = pd.read_csv(\"global/dataglobal/clean_realgdpg20.csv\")"
   ]
  },
  {
   "cell_type": "code",
   "execution_count": 136,
   "metadata": {},
   "outputs": [
    {
     "data": {
      "text/plain": [
       "Index(['Unnamed: 0', 'Zone de référence', 'Secteur institutionnel',\n",
       "       'Transaction', 'Activité économique', 'Unité de mesure',\n",
       "       'Transformation', 'TIME_PERIOD', 'OBS_VALUE'],\n",
       "      dtype='object')"
      ]
     },
     "execution_count": 136,
     "metadata": {},
     "output_type": "execute_result"
    }
   ],
   "source": [
    "real_gdp.columns"
   ]
  },
  {
   "cell_type": "code",
   "execution_count": 137,
   "metadata": {},
   "outputs": [
    {
     "data": {
      "text/plain": [
       "Index(['Unnamed: 0', 'Zone de référence', 'Secteur institutionnel',\n",
       "       'Transaction', 'Activité économique', 'Unité de mesure',\n",
       "       'Transformation', 'TIME_PERIOD', 'OBS_VALUE'],\n",
       "      dtype='object')"
      ]
     },
     "execution_count": 137,
     "metadata": {},
     "output_type": "execute_result"
    }
   ],
   "source": [
    "real_gdp20.columns"
   ]
  },
  {
   "cell_type": "code",
   "execution_count": 138,
   "metadata": {},
   "outputs": [
    {
     "data": {
      "text/plain": [
       "array(['Chili', 'Corée', 'G7', 'Italie', 'Türkiye', 'Colombie',\n",
       "       'Luxembourg', 'Autriche', 'Zone euro (20 pays)', 'États-Unis',\n",
       "       'Royaume-Uni', 'Lettonie', 'Canada', 'Mexique',\n",
       "       'Union européenne (27 pays à partir du 01/02/2020)', 'Suède',\n",
       "       'Tchéquie', 'Lituanie', 'Espagne', 'Pologne', 'G20', 'Islande',\n",
       "       'Belgique', 'Allemagne', 'OCDE', 'Japon', 'France', 'Costa Rica',\n",
       "       'Slovénie', 'Hongrie', 'Norvège', 'Finlande', 'Portugal',\n",
       "       'Pays-Bas', 'Suisse', 'OCDE Europe', 'ALENA', 'Estonie',\n",
       "       'Danemark', 'Grèce', 'Australie', 'République slovaque',\n",
       "       'Nouvelle-Zélande', 'Israël'], dtype=object)"
      ]
     },
     "execution_count": 138,
     "metadata": {},
     "output_type": "execute_result"
    }
   ],
   "source": [
    "real_gdp[\"Zone de référence\"].unique()"
   ]
  },
  {
   "cell_type": "code",
   "execution_count": 139,
   "metadata": {},
   "outputs": [
    {
     "data": {
      "text/plain": [
       "array(['Argentine', 'Corée', 'G7', 'Italie', 'Türkiye',\n",
       "       'Zone euro (20 pays)', 'États-Unis', 'Royaume-Uni', 'Canada',\n",
       "       'Mexique', 'Union européenne (27 pays à partir du 01/02/2020)',\n",
       "       'Afrique du Sud', 'Chine (République populaire de)', 'G20',\n",
       "       'Brésil', 'Arabie saoudite', 'Inde', 'Allemagne', 'OCDE', 'Japon',\n",
       "       'France', 'Indonésie', 'Russie', 'OCDE Europe', 'ALENA',\n",
       "       'Australie'], dtype=object)"
      ]
     },
     "execution_count": 139,
     "metadata": {},
     "output_type": "execute_result"
    }
   ],
   "source": [
    "real_gdp20[\"Zone de référence\"].unique()\n"
   ]
  },
  {
   "cell_type": "code",
   "execution_count": 140,
   "metadata": {},
   "outputs": [
    {
     "data": {
      "text/plain": [
       "['Corée',\n",
       " 'G7',\n",
       " 'Italie',\n",
       " 'Türkiye',\n",
       " 'Zone euro (20 pays)',\n",
       " 'États-Unis',\n",
       " 'Royaume-Uni',\n",
       " 'Canada',\n",
       " 'Mexique',\n",
       " 'Union européenne (27 pays à partir du 01/02/2020)',\n",
       " 'G20',\n",
       " 'Allemagne',\n",
       " 'OCDE',\n",
       " 'Japon',\n",
       " 'France',\n",
       " 'OCDE Europe',\n",
       " 'ALENA',\n",
       " 'Australie']"
      ]
     },
     "execution_count": 140,
     "metadata": {},
     "output_type": "execute_result"
    }
   ],
   "source": [
    "to_drop = []\n",
    "for i in real_gdp20[\"Zone de référence\"].unique():\n",
    "    if i in real_gdp[\"Zone de référence\"].unique():\n",
    "        to_drop.append(i)\n",
    "\n",
    "to_drop"
   ]
  },
  {
   "cell_type": "code",
   "execution_count": 144,
   "metadata": {},
   "outputs": [
    {
     "data": {
      "text/html": [
       "<div>\n",
       "<style scoped>\n",
       "    .dataframe tbody tr th:only-of-type {\n",
       "        vertical-align: middle;\n",
       "    }\n",
       "\n",
       "    .dataframe tbody tr th {\n",
       "        vertical-align: top;\n",
       "    }\n",
       "\n",
       "    .dataframe thead th {\n",
       "        text-align: right;\n",
       "    }\n",
       "</style>\n",
       "<table border=\"1\" class=\"dataframe\">\n",
       "  <thead>\n",
       "    <tr style=\"text-align: right;\">\n",
       "      <th></th>\n",
       "      <th>Unnamed: 0</th>\n",
       "      <th>Zone de référence</th>\n",
       "      <th>Secteur institutionnel</th>\n",
       "      <th>Transaction</th>\n",
       "      <th>Activité économique</th>\n",
       "      <th>Unité de mesure</th>\n",
       "      <th>Transformation</th>\n",
       "      <th>TIME_PERIOD</th>\n",
       "      <th>OBS_VALUE</th>\n",
       "    </tr>\n",
       "  </thead>\n",
       "  <tbody>\n",
       "    <tr>\n",
       "      <th>0</th>\n",
       "      <td>555</td>\n",
       "      <td>Argentine</td>\n",
       "      <td>Economie totale</td>\n",
       "      <td>Produit intérieur brut</td>\n",
       "      <td>Non applicable</td>\n",
       "      <td>Changement en pourcentage</td>\n",
       "      <td>Taux de croissance, période sur période</td>\n",
       "      <td>1993-06-01</td>\n",
       "      <td>2.852959</td>\n",
       "    </tr>\n",
       "    <tr>\n",
       "      <th>1</th>\n",
       "      <td>556</td>\n",
       "      <td>Argentine</td>\n",
       "      <td>Economie totale</td>\n",
       "      <td>Produit intérieur brut</td>\n",
       "      <td>Non applicable</td>\n",
       "      <td>Changement en pourcentage</td>\n",
       "      <td>Taux de croissance, période sur période</td>\n",
       "      <td>1993-09-01</td>\n",
       "      <td>2.010236</td>\n",
       "    </tr>\n",
       "    <tr>\n",
       "      <th>2</th>\n",
       "      <td>557</td>\n",
       "      <td>Argentine</td>\n",
       "      <td>Economie totale</td>\n",
       "      <td>Produit intérieur brut</td>\n",
       "      <td>Non applicable</td>\n",
       "      <td>Changement en pourcentage</td>\n",
       "      <td>Taux de croissance, période sur période</td>\n",
       "      <td>1993-12-01</td>\n",
       "      <td>0.805455</td>\n",
       "    </tr>\n",
       "    <tr>\n",
       "      <th>3</th>\n",
       "      <td>558</td>\n",
       "      <td>Argentine</td>\n",
       "      <td>Economie totale</td>\n",
       "      <td>Produit intérieur brut</td>\n",
       "      <td>Non applicable</td>\n",
       "      <td>Changement en pourcentage</td>\n",
       "      <td>Taux de croissance, période sur période</td>\n",
       "      <td>1994-03-01</td>\n",
       "      <td>1.421339</td>\n",
       "    </tr>\n",
       "    <tr>\n",
       "      <th>4</th>\n",
       "      <td>559</td>\n",
       "      <td>Argentine</td>\n",
       "      <td>Economie totale</td>\n",
       "      <td>Produit intérieur brut</td>\n",
       "      <td>Non applicable</td>\n",
       "      <td>Changement en pourcentage</td>\n",
       "      <td>Taux de croissance, période sur période</td>\n",
       "      <td>1994-06-01</td>\n",
       "      <td>2.068260</td>\n",
       "    </tr>\n",
       "    <tr>\n",
       "      <th>...</th>\n",
       "      <td>...</td>\n",
       "      <td>...</td>\n",
       "      <td>...</td>\n",
       "      <td>...</td>\n",
       "      <td>...</td>\n",
       "      <td>...</td>\n",
       "      <td>...</td>\n",
       "      <td>...</td>\n",
       "      <td>...</td>\n",
       "    </tr>\n",
       "    <tr>\n",
       "      <th>4202</th>\n",
       "      <td>50085</td>\n",
       "      <td>Russie</td>\n",
       "      <td>Economie totale</td>\n",
       "      <td>Produit intérieur brut</td>\n",
       "      <td>Non applicable</td>\n",
       "      <td>Changement en pourcentage</td>\n",
       "      <td>Taux de croissance, période sur période</td>\n",
       "      <td>2020-09-01</td>\n",
       "      <td>2.778079</td>\n",
       "    </tr>\n",
       "    <tr>\n",
       "      <th>4203</th>\n",
       "      <td>50086</td>\n",
       "      <td>Russie</td>\n",
       "      <td>Economie totale</td>\n",
       "      <td>Produit intérieur brut</td>\n",
       "      <td>Non applicable</td>\n",
       "      <td>Changement en pourcentage</td>\n",
       "      <td>Taux de croissance, période sur période</td>\n",
       "      <td>2020-12-01</td>\n",
       "      <td>0.739743</td>\n",
       "    </tr>\n",
       "    <tr>\n",
       "      <th>4204</th>\n",
       "      <td>50087</td>\n",
       "      <td>Russie</td>\n",
       "      <td>Economie totale</td>\n",
       "      <td>Produit intérieur brut</td>\n",
       "      <td>Non applicable</td>\n",
       "      <td>Changement en pourcentage</td>\n",
       "      <td>Taux de croissance, période sur période</td>\n",
       "      <td>2021-03-01</td>\n",
       "      <td>0.680789</td>\n",
       "    </tr>\n",
       "    <tr>\n",
       "      <th>4205</th>\n",
       "      <td>50088</td>\n",
       "      <td>Russie</td>\n",
       "      <td>Economie totale</td>\n",
       "      <td>Produit intérieur brut</td>\n",
       "      <td>Non applicable</td>\n",
       "      <td>Changement en pourcentage</td>\n",
       "      <td>Taux de croissance, période sur période</td>\n",
       "      <td>2021-06-01</td>\n",
       "      <td>3.190934</td>\n",
       "    </tr>\n",
       "    <tr>\n",
       "      <th>4206</th>\n",
       "      <td>50089</td>\n",
       "      <td>Russie</td>\n",
       "      <td>Economie totale</td>\n",
       "      <td>Produit intérieur brut</td>\n",
       "      <td>Non applicable</td>\n",
       "      <td>Changement en pourcentage</td>\n",
       "      <td>Taux de croissance, période sur période</td>\n",
       "      <td>2021-09-01</td>\n",
       "      <td>-0.794506</td>\n",
       "    </tr>\n",
       "  </tbody>\n",
       "</table>\n",
       "<p>914 rows × 9 columns</p>\n",
       "</div>"
      ],
      "text/plain": [
       "      Unnamed: 0 Zone de référence Secteur institutionnel  \\\n",
       "0            555         Argentine        Economie totale   \n",
       "1            556         Argentine        Economie totale   \n",
       "2            557         Argentine        Economie totale   \n",
       "3            558         Argentine        Economie totale   \n",
       "4            559         Argentine        Economie totale   \n",
       "...          ...               ...                    ...   \n",
       "4202       50085            Russie        Economie totale   \n",
       "4203       50086            Russie        Economie totale   \n",
       "4204       50087            Russie        Economie totale   \n",
       "4205       50088            Russie        Economie totale   \n",
       "4206       50089            Russie        Economie totale   \n",
       "\n",
       "                 Transaction Activité économique            Unité de mesure  \\\n",
       "0     Produit intérieur brut      Non applicable  Changement en pourcentage   \n",
       "1     Produit intérieur brut      Non applicable  Changement en pourcentage   \n",
       "2     Produit intérieur brut      Non applicable  Changement en pourcentage   \n",
       "3     Produit intérieur brut      Non applicable  Changement en pourcentage   \n",
       "4     Produit intérieur brut      Non applicable  Changement en pourcentage   \n",
       "...                      ...                 ...                        ...   \n",
       "4202  Produit intérieur brut      Non applicable  Changement en pourcentage   \n",
       "4203  Produit intérieur brut      Non applicable  Changement en pourcentage   \n",
       "4204  Produit intérieur brut      Non applicable  Changement en pourcentage   \n",
       "4205  Produit intérieur brut      Non applicable  Changement en pourcentage   \n",
       "4206  Produit intérieur brut      Non applicable  Changement en pourcentage   \n",
       "\n",
       "                               Transformation TIME_PERIOD  OBS_VALUE  \n",
       "0     Taux de croissance, période sur période  1993-06-01   2.852959  \n",
       "1     Taux de croissance, période sur période  1993-09-01   2.010236  \n",
       "2     Taux de croissance, période sur période  1993-12-01   0.805455  \n",
       "3     Taux de croissance, période sur période  1994-03-01   1.421339  \n",
       "4     Taux de croissance, période sur période  1994-06-01   2.068260  \n",
       "...                                       ...         ...        ...  \n",
       "4202  Taux de croissance, période sur période  2020-09-01   2.778079  \n",
       "4203  Taux de croissance, période sur période  2020-12-01   0.739743  \n",
       "4204  Taux de croissance, période sur période  2021-03-01   0.680789  \n",
       "4205  Taux de croissance, période sur période  2021-06-01   3.190934  \n",
       "4206  Taux de croissance, période sur période  2021-09-01  -0.794506  \n",
       "\n",
       "[914 rows x 9 columns]"
      ]
     },
     "execution_count": 144,
     "metadata": {},
     "output_type": "execute_result"
    }
   ],
   "source": [
    "real_gdp20 = real_gdp20[~(real_gdp20[\"Zone de référence\"].isin(to_drop))]\n",
    "\n",
    "real_gdp20"
   ]
  },
  {
   "cell_type": "code",
   "execution_count": 145,
   "metadata": {},
   "outputs": [
    {
     "data": {
      "text/html": [
       "<div>\n",
       "<style scoped>\n",
       "    .dataframe tbody tr th:only-of-type {\n",
       "        vertical-align: middle;\n",
       "    }\n",
       "\n",
       "    .dataframe tbody tr th {\n",
       "        vertical-align: top;\n",
       "    }\n",
       "\n",
       "    .dataframe thead th {\n",
       "        text-align: right;\n",
       "    }\n",
       "</style>\n",
       "<table border=\"1\" class=\"dataframe\">\n",
       "  <thead>\n",
       "    <tr style=\"text-align: right;\">\n",
       "      <th></th>\n",
       "      <th>Unnamed: 0</th>\n",
       "      <th>Zone de référence</th>\n",
       "      <th>Secteur institutionnel</th>\n",
       "      <th>Transaction</th>\n",
       "      <th>Activité économique</th>\n",
       "      <th>Unité de mesure</th>\n",
       "      <th>Transformation</th>\n",
       "      <th>TIME_PERIOD</th>\n",
       "      <th>OBS_VALUE</th>\n",
       "    </tr>\n",
       "  </thead>\n",
       "  <tbody>\n",
       "    <tr>\n",
       "      <th>0</th>\n",
       "      <td>2314</td>\n",
       "      <td>Chili</td>\n",
       "      <td>Economie totale</td>\n",
       "      <td>Produit intérieur brut</td>\n",
       "      <td>Non applicable</td>\n",
       "      <td>Changement en pourcentage</td>\n",
       "      <td>Taux de croissance, période sur période</td>\n",
       "      <td>1996-06-01</td>\n",
       "      <td>0.994937</td>\n",
       "    </tr>\n",
       "    <tr>\n",
       "      <th>1</th>\n",
       "      <td>2315</td>\n",
       "      <td>Chili</td>\n",
       "      <td>Economie totale</td>\n",
       "      <td>Produit intérieur brut</td>\n",
       "      <td>Non applicable</td>\n",
       "      <td>Changement en pourcentage</td>\n",
       "      <td>Taux de croissance, période sur période</td>\n",
       "      <td>1996-09-01</td>\n",
       "      <td>0.996914</td>\n",
       "    </tr>\n",
       "    <tr>\n",
       "      <th>2</th>\n",
       "      <td>2316</td>\n",
       "      <td>Chili</td>\n",
       "      <td>Economie totale</td>\n",
       "      <td>Produit intérieur brut</td>\n",
       "      <td>Non applicable</td>\n",
       "      <td>Changement en pourcentage</td>\n",
       "      <td>Taux de croissance, période sur période</td>\n",
       "      <td>1996-12-01</td>\n",
       "      <td>1.433251</td>\n",
       "    </tr>\n",
       "    <tr>\n",
       "      <th>3</th>\n",
       "      <td>2317</td>\n",
       "      <td>Chili</td>\n",
       "      <td>Economie totale</td>\n",
       "      <td>Produit intérieur brut</td>\n",
       "      <td>Non applicable</td>\n",
       "      <td>Changement en pourcentage</td>\n",
       "      <td>Taux de croissance, période sur période</td>\n",
       "      <td>1997-03-01</td>\n",
       "      <td>2.267708</td>\n",
       "    </tr>\n",
       "    <tr>\n",
       "      <th>4</th>\n",
       "      <td>2318</td>\n",
       "      <td>Chili</td>\n",
       "      <td>Economie totale</td>\n",
       "      <td>Produit intérieur brut</td>\n",
       "      <td>Non applicable</td>\n",
       "      <td>Changement en pourcentage</td>\n",
       "      <td>Taux de croissance, période sur période</td>\n",
       "      <td>1997-06-01</td>\n",
       "      <td>2.081234</td>\n",
       "    </tr>\n",
       "    <tr>\n",
       "      <th>...</th>\n",
       "      <td>...</td>\n",
       "      <td>...</td>\n",
       "      <td>...</td>\n",
       "      <td>...</td>\n",
       "      <td>...</td>\n",
       "      <td>...</td>\n",
       "      <td>...</td>\n",
       "      <td>...</td>\n",
       "      <td>...</td>\n",
       "    </tr>\n",
       "    <tr>\n",
       "      <th>4202</th>\n",
       "      <td>50085</td>\n",
       "      <td>Russie</td>\n",
       "      <td>Economie totale</td>\n",
       "      <td>Produit intérieur brut</td>\n",
       "      <td>Non applicable</td>\n",
       "      <td>Changement en pourcentage</td>\n",
       "      <td>Taux de croissance, période sur période</td>\n",
       "      <td>2020-09-01</td>\n",
       "      <td>2.778079</td>\n",
       "    </tr>\n",
       "    <tr>\n",
       "      <th>4203</th>\n",
       "      <td>50086</td>\n",
       "      <td>Russie</td>\n",
       "      <td>Economie totale</td>\n",
       "      <td>Produit intérieur brut</td>\n",
       "      <td>Non applicable</td>\n",
       "      <td>Changement en pourcentage</td>\n",
       "      <td>Taux de croissance, période sur période</td>\n",
       "      <td>2020-12-01</td>\n",
       "      <td>0.739743</td>\n",
       "    </tr>\n",
       "    <tr>\n",
       "      <th>4204</th>\n",
       "      <td>50087</td>\n",
       "      <td>Russie</td>\n",
       "      <td>Economie totale</td>\n",
       "      <td>Produit intérieur brut</td>\n",
       "      <td>Non applicable</td>\n",
       "      <td>Changement en pourcentage</td>\n",
       "      <td>Taux de croissance, période sur période</td>\n",
       "      <td>2021-03-01</td>\n",
       "      <td>0.680789</td>\n",
       "    </tr>\n",
       "    <tr>\n",
       "      <th>4205</th>\n",
       "      <td>50088</td>\n",
       "      <td>Russie</td>\n",
       "      <td>Economie totale</td>\n",
       "      <td>Produit intérieur brut</td>\n",
       "      <td>Non applicable</td>\n",
       "      <td>Changement en pourcentage</td>\n",
       "      <td>Taux de croissance, période sur période</td>\n",
       "      <td>2021-06-01</td>\n",
       "      <td>3.190934</td>\n",
       "    </tr>\n",
       "    <tr>\n",
       "      <th>4206</th>\n",
       "      <td>50089</td>\n",
       "      <td>Russie</td>\n",
       "      <td>Economie totale</td>\n",
       "      <td>Produit intérieur brut</td>\n",
       "      <td>Non applicable</td>\n",
       "      <td>Changement en pourcentage</td>\n",
       "      <td>Taux de croissance, période sur période</td>\n",
       "      <td>2021-09-01</td>\n",
       "      <td>-0.794506</td>\n",
       "    </tr>\n",
       "  </tbody>\n",
       "</table>\n",
       "<p>9783 rows × 9 columns</p>\n",
       "</div>"
      ],
      "text/plain": [
       "      Unnamed: 0 Zone de référence Secteur institutionnel  \\\n",
       "0           2314             Chili        Economie totale   \n",
       "1           2315             Chili        Economie totale   \n",
       "2           2316             Chili        Economie totale   \n",
       "3           2317             Chili        Economie totale   \n",
       "4           2318             Chili        Economie totale   \n",
       "...          ...               ...                    ...   \n",
       "4202       50085            Russie        Economie totale   \n",
       "4203       50086            Russie        Economie totale   \n",
       "4204       50087            Russie        Economie totale   \n",
       "4205       50088            Russie        Economie totale   \n",
       "4206       50089            Russie        Economie totale   \n",
       "\n",
       "                 Transaction Activité économique            Unité de mesure  \\\n",
       "0     Produit intérieur brut      Non applicable  Changement en pourcentage   \n",
       "1     Produit intérieur brut      Non applicable  Changement en pourcentage   \n",
       "2     Produit intérieur brut      Non applicable  Changement en pourcentage   \n",
       "3     Produit intérieur brut      Non applicable  Changement en pourcentage   \n",
       "4     Produit intérieur brut      Non applicable  Changement en pourcentage   \n",
       "...                      ...                 ...                        ...   \n",
       "4202  Produit intérieur brut      Non applicable  Changement en pourcentage   \n",
       "4203  Produit intérieur brut      Non applicable  Changement en pourcentage   \n",
       "4204  Produit intérieur brut      Non applicable  Changement en pourcentage   \n",
       "4205  Produit intérieur brut      Non applicable  Changement en pourcentage   \n",
       "4206  Produit intérieur brut      Non applicable  Changement en pourcentage   \n",
       "\n",
       "                               Transformation TIME_PERIOD  OBS_VALUE  \n",
       "0     Taux de croissance, période sur période  1996-06-01   0.994937  \n",
       "1     Taux de croissance, période sur période  1996-09-01   0.996914  \n",
       "2     Taux de croissance, période sur période  1996-12-01   1.433251  \n",
       "3     Taux de croissance, période sur période  1997-03-01   2.267708  \n",
       "4     Taux de croissance, période sur période  1997-06-01   2.081234  \n",
       "...                                       ...         ...        ...  \n",
       "4202  Taux de croissance, période sur période  2020-09-01   2.778079  \n",
       "4203  Taux de croissance, période sur période  2020-12-01   0.739743  \n",
       "4204  Taux de croissance, période sur période  2021-03-01   0.680789  \n",
       "4205  Taux de croissance, période sur période  2021-06-01   3.190934  \n",
       "4206  Taux de croissance, période sur période  2021-09-01  -0.794506  \n",
       "\n",
       "[9783 rows x 9 columns]"
      ]
     },
     "execution_count": 145,
     "metadata": {},
     "output_type": "execute_result"
    }
   ],
   "source": [
    "gdps = [real_gdp, real_gdp20]\n",
    "gdp = pd.concat(gdps).drop_duplicates(keep=False)\n",
    "\n",
    "gdp"
   ]
  },
  {
   "cell_type": "code",
   "execution_count": 146,
   "metadata": {},
   "outputs": [
    {
     "data": {
      "text/html": [
       "<div>\n",
       "<style scoped>\n",
       "    .dataframe tbody tr th:only-of-type {\n",
       "        vertical-align: middle;\n",
       "    }\n",
       "\n",
       "    .dataframe tbody tr th {\n",
       "        vertical-align: top;\n",
       "    }\n",
       "\n",
       "    .dataframe thead th {\n",
       "        text-align: right;\n",
       "    }\n",
       "</style>\n",
       "<table border=\"1\" class=\"dataframe\">\n",
       "  <thead>\n",
       "    <tr style=\"text-align: right;\">\n",
       "      <th></th>\n",
       "      <th>Unnamed: 0</th>\n",
       "      <th>Zone de référence</th>\n",
       "      <th>Secteur institutionnel</th>\n",
       "      <th>Transaction</th>\n",
       "      <th>Activité économique</th>\n",
       "      <th>Unité de mesure</th>\n",
       "      <th>Transformation</th>\n",
       "      <th>TIME_PERIOD</th>\n",
       "      <th>OBS_VALUE</th>\n",
       "    </tr>\n",
       "  </thead>\n",
       "  <tbody>\n",
       "    <tr>\n",
       "      <th>365</th>\n",
       "      <td>8251</td>\n",
       "      <td>G7</td>\n",
       "      <td>Economie totale</td>\n",
       "      <td>Produit intérieur brut</td>\n",
       "      <td>Non applicable</td>\n",
       "      <td>Changement en pourcentage</td>\n",
       "      <td>Taux de croissance, période sur période</td>\n",
       "      <td>1962-06-01</td>\n",
       "      <td>1.038432</td>\n",
       "    </tr>\n",
       "    <tr>\n",
       "      <th>366</th>\n",
       "      <td>8252</td>\n",
       "      <td>G7</td>\n",
       "      <td>Economie totale</td>\n",
       "      <td>Produit intérieur brut</td>\n",
       "      <td>Non applicable</td>\n",
       "      <td>Changement en pourcentage</td>\n",
       "      <td>Taux de croissance, période sur période</td>\n",
       "      <td>1962-09-01</td>\n",
       "      <td>1.297690</td>\n",
       "    </tr>\n",
       "    <tr>\n",
       "      <th>367</th>\n",
       "      <td>8253</td>\n",
       "      <td>G7</td>\n",
       "      <td>Economie totale</td>\n",
       "      <td>Produit intérieur brut</td>\n",
       "      <td>Non applicable</td>\n",
       "      <td>Changement en pourcentage</td>\n",
       "      <td>Taux de croissance, période sur période</td>\n",
       "      <td>1962-12-01</td>\n",
       "      <td>0.589682</td>\n",
       "    </tr>\n",
       "    <tr>\n",
       "      <th>368</th>\n",
       "      <td>8254</td>\n",
       "      <td>G7</td>\n",
       "      <td>Economie totale</td>\n",
       "      <td>Produit intérieur brut</td>\n",
       "      <td>Non applicable</td>\n",
       "      <td>Changement en pourcentage</td>\n",
       "      <td>Taux de croissance, période sur période</td>\n",
       "      <td>1963-03-01</td>\n",
       "      <td>0.164864</td>\n",
       "    </tr>\n",
       "    <tr>\n",
       "      <th>369</th>\n",
       "      <td>8255</td>\n",
       "      <td>G7</td>\n",
       "      <td>Economie totale</td>\n",
       "      <td>Produit intérieur brut</td>\n",
       "      <td>Non applicable</td>\n",
       "      <td>Changement en pourcentage</td>\n",
       "      <td>Taux de croissance, période sur période</td>\n",
       "      <td>1963-06-01</td>\n",
       "      <td>2.446926</td>\n",
       "    </tr>\n",
       "    <tr>\n",
       "      <th>...</th>\n",
       "      <td>...</td>\n",
       "      <td>...</td>\n",
       "      <td>...</td>\n",
       "      <td>...</td>\n",
       "      <td>...</td>\n",
       "      <td>...</td>\n",
       "      <td>...</td>\n",
       "      <td>...</td>\n",
       "      <td>...</td>\n",
       "    </tr>\n",
       "    <tr>\n",
       "      <th>7601</th>\n",
       "      <td>116921</td>\n",
       "      <td>ALENA</td>\n",
       "      <td>Economie totale</td>\n",
       "      <td>Produit intérieur brut</td>\n",
       "      <td>Non applicable</td>\n",
       "      <td>Changement en pourcentage</td>\n",
       "      <td>Taux de croissance, période sur période</td>\n",
       "      <td>2022-12-01</td>\n",
       "      <td>0.606226</td>\n",
       "    </tr>\n",
       "    <tr>\n",
       "      <th>7602</th>\n",
       "      <td>116922</td>\n",
       "      <td>ALENA</td>\n",
       "      <td>Economie totale</td>\n",
       "      <td>Produit intérieur brut</td>\n",
       "      <td>Non applicable</td>\n",
       "      <td>Changement en pourcentage</td>\n",
       "      <td>Taux de croissance, période sur période</td>\n",
       "      <td>2023-03-01</td>\n",
       "      <td>0.561945</td>\n",
       "    </tr>\n",
       "    <tr>\n",
       "      <th>7603</th>\n",
       "      <td>116923</td>\n",
       "      <td>ALENA</td>\n",
       "      <td>Economie totale</td>\n",
       "      <td>Produit intérieur brut</td>\n",
       "      <td>Non applicable</td>\n",
       "      <td>Changement en pourcentage</td>\n",
       "      <td>Taux de croissance, période sur période</td>\n",
       "      <td>2023-06-01</td>\n",
       "      <td>0.513649</td>\n",
       "    </tr>\n",
       "    <tr>\n",
       "      <th>7604</th>\n",
       "      <td>116924</td>\n",
       "      <td>ALENA</td>\n",
       "      <td>Economie totale</td>\n",
       "      <td>Produit intérieur brut</td>\n",
       "      <td>Non applicable</td>\n",
       "      <td>Changement en pourcentage</td>\n",
       "      <td>Taux de croissance, période sur période</td>\n",
       "      <td>2023-09-01</td>\n",
       "      <td>1.079398</td>\n",
       "    </tr>\n",
       "    <tr>\n",
       "      <th>7605</th>\n",
       "      <td>116925</td>\n",
       "      <td>ALENA</td>\n",
       "      <td>Economie totale</td>\n",
       "      <td>Produit intérieur brut</td>\n",
       "      <td>Non applicable</td>\n",
       "      <td>Changement en pourcentage</td>\n",
       "      <td>Taux de croissance, période sur période</td>\n",
       "      <td>2023-12-01</td>\n",
       "      <td>0.681463</td>\n",
       "    </tr>\n",
       "  </tbody>\n",
       "</table>\n",
       "<p>1078 rows × 9 columns</p>\n",
       "</div>"
      ],
      "text/plain": [
       "      Unnamed: 0 Zone de référence Secteur institutionnel  \\\n",
       "365         8251                G7        Economie totale   \n",
       "366         8252                G7        Economie totale   \n",
       "367         8253                G7        Economie totale   \n",
       "368         8254                G7        Economie totale   \n",
       "369         8255                G7        Economie totale   \n",
       "...          ...               ...                    ...   \n",
       "7601      116921             ALENA        Economie totale   \n",
       "7602      116922             ALENA        Economie totale   \n",
       "7603      116923             ALENA        Economie totale   \n",
       "7604      116924             ALENA        Economie totale   \n",
       "7605      116925             ALENA        Economie totale   \n",
       "\n",
       "                 Transaction Activité économique            Unité de mesure  \\\n",
       "365   Produit intérieur brut      Non applicable  Changement en pourcentage   \n",
       "366   Produit intérieur brut      Non applicable  Changement en pourcentage   \n",
       "367   Produit intérieur brut      Non applicable  Changement en pourcentage   \n",
       "368   Produit intérieur brut      Non applicable  Changement en pourcentage   \n",
       "369   Produit intérieur brut      Non applicable  Changement en pourcentage   \n",
       "...                      ...                 ...                        ...   \n",
       "7601  Produit intérieur brut      Non applicable  Changement en pourcentage   \n",
       "7602  Produit intérieur brut      Non applicable  Changement en pourcentage   \n",
       "7603  Produit intérieur brut      Non applicable  Changement en pourcentage   \n",
       "7604  Produit intérieur brut      Non applicable  Changement en pourcentage   \n",
       "7605  Produit intérieur brut      Non applicable  Changement en pourcentage   \n",
       "\n",
       "                               Transformation TIME_PERIOD  OBS_VALUE  \n",
       "365   Taux de croissance, période sur période  1962-06-01   1.038432  \n",
       "366   Taux de croissance, période sur période  1962-09-01   1.297690  \n",
       "367   Taux de croissance, période sur période  1962-12-01   0.589682  \n",
       "368   Taux de croissance, période sur période  1963-03-01   0.164864  \n",
       "369   Taux de croissance, période sur période  1963-06-01   2.446926  \n",
       "...                                       ...         ...        ...  \n",
       "7601  Taux de croissance, période sur période  2022-12-01   0.606226  \n",
       "7602  Taux de croissance, période sur période  2023-03-01   0.561945  \n",
       "7603  Taux de croissance, période sur période  2023-06-01   0.513649  \n",
       "7604  Taux de croissance, période sur période  2023-09-01   1.079398  \n",
       "7605  Taux de croissance, période sur période  2023-12-01   0.681463  \n",
       "\n",
       "[1078 rows x 9 columns]"
      ]
     },
     "execution_count": 146,
     "metadata": {},
     "output_type": "execute_result"
    }
   ],
   "source": [
    "groups_gdp = gdp[(gdp[\"Zone de référence\"] == \"G7\")| (gdp[\"Zone de référence\"] == \"OCDE Europe\")| \n",
    "                      (gdp[\"Zone de référence\"] == \"Union européenne (27 pays à partir du 01/02/2020)\")|\n",
    "                      (gdp[\"Zone de référence\"] == \"Zone euro (20 pays)\") |\n",
    "                      (gdp[\"Zone de référence\"] == \"G20\") |\n",
    "                      (gdp[\"Zone de référence\"] == \"ALENA\")\n",
    "                      ]\n",
    "groups_gdp"
   ]
  },
  {
   "cell_type": "code",
   "execution_count": 147,
   "metadata": {},
   "outputs": [
    {
     "data": {
      "application/vnd.plotly.v1+json": {
       "config": {
        "plotlyServerURL": "https://plot.ly"
       },
       "data": [
        {
         "hovertemplate": "Zone de référence=G7<br>TIME_PERIOD=%{x}<br>OBS_VALUE=%{y}<extra></extra>",
         "legendgroup": "G7",
         "line": {
          "color": "#636efa",
          "dash": "solid"
         },
         "marker": {
          "symbol": "circle"
         },
         "mode": "lines",
         "name": "G7",
         "showlegend": true,
         "type": "scattergl",
         "x": [
          "1962-06-01",
          "1962-09-01",
          "1962-12-01",
          "1963-03-01",
          "1963-06-01",
          "1963-09-01",
          "1963-12-01",
          "1964-03-01",
          "1964-06-01",
          "1964-09-01",
          "1964-12-01",
          "1965-03-01",
          "1965-06-01",
          "1965-09-01",
          "1965-12-01",
          "1966-03-01",
          "1966-06-01",
          "1966-09-01",
          "1966-12-01",
          "1967-03-01",
          "1967-06-01",
          "1967-09-01",
          "1967-12-01",
          "1968-03-01",
          "1968-06-01",
          "1968-09-01",
          "1968-12-01",
          "1969-03-01",
          "1969-06-01",
          "1969-09-01",
          "1969-12-01",
          "1970-03-01",
          "1970-06-01",
          "1970-09-01",
          "1970-12-01",
          "1971-03-01",
          "1971-06-01",
          "1971-09-01",
          "1971-12-01",
          "1972-03-01",
          "1972-06-01",
          "1972-09-01",
          "1972-12-01",
          "1973-03-01",
          "1973-06-01",
          "1973-09-01",
          "1973-12-01",
          "1974-03-01",
          "1974-06-01",
          "1974-09-01",
          "1974-12-01",
          "1975-03-01",
          "1975-06-01",
          "1975-09-01",
          "1975-12-01",
          "1976-03-01",
          "1976-06-01",
          "1976-09-01",
          "1976-12-01",
          "1977-03-01",
          "1977-06-01",
          "1977-09-01",
          "1977-12-01",
          "1978-03-01",
          "1978-06-01",
          "1978-09-01",
          "1978-12-01",
          "1979-03-01",
          "1979-06-01",
          "1979-09-01",
          "1979-12-01",
          "1980-03-01",
          "1980-06-01",
          "1980-09-01",
          "1980-12-01",
          "1981-03-01",
          "1981-06-01",
          "1981-09-01",
          "1981-12-01",
          "1982-03-01",
          "1982-06-01",
          "1982-09-01",
          "1982-12-01",
          "1983-03-01",
          "1983-06-01",
          "1983-09-01",
          "1983-12-01",
          "1984-03-01",
          "1984-06-01",
          "1984-09-01",
          "1984-12-01",
          "1985-03-01",
          "1985-06-01",
          "1985-09-01",
          "1985-12-01",
          "1986-03-01",
          "1986-06-01",
          "1986-09-01",
          "1986-12-01",
          "1987-03-01",
          "1987-06-01",
          "1987-09-01",
          "1987-12-01",
          "1988-03-01",
          "1988-06-01",
          "1988-09-01",
          "1988-12-01",
          "1989-03-01",
          "1989-06-01",
          "1989-09-01",
          "1989-12-01",
          "1990-03-01",
          "1990-06-01",
          "1990-09-01",
          "1990-12-01",
          "1991-03-01",
          "1991-06-01",
          "1991-09-01",
          "1991-12-01",
          "1992-03-01",
          "1992-06-01",
          "1992-09-01",
          "1992-12-01",
          "1993-03-01",
          "1993-06-01",
          "1993-09-01",
          "1993-12-01",
          "1994-03-01",
          "1994-06-01",
          "1994-09-01",
          "1994-12-01",
          "1995-03-01",
          "1995-06-01",
          "1995-09-01",
          "1995-12-01",
          "1996-03-01",
          "1996-06-01",
          "1996-09-01",
          "1996-12-01",
          "1997-03-01",
          "1997-06-01",
          "1997-09-01",
          "1997-12-01",
          "1998-03-01",
          "1998-06-01",
          "1998-09-01",
          "1998-12-01",
          "1999-03-01",
          "1999-06-01",
          "1999-09-01",
          "1999-12-01",
          "2000-03-01",
          "2000-06-01",
          "2000-09-01",
          "2000-12-01",
          "2001-03-01",
          "2001-06-01",
          "2001-09-01",
          "2001-12-01",
          "2002-03-01",
          "2002-06-01",
          "2002-09-01",
          "2002-12-01",
          "2003-03-01",
          "2003-06-01",
          "2003-09-01",
          "2003-12-01",
          "2004-03-01",
          "2004-06-01",
          "2004-09-01",
          "2004-12-01",
          "2005-03-01",
          "2005-06-01",
          "2005-09-01",
          "2005-12-01",
          "2006-03-01",
          "2006-06-01",
          "2006-09-01",
          "2006-12-01",
          "2007-03-01",
          "2007-06-01",
          "2007-09-01",
          "2007-12-01",
          "2008-03-01",
          "2008-06-01",
          "2008-09-01",
          "2008-12-01",
          "2009-03-01",
          "2009-06-01",
          "2009-09-01",
          "2009-12-01",
          "2010-03-01",
          "2010-06-01",
          "2010-09-01",
          "2010-12-01",
          "2011-03-01",
          "2011-06-01",
          "2011-09-01",
          "2011-12-01",
          "2012-03-01",
          "2012-06-01",
          "2012-09-01",
          "2012-12-01",
          "2013-03-01",
          "2013-06-01",
          "2013-09-01",
          "2013-12-01",
          "2014-03-01",
          "2014-06-01",
          "2014-09-01",
          "2014-12-01",
          "2015-03-01",
          "2015-06-01",
          "2015-09-01",
          "2015-12-01",
          "2016-03-01",
          "2016-06-01",
          "2016-09-01",
          "2016-12-01",
          "2017-03-01",
          "2017-06-01",
          "2017-09-01",
          "2017-12-01",
          "2018-03-01",
          "2018-06-01",
          "2018-09-01",
          "2018-12-01",
          "2019-03-01",
          "2019-06-01",
          "2019-09-01",
          "2019-12-01",
          "2020-03-01",
          "2020-06-01",
          "2020-09-01",
          "2020-12-01",
          "2021-03-01",
          "2021-06-01",
          "2021-09-01",
          "2021-12-01",
          "2022-03-01",
          "2022-06-01",
          "2022-09-01",
          "2022-12-01",
          "2023-03-01",
          "2023-06-01",
          "2023-09-01",
          "2023-12-01"
         ],
         "xaxis": "x",
         "y": [
          1.038432,
          1.29769,
          0.589682,
          0.164864,
          2.446926,
          2.256301,
          1.170081,
          1.932728,
          1.112386,
          1.195817,
          0.661108,
          1.664283,
          1.326874,
          1.723325,
          1.717447,
          1.91738,
          0.987511,
          1.0141,
          0.502972,
          1.050338,
          0.760826,
          1.397564,
          1.043536,
          1.990228,
          0.940237,
          2.148507,
          1.436058,
          1.325796,
          1.090776,
          1.072557,
          0.492085,
          0.73611,
          1.095276,
          1.4239,
          -0.192236,
          0.969865,
          1.187051,
          1.268271,
          0.416065,
          1.486074,
          1.848948,
          1.237544,
          1.706173,
          2.513795,
          1.080366,
          0.108678,
          0.973296,
          -0.841855,
          0.481974,
          -0.081476,
          -0.853451,
          -0.780361,
          0.512649,
          1.252299,
          1.33471,
          1.693597,
          0.920344,
          0.820964,
          0.985931,
          1.115209,
          0.974655,
          0.927805,
          0.709492,
          0.834976,
          2.279651,
          0.985368,
          1.258271,
          0.527193,
          1.244932,
          0.52263,
          0.569694,
          0.333288,
          -1.215277,
          0.251757,
          1.156437,
          1.159083,
          -0.021808,
          0.614932,
          -0.264835,
          -0.347391,
          0.299081,
          -0.238545,
          0.318948,
          0.956189,
          1.353754,
          1.385989,
          1.543891,
          1.351144,
          0.885474,
          1.161245,
          0.688588,
          0.976867,
          1.195316,
          1.198248,
          0.779955,
          0.566573,
          0.512804,
          0.777292,
          0.643149,
          0.223003,
          1.485909,
          1.132704,
          1.716934,
          0.935367,
          0.943526,
          1.066854,
          1.147833,
          1.254855,
          0.340195,
          0.924512,
          0.933956,
          0.755484,
          0.869472,
          0.508923,
          -0.368755,
          0.281839,
          0.567078,
          0.21791,
          0.527459,
          0.797505,
          0.411196,
          0.441524,
          0.344255,
          0.191953,
          0.189477,
          0.244808,
          0.856713,
          0.973318,
          0.795101,
          0.796575,
          0.781161,
          0.486173,
          0.443894,
          0.758808,
          0.442107,
          0.506631,
          1.196205,
          0.605689,
          0.882365,
          0.495141,
          1.068714,
          0.876607,
          0.82995,
          0.480997,
          0.459639,
          0.780699,
          0.963474,
          0.554575,
          0.597126,
          1.184837,
          1.231292,
          0.897883,
          1.25135,
          0.248367,
          0.616245,
          0.332892,
          0.207091,
          -0.330854,
          0.067806,
          0.51431,
          0.579744,
          0.431939,
          0.190795,
          0.169413,
          0.576369,
          1.069543,
          0.940342,
          0.517814,
          0.586687,
          0.635035,
          0.593853,
          0.690459,
          0.581524,
          0.829752,
          0.509665,
          0.917529,
          0.474716,
          0.196028,
          0.967341,
          0.390253,
          0.553095,
          0.35898,
          0.482604,
          0.060562,
          0.048935,
          -0.678578,
          -2.102546,
          -2.29679,
          0.100254,
          0.291505,
          0.945198,
          0.63567,
          1.075554,
          0.878847,
          0.353977,
          0.097654,
          0.237202,
          0.509907,
          0.490536,
          0.621533,
          0.058558,
          0.106298,
          -0.060667,
          0.636684,
          0.512987,
          0.722108,
          0.581068,
          0.126545,
          0.48067,
          0.816337,
          0.454707,
          0.671478,
          0.47558,
          0.330974,
          0.203904,
          0.604875,
          0.193252,
          0.540842,
          0.476842,
          0.677303,
          0.617841,
          0.719176,
          0.833429,
          0.396157,
          0.482223,
          0.234306,
          0.221901,
          0.502781,
          0.598287,
          0.676613,
          -0.061383,
          -1.927592,
          -9.756707,
          9.372533,
          0.936354,
          0.615818,
          1.827535,
          1.045129,
          1.289418,
          -0.145863,
          0.222805,
          0.431539,
          0.326151,
          0.493822,
          0.423754,
          0.510767,
          0.387682
         ],
         "yaxis": "y"
        },
        {
         "hovertemplate": "Zone de référence=Zone euro (20 pays)<br>TIME_PERIOD=%{x}<br>OBS_VALUE=%{y}<extra></extra>",
         "legendgroup": "Zone euro (20 pays)",
         "line": {
          "color": "#EF553B",
          "dash": "solid"
         },
         "marker": {
          "symbol": "circle"
         },
         "mode": "lines",
         "name": "Zone euro (20 pays)",
         "showlegend": true,
         "type": "scattergl",
         "x": [
          "1995-06-01",
          "1995-09-01",
          "1995-12-01",
          "1996-03-01",
          "1996-06-01",
          "1996-09-01",
          "1996-12-01",
          "1997-03-01",
          "1997-06-01",
          "1997-09-01",
          "1997-12-01",
          "1998-03-01",
          "1998-06-01",
          "1998-09-01",
          "1998-12-01",
          "1999-03-01",
          "1999-06-01",
          "1999-09-01",
          "1999-12-01",
          "2000-03-01",
          "2000-06-01",
          "2000-09-01",
          "2000-12-01",
          "2001-03-01",
          "2001-06-01",
          "2001-09-01",
          "2001-12-01",
          "2002-03-01",
          "2002-06-01",
          "2002-09-01",
          "2002-12-01",
          "2003-03-01",
          "2003-06-01",
          "2003-09-01",
          "2003-12-01",
          "2004-03-01",
          "2004-06-01",
          "2004-09-01",
          "2004-12-01",
          "2005-03-01",
          "2005-06-01",
          "2005-09-01",
          "2005-12-01",
          "2006-03-01",
          "2006-06-01",
          "2006-09-01",
          "2006-12-01",
          "2007-03-01",
          "2007-06-01",
          "2007-09-01",
          "2007-12-01",
          "2008-03-01",
          "2008-06-01",
          "2008-09-01",
          "2008-12-01",
          "2009-03-01",
          "2009-06-01",
          "2009-09-01",
          "2009-12-01",
          "2010-03-01",
          "2010-06-01",
          "2010-09-01",
          "2010-12-01",
          "2011-03-01",
          "2011-06-01",
          "2011-09-01",
          "2011-12-01",
          "2012-03-01",
          "2012-06-01",
          "2012-09-01",
          "2012-12-01",
          "2013-03-01",
          "2013-06-01",
          "2013-09-01",
          "2013-12-01",
          "2014-03-01",
          "2014-06-01",
          "2014-09-01",
          "2014-12-01",
          "2015-03-01",
          "2015-06-01",
          "2015-09-01",
          "2015-12-01",
          "2016-03-01",
          "2016-06-01",
          "2016-09-01",
          "2016-12-01",
          "2017-03-01",
          "2017-06-01",
          "2017-09-01",
          "2017-12-01",
          "2018-03-01",
          "2018-06-01",
          "2018-09-01",
          "2018-12-01",
          "2019-03-01",
          "2019-06-01",
          "2019-09-01",
          "2019-12-01",
          "2020-03-01",
          "2020-06-01",
          "2020-09-01",
          "2020-12-01",
          "2021-03-01",
          "2021-06-01",
          "2021-09-01",
          "2021-12-01",
          "2022-03-01",
          "2022-06-01",
          "2022-09-01",
          "2022-12-01",
          "2023-03-01",
          "2023-06-01",
          "2023-09-01",
          "2023-12-01"
         ],
         "xaxis": "x",
         "y": [
          0.573617,
          0.339718,
          0.371138,
          0.135249,
          0.713959,
          0.476481,
          0.504727,
          0.252387,
          1.222515,
          0.814699,
          1.119921,
          0.650603,
          0.441277,
          0.571947,
          0.145706,
          1.005411,
          0.529725,
          1.206954,
          1.1225,
          1.225954,
          0.884142,
          0.609309,
          0.639886,
          0.968344,
          0.12593,
          0.151087,
          0.029471,
          0.15394,
          0.532931,
          0.424297,
          0.171963,
          -0.310517,
          0.096006,
          0.592838,
          0.685322,
          0.507093,
          0.612697,
          0.246872,
          0.371691,
          0.202516,
          0.630142,
          0.783051,
          0.61694,
          0.846885,
          1.126848,
          0.625534,
          1.151766,
          0.599037,
          0.725794,
          0.44116,
          0.520419,
          0.516467,
          -0.356994,
          -0.50125,
          -1.816149,
          -3.106094,
          -0.039916,
          0.384813,
          0.475735,
          0.383246,
          0.957887,
          0.448008,
          0.593092,
          0.853188,
          0.012351,
          0.135207,
          -0.410155,
          -0.247637,
          -0.231936,
          -0.109293,
          -0.455607,
          -0.350892,
          0.554227,
          0.297789,
          0.296587,
          0.394388,
          0.21416,
          0.46569,
          0.355653,
          0.638195,
          0.479156,
          0.386032,
          0.454636,
          0.585402,
          0.218276,
          0.478267,
          0.782789,
          0.698897,
          0.793813,
          0.749047,
          0.795024,
          0.001146,
          0.564149,
          -0.022985,
          0.68766,
          0.603246,
          0.352161,
          0.161715,
          0.052531,
          -3.425474,
          -11.293108,
          12.074721,
          -0.026404,
          0.422718,
          2.092267,
          2.082526,
          0.558751,
          0.613681,
          0.816404,
          0.467494,
          -0.006341,
          0.046241,
          0.132906,
          -0.06095,
          -0.04706
         ],
         "yaxis": "y"
        },
        {
         "hovertemplate": "Zone de référence=Union européenne (27 pays à partir du 01/02/2020)<br>TIME_PERIOD=%{x}<br>OBS_VALUE=%{y}<extra></extra>",
         "legendgroup": "Union européenne (27 pays à partir du 01/02/2020)",
         "line": {
          "color": "#00cc96",
          "dash": "solid"
         },
         "marker": {
          "symbol": "circle"
         },
         "mode": "lines",
         "name": "Union européenne (27 pays à partir du 01/02/2020)",
         "showlegend": true,
         "type": "scattergl",
         "x": [
          "1995-06-01",
          "1995-09-01",
          "1995-12-01",
          "1996-03-01",
          "1996-06-01",
          "1996-09-01",
          "1996-12-01",
          "1997-03-01",
          "1997-06-01",
          "1997-09-01",
          "1997-12-01",
          "1998-03-01",
          "1998-06-01",
          "1998-09-01",
          "1998-12-01",
          "1999-03-01",
          "1999-06-01",
          "1999-09-01",
          "1999-12-01",
          "2000-03-01",
          "2000-06-01",
          "2000-09-01",
          "2000-12-01",
          "2001-03-01",
          "2001-06-01",
          "2001-09-01",
          "2001-12-01",
          "2002-03-01",
          "2002-06-01",
          "2002-09-01",
          "2002-12-01",
          "2003-03-01",
          "2003-06-01",
          "2003-09-01",
          "2003-12-01",
          "2004-03-01",
          "2004-06-01",
          "2004-09-01",
          "2004-12-01",
          "2005-03-01",
          "2005-06-01",
          "2005-09-01",
          "2005-12-01",
          "2006-03-01",
          "2006-06-01",
          "2006-09-01",
          "2006-12-01",
          "2007-03-01",
          "2007-06-01",
          "2007-09-01",
          "2007-12-01",
          "2008-03-01",
          "2008-06-01",
          "2008-09-01",
          "2008-12-01",
          "2009-03-01",
          "2009-06-01",
          "2009-09-01",
          "2009-12-01",
          "2010-03-01",
          "2010-06-01",
          "2010-09-01",
          "2010-12-01",
          "2011-03-01",
          "2011-06-01",
          "2011-09-01",
          "2011-12-01",
          "2012-03-01",
          "2012-06-01",
          "2012-09-01",
          "2012-12-01",
          "2013-03-01",
          "2013-06-01",
          "2013-09-01",
          "2013-12-01",
          "2014-03-01",
          "2014-06-01",
          "2014-09-01",
          "2014-12-01",
          "2015-03-01",
          "2015-06-01",
          "2015-09-01",
          "2015-12-01",
          "2016-03-01",
          "2016-06-01",
          "2016-09-01",
          "2016-12-01",
          "2017-03-01",
          "2017-06-01",
          "2017-09-01",
          "2017-12-01",
          "2018-03-01",
          "2018-06-01",
          "2018-09-01",
          "2018-12-01",
          "2019-03-01",
          "2019-06-01",
          "2019-09-01",
          "2019-12-01",
          "2020-03-01",
          "2020-06-01",
          "2020-09-01",
          "2020-12-01",
          "2021-03-01",
          "2021-06-01",
          "2021-09-01",
          "2021-12-01",
          "2022-03-01",
          "2022-06-01",
          "2022-09-01",
          "2022-12-01",
          "2023-03-01",
          "2023-06-01",
          "2023-09-01",
          "2023-12-01"
         ],
         "xaxis": "x",
         "y": [
          0.595424,
          0.379413,
          0.413957,
          0.241904,
          0.72256,
          0.439699,
          0.419744,
          0.393494,
          1.202338,
          0.771194,
          1.115647,
          0.649684,
          0.46281,
          0.628035,
          0.195443,
          0.948663,
          0.565263,
          1.183662,
          1.138977,
          1.186461,
          0.985452,
          0.582997,
          0.650194,
          0.871392,
          0.126074,
          0.211345,
          0.079564,
          0.171726,
          0.571274,
          0.442075,
          0.190162,
          -0.208193,
          0.129532,
          0.646637,
          0.716575,
          0.627449,
          0.637786,
          0.30967,
          0.446152,
          0.230689,
          0.675902,
          0.818877,
          0.676637,
          0.93319,
          1.226338,
          0.662409,
          1.029505,
          0.739209,
          0.704057,
          0.517492,
          0.618179,
          0.540397,
          -0.266302,
          -0.449866,
          -1.814956,
          -2.941763,
          -0.062431,
          0.411693,
          0.482642,
          0.360743,
          1.010344,
          0.478804,
          0.637914,
          0.867516,
          0.113988,
          0.19326,
          -0.403499,
          -0.145448,
          -0.22621,
          -0.128998,
          -0.443077,
          -0.252816,
          0.543878,
          0.355233,
          0.344911,
          0.435565,
          0.280225,
          0.548368,
          0.405717,
          0.735063,
          0.514838,
          0.468409,
          0.482836,
          0.543307,
          0.283169,
          0.493475,
          0.834486,
          0.75852,
          0.885983,
          0.761796,
          0.796796,
          0.142591,
          0.636751,
          0.071269,
          0.715788,
          0.619031,
          0.433005,
          0.229115,
          0.114947,
          -3.064339,
          -10.913276,
          11.32189,
          0.141215,
          0.545201,
          2.086173,
          2.039339,
          0.717507,
          0.650181,
          0.728157,
          0.441939,
          -0.087272,
          0.112089,
          0.103553,
          0.013158,
          0.00278
         ],
         "yaxis": "y"
        },
        {
         "hovertemplate": "Zone de référence=G20<br>TIME_PERIOD=%{x}<br>OBS_VALUE=%{y}<extra></extra>",
         "legendgroup": "G20",
         "line": {
          "color": "#ab63fa",
          "dash": "solid"
         },
         "marker": {
          "symbol": "circle"
         },
         "mode": "lines",
         "name": "G20",
         "showlegend": true,
         "type": "scattergl",
         "x": [
          "1998-06-01",
          "1998-09-01",
          "1998-12-01",
          "1999-03-01",
          "1999-06-01",
          "1999-09-01",
          "1999-12-01",
          "2000-03-01",
          "2000-06-01",
          "2000-09-01",
          "2000-12-01",
          "2001-03-01",
          "2001-06-01",
          "2001-09-01",
          "2001-12-01",
          "2002-03-01",
          "2002-06-01",
          "2002-09-01",
          "2002-12-01",
          "2003-03-01",
          "2003-06-01",
          "2003-09-01",
          "2003-12-01",
          "2004-03-01",
          "2004-06-01",
          "2004-09-01",
          "2004-12-01",
          "2005-03-01",
          "2005-06-01",
          "2005-09-01",
          "2005-12-01",
          "2006-03-01",
          "2006-06-01",
          "2006-09-01",
          "2006-12-01",
          "2007-03-01",
          "2007-06-01",
          "2007-09-01",
          "2007-12-01",
          "2008-03-01",
          "2008-06-01",
          "2008-09-01",
          "2008-12-01",
          "2009-03-01",
          "2009-06-01",
          "2009-09-01",
          "2009-12-01",
          "2010-03-01",
          "2010-06-01",
          "2010-09-01",
          "2010-12-01",
          "2011-03-01",
          "2011-06-01",
          "2011-09-01",
          "2011-12-01",
          "2012-03-01",
          "2012-06-01",
          "2012-09-01",
          "2012-12-01",
          "2013-03-01",
          "2013-06-01",
          "2013-09-01",
          "2013-12-01",
          "2014-03-01",
          "2014-06-01",
          "2014-09-01",
          "2014-12-01",
          "2015-03-01",
          "2015-06-01",
          "2015-09-01",
          "2015-12-01",
          "2016-03-01",
          "2016-06-01",
          "2016-09-01",
          "2016-12-01",
          "2017-03-01",
          "2017-06-01",
          "2017-09-01",
          "2017-12-01",
          "2018-03-01",
          "2018-06-01",
          "2018-09-01",
          "2018-12-01",
          "2019-03-01",
          "2019-06-01",
          "2019-09-01",
          "2019-12-01",
          "2020-03-01",
          "2020-06-01",
          "2020-09-01",
          "2020-12-01",
          "2021-03-01",
          "2021-06-01",
          "2021-09-01",
          "2021-12-01",
          "2022-03-01",
          "2022-06-01",
          "2022-09-01",
          "2022-12-01",
          "2023-03-01",
          "2023-06-01",
          "2023-09-01",
          "2023-12-01"
         ],
         "xaxis": "x",
         "y": [
          0.38145,
          0.66119,
          0.81114,
          0.96711,
          0.92265,
          1.1787,
          1.37882,
          1.28951,
          1.24269,
          0.79112,
          0.74929,
          0.45853,
          0.45179,
          0.1911,
          0.38262,
          0.7932,
          0.97697,
          0.8281,
          0.58239,
          0.65754,
          0.77735,
          1.37114,
          1.394,
          0.95483,
          1.14719,
          1.04195,
          1.01112,
          1.15408,
          1.12144,
          1.16786,
          1.25127,
          1.4302,
          1.10626,
          1.08468,
          1.411,
          1.39069,
          1.30758,
          1.00506,
          1.4062,
          0.76429,
          0.55903,
          -0.17046,
          -1.31633,
          -1.57305,
          1.01453,
          1.20922,
          1.41392,
          1.23144,
          1.45064,
          1.27119,
          1.11796,
          0.89295,
          0.86283,
          0.84115,
          0.85784,
          0.69514,
          0.63207,
          0.72977,
          0.49493,
          0.91616,
          0.95832,
          1.06516,
          0.88048,
          0.69172,
          0.81751,
          0.98216,
          0.81882,
          0.9678,
          0.81607,
          0.79611,
          0.64872,
          0.86174,
          0.73322,
          0.78261,
          1.06265,
          0.88097,
          1.04247,
          1.03019,
          1.04561,
          0.9798,
          0.75853,
          0.67388,
          0.59301,
          0.78256,
          0.99008,
          0.56428,
          0.30984,
          -3.25518,
          -6.04461,
          7.9084,
          1.79454,
          0.8418,
          1.62799,
          0.90679,
          1.42878,
          0.39624,
          -0.0394,
          1.47452,
          0.48463,
          0.9803,
          0.68388,
          0.80916,
          0.7
         ],
         "yaxis": "y"
        },
        {
         "hovertemplate": "Zone de référence=OCDE Europe<br>TIME_PERIOD=%{x}<br>OBS_VALUE=%{y}<extra></extra>",
         "legendgroup": "OCDE Europe",
         "line": {
          "color": "#FFA15A",
          "dash": "solid"
         },
         "marker": {
          "symbol": "circle"
         },
         "mode": "lines",
         "name": "OCDE Europe",
         "showlegend": true,
         "type": "scattergl",
         "x": [
          "1961-06-01",
          "1961-09-01",
          "1961-12-01",
          "1962-03-01",
          "1962-06-01",
          "1962-09-01",
          "1962-12-01",
          "1963-03-01",
          "1963-06-01",
          "1963-09-01",
          "1963-12-01",
          "1964-03-01",
          "1964-06-01",
          "1964-09-01",
          "1964-12-01",
          "1965-03-01",
          "1965-06-01",
          "1965-09-01",
          "1965-12-01",
          "1966-03-01",
          "1966-06-01",
          "1966-09-01",
          "1966-12-01",
          "1967-03-01",
          "1967-06-01",
          "1967-09-01",
          "1967-12-01",
          "1968-03-01",
          "1968-06-01",
          "1968-09-01",
          "1968-12-01",
          "1969-03-01",
          "1969-06-01",
          "1969-09-01",
          "1969-12-01",
          "1970-03-01",
          "1970-06-01",
          "1970-09-01",
          "1970-12-01",
          "1971-03-01",
          "1971-06-01",
          "1971-09-01",
          "1971-12-01",
          "1972-03-01",
          "1972-06-01",
          "1972-09-01",
          "1972-12-01",
          "1973-03-01",
          "1973-06-01",
          "1973-09-01",
          "1973-12-01",
          "1974-03-01",
          "1974-06-01",
          "1974-09-01",
          "1974-12-01",
          "1975-03-01",
          "1975-06-01",
          "1975-09-01",
          "1975-12-01",
          "1976-03-01",
          "1976-06-01",
          "1976-09-01",
          "1976-12-01",
          "1977-03-01",
          "1977-06-01",
          "1977-09-01",
          "1977-12-01",
          "1978-03-01",
          "1978-06-01",
          "1978-09-01",
          "1978-12-01",
          "1979-03-01",
          "1979-06-01",
          "1979-09-01",
          "1979-12-01",
          "1980-03-01",
          "1980-06-01",
          "1980-09-01",
          "1980-12-01",
          "1981-03-01",
          "1981-06-01",
          "1981-09-01",
          "1981-12-01",
          "1982-03-01",
          "1982-06-01",
          "1982-09-01",
          "1982-12-01",
          "1983-03-01",
          "1983-06-01",
          "1983-09-01",
          "1983-12-01",
          "1984-03-01",
          "1984-06-01",
          "1984-09-01",
          "1984-12-01",
          "1985-03-01",
          "1985-06-01",
          "1985-09-01",
          "1985-12-01",
          "1986-03-01",
          "1986-06-01",
          "1986-09-01",
          "1986-12-01",
          "1987-03-01",
          "1987-06-01",
          "1987-09-01",
          "1987-12-01",
          "1988-03-01",
          "1988-06-01",
          "1988-09-01",
          "1988-12-01",
          "1989-03-01",
          "1989-06-01",
          "1989-09-01",
          "1989-12-01",
          "1990-03-01",
          "1990-06-01",
          "1990-09-01",
          "1990-12-01",
          "1991-03-01",
          "1991-06-01",
          "1991-09-01",
          "1991-12-01",
          "1992-03-01",
          "1992-06-01",
          "1992-09-01",
          "1992-12-01",
          "1993-03-01",
          "1993-06-01",
          "1993-09-01",
          "1993-12-01",
          "1994-03-01",
          "1994-06-01",
          "1994-09-01",
          "1994-12-01",
          "1995-03-01",
          "1995-06-01",
          "1995-09-01",
          "1995-12-01",
          "1996-03-01",
          "1996-06-01",
          "1996-09-01",
          "1996-12-01",
          "1997-03-01",
          "1997-06-01",
          "1997-09-01",
          "1997-12-01",
          "1998-03-01",
          "1998-06-01",
          "1998-09-01",
          "1998-12-01",
          "1999-03-01",
          "1999-06-01",
          "1999-09-01",
          "1999-12-01",
          "2000-03-01",
          "2000-06-01",
          "2000-09-01",
          "2000-12-01",
          "2001-03-01",
          "2001-06-01",
          "2001-09-01",
          "2001-12-01",
          "2002-03-01",
          "2002-06-01",
          "2002-09-01",
          "2002-12-01",
          "2003-03-01",
          "2003-06-01",
          "2003-09-01",
          "2003-12-01",
          "2004-03-01",
          "2004-06-01",
          "2004-09-01",
          "2004-12-01",
          "2005-03-01",
          "2005-06-01",
          "2005-09-01",
          "2005-12-01",
          "2006-03-01",
          "2006-06-01",
          "2006-09-01",
          "2006-12-01",
          "2007-03-01",
          "2007-06-01",
          "2007-09-01",
          "2007-12-01",
          "2008-03-01",
          "2008-06-01",
          "2008-09-01",
          "2008-12-01",
          "2009-03-01",
          "2009-06-01",
          "2009-09-01",
          "2009-12-01",
          "2010-03-01",
          "2010-06-01",
          "2010-09-01",
          "2010-12-01",
          "2011-03-01",
          "2011-06-01",
          "2011-09-01",
          "2011-12-01",
          "2012-03-01",
          "2012-06-01",
          "2012-09-01",
          "2012-12-01",
          "2013-03-01",
          "2013-06-01",
          "2013-09-01",
          "2013-12-01",
          "2014-03-01",
          "2014-06-01",
          "2014-09-01",
          "2014-12-01",
          "2015-03-01",
          "2015-06-01",
          "2015-09-01",
          "2015-12-01",
          "2016-03-01",
          "2016-06-01",
          "2016-09-01",
          "2016-12-01",
          "2017-03-01",
          "2017-06-01",
          "2017-09-01",
          "2017-12-01",
          "2018-03-01",
          "2018-06-01",
          "2018-09-01",
          "2018-12-01",
          "2019-03-01",
          "2019-06-01",
          "2019-09-01",
          "2019-12-01",
          "2020-03-01",
          "2020-06-01",
          "2020-09-01",
          "2020-12-01",
          "2021-03-01",
          "2021-06-01",
          "2021-09-01",
          "2021-12-01",
          "2022-03-01",
          "2022-06-01",
          "2022-09-01",
          "2022-12-01",
          "2023-03-01",
          "2023-06-01",
          "2023-09-01",
          "2023-12-01"
         ],
         "xaxis": "x",
         "y": [
          0.854774,
          1.322613,
          1.051988,
          1.325226,
          1.180899,
          1.549067,
          0.542073,
          -0.657032,
          3.624867,
          2.159917,
          1.19612,
          1.29686,
          1.100798,
          0.809847,
          1.009884,
          1.084757,
          1.09868,
          1.026448,
          1.20835,
          0.81272,
          1.407035,
          0.915189,
          0.102589,
          0.954344,
          0.866891,
          1.202161,
          1.086014,
          1.796802,
          -0.055236,
          3.061992,
          1.599776,
          1.22724,
          1.46981,
          1.478936,
          0.682395,
          1.019222,
          2.023354,
          1.481745,
          0.876964,
          -0.376555,
          1.574567,
          1.59588,
          0.506071,
          1.078237,
          1.276252,
          1.386135,
          1.532193,
          1.91485,
          1.076279,
          0.856469,
          1.11347,
          0.325182,
          0.552639,
          0.235664,
          -1.014594,
          -0.390891,
          -0.342219,
          0.623633,
          1.606471,
          1.31101,
          1.233215,
          1.029471,
          1.450387,
          0.436316,
          0.068481,
          0.244475,
          1.104202,
          0.817262,
          0.9209,
          0.541664,
          1.134788,
          0.3135,
          1.97348,
          0.099516,
          0.972114,
          0.629299,
          -0.77857,
          -0.130725,
          0.218686,
          0.201422,
          0.232818,
          0.452325,
          0.30737,
          0.388956,
          0.000621,
          -0.089439,
          0.312905,
          0.729718,
          0.536233,
          0.686634,
          1.153636,
          0.781692,
          -0.366011,
          1.403157,
          0.648125,
          0.34782,
          1.066225,
          0.819532,
          0.728392,
          0.30069,
          1.079635,
          0.668155,
          0.786202,
          -0.269673,
          1.780764,
          1.065178,
          1.744043,
          0.39977,
          0.748402,
          1.118997,
          0.901622,
          0.919145,
          0.617124,
          0.887581,
          1.041043,
          1.177756,
          0.623951,
          0.073311,
          1.139562,
          0.227196,
          0.270559,
          0.307852,
          0.597782,
          1.013634,
          -0.542436,
          0.144262,
          -0.149761,
          -0.236722,
          0.499454,
          0.492757,
          0.438112,
          0.684881,
          -0.087663,
          1.07629,
          1.089461,
          0.556139,
          0.604263,
          0.618169,
          0.367139,
          0.444689,
          0.636774,
          0.572614,
          0.66214,
          0.736668,
          1.29707,
          0.780739,
          1.256834,
          0.787932,
          0.421842,
          0.374572,
          0.243251,
          0.787591,
          0.528783,
          1.103292,
          1.328459,
          1.200938,
          1.025625,
          0.703192,
          0.756668,
          0.515113,
          -0.064968,
          0.309304,
          0.053409,
          0.352441,
          0.758617,
          0.50496,
          0.389362,
          -0.005278,
          0.272666,
          0.809238,
          0.852609,
          0.759973,
          0.70612,
          0.337016,
          0.51779,
          0.610932,
          0.70276,
          0.88999,
          0.884246,
          0.899535,
          1.217707,
          0.552784,
          1.036682,
          0.841792,
          0.713291,
          0.587338,
          0.789467,
          0.58545,
          -0.466656,
          -0.651537,
          -1.874833,
          -2.908302,
          0.161732,
          0.491592,
          0.559728,
          0.37918,
          1.148259,
          0.632854,
          0.751467,
          0.842773,
          0.308162,
          0.39183,
          -0.131411,
          -0.075959,
          -0.054222,
          0.181813,
          -0.203235,
          0.084582,
          0.764273,
          0.529339,
          0.374318,
          0.703858,
          0.23889,
          0.732369,
          0.550774,
          0.767994,
          0.624727,
          0.570061,
          0.560758,
          0.446561,
          0.474313,
          0.164305,
          1.24083,
          0.796407,
          0.965365,
          0.820681,
          0.895104,
          0.286449,
          0.580247,
          0.018358,
          0.238492,
          0.720049,
          0.576657,
          0.328556,
          0.234283,
          -2.689113,
          -11.980586,
          12.248668,
          0.355312,
          0.476679,
          2.699545,
          2.200259,
          0.921538,
          0.595226,
          0.713736,
          0.396764,
          -0.007305,
          0.148309,
          0.414566,
          0.039362,
          0.112005
         ],
         "yaxis": "y"
        },
        {
         "hovertemplate": "Zone de référence=ALENA<br>TIME_PERIOD=%{x}<br>OBS_VALUE=%{y}<extra></extra>",
         "legendgroup": "ALENA",
         "line": {
          "color": "#19d3f3",
          "dash": "solid"
         },
         "marker": {
          "symbol": "circle"
         },
         "mode": "lines",
         "name": "ALENA",
         "showlegend": true,
         "type": "scattergl",
         "x": [
          "1962-06-01",
          "1962-09-01",
          "1962-12-01",
          "1963-03-01",
          "1963-06-01",
          "1963-09-01",
          "1963-12-01",
          "1964-03-01",
          "1964-06-01",
          "1964-09-01",
          "1964-12-01",
          "1965-03-01",
          "1965-06-01",
          "1965-09-01",
          "1965-12-01",
          "1966-03-01",
          "1966-06-01",
          "1966-09-01",
          "1966-12-01",
          "1967-03-01",
          "1967-06-01",
          "1967-09-01",
          "1967-12-01",
          "1968-03-01",
          "1968-06-01",
          "1968-09-01",
          "1968-12-01",
          "1969-03-01",
          "1969-06-01",
          "1969-09-01",
          "1969-12-01",
          "1970-03-01",
          "1970-06-01",
          "1970-09-01",
          "1970-12-01",
          "1971-03-01",
          "1971-06-01",
          "1971-09-01",
          "1971-12-01",
          "1972-03-01",
          "1972-06-01",
          "1972-09-01",
          "1972-12-01",
          "1973-03-01",
          "1973-06-01",
          "1973-09-01",
          "1973-12-01",
          "1974-03-01",
          "1974-06-01",
          "1974-09-01",
          "1974-12-01",
          "1975-03-01",
          "1975-06-01",
          "1975-09-01",
          "1975-12-01",
          "1976-03-01",
          "1976-06-01",
          "1976-09-01",
          "1976-12-01",
          "1977-03-01",
          "1977-06-01",
          "1977-09-01",
          "1977-12-01",
          "1978-03-01",
          "1978-06-01",
          "1978-09-01",
          "1978-12-01",
          "1979-03-01",
          "1979-06-01",
          "1979-09-01",
          "1979-12-01",
          "1980-03-01",
          "1980-06-01",
          "1980-09-01",
          "1980-12-01",
          "1981-03-01",
          "1981-06-01",
          "1981-09-01",
          "1981-12-01",
          "1982-03-01",
          "1982-06-01",
          "1982-09-01",
          "1982-12-01",
          "1983-03-01",
          "1983-06-01",
          "1983-09-01",
          "1983-12-01",
          "1984-03-01",
          "1984-06-01",
          "1984-09-01",
          "1984-12-01",
          "1985-03-01",
          "1985-06-01",
          "1985-09-01",
          "1985-12-01",
          "1986-03-01",
          "1986-06-01",
          "1986-09-01",
          "1986-12-01",
          "1987-03-01",
          "1987-06-01",
          "1987-09-01",
          "1987-12-01",
          "1988-03-01",
          "1988-06-01",
          "1988-09-01",
          "1988-12-01",
          "1989-03-01",
          "1989-06-01",
          "1989-09-01",
          "1989-12-01",
          "1990-03-01",
          "1990-06-01",
          "1990-09-01",
          "1990-12-01",
          "1991-03-01",
          "1991-06-01",
          "1991-09-01",
          "1991-12-01",
          "1992-03-01",
          "1992-06-01",
          "1992-09-01",
          "1992-12-01",
          "1993-03-01",
          "1993-06-01",
          "1993-09-01",
          "1993-12-01",
          "1994-03-01",
          "1994-06-01",
          "1994-09-01",
          "1994-12-01",
          "1995-03-01",
          "1995-06-01",
          "1995-09-01",
          "1995-12-01",
          "1996-03-01",
          "1996-06-01",
          "1996-09-01",
          "1996-12-01",
          "1997-03-01",
          "1997-06-01",
          "1997-09-01",
          "1997-12-01",
          "1998-03-01",
          "1998-06-01",
          "1998-09-01",
          "1998-12-01",
          "1999-03-01",
          "1999-06-01",
          "1999-09-01",
          "1999-12-01",
          "2000-03-01",
          "2000-06-01",
          "2000-09-01",
          "2000-12-01",
          "2001-03-01",
          "2001-06-01",
          "2001-09-01",
          "2001-12-01",
          "2002-03-01",
          "2002-06-01",
          "2002-09-01",
          "2002-12-01",
          "2003-03-01",
          "2003-06-01",
          "2003-09-01",
          "2003-12-01",
          "2004-03-01",
          "2004-06-01",
          "2004-09-01",
          "2004-12-01",
          "2005-03-01",
          "2005-06-01",
          "2005-09-01",
          "2005-12-01",
          "2006-03-01",
          "2006-06-01",
          "2006-09-01",
          "2006-12-01",
          "2007-03-01",
          "2007-06-01",
          "2007-09-01",
          "2007-12-01",
          "2008-03-01",
          "2008-06-01",
          "2008-09-01",
          "2008-12-01",
          "2009-03-01",
          "2009-06-01",
          "2009-09-01",
          "2009-12-01",
          "2010-03-01",
          "2010-06-01",
          "2010-09-01",
          "2010-12-01",
          "2011-03-01",
          "2011-06-01",
          "2011-09-01",
          "2011-12-01",
          "2012-03-01",
          "2012-06-01",
          "2012-09-01",
          "2012-12-01",
          "2013-03-01",
          "2013-06-01",
          "2013-09-01",
          "2013-12-01",
          "2014-03-01",
          "2014-06-01",
          "2014-09-01",
          "2014-12-01",
          "2015-03-01",
          "2015-06-01",
          "2015-09-01",
          "2015-12-01",
          "2016-03-01",
          "2016-06-01",
          "2016-09-01",
          "2016-12-01",
          "2017-03-01",
          "2017-06-01",
          "2017-09-01",
          "2017-12-01",
          "2018-03-01",
          "2018-06-01",
          "2018-09-01",
          "2018-12-01",
          "2019-03-01",
          "2019-06-01",
          "2019-09-01",
          "2019-12-01",
          "2020-03-01",
          "2020-06-01",
          "2020-09-01",
          "2020-12-01",
          "2021-03-01",
          "2021-06-01",
          "2021-09-01",
          "2021-12-01",
          "2022-03-01",
          "2022-06-01",
          "2022-09-01",
          "2022-12-01",
          "2023-03-01",
          "2023-06-01",
          "2023-09-01",
          "2023-12-01"
         ],
         "xaxis": "x",
         "y": [
          0.904817,
          1.245528,
          0.553547,
          1.105835,
          1.189162,
          2.103588,
          1.008834,
          2.196801,
          1.164578,
          1.567111,
          0.409262,
          2.396206,
          1.24498,
          2.103777,
          2.259662,
          2.329819,
          0.56455,
          0.82599,
          0.894997,
          0.838811,
          0.309344,
          0.953511,
          0.825891,
          1.940436,
          1.7618,
          0.885394,
          0.540045,
          1.52599,
          0.387635,
          0.766825,
          -0.150834,
          0.074299,
          0.270229,
          0.958099,
          -0.823586,
          2.285477,
          0.732707,
          1.030791,
          0.484953,
          1.703185,
          2.30724,
          1.004573,
          1.771949,
          2.449352,
          1.165162,
          -0.241244,
          1.065131,
          -0.515577,
          0.409163,
          -0.64075,
          -0.218671,
          -0.900939,
          0.829704,
          1.680724,
          1.304466,
          2.086756,
          0.880601,
          0.567943,
          0.663174,
          1.154319,
          1.686949,
          1.66409,
          0.351102,
          0.551834,
          3.425111,
          1.124816,
          1.416233,
          0.445081,
          0.424951,
          0.884358,
          0.464465,
          0.614907,
          -1.594409,
          0.145796,
          1.946789,
          2.007495,
          -0.197913,
          0.943895,
          -0.689327,
          -1.566173,
          0.288586,
          -0.464281,
          -0.313146,
          1.095181,
          1.742674,
          1.795789,
          1.913708,
          2.028554,
          1.383908,
          1.081605,
          0.689754,
          1.107681,
          0.729929,
          1.408616,
          0.695142,
          0.547609,
          0.373758,
          0.593967,
          0.355122,
          0.851048,
          1.259868,
          0.842347,
          1.631947,
          0.471149,
          1.117099,
          0.494959,
          1.345615,
          1.112373,
          0.661127,
          0.822425,
          0.057702,
          1.189347,
          0.482783,
          0.137025,
          -0.685874,
          -0.462708,
          0.83623,
          0.443279,
          0.490095,
          0.983123,
          1.07022,
          0.948917,
          0.907098,
          0.209131,
          0.549597,
          0.58341,
          1.21459,
          1.011895,
          1.451399,
          0.634419,
          1.107346,
          -0.080683,
          -0.302318,
          0.907468,
          0.799428,
          0.844657,
          1.543732,
          0.944022,
          1.212667,
          0.670914,
          1.685426,
          1.324101,
          1.044748,
          1.082809,
          0.843516,
          1.161452,
          1.454695,
          0.995325,
          0.826027,
          1.309021,
          1.562906,
          0.609391,
          1.720633,
          0.263512,
          0.404502,
          -0.174531,
          0.474856,
          -0.357576,
          0.192586,
          0.750743,
          0.648129,
          0.492483,
          0.163284,
          0.474563,
          0.744233,
          1.420246,
          1.103728,
          0.644726,
          0.856743,
          0.872238,
          1.002507,
          0.975319,
          0.461885,
          0.8395,
          0.703456,
          1.360718,
          0.300787,
          0.168535,
          0.778288,
          0.361608,
          0.645085,
          0.540502,
          0.554118,
          -0.344938,
          0.582293,
          -0.363183,
          -2.056327,
          -1.71149,
          -0.379181,
          0.656232,
          1.188469,
          0.537267,
          0.95676,
          0.776704,
          0.597762,
          -0.072602,
          0.615461,
          0.262714,
          1.057156,
          0.795717,
          0.462386,
          0.146882,
          0.192615,
          0.887551,
          0.215945,
          0.825626,
          0.845296,
          -0.203499,
          1.266706,
          1.083404,
          0.555328,
          0.744657,
          0.584527,
          0.47768,
          0.122402,
          0.519792,
          0.261022,
          0.757003,
          0.608327,
          0.562484,
          0.544231,
          0.585286,
          1.09719,
          0.900648,
          0.444451,
          0.605657,
          0.116554,
          0.479115,
          0.745337,
          0.939672,
          0.468216,
          -1.387812,
          -9.232734,
          8.53995,
          1.40569,
          1.21488,
          1.299336,
          0.769924,
          1.639096,
          -0.193545,
          0.034394,
          0.681859,
          0.606226,
          0.561945,
          0.513649,
          1.079398,
          0.681463
         ],
         "yaxis": "y"
        }
       ],
       "layout": {
        "legend": {
         "title": {
          "text": "Zone de référence"
         },
         "tracegroupgap": 0
        },
        "margin": {
         "t": 60
        },
        "template": {
         "data": {
          "bar": [
           {
            "error_x": {
             "color": "#2a3f5f"
            },
            "error_y": {
             "color": "#2a3f5f"
            },
            "marker": {
             "line": {
              "color": "#E5ECF6",
              "width": 0.5
             },
             "pattern": {
              "fillmode": "overlay",
              "size": 10,
              "solidity": 0.2
             }
            },
            "type": "bar"
           }
          ],
          "barpolar": [
           {
            "marker": {
             "line": {
              "color": "#E5ECF6",
              "width": 0.5
             },
             "pattern": {
              "fillmode": "overlay",
              "size": 10,
              "solidity": 0.2
             }
            },
            "type": "barpolar"
           }
          ],
          "carpet": [
           {
            "aaxis": {
             "endlinecolor": "#2a3f5f",
             "gridcolor": "white",
             "linecolor": "white",
             "minorgridcolor": "white",
             "startlinecolor": "#2a3f5f"
            },
            "baxis": {
             "endlinecolor": "#2a3f5f",
             "gridcolor": "white",
             "linecolor": "white",
             "minorgridcolor": "white",
             "startlinecolor": "#2a3f5f"
            },
            "type": "carpet"
           }
          ],
          "choropleth": [
           {
            "colorbar": {
             "outlinewidth": 0,
             "ticks": ""
            },
            "type": "choropleth"
           }
          ],
          "contour": [
           {
            "colorbar": {
             "outlinewidth": 0,
             "ticks": ""
            },
            "colorscale": [
             [
              0,
              "#0d0887"
             ],
             [
              0.1111111111111111,
              "#46039f"
             ],
             [
              0.2222222222222222,
              "#7201a8"
             ],
             [
              0.3333333333333333,
              "#9c179e"
             ],
             [
              0.4444444444444444,
              "#bd3786"
             ],
             [
              0.5555555555555556,
              "#d8576b"
             ],
             [
              0.6666666666666666,
              "#ed7953"
             ],
             [
              0.7777777777777778,
              "#fb9f3a"
             ],
             [
              0.8888888888888888,
              "#fdca26"
             ],
             [
              1,
              "#f0f921"
             ]
            ],
            "type": "contour"
           }
          ],
          "contourcarpet": [
           {
            "colorbar": {
             "outlinewidth": 0,
             "ticks": ""
            },
            "type": "contourcarpet"
           }
          ],
          "heatmap": [
           {
            "colorbar": {
             "outlinewidth": 0,
             "ticks": ""
            },
            "colorscale": [
             [
              0,
              "#0d0887"
             ],
             [
              0.1111111111111111,
              "#46039f"
             ],
             [
              0.2222222222222222,
              "#7201a8"
             ],
             [
              0.3333333333333333,
              "#9c179e"
             ],
             [
              0.4444444444444444,
              "#bd3786"
             ],
             [
              0.5555555555555556,
              "#d8576b"
             ],
             [
              0.6666666666666666,
              "#ed7953"
             ],
             [
              0.7777777777777778,
              "#fb9f3a"
             ],
             [
              0.8888888888888888,
              "#fdca26"
             ],
             [
              1,
              "#f0f921"
             ]
            ],
            "type": "heatmap"
           }
          ],
          "heatmapgl": [
           {
            "colorbar": {
             "outlinewidth": 0,
             "ticks": ""
            },
            "colorscale": [
             [
              0,
              "#0d0887"
             ],
             [
              0.1111111111111111,
              "#46039f"
             ],
             [
              0.2222222222222222,
              "#7201a8"
             ],
             [
              0.3333333333333333,
              "#9c179e"
             ],
             [
              0.4444444444444444,
              "#bd3786"
             ],
             [
              0.5555555555555556,
              "#d8576b"
             ],
             [
              0.6666666666666666,
              "#ed7953"
             ],
             [
              0.7777777777777778,
              "#fb9f3a"
             ],
             [
              0.8888888888888888,
              "#fdca26"
             ],
             [
              1,
              "#f0f921"
             ]
            ],
            "type": "heatmapgl"
           }
          ],
          "histogram": [
           {
            "marker": {
             "pattern": {
              "fillmode": "overlay",
              "size": 10,
              "solidity": 0.2
             }
            },
            "type": "histogram"
           }
          ],
          "histogram2d": [
           {
            "colorbar": {
             "outlinewidth": 0,
             "ticks": ""
            },
            "colorscale": [
             [
              0,
              "#0d0887"
             ],
             [
              0.1111111111111111,
              "#46039f"
             ],
             [
              0.2222222222222222,
              "#7201a8"
             ],
             [
              0.3333333333333333,
              "#9c179e"
             ],
             [
              0.4444444444444444,
              "#bd3786"
             ],
             [
              0.5555555555555556,
              "#d8576b"
             ],
             [
              0.6666666666666666,
              "#ed7953"
             ],
             [
              0.7777777777777778,
              "#fb9f3a"
             ],
             [
              0.8888888888888888,
              "#fdca26"
             ],
             [
              1,
              "#f0f921"
             ]
            ],
            "type": "histogram2d"
           }
          ],
          "histogram2dcontour": [
           {
            "colorbar": {
             "outlinewidth": 0,
             "ticks": ""
            },
            "colorscale": [
             [
              0,
              "#0d0887"
             ],
             [
              0.1111111111111111,
              "#46039f"
             ],
             [
              0.2222222222222222,
              "#7201a8"
             ],
             [
              0.3333333333333333,
              "#9c179e"
             ],
             [
              0.4444444444444444,
              "#bd3786"
             ],
             [
              0.5555555555555556,
              "#d8576b"
             ],
             [
              0.6666666666666666,
              "#ed7953"
             ],
             [
              0.7777777777777778,
              "#fb9f3a"
             ],
             [
              0.8888888888888888,
              "#fdca26"
             ],
             [
              1,
              "#f0f921"
             ]
            ],
            "type": "histogram2dcontour"
           }
          ],
          "mesh3d": [
           {
            "colorbar": {
             "outlinewidth": 0,
             "ticks": ""
            },
            "type": "mesh3d"
           }
          ],
          "parcoords": [
           {
            "line": {
             "colorbar": {
              "outlinewidth": 0,
              "ticks": ""
             }
            },
            "type": "parcoords"
           }
          ],
          "pie": [
           {
            "automargin": true,
            "type": "pie"
           }
          ],
          "scatter": [
           {
            "fillpattern": {
             "fillmode": "overlay",
             "size": 10,
             "solidity": 0.2
            },
            "type": "scatter"
           }
          ],
          "scatter3d": [
           {
            "line": {
             "colorbar": {
              "outlinewidth": 0,
              "ticks": ""
             }
            },
            "marker": {
             "colorbar": {
              "outlinewidth": 0,
              "ticks": ""
             }
            },
            "type": "scatter3d"
           }
          ],
          "scattercarpet": [
           {
            "marker": {
             "colorbar": {
              "outlinewidth": 0,
              "ticks": ""
             }
            },
            "type": "scattercarpet"
           }
          ],
          "scattergeo": [
           {
            "marker": {
             "colorbar": {
              "outlinewidth": 0,
              "ticks": ""
             }
            },
            "type": "scattergeo"
           }
          ],
          "scattergl": [
           {
            "marker": {
             "colorbar": {
              "outlinewidth": 0,
              "ticks": ""
             }
            },
            "type": "scattergl"
           }
          ],
          "scattermapbox": [
           {
            "marker": {
             "colorbar": {
              "outlinewidth": 0,
              "ticks": ""
             }
            },
            "type": "scattermapbox"
           }
          ],
          "scatterpolar": [
           {
            "marker": {
             "colorbar": {
              "outlinewidth": 0,
              "ticks": ""
             }
            },
            "type": "scatterpolar"
           }
          ],
          "scatterpolargl": [
           {
            "marker": {
             "colorbar": {
              "outlinewidth": 0,
              "ticks": ""
             }
            },
            "type": "scatterpolargl"
           }
          ],
          "scatterternary": [
           {
            "marker": {
             "colorbar": {
              "outlinewidth": 0,
              "ticks": ""
             }
            },
            "type": "scatterternary"
           }
          ],
          "surface": [
           {
            "colorbar": {
             "outlinewidth": 0,
             "ticks": ""
            },
            "colorscale": [
             [
              0,
              "#0d0887"
             ],
             [
              0.1111111111111111,
              "#46039f"
             ],
             [
              0.2222222222222222,
              "#7201a8"
             ],
             [
              0.3333333333333333,
              "#9c179e"
             ],
             [
              0.4444444444444444,
              "#bd3786"
             ],
             [
              0.5555555555555556,
              "#d8576b"
             ],
             [
              0.6666666666666666,
              "#ed7953"
             ],
             [
              0.7777777777777778,
              "#fb9f3a"
             ],
             [
              0.8888888888888888,
              "#fdca26"
             ],
             [
              1,
              "#f0f921"
             ]
            ],
            "type": "surface"
           }
          ],
          "table": [
           {
            "cells": {
             "fill": {
              "color": "#EBF0F8"
             },
             "line": {
              "color": "white"
             }
            },
            "header": {
             "fill": {
              "color": "#C8D4E3"
             },
             "line": {
              "color": "white"
             }
            },
            "type": "table"
           }
          ]
         },
         "layout": {
          "annotationdefaults": {
           "arrowcolor": "#2a3f5f",
           "arrowhead": 0,
           "arrowwidth": 1
          },
          "autotypenumbers": "strict",
          "coloraxis": {
           "colorbar": {
            "outlinewidth": 0,
            "ticks": ""
           }
          },
          "colorscale": {
           "diverging": [
            [
             0,
             "#8e0152"
            ],
            [
             0.1,
             "#c51b7d"
            ],
            [
             0.2,
             "#de77ae"
            ],
            [
             0.3,
             "#f1b6da"
            ],
            [
             0.4,
             "#fde0ef"
            ],
            [
             0.5,
             "#f7f7f7"
            ],
            [
             0.6,
             "#e6f5d0"
            ],
            [
             0.7,
             "#b8e186"
            ],
            [
             0.8,
             "#7fbc41"
            ],
            [
             0.9,
             "#4d9221"
            ],
            [
             1,
             "#276419"
            ]
           ],
           "sequential": [
            [
             0,
             "#0d0887"
            ],
            [
             0.1111111111111111,
             "#46039f"
            ],
            [
             0.2222222222222222,
             "#7201a8"
            ],
            [
             0.3333333333333333,
             "#9c179e"
            ],
            [
             0.4444444444444444,
             "#bd3786"
            ],
            [
             0.5555555555555556,
             "#d8576b"
            ],
            [
             0.6666666666666666,
             "#ed7953"
            ],
            [
             0.7777777777777778,
             "#fb9f3a"
            ],
            [
             0.8888888888888888,
             "#fdca26"
            ],
            [
             1,
             "#f0f921"
            ]
           ],
           "sequentialminus": [
            [
             0,
             "#0d0887"
            ],
            [
             0.1111111111111111,
             "#46039f"
            ],
            [
             0.2222222222222222,
             "#7201a8"
            ],
            [
             0.3333333333333333,
             "#9c179e"
            ],
            [
             0.4444444444444444,
             "#bd3786"
            ],
            [
             0.5555555555555556,
             "#d8576b"
            ],
            [
             0.6666666666666666,
             "#ed7953"
            ],
            [
             0.7777777777777778,
             "#fb9f3a"
            ],
            [
             0.8888888888888888,
             "#fdca26"
            ],
            [
             1,
             "#f0f921"
            ]
           ]
          },
          "colorway": [
           "#636efa",
           "#EF553B",
           "#00cc96",
           "#ab63fa",
           "#FFA15A",
           "#19d3f3",
           "#FF6692",
           "#B6E880",
           "#FF97FF",
           "#FECB52"
          ],
          "font": {
           "color": "#2a3f5f"
          },
          "geo": {
           "bgcolor": "white",
           "lakecolor": "white",
           "landcolor": "#E5ECF6",
           "showlakes": true,
           "showland": true,
           "subunitcolor": "white"
          },
          "hoverlabel": {
           "align": "left"
          },
          "hovermode": "closest",
          "mapbox": {
           "style": "light"
          },
          "paper_bgcolor": "white",
          "plot_bgcolor": "#E5ECF6",
          "polar": {
           "angularaxis": {
            "gridcolor": "white",
            "linecolor": "white",
            "ticks": ""
           },
           "bgcolor": "#E5ECF6",
           "radialaxis": {
            "gridcolor": "white",
            "linecolor": "white",
            "ticks": ""
           }
          },
          "scene": {
           "xaxis": {
            "backgroundcolor": "#E5ECF6",
            "gridcolor": "white",
            "gridwidth": 2,
            "linecolor": "white",
            "showbackground": true,
            "ticks": "",
            "zerolinecolor": "white"
           },
           "yaxis": {
            "backgroundcolor": "#E5ECF6",
            "gridcolor": "white",
            "gridwidth": 2,
            "linecolor": "white",
            "showbackground": true,
            "ticks": "",
            "zerolinecolor": "white"
           },
           "zaxis": {
            "backgroundcolor": "#E5ECF6",
            "gridcolor": "white",
            "gridwidth": 2,
            "linecolor": "white",
            "showbackground": true,
            "ticks": "",
            "zerolinecolor": "white"
           }
          },
          "shapedefaults": {
           "line": {
            "color": "#2a3f5f"
           }
          },
          "ternary": {
           "aaxis": {
            "gridcolor": "white",
            "linecolor": "white",
            "ticks": ""
           },
           "baxis": {
            "gridcolor": "white",
            "linecolor": "white",
            "ticks": ""
           },
           "bgcolor": "#E5ECF6",
           "caxis": {
            "gridcolor": "white",
            "linecolor": "white",
            "ticks": ""
           }
          },
          "title": {
           "x": 0.05
          },
          "xaxis": {
           "automargin": true,
           "gridcolor": "white",
           "linecolor": "white",
           "ticks": "",
           "title": {
            "standoff": 15
           },
           "zerolinecolor": "white",
           "zerolinewidth": 2
          },
          "yaxis": {
           "automargin": true,
           "gridcolor": "white",
           "linecolor": "white",
           "ticks": "",
           "title": {
            "standoff": 15
           },
           "zerolinecolor": "white",
           "zerolinewidth": 2
          }
         }
        },
        "title": {
         "text": "Groups GDP"
        },
        "xaxis": {
         "anchor": "y",
         "domain": [
          0,
          1
         ],
         "range": [
          "2000-01-01",
          "2024"
         ],
         "title": {
          "text": "TIME_PERIOD"
         }
        },
        "yaxis": {
         "anchor": "x",
         "domain": [
          0,
          1
         ],
         "title": {
          "text": "OBS_VALUE"
         }
        }
       }
      }
     },
     "metadata": {},
     "output_type": "display_data"
    }
   ],
   "source": [
    "fig = px.line(groups_gdp, x='TIME_PERIOD', y=\"OBS_VALUE\", color='Zone de référence')\n",
    "fig.update_layout(xaxis_range=['2000-01-01','2024'],\n",
    "                  title_text= \"Groups GDP\")\n",
    "fig.show()"
   ]
  },
  {
   "cell_type": "code",
   "execution_count": 160,
   "metadata": {},
   "outputs": [],
   "source": [
    "# North America\n",
    "na_gdp = gdp[(gdp[\"Zone de référence\"] == \"ALENA\")| \n",
    "                      (gdp[\"Zone de référence\"] == \"États-Unis\")|\n",
    "                      (gdp[\"Zone de référence\"] == \"Canada\") |\n",
    "                      (gdp[\"Zone de référence\"] == \"Mexique\")\n",
    "                      ]"
   ]
  },
  {
   "cell_type": "code",
   "execution_count": 161,
   "metadata": {},
   "outputs": [
    {
     "data": {
      "application/vnd.plotly.v1+json": {
       "config": {
        "plotlyServerURL": "https://plot.ly"
       },
       "data": [
        {
         "hovertemplate": "Zone de référence=États-Unis<br>TIME_PERIOD=%{x}<br>OBS_VALUE=%{y}<extra></extra>",
         "legendgroup": "États-Unis",
         "line": {
          "color": "#636efa",
          "dash": "solid"
         },
         "marker": {
          "symbol": "circle"
         },
         "mode": "lines",
         "name": "États-Unis",
         "showlegend": true,
         "type": "scattergl",
         "x": [
          "1947-06-01",
          "1947-09-01",
          "1947-12-01",
          "1948-03-01",
          "1948-06-01",
          "1948-09-01",
          "1948-12-01",
          "1949-03-01",
          "1949-06-01",
          "1949-09-01",
          "1949-12-01",
          "1950-03-01",
          "1950-06-01",
          "1950-09-01",
          "1950-12-01",
          "1951-03-01",
          "1951-06-01",
          "1951-09-01",
          "1951-12-01",
          "1952-03-01",
          "1952-06-01",
          "1952-09-01",
          "1952-12-01",
          "1953-03-01",
          "1953-06-01",
          "1953-09-01",
          "1953-12-01",
          "1954-03-01",
          "1954-06-01",
          "1954-09-01",
          "1954-12-01",
          "1955-03-01",
          "1955-06-01",
          "1955-09-01",
          "1955-12-01",
          "1956-03-01",
          "1956-06-01",
          "1956-09-01",
          "1956-12-01",
          "1957-03-01",
          "1957-06-01",
          "1957-09-01",
          "1957-12-01",
          "1958-03-01",
          "1958-06-01",
          "1958-09-01",
          "1958-12-01",
          "1959-03-01",
          "1959-06-01",
          "1959-09-01",
          "1959-12-01",
          "1960-03-01",
          "1960-06-01",
          "1960-09-01",
          "1960-12-01",
          "1961-03-01",
          "1961-06-01",
          "1961-09-01",
          "1961-12-01",
          "1962-03-01",
          "1962-06-01",
          "1962-09-01",
          "1962-12-01",
          "1963-03-01",
          "1963-06-01",
          "1963-09-01",
          "1963-12-01",
          "1964-03-01",
          "1964-06-01",
          "1964-09-01",
          "1964-12-01",
          "1965-03-01",
          "1965-06-01",
          "1965-09-01",
          "1965-12-01",
          "1966-03-01",
          "1966-06-01",
          "1966-09-01",
          "1966-12-01",
          "1967-03-01",
          "1967-06-01",
          "1967-09-01",
          "1967-12-01",
          "1968-03-01",
          "1968-06-01",
          "1968-09-01",
          "1968-12-01",
          "1969-03-01",
          "1969-06-01",
          "1969-09-01",
          "1969-12-01",
          "1970-03-01",
          "1970-06-01",
          "1970-09-01",
          "1970-12-01",
          "1971-03-01",
          "1971-06-01",
          "1971-09-01",
          "1971-12-01",
          "1972-03-01",
          "1972-06-01",
          "1972-09-01",
          "1972-12-01",
          "1973-03-01",
          "1973-06-01",
          "1973-09-01",
          "1973-12-01",
          "1974-03-01",
          "1974-06-01",
          "1974-09-01",
          "1974-12-01",
          "1975-03-01",
          "1975-06-01",
          "1975-09-01",
          "1975-12-01",
          "1976-03-01",
          "1976-06-01",
          "1976-09-01",
          "1976-12-01",
          "1977-03-01",
          "1977-06-01",
          "1977-09-01",
          "1977-12-01",
          "1978-03-01",
          "1978-06-01",
          "1978-09-01",
          "1978-12-01",
          "1979-03-01",
          "1979-06-01",
          "1979-09-01",
          "1979-12-01",
          "1980-03-01",
          "1980-06-01",
          "1980-09-01",
          "1980-12-01",
          "1981-03-01",
          "1981-06-01",
          "1981-09-01",
          "1981-12-01",
          "1982-03-01",
          "1982-06-01",
          "1982-09-01",
          "1982-12-01",
          "1983-03-01",
          "1983-06-01",
          "1983-09-01",
          "1983-12-01",
          "1984-03-01",
          "1984-06-01",
          "1984-09-01",
          "1984-12-01",
          "1985-03-01",
          "1985-06-01",
          "1985-09-01",
          "1985-12-01",
          "1986-03-01",
          "1986-06-01",
          "1986-09-01",
          "1986-12-01",
          "1987-03-01",
          "1987-06-01",
          "1987-09-01",
          "1987-12-01",
          "1988-03-01",
          "1988-06-01",
          "1988-09-01",
          "1988-12-01",
          "1989-03-01",
          "1989-06-01",
          "1989-09-01",
          "1989-12-01",
          "1990-03-01",
          "1990-06-01",
          "1990-09-01",
          "1990-12-01",
          "1991-03-01",
          "1991-06-01",
          "1991-09-01",
          "1991-12-01",
          "1992-03-01",
          "1992-06-01",
          "1992-09-01",
          "1992-12-01",
          "1993-03-01",
          "1993-06-01",
          "1993-09-01",
          "1993-12-01",
          "1994-03-01",
          "1994-06-01",
          "1994-09-01",
          "1994-12-01",
          "1995-03-01",
          "1995-06-01",
          "1995-09-01",
          "1995-12-01",
          "1996-03-01",
          "1996-06-01",
          "1996-09-01",
          "1996-12-01",
          "1997-03-01",
          "1997-06-01",
          "1997-09-01",
          "1997-12-01",
          "1998-03-01",
          "1998-06-01",
          "1998-09-01",
          "1998-12-01",
          "1999-03-01",
          "1999-06-01",
          "1999-09-01",
          "1999-12-01",
          "2000-03-01",
          "2000-06-01",
          "2000-09-01",
          "2000-12-01",
          "2001-03-01",
          "2001-06-01",
          "2001-09-01",
          "2001-12-01",
          "2002-03-01",
          "2002-06-01",
          "2002-09-01",
          "2002-12-01",
          "2003-03-01",
          "2003-06-01",
          "2003-09-01",
          "2003-12-01",
          "2004-03-01",
          "2004-06-01",
          "2004-09-01",
          "2004-12-01",
          "2005-03-01",
          "2005-06-01",
          "2005-09-01",
          "2005-12-01",
          "2006-03-01",
          "2006-06-01",
          "2006-09-01",
          "2006-12-01",
          "2007-03-01",
          "2007-06-01",
          "2007-09-01",
          "2007-12-01",
          "2008-03-01",
          "2008-06-01",
          "2008-09-01",
          "2008-12-01",
          "2009-03-01",
          "2009-06-01",
          "2009-09-01",
          "2009-12-01",
          "2010-03-01",
          "2010-06-01",
          "2010-09-01",
          "2010-12-01",
          "2011-03-01",
          "2011-06-01",
          "2011-09-01",
          "2011-12-01",
          "2012-03-01",
          "2012-06-01",
          "2012-09-01",
          "2012-12-01",
          "2013-03-01",
          "2013-06-01",
          "2013-09-01",
          "2013-12-01",
          "2014-03-01",
          "2014-06-01",
          "2014-09-01",
          "2014-12-01",
          "2015-03-01",
          "2015-06-01",
          "2015-09-01",
          "2015-12-01",
          "2016-03-01",
          "2016-06-01",
          "2016-09-01",
          "2016-12-01",
          "2017-03-01",
          "2017-06-01",
          "2017-09-01",
          "2017-12-01",
          "2018-03-01",
          "2018-06-01",
          "2018-09-01",
          "2018-12-01",
          "2019-03-01",
          "2019-06-01",
          "2019-09-01",
          "2019-12-01",
          "2020-03-01",
          "2020-06-01",
          "2020-09-01",
          "2020-12-01",
          "2021-03-01",
          "2021-06-01",
          "2021-09-01",
          "2021-12-01",
          "2022-03-01",
          "2022-06-01",
          "2022-09-01",
          "2022-12-01",
          "2023-03-01",
          "2023-06-01",
          "2023-09-01",
          "2023-12-01"
         ],
         "xaxis": "x",
         "y": [
          -0.265224282,
          -0.20487925,
          1.565986876,
          1.506037747,
          1.652377436,
          0.57451827,
          0.113286487,
          -1.376613836,
          -0.339657476,
          1.033940371,
          -0.837805259,
          3.93168633,
          3.050930394,
          3.865065794,
          1.91495691,
          1.357955997,
          1.732134603,
          2.059988677,
          0.218954063,
          1.066926106,
          0.214299801,
          0.721230522,
          3.283945587,
          1.859039973,
          0.773091513,
          -0.562515972,
          -1.513718722,
          -0.477570487,
          0.109412651,
          1.129689412,
          1.956964147,
          2.85659611,
          1.627544984,
          1.35082136,
          0.600666135,
          -0.388042688,
          0.826576162,
          -0.089703387,
          1.645911297,
          0.640267872,
          -0.219140239,
          0.979921833,
          -1.034538359,
          -2.59590361,
          0.656898848,
          2.313111068,
          2.338230005,
          1.918406388,
          2.253433564,
          0.069726727,
          0.284980687,
          2.248627259,
          -0.538357281,
          0.48993124,
          -1.283131151,
          0.675017967,
          1.697854683,
          1.920365796,
          1.96166961,
          1.783663196,
          0.904754391,
          1.229566665,
          0.329401872,
          1.092090426,
          1.122414332,
          2.198830992,
          0.655904746,
          2.108713585,
          1.089068379,
          1.56260166,
          0.309191087,
          2.41990812,
          1.263470829,
          2.223160468,
          2.303901713,
          2.433835311,
          0.341470466,
          0.846832571,
          0.820403429,
          0.885793314,
          0.061351469,
          0.946076026,
          0.753853322,
          2.039271039,
          1.670373004,
          0.774518561,
          0.392774099,
          1.564430669,
          0.303353946,
          0.659952355,
          -0.48820905,
          -0.148891714,
          0.141718415,
          0.921467385,
          -1.071573173,
          2.716149226,
          0.540816688,
          0.822446825,
          0.234864641,
          1.837215912,
          2.269287506,
          0.944089632,
          1.67443585,
          2.474941731,
          1.088743434,
          -0.525838329,
          0.949230841,
          -0.859705265,
          0.237697011,
          -0.945277385,
          -0.388405772,
          -1.217634331,
          0.714701189,
          1.712044616,
          1.347092895,
          2.249467623,
          0.733374038,
          0.547407585,
          0.722603571,
          1.186233148,
          1.941923522,
          1.803164972,
          0.00199278,
          0.31984214,
          3.864772684,
          1.005748755,
          1.344125421,
          0.179593814,
          0.106745288,
          0.742804688,
          0.250045169,
          0.314571154,
          -2.060434864,
          -0.11885475,
          1.86492332,
          1.959422211,
          -0.741075707,
          1.197502075,
          -1.089596732,
          -1.553644642,
          0.456177128,
          -0.382266836,
          0.040008788,
          1.31779041,
          2.275520245,
          1.998954608,
          2.086182628,
          1.954790342,
          1.727761586,
          0.964010047,
          0.820772945,
          0.968979228,
          0.880473573,
          1.527271423,
          0.743449145,
          0.93374763,
          0.450296355,
          0.956668037,
          0.53639288,
          0.741844935,
          1.078177644,
          0.867178025,
          1.716956865,
          0.516882541,
          1.314032279,
          0.585969645,
          1.332456056,
          1.016394951,
          0.763099657,
          0.740735625,
          0.196981055,
          1.092882045,
          0.36297003,
          0.066581679,
          -0.910404557,
          -0.467940645,
          0.779689057,
          0.505358687,
          0.348544845,
          1.19725221,
          1.084303276,
          0.988110187,
          1.042855599,
          0.166943722,
          0.582170944,
          0.477154823,
          1.360149303,
          0.970362988,
          1.355182631,
          0.584584555,
          1.145570156,
          0.354780508,
          0.298322846,
          0.850725502,
          0.679082051,
          0.749050123,
          1.667944102,
          0.897033741,
          1.03836953,
          0.645443199,
          1.665217831,
          1.248568975,
          0.853860273,
          1.003753132,
          0.92568788,
          1.258940271,
          1.609196571,
          0.939433749,
          0.834742896,
          1.32588323,
          1.640667087,
          0.362793409,
          1.821287813,
          0.101932586,
          0.597038793,
          -0.327798808,
          0.62450293,
          -0.400639195,
          0.274775448,
          0.836358656,
          0.612706584,
          0.40651143,
          0.123605053,
          0.526641986,
          0.885621673,
          1.663199957,
          1.160721398,
          0.566651454,
          0.774952324,
          0.948593889,
          1.020208129,
          1.109363354,
          0.492624455,
          0.783814035,
          0.55551654,
          1.345383768,
          0.258752763,
          0.149955926,
          0.859449801,
          0.300835667,
          0.611761958,
          0.576025796,
          0.628236732,
          -0.426764321,
          0.595428262,
          -0.525258051,
          -2.189026595,
          -1.134874297,
          -0.178650951,
          0.351192395,
          1.080913651,
          0.484500951,
          0.967586118,
          0.771084936,
          0.525110261,
          -0.237204897,
          0.676582293,
          -0.022312736,
          1.123049057,
          0.83859082,
          0.446334746,
          0.144027997,
          0.115640554,
          0.986560664,
          0.267636335,
          0.851393569,
          0.871741753,
          -0.345095985,
          1.291842129,
          1.215391409,
          0.505733136,
          0.900484978,
          0.619405087,
          0.400245061,
          0.184479126,
          0.579519406,
          0.321124068,
          0.709390255,
          0.554299113,
          0.48689021,
          0.559872562,
          0.788524131,
          1.127046627,
          0.813409802,
          0.530825141,
          0.623697425,
          0.141644219,
          0.543101129,
          0.829668163,
          1.132175584,
          0.641318509,
          -1.362864783,
          -7.891020385,
          7.759223487,
          1.035224384,
          1.285520916,
          1.519746442,
          0.814372189,
          1.696772293,
          -0.497679333,
          -0.141272286,
          0.658618695,
          0.6354224,
          0.556380654,
          0.511122098,
          1.193870963,
          0.792745728
         ],
         "yaxis": "y"
        },
        {
         "hovertemplate": "Zone de référence=Canada<br>TIME_PERIOD=%{x}<br>OBS_VALUE=%{y}<extra></extra>",
         "legendgroup": "Canada",
         "line": {
          "color": "#EF553B",
          "dash": "solid"
         },
         "marker": {
          "symbol": "circle"
         },
         "mode": "lines",
         "name": "Canada",
         "showlegend": true,
         "type": "scattergl",
         "x": [
          "1961-06-01",
          "1961-09-01",
          "1961-12-01",
          "1962-03-01",
          "1962-06-01",
          "1962-09-01",
          "1962-12-01",
          "1963-03-01",
          "1963-06-01",
          "1963-09-01",
          "1963-12-01",
          "1964-03-01",
          "1964-06-01",
          "1964-09-01",
          "1964-12-01",
          "1965-03-01",
          "1965-06-01",
          "1965-09-01",
          "1965-12-01",
          "1966-03-01",
          "1966-06-01",
          "1966-09-01",
          "1966-12-01",
          "1967-03-01",
          "1967-06-01",
          "1967-09-01",
          "1967-12-01",
          "1968-03-01",
          "1968-06-01",
          "1968-09-01",
          "1968-12-01",
          "1969-03-01",
          "1969-06-01",
          "1969-09-01",
          "1969-12-01",
          "1970-03-01",
          "1970-06-01",
          "1970-09-01",
          "1970-12-01",
          "1971-03-01",
          "1971-06-01",
          "1971-09-01",
          "1971-12-01",
          "1972-03-01",
          "1972-06-01",
          "1972-09-01",
          "1972-12-01",
          "1973-03-01",
          "1973-06-01",
          "1973-09-01",
          "1973-12-01",
          "1974-03-01",
          "1974-06-01",
          "1974-09-01",
          "1974-12-01",
          "1975-03-01",
          "1975-06-01",
          "1975-09-01",
          "1975-12-01",
          "1976-03-01",
          "1976-06-01",
          "1976-09-01",
          "1976-12-01",
          "1977-03-01",
          "1977-06-01",
          "1977-09-01",
          "1977-12-01",
          "1978-03-01",
          "1978-06-01",
          "1978-09-01",
          "1978-12-01",
          "1979-03-01",
          "1979-06-01",
          "1979-09-01",
          "1979-12-01",
          "1980-03-01",
          "1980-06-01",
          "1980-09-01",
          "1980-12-01",
          "1981-03-01",
          "1981-06-01",
          "1981-09-01",
          "1981-12-01",
          "1982-03-01",
          "1982-06-01",
          "1982-09-01",
          "1982-12-01",
          "1983-03-01",
          "1983-06-01",
          "1983-09-01",
          "1983-12-01",
          "1984-03-01",
          "1984-06-01",
          "1984-09-01",
          "1984-12-01",
          "1985-03-01",
          "1985-06-01",
          "1985-09-01",
          "1985-12-01",
          "1986-03-01",
          "1986-06-01",
          "1986-09-01",
          "1986-12-01",
          "1987-03-01",
          "1987-06-01",
          "1987-09-01",
          "1987-12-01",
          "1988-03-01",
          "1988-06-01",
          "1988-09-01",
          "1988-12-01",
          "1989-03-01",
          "1989-06-01",
          "1989-09-01",
          "1989-12-01",
          "1990-03-01",
          "1990-06-01",
          "1990-09-01",
          "1990-12-01",
          "1991-03-01",
          "1991-06-01",
          "1991-09-01",
          "1991-12-01",
          "1992-03-01",
          "1992-06-01",
          "1992-09-01",
          "1992-12-01",
          "1993-03-01",
          "1993-06-01",
          "1993-09-01",
          "1993-12-01",
          "1994-03-01",
          "1994-06-01",
          "1994-09-01",
          "1994-12-01",
          "1995-03-01",
          "1995-06-01",
          "1995-09-01",
          "1995-12-01",
          "1996-03-01",
          "1996-06-01",
          "1996-09-01",
          "1996-12-01",
          "1997-03-01",
          "1997-06-01",
          "1997-09-01",
          "1997-12-01",
          "1998-03-01",
          "1998-06-01",
          "1998-09-01",
          "1998-12-01",
          "1999-03-01",
          "1999-06-01",
          "1999-09-01",
          "1999-12-01",
          "2000-03-01",
          "2000-06-01",
          "2000-09-01",
          "2000-12-01",
          "2001-03-01",
          "2001-06-01",
          "2001-09-01",
          "2001-12-01",
          "2002-03-01",
          "2002-06-01",
          "2002-09-01",
          "2002-12-01",
          "2003-03-01",
          "2003-06-01",
          "2003-09-01",
          "2003-12-01",
          "2004-03-01",
          "2004-06-01",
          "2004-09-01",
          "2004-12-01",
          "2005-03-01",
          "2005-06-01",
          "2005-09-01",
          "2005-12-01",
          "2006-03-01",
          "2006-06-01",
          "2006-09-01",
          "2006-12-01",
          "2007-03-01",
          "2007-06-01",
          "2007-09-01",
          "2007-12-01",
          "2008-03-01",
          "2008-06-01",
          "2008-09-01",
          "2008-12-01",
          "2009-03-01",
          "2009-06-01",
          "2009-09-01",
          "2009-12-01",
          "2010-03-01",
          "2010-06-01",
          "2010-09-01",
          "2010-12-01",
          "2011-03-01",
          "2011-06-01",
          "2011-09-01",
          "2011-12-01",
          "2012-03-01",
          "2012-06-01",
          "2012-09-01",
          "2012-12-01",
          "2013-03-01",
          "2013-06-01",
          "2013-09-01",
          "2013-12-01",
          "2014-03-01",
          "2014-06-01",
          "2014-09-01",
          "2014-12-01",
          "2015-03-01",
          "2015-06-01",
          "2015-09-01",
          "2015-12-01",
          "2016-03-01",
          "2016-06-01",
          "2016-09-01",
          "2016-12-01",
          "2017-03-01",
          "2017-06-01",
          "2017-09-01",
          "2017-12-01",
          "2018-03-01",
          "2018-06-01",
          "2018-09-01",
          "2018-12-01",
          "2019-03-01",
          "2019-06-01",
          "2019-09-01",
          "2019-12-01",
          "2020-03-01",
          "2020-06-01",
          "2020-09-01",
          "2020-12-01",
          "2021-03-01",
          "2021-06-01",
          "2021-09-01",
          "2021-12-01",
          "2022-03-01",
          "2022-06-01",
          "2022-09-01",
          "2022-12-01",
          "2023-03-01",
          "2023-06-01",
          "2023-09-01",
          "2023-12-01"
         ],
         "xaxis": "x",
         "y": [
          2.532129049,
          2.433416055,
          1.360480145,
          2.660950188,
          0.794766259,
          1.278910818,
          1.962242774,
          0.63408554,
          1.454368266,
          0.759938107,
          3.129534749,
          2.503381101,
          0.37449939,
          1.067302224,
          0.501631232,
          3.181038821,
          0.915536674,
          1.395578506,
          2.45084687,
          1.945879533,
          2.158665681,
          -0.047768976,
          1.239297635,
          -0.225331116,
          2.083321361,
          0.315240174,
          0.43564712,
          0.85242934,
          2.688393446,
          1.392807753,
          1.384671595,
          1.369084169,
          0.411425337,
          1.109424869,
          1.413083388,
          0.618000976,
          0.008329335,
          1.034916997,
          0.151842137,
          -0.514427002,
          2.919845718,
          2.763535924,
          1.092959439,
          -0.334587909,
          2.834911476,
          0.296709917,
          2.348892248,
          2.566523984,
          0.953995394,
          0.464961005,
          1.844449189,
          0.827632743,
          1.025739182,
          0.01921879,
          -0.520988065,
          -0.544813179,
          1.282923644,
          1.918505342,
          1.157163082,
          1.742666777,
          2.156483453,
          0.461713212,
          0.161577012,
          1.533829769,
          0.510302318,
          0.587798364,
          1.584637482,
          0.863597549,
          0.680645726,
          0.932836265,
          0.948169861,
          0.797819177,
          1.326596172,
          0.733071541,
          0.670926663,
          0.694332365,
          -0.043713005,
          -0.083091031,
          1.383645399,
          2.154351265,
          1.093360409,
          -0.899099935,
          -0.459901898,
          -1.144418136,
          -1.151291383,
          -0.886813665,
          -0.922796955,
          1.634267065,
          1.972771607,
          1.123439591,
          1.243210478,
          1.731993046,
          1.940640467,
          0.429949956,
          1.560682803,
          1.536397114,
          0.321648526,
          1.269493817,
          1.524600169,
          -0.050673397,
          0.574750312,
          0.125735895,
          -0.723892076,
          2.311401978,
          1.281026782,
          1.527856089,
          1.291886418,
          1.456990551,
          0.887376092,
          0.014849555,
          0.686248083,
          1.15546661,
          0.388999379,
          0.361042659,
          -0.199034712,
          0.961690311,
          -0.401218185,
          -0.716674548,
          -0.890402907,
          -1.438612374,
          0.479959225,
          0.132626462,
          0.175721575,
          0.070586748,
          0.113964563,
          0.541657502,
          0.569768536,
          0.634920635,
          0.910890816,
          0.956348976,
          0.427742752,
          1.474477573,
          1.45985462,
          1.282038704,
          0.726422352,
          0.918809755,
          0.042484763,
          0.132162786,
          0.40357518,
          0.145116796,
          0.711918285,
          0.839886836,
          0.792291038,
          1.339911843,
          1.125352076,
          1.18550429,
          0.966392765,
          1.411990072,
          0.052954114,
          0.911198725,
          1.354959227,
          1.805546006,
          0.824757342,
          1.567445313,
          1.40094457,
          1.565720708,
          1.176951374,
          1.02505509,
          0.197776532,
          0.562892178,
          0.31448597,
          -0.070291492,
          0.5997524,
          1.462187363,
          0.590842968,
          0.864710004,
          0.549240541,
          0.556372989,
          -0.145041357,
          0.373863441,
          0.687422999,
          0.727147736,
          1.184860318,
          1.18232632,
          0.721715122,
          0.350202804,
          0.72275167,
          1.211889602,
          0.993155151,
          0.811906,
          0.050006824,
          0.281497219,
          0.398230459,
          0.638206425,
          0.96572296,
          0.374681048,
          0.131432874,
          0.075036988,
          0.364362857,
          0.821739528,
          -1.160303228,
          -2.256581424,
          -1.07869505,
          0.447240509,
          1.161898977,
          1.211533092,
          0.523642872,
          0.700042554,
          1.121801791,
          0.761595519,
          0.181517907,
          1.368249361,
          0.79472209,
          0.0631303,
          0.325071067,
          0.136854471,
          0.205799023,
          0.89511833,
          0.575888641,
          0.82231197,
          1.046569427,
          0.168994293,
          0.911555413,
          0.958574349,
          0.691167613,
          -0.55677898,
          -0.272994458,
          0.358097519,
          0.066272079,
          0.591683798,
          -0.498133929,
          1.03778381,
          0.561022275,
          1.258206055,
          1.052553159,
          0.031402141,
          0.507360861,
          1.162519794,
          0.780038215,
          0.504422861,
          0.235568646,
          0.240663338,
          1.094764819,
          0.279623055,
          0.285513174,
          -1.949937792,
          -10.9999385,
          9.083513962,
          1.87838191,
          1.439859036,
          -0.311846329,
          1.680123266,
          1.569345516,
          0.961275373,
          0.939461412,
          0.458013103,
          -0.215347761,
          0.645766222,
          0.158393852,
          -0.126174597,
          0.24777298
         ],
         "yaxis": "y"
        },
        {
         "hovertemplate": "Zone de référence=Mexique<br>TIME_PERIOD=%{x}<br>OBS_VALUE=%{y}<extra></extra>",
         "legendgroup": "Mexique",
         "line": {
          "color": "#00cc96",
          "dash": "solid"
         },
         "marker": {
          "symbol": "circle"
         },
         "mode": "lines",
         "name": "Mexique",
         "showlegend": true,
         "type": "scattergl",
         "x": [
          "1960-06-01",
          "1960-09-01",
          "1960-12-01",
          "1961-03-01",
          "1961-06-01",
          "1961-09-01",
          "1961-12-01",
          "1962-03-01",
          "1962-06-01",
          "1962-09-01",
          "1962-12-01",
          "1963-03-01",
          "1963-06-01",
          "1963-09-01",
          "1963-12-01",
          "1964-03-01",
          "1964-06-01",
          "1964-09-01",
          "1964-12-01",
          "1965-03-01",
          "1965-06-01",
          "1965-09-01",
          "1965-12-01",
          "1966-03-01",
          "1966-06-01",
          "1966-09-01",
          "1966-12-01",
          "1967-03-01",
          "1967-06-01",
          "1967-09-01",
          "1967-12-01",
          "1968-03-01",
          "1968-06-01",
          "1968-09-01",
          "1968-12-01",
          "1969-03-01",
          "1969-06-01",
          "1969-09-01",
          "1969-12-01",
          "1970-03-01",
          "1970-06-01",
          "1970-09-01",
          "1970-12-01",
          "1971-03-01",
          "1971-06-01",
          "1971-09-01",
          "1971-12-01",
          "1972-03-01",
          "1972-06-01",
          "1972-09-01",
          "1972-12-01",
          "1973-03-01",
          "1973-06-01",
          "1973-09-01",
          "1973-12-01",
          "1974-03-01",
          "1974-06-01",
          "1974-09-01",
          "1974-12-01",
          "1975-03-01",
          "1975-06-01",
          "1975-09-01",
          "1975-12-01",
          "1976-03-01",
          "1976-06-01",
          "1976-09-01",
          "1976-12-01",
          "1977-03-01",
          "1977-06-01",
          "1977-09-01",
          "1977-12-01",
          "1978-03-01",
          "1978-06-01",
          "1978-09-01",
          "1978-12-01",
          "1979-03-01",
          "1979-06-01",
          "1979-09-01",
          "1979-12-01",
          "1980-03-01",
          "1980-06-01",
          "1980-09-01",
          "1980-12-01",
          "1981-03-01",
          "1981-06-01",
          "1981-09-01",
          "1981-12-01",
          "1982-03-01",
          "1982-06-01",
          "1982-09-01",
          "1982-12-01",
          "1983-03-01",
          "1983-06-01",
          "1983-09-01",
          "1983-12-01",
          "1984-03-01",
          "1984-06-01",
          "1984-09-01",
          "1984-12-01",
          "1985-03-01",
          "1985-06-01",
          "1985-09-01",
          "1985-12-01",
          "1986-03-01",
          "1986-06-01",
          "1986-09-01",
          "1986-12-01",
          "1987-03-01",
          "1987-06-01",
          "1987-09-01",
          "1987-12-01",
          "1988-03-01",
          "1988-06-01",
          "1988-09-01",
          "1988-12-01",
          "1989-03-01",
          "1989-06-01",
          "1989-09-01",
          "1989-12-01",
          "1990-03-01",
          "1990-06-01",
          "1990-09-01",
          "1990-12-01",
          "1991-03-01",
          "1991-06-01",
          "1991-09-01",
          "1991-12-01",
          "1992-03-01",
          "1992-06-01",
          "1992-09-01",
          "1992-12-01",
          "1993-03-01",
          "1993-06-01",
          "1993-09-01",
          "1993-12-01",
          "1994-03-01",
          "1994-06-01",
          "1994-09-01",
          "1994-12-01",
          "1995-03-01",
          "1995-06-01",
          "1995-09-01",
          "1995-12-01",
          "1996-03-01",
          "1996-06-01",
          "1996-09-01",
          "1996-12-01",
          "1997-03-01",
          "1997-06-01",
          "1997-09-01",
          "1997-12-01",
          "1998-03-01",
          "1998-06-01",
          "1998-09-01",
          "1998-12-01",
          "1999-03-01",
          "1999-06-01",
          "1999-09-01",
          "1999-12-01",
          "2000-03-01",
          "2000-06-01",
          "2000-09-01",
          "2000-12-01",
          "2001-03-01",
          "2001-06-01",
          "2001-09-01",
          "2001-12-01",
          "2002-03-01",
          "2002-06-01",
          "2002-09-01",
          "2002-12-01",
          "2003-03-01",
          "2003-06-01",
          "2003-09-01",
          "2003-12-01",
          "2004-03-01",
          "2004-06-01",
          "2004-09-01",
          "2004-12-01",
          "2005-03-01",
          "2005-06-01",
          "2005-09-01",
          "2005-12-01",
          "2006-03-01",
          "2006-06-01",
          "2006-09-01",
          "2006-12-01",
          "2007-03-01",
          "2007-06-01",
          "2007-09-01",
          "2007-12-01",
          "2008-03-01",
          "2008-06-01",
          "2008-09-01",
          "2008-12-01",
          "2009-03-01",
          "2009-06-01",
          "2009-09-01",
          "2009-12-01",
          "2010-03-01",
          "2010-06-01",
          "2010-09-01",
          "2010-12-01",
          "2011-03-01",
          "2011-06-01",
          "2011-09-01",
          "2011-12-01",
          "2012-03-01",
          "2012-06-01",
          "2012-09-01",
          "2012-12-01",
          "2013-03-01",
          "2013-06-01",
          "2013-09-01",
          "2013-12-01",
          "2014-03-01",
          "2014-06-01",
          "2014-09-01",
          "2014-12-01",
          "2015-03-01",
          "2015-06-01",
          "2015-09-01",
          "2015-12-01",
          "2016-03-01",
          "2016-06-01",
          "2016-09-01",
          "2016-12-01",
          "2017-03-01",
          "2017-06-01",
          "2017-09-01",
          "2017-12-01",
          "2018-03-01",
          "2018-06-01",
          "2018-09-01",
          "2018-12-01",
          "2019-03-01",
          "2019-06-01",
          "2019-09-01",
          "2019-12-01",
          "2020-03-01",
          "2020-06-01",
          "2020-09-01",
          "2020-12-01",
          "2021-03-01",
          "2021-06-01",
          "2021-09-01",
          "2021-12-01",
          "2022-03-01",
          "2022-06-01",
          "2022-09-01",
          "2022-12-01",
          "2023-03-01",
          "2023-06-01",
          "2023-09-01",
          "2023-12-01"
         ],
         "xaxis": "x",
         "y": [
          0.998134871,
          0.993700656,
          0.989300033,
          0.973394787,
          0.954347314,
          1.007541979,
          1.057329044,
          1.038747449,
          1.018640474,
          1.402493898,
          1.791419668,
          1.750783472,
          1.701509231,
          2.353728498,
          2.998675381,
          2.887235401,
          2.799082004,
          2.101629964,
          1.422456862,
          1.390493536,
          1.360647158,
          1.475944033,
          1.586576684,
          1.54569495,
          1.512978569,
          1.453550189,
          1.38475762,
          1.353178114,
          1.325622743,
          1.646754016,
          1.967176392,
          1.912980034,
          1.87251932,
          1.584134361,
          1.297967474,
          1.273835347,
          1.24456066,
          1.554237647,
          1.864178652,
          1.809210142,
          1.768313857,
          1.243409286,
          0.696789668,
          0.685514904,
          0.675916427,
          1.492963048,
          2.330250104,
          2.264728797,
          2.20276042,
          2.189293583,
          2.17662679,
          2.113477478,
          2.05215716,
          1.753957612,
          1.442038019,
          1.403345049,
          1.378937292,
          1.420328024,
          1.455293632,
          1.41808582,
          1.391313202,
          1.242050696,
          1.081194488,
          1.056566621,
          1.046903478,
          0.820824926,
          0.591004129,
          0.589218726,
          0.574541288,
          1.396296342,
          2.24138602,
          2.178848345,
          2.110729874,
          2.237664759,
          2.35397061,
          2.275444904,
          2.212040322,
          2.070864933,
          1.918080757,
          2.769102252,
          0.652366114,
          2.158764803,
          2.895866373,
          2.232972009,
          2.591142862,
          0.522758414,
          1.791577285,
          -1.92678781,
          0.152382125,
          -0.719204541,
          -2.194228615,
          -0.739376103,
          -2.01071468,
          0.830142741,
          1.150445915,
          2.760114021,
          -1.471891339,
          2.421554744,
          -0.881230455,
          1.829112115,
          -0.086641166,
          0.625404543,
          -0.271496552,
          -1.92823854,
          -0.373519773,
          -1.898208827,
          -0.273023038,
          0.597476046,
          2.736231087,
          0.107060851,
          1.208326572,
          -0.675506228,
          -0.320852788,
          0.123422488,
          1.992230561,
          1.873677883,
          0.038205539,
          1.864123977,
          -0.881771666,
          2.174244872,
          2.169802353,
          1.364136563,
          1.270953872,
          0.275608267,
          1.530225799,
          0.185943273,
          1.806169428,
          -0.008741365,
          1.639826199,
          0.928578032,
          0.083307471,
          0.24128657,
          0.03684107,
          1.161739243,
          0.625767637,
          0.992873963,
          2.279696725,
          0.562448362,
          1.075083009,
          -4.603785908,
          -6.023418021,
          2.133012957,
          2.286739858,
          2.330744159,
          1.079597116,
          1.466393071,
          3.167090068,
          0.36917796,
          2.318759061,
          2.115731781,
          2.814361134,
          1.522432593,
          0.735927312,
          0.500341933,
          0.169559467,
          0.864277841,
          0.749041197,
          0.954779103,
          0.992108318,
          2.080367243,
          1.255176834,
          1.107119947,
          -1.137275757,
          0.624058865,
          -0.729919974,
          -0.1982757,
          -0.872093064,
          -0.604239468,
          1.022600045,
          0.976992692,
          0.208994592,
          -0.063793986,
          0.176835761,
          0.032443115,
          0.910159897,
          1.325790105,
          1.345221702,
          -0.083631857,
          1.070173444,
          0.244864796,
          -0.04146094,
          1.054637076,
          1.852525395,
          1.945297075,
          0.891539724,
          0.245316092,
          0.351200659,
          0.684625863,
          0.684903002,
          0.358858672,
          0.234856426,
          0.047880623,
          0.639646689,
          0.128655324,
          -1.607351546,
          -6.191135455,
          -1.602508923,
          3.595021873,
          2.154844613,
          0.394941971,
          1.194732394,
          0.881231611,
          0.808254337,
          0.664158143,
          0.440399425,
          1.779643247,
          0.720448262,
          0.967879852,
          0.684981187,
          0.176151088,
          0.780983363,
          0.119343073,
          -0.437697626,
          0.626481626,
          0.495252114,
          0.638372376,
          1.327597656,
          0.142399614,
          0.848092122,
          0.463078154,
          0.921641056,
          1.168845909,
          -0.321238902,
          -0.007660733,
          0.307708376,
          0.943365801,
          1.069852257,
          0.656636272,
          0.077306987,
          -0.586671832,
          1.275728106,
          1.396103109,
          -0.459578459,
          0.535604148,
          -0.164159055,
          0.13506748,
          -0.178979351,
          -0.136684317,
          -0.81461025,
          -1.191108929,
          -19.088642723,
          15.483151733,
          4.316134565,
          0.438767264,
          0.612558164,
          -0.287859737,
          1.187256884,
          1.573970571,
          0.843665626,
          1.06181949,
          1.008518269,
          0.535225101,
          0.81381909,
          1.061276252,
          0.082718882
         ],
         "yaxis": "y"
        },
        {
         "hovertemplate": "Zone de référence=ALENA<br>TIME_PERIOD=%{x}<br>OBS_VALUE=%{y}<extra></extra>",
         "legendgroup": "ALENA",
         "line": {
          "color": "#ab63fa",
          "dash": "solid"
         },
         "marker": {
          "symbol": "circle"
         },
         "mode": "lines",
         "name": "ALENA",
         "showlegend": true,
         "type": "scattergl",
         "x": [
          "1962-06-01",
          "1962-09-01",
          "1962-12-01",
          "1963-03-01",
          "1963-06-01",
          "1963-09-01",
          "1963-12-01",
          "1964-03-01",
          "1964-06-01",
          "1964-09-01",
          "1964-12-01",
          "1965-03-01",
          "1965-06-01",
          "1965-09-01",
          "1965-12-01",
          "1966-03-01",
          "1966-06-01",
          "1966-09-01",
          "1966-12-01",
          "1967-03-01",
          "1967-06-01",
          "1967-09-01",
          "1967-12-01",
          "1968-03-01",
          "1968-06-01",
          "1968-09-01",
          "1968-12-01",
          "1969-03-01",
          "1969-06-01",
          "1969-09-01",
          "1969-12-01",
          "1970-03-01",
          "1970-06-01",
          "1970-09-01",
          "1970-12-01",
          "1971-03-01",
          "1971-06-01",
          "1971-09-01",
          "1971-12-01",
          "1972-03-01",
          "1972-06-01",
          "1972-09-01",
          "1972-12-01",
          "1973-03-01",
          "1973-06-01",
          "1973-09-01",
          "1973-12-01",
          "1974-03-01",
          "1974-06-01",
          "1974-09-01",
          "1974-12-01",
          "1975-03-01",
          "1975-06-01",
          "1975-09-01",
          "1975-12-01",
          "1976-03-01",
          "1976-06-01",
          "1976-09-01",
          "1976-12-01",
          "1977-03-01",
          "1977-06-01",
          "1977-09-01",
          "1977-12-01",
          "1978-03-01",
          "1978-06-01",
          "1978-09-01",
          "1978-12-01",
          "1979-03-01",
          "1979-06-01",
          "1979-09-01",
          "1979-12-01",
          "1980-03-01",
          "1980-06-01",
          "1980-09-01",
          "1980-12-01",
          "1981-03-01",
          "1981-06-01",
          "1981-09-01",
          "1981-12-01",
          "1982-03-01",
          "1982-06-01",
          "1982-09-01",
          "1982-12-01",
          "1983-03-01",
          "1983-06-01",
          "1983-09-01",
          "1983-12-01",
          "1984-03-01",
          "1984-06-01",
          "1984-09-01",
          "1984-12-01",
          "1985-03-01",
          "1985-06-01",
          "1985-09-01",
          "1985-12-01",
          "1986-03-01",
          "1986-06-01",
          "1986-09-01",
          "1986-12-01",
          "1987-03-01",
          "1987-06-01",
          "1987-09-01",
          "1987-12-01",
          "1988-03-01",
          "1988-06-01",
          "1988-09-01",
          "1988-12-01",
          "1989-03-01",
          "1989-06-01",
          "1989-09-01",
          "1989-12-01",
          "1990-03-01",
          "1990-06-01",
          "1990-09-01",
          "1990-12-01",
          "1991-03-01",
          "1991-06-01",
          "1991-09-01",
          "1991-12-01",
          "1992-03-01",
          "1992-06-01",
          "1992-09-01",
          "1992-12-01",
          "1993-03-01",
          "1993-06-01",
          "1993-09-01",
          "1993-12-01",
          "1994-03-01",
          "1994-06-01",
          "1994-09-01",
          "1994-12-01",
          "1995-03-01",
          "1995-06-01",
          "1995-09-01",
          "1995-12-01",
          "1996-03-01",
          "1996-06-01",
          "1996-09-01",
          "1996-12-01",
          "1997-03-01",
          "1997-06-01",
          "1997-09-01",
          "1997-12-01",
          "1998-03-01",
          "1998-06-01",
          "1998-09-01",
          "1998-12-01",
          "1999-03-01",
          "1999-06-01",
          "1999-09-01",
          "1999-12-01",
          "2000-03-01",
          "2000-06-01",
          "2000-09-01",
          "2000-12-01",
          "2001-03-01",
          "2001-06-01",
          "2001-09-01",
          "2001-12-01",
          "2002-03-01",
          "2002-06-01",
          "2002-09-01",
          "2002-12-01",
          "2003-03-01",
          "2003-06-01",
          "2003-09-01",
          "2003-12-01",
          "2004-03-01",
          "2004-06-01",
          "2004-09-01",
          "2004-12-01",
          "2005-03-01",
          "2005-06-01",
          "2005-09-01",
          "2005-12-01",
          "2006-03-01",
          "2006-06-01",
          "2006-09-01",
          "2006-12-01",
          "2007-03-01",
          "2007-06-01",
          "2007-09-01",
          "2007-12-01",
          "2008-03-01",
          "2008-06-01",
          "2008-09-01",
          "2008-12-01",
          "2009-03-01",
          "2009-06-01",
          "2009-09-01",
          "2009-12-01",
          "2010-03-01",
          "2010-06-01",
          "2010-09-01",
          "2010-12-01",
          "2011-03-01",
          "2011-06-01",
          "2011-09-01",
          "2011-12-01",
          "2012-03-01",
          "2012-06-01",
          "2012-09-01",
          "2012-12-01",
          "2013-03-01",
          "2013-06-01",
          "2013-09-01",
          "2013-12-01",
          "2014-03-01",
          "2014-06-01",
          "2014-09-01",
          "2014-12-01",
          "2015-03-01",
          "2015-06-01",
          "2015-09-01",
          "2015-12-01",
          "2016-03-01",
          "2016-06-01",
          "2016-09-01",
          "2016-12-01",
          "2017-03-01",
          "2017-06-01",
          "2017-09-01",
          "2017-12-01",
          "2018-03-01",
          "2018-06-01",
          "2018-09-01",
          "2018-12-01",
          "2019-03-01",
          "2019-06-01",
          "2019-09-01",
          "2019-12-01",
          "2020-03-01",
          "2020-06-01",
          "2020-09-01",
          "2020-12-01",
          "2021-03-01",
          "2021-06-01",
          "2021-09-01",
          "2021-12-01",
          "2022-03-01",
          "2022-06-01",
          "2022-09-01",
          "2022-12-01",
          "2023-03-01",
          "2023-06-01",
          "2023-09-01",
          "2023-12-01"
         ],
         "xaxis": "x",
         "y": [
          0.904817,
          1.245528,
          0.553547,
          1.105835,
          1.189162,
          2.103588,
          1.008834,
          2.196801,
          1.164578,
          1.567111,
          0.409262,
          2.396206,
          1.24498,
          2.103777,
          2.259662,
          2.329819,
          0.56455,
          0.82599,
          0.894997,
          0.838811,
          0.309344,
          0.953511,
          0.825891,
          1.940436,
          1.7618,
          0.885394,
          0.540045,
          1.52599,
          0.387635,
          0.766825,
          -0.150834,
          0.074299,
          0.270229,
          0.958099,
          -0.823586,
          2.285477,
          0.732707,
          1.030791,
          0.484953,
          1.703185,
          2.30724,
          1.004573,
          1.771949,
          2.449352,
          1.165162,
          -0.241244,
          1.065131,
          -0.515577,
          0.409163,
          -0.64075,
          -0.218671,
          -0.900939,
          0.829704,
          1.680724,
          1.304466,
          2.086756,
          0.880601,
          0.567943,
          0.663174,
          1.154319,
          1.686949,
          1.66409,
          0.351102,
          0.551834,
          3.425111,
          1.124816,
          1.416233,
          0.445081,
          0.424951,
          0.884358,
          0.464465,
          0.614907,
          -1.594409,
          0.145796,
          1.946789,
          2.007495,
          -0.197913,
          0.943895,
          -0.689327,
          -1.566173,
          0.288586,
          -0.464281,
          -0.313146,
          1.095181,
          1.742674,
          1.795789,
          1.913708,
          2.028554,
          1.383908,
          1.081605,
          0.689754,
          1.107681,
          0.729929,
          1.408616,
          0.695142,
          0.547609,
          0.373758,
          0.593967,
          0.355122,
          0.851048,
          1.259868,
          0.842347,
          1.631947,
          0.471149,
          1.117099,
          0.494959,
          1.345615,
          1.112373,
          0.661127,
          0.822425,
          0.057702,
          1.189347,
          0.482783,
          0.137025,
          -0.685874,
          -0.462708,
          0.83623,
          0.443279,
          0.490095,
          0.983123,
          1.07022,
          0.948917,
          0.907098,
          0.209131,
          0.549597,
          0.58341,
          1.21459,
          1.011895,
          1.451399,
          0.634419,
          1.107346,
          -0.080683,
          -0.302318,
          0.907468,
          0.799428,
          0.844657,
          1.543732,
          0.944022,
          1.212667,
          0.670914,
          1.685426,
          1.324101,
          1.044748,
          1.082809,
          0.843516,
          1.161452,
          1.454695,
          0.995325,
          0.826027,
          1.309021,
          1.562906,
          0.609391,
          1.720633,
          0.263512,
          0.404502,
          -0.174531,
          0.474856,
          -0.357576,
          0.192586,
          0.750743,
          0.648129,
          0.492483,
          0.163284,
          0.474563,
          0.744233,
          1.420246,
          1.103728,
          0.644726,
          0.856743,
          0.872238,
          1.002507,
          0.975319,
          0.461885,
          0.8395,
          0.703456,
          1.360718,
          0.300787,
          0.168535,
          0.778288,
          0.361608,
          0.645085,
          0.540502,
          0.554118,
          -0.344938,
          0.582293,
          -0.363183,
          -2.056327,
          -1.71149,
          -0.379181,
          0.656232,
          1.188469,
          0.537267,
          0.95676,
          0.776704,
          0.597762,
          -0.072602,
          0.615461,
          0.262714,
          1.057156,
          0.795717,
          0.462386,
          0.146882,
          0.192615,
          0.887551,
          0.215945,
          0.825626,
          0.845296,
          -0.203499,
          1.266706,
          1.083404,
          0.555328,
          0.744657,
          0.584527,
          0.47768,
          0.122402,
          0.519792,
          0.261022,
          0.757003,
          0.608327,
          0.562484,
          0.544231,
          0.585286,
          1.09719,
          0.900648,
          0.444451,
          0.605657,
          0.116554,
          0.479115,
          0.745337,
          0.939672,
          0.468216,
          -1.387812,
          -9.232734,
          8.53995,
          1.40569,
          1.21488,
          1.299336,
          0.769924,
          1.639096,
          -0.193545,
          0.034394,
          0.681859,
          0.606226,
          0.561945,
          0.513649,
          1.079398,
          0.681463
         ],
         "yaxis": "y"
        }
       ],
       "layout": {
        "legend": {
         "title": {
          "text": "Zone de référence"
         },
         "tracegroupgap": 0
        },
        "margin": {
         "t": 60
        },
        "template": {
         "data": {
          "bar": [
           {
            "error_x": {
             "color": "#2a3f5f"
            },
            "error_y": {
             "color": "#2a3f5f"
            },
            "marker": {
             "line": {
              "color": "#E5ECF6",
              "width": 0.5
             },
             "pattern": {
              "fillmode": "overlay",
              "size": 10,
              "solidity": 0.2
             }
            },
            "type": "bar"
           }
          ],
          "barpolar": [
           {
            "marker": {
             "line": {
              "color": "#E5ECF6",
              "width": 0.5
             },
             "pattern": {
              "fillmode": "overlay",
              "size": 10,
              "solidity": 0.2
             }
            },
            "type": "barpolar"
           }
          ],
          "carpet": [
           {
            "aaxis": {
             "endlinecolor": "#2a3f5f",
             "gridcolor": "white",
             "linecolor": "white",
             "minorgridcolor": "white",
             "startlinecolor": "#2a3f5f"
            },
            "baxis": {
             "endlinecolor": "#2a3f5f",
             "gridcolor": "white",
             "linecolor": "white",
             "minorgridcolor": "white",
             "startlinecolor": "#2a3f5f"
            },
            "type": "carpet"
           }
          ],
          "choropleth": [
           {
            "colorbar": {
             "outlinewidth": 0,
             "ticks": ""
            },
            "type": "choropleth"
           }
          ],
          "contour": [
           {
            "colorbar": {
             "outlinewidth": 0,
             "ticks": ""
            },
            "colorscale": [
             [
              0,
              "#0d0887"
             ],
             [
              0.1111111111111111,
              "#46039f"
             ],
             [
              0.2222222222222222,
              "#7201a8"
             ],
             [
              0.3333333333333333,
              "#9c179e"
             ],
             [
              0.4444444444444444,
              "#bd3786"
             ],
             [
              0.5555555555555556,
              "#d8576b"
             ],
             [
              0.6666666666666666,
              "#ed7953"
             ],
             [
              0.7777777777777778,
              "#fb9f3a"
             ],
             [
              0.8888888888888888,
              "#fdca26"
             ],
             [
              1,
              "#f0f921"
             ]
            ],
            "type": "contour"
           }
          ],
          "contourcarpet": [
           {
            "colorbar": {
             "outlinewidth": 0,
             "ticks": ""
            },
            "type": "contourcarpet"
           }
          ],
          "heatmap": [
           {
            "colorbar": {
             "outlinewidth": 0,
             "ticks": ""
            },
            "colorscale": [
             [
              0,
              "#0d0887"
             ],
             [
              0.1111111111111111,
              "#46039f"
             ],
             [
              0.2222222222222222,
              "#7201a8"
             ],
             [
              0.3333333333333333,
              "#9c179e"
             ],
             [
              0.4444444444444444,
              "#bd3786"
             ],
             [
              0.5555555555555556,
              "#d8576b"
             ],
             [
              0.6666666666666666,
              "#ed7953"
             ],
             [
              0.7777777777777778,
              "#fb9f3a"
             ],
             [
              0.8888888888888888,
              "#fdca26"
             ],
             [
              1,
              "#f0f921"
             ]
            ],
            "type": "heatmap"
           }
          ],
          "heatmapgl": [
           {
            "colorbar": {
             "outlinewidth": 0,
             "ticks": ""
            },
            "colorscale": [
             [
              0,
              "#0d0887"
             ],
             [
              0.1111111111111111,
              "#46039f"
             ],
             [
              0.2222222222222222,
              "#7201a8"
             ],
             [
              0.3333333333333333,
              "#9c179e"
             ],
             [
              0.4444444444444444,
              "#bd3786"
             ],
             [
              0.5555555555555556,
              "#d8576b"
             ],
             [
              0.6666666666666666,
              "#ed7953"
             ],
             [
              0.7777777777777778,
              "#fb9f3a"
             ],
             [
              0.8888888888888888,
              "#fdca26"
             ],
             [
              1,
              "#f0f921"
             ]
            ],
            "type": "heatmapgl"
           }
          ],
          "histogram": [
           {
            "marker": {
             "pattern": {
              "fillmode": "overlay",
              "size": 10,
              "solidity": 0.2
             }
            },
            "type": "histogram"
           }
          ],
          "histogram2d": [
           {
            "colorbar": {
             "outlinewidth": 0,
             "ticks": ""
            },
            "colorscale": [
             [
              0,
              "#0d0887"
             ],
             [
              0.1111111111111111,
              "#46039f"
             ],
             [
              0.2222222222222222,
              "#7201a8"
             ],
             [
              0.3333333333333333,
              "#9c179e"
             ],
             [
              0.4444444444444444,
              "#bd3786"
             ],
             [
              0.5555555555555556,
              "#d8576b"
             ],
             [
              0.6666666666666666,
              "#ed7953"
             ],
             [
              0.7777777777777778,
              "#fb9f3a"
             ],
             [
              0.8888888888888888,
              "#fdca26"
             ],
             [
              1,
              "#f0f921"
             ]
            ],
            "type": "histogram2d"
           }
          ],
          "histogram2dcontour": [
           {
            "colorbar": {
             "outlinewidth": 0,
             "ticks": ""
            },
            "colorscale": [
             [
              0,
              "#0d0887"
             ],
             [
              0.1111111111111111,
              "#46039f"
             ],
             [
              0.2222222222222222,
              "#7201a8"
             ],
             [
              0.3333333333333333,
              "#9c179e"
             ],
             [
              0.4444444444444444,
              "#bd3786"
             ],
             [
              0.5555555555555556,
              "#d8576b"
             ],
             [
              0.6666666666666666,
              "#ed7953"
             ],
             [
              0.7777777777777778,
              "#fb9f3a"
             ],
             [
              0.8888888888888888,
              "#fdca26"
             ],
             [
              1,
              "#f0f921"
             ]
            ],
            "type": "histogram2dcontour"
           }
          ],
          "mesh3d": [
           {
            "colorbar": {
             "outlinewidth": 0,
             "ticks": ""
            },
            "type": "mesh3d"
           }
          ],
          "parcoords": [
           {
            "line": {
             "colorbar": {
              "outlinewidth": 0,
              "ticks": ""
             }
            },
            "type": "parcoords"
           }
          ],
          "pie": [
           {
            "automargin": true,
            "type": "pie"
           }
          ],
          "scatter": [
           {
            "fillpattern": {
             "fillmode": "overlay",
             "size": 10,
             "solidity": 0.2
            },
            "type": "scatter"
           }
          ],
          "scatter3d": [
           {
            "line": {
             "colorbar": {
              "outlinewidth": 0,
              "ticks": ""
             }
            },
            "marker": {
             "colorbar": {
              "outlinewidth": 0,
              "ticks": ""
             }
            },
            "type": "scatter3d"
           }
          ],
          "scattercarpet": [
           {
            "marker": {
             "colorbar": {
              "outlinewidth": 0,
              "ticks": ""
             }
            },
            "type": "scattercarpet"
           }
          ],
          "scattergeo": [
           {
            "marker": {
             "colorbar": {
              "outlinewidth": 0,
              "ticks": ""
             }
            },
            "type": "scattergeo"
           }
          ],
          "scattergl": [
           {
            "marker": {
             "colorbar": {
              "outlinewidth": 0,
              "ticks": ""
             }
            },
            "type": "scattergl"
           }
          ],
          "scattermapbox": [
           {
            "marker": {
             "colorbar": {
              "outlinewidth": 0,
              "ticks": ""
             }
            },
            "type": "scattermapbox"
           }
          ],
          "scatterpolar": [
           {
            "marker": {
             "colorbar": {
              "outlinewidth": 0,
              "ticks": ""
             }
            },
            "type": "scatterpolar"
           }
          ],
          "scatterpolargl": [
           {
            "marker": {
             "colorbar": {
              "outlinewidth": 0,
              "ticks": ""
             }
            },
            "type": "scatterpolargl"
           }
          ],
          "scatterternary": [
           {
            "marker": {
             "colorbar": {
              "outlinewidth": 0,
              "ticks": ""
             }
            },
            "type": "scatterternary"
           }
          ],
          "surface": [
           {
            "colorbar": {
             "outlinewidth": 0,
             "ticks": ""
            },
            "colorscale": [
             [
              0,
              "#0d0887"
             ],
             [
              0.1111111111111111,
              "#46039f"
             ],
             [
              0.2222222222222222,
              "#7201a8"
             ],
             [
              0.3333333333333333,
              "#9c179e"
             ],
             [
              0.4444444444444444,
              "#bd3786"
             ],
             [
              0.5555555555555556,
              "#d8576b"
             ],
             [
              0.6666666666666666,
              "#ed7953"
             ],
             [
              0.7777777777777778,
              "#fb9f3a"
             ],
             [
              0.8888888888888888,
              "#fdca26"
             ],
             [
              1,
              "#f0f921"
             ]
            ],
            "type": "surface"
           }
          ],
          "table": [
           {
            "cells": {
             "fill": {
              "color": "#EBF0F8"
             },
             "line": {
              "color": "white"
             }
            },
            "header": {
             "fill": {
              "color": "#C8D4E3"
             },
             "line": {
              "color": "white"
             }
            },
            "type": "table"
           }
          ]
         },
         "layout": {
          "annotationdefaults": {
           "arrowcolor": "#2a3f5f",
           "arrowhead": 0,
           "arrowwidth": 1
          },
          "autotypenumbers": "strict",
          "coloraxis": {
           "colorbar": {
            "outlinewidth": 0,
            "ticks": ""
           }
          },
          "colorscale": {
           "diverging": [
            [
             0,
             "#8e0152"
            ],
            [
             0.1,
             "#c51b7d"
            ],
            [
             0.2,
             "#de77ae"
            ],
            [
             0.3,
             "#f1b6da"
            ],
            [
             0.4,
             "#fde0ef"
            ],
            [
             0.5,
             "#f7f7f7"
            ],
            [
             0.6,
             "#e6f5d0"
            ],
            [
             0.7,
             "#b8e186"
            ],
            [
             0.8,
             "#7fbc41"
            ],
            [
             0.9,
             "#4d9221"
            ],
            [
             1,
             "#276419"
            ]
           ],
           "sequential": [
            [
             0,
             "#0d0887"
            ],
            [
             0.1111111111111111,
             "#46039f"
            ],
            [
             0.2222222222222222,
             "#7201a8"
            ],
            [
             0.3333333333333333,
             "#9c179e"
            ],
            [
             0.4444444444444444,
             "#bd3786"
            ],
            [
             0.5555555555555556,
             "#d8576b"
            ],
            [
             0.6666666666666666,
             "#ed7953"
            ],
            [
             0.7777777777777778,
             "#fb9f3a"
            ],
            [
             0.8888888888888888,
             "#fdca26"
            ],
            [
             1,
             "#f0f921"
            ]
           ],
           "sequentialminus": [
            [
             0,
             "#0d0887"
            ],
            [
             0.1111111111111111,
             "#46039f"
            ],
            [
             0.2222222222222222,
             "#7201a8"
            ],
            [
             0.3333333333333333,
             "#9c179e"
            ],
            [
             0.4444444444444444,
             "#bd3786"
            ],
            [
             0.5555555555555556,
             "#d8576b"
            ],
            [
             0.6666666666666666,
             "#ed7953"
            ],
            [
             0.7777777777777778,
             "#fb9f3a"
            ],
            [
             0.8888888888888888,
             "#fdca26"
            ],
            [
             1,
             "#f0f921"
            ]
           ]
          },
          "colorway": [
           "#636efa",
           "#EF553B",
           "#00cc96",
           "#ab63fa",
           "#FFA15A",
           "#19d3f3",
           "#FF6692",
           "#B6E880",
           "#FF97FF",
           "#FECB52"
          ],
          "font": {
           "color": "#2a3f5f"
          },
          "geo": {
           "bgcolor": "white",
           "lakecolor": "white",
           "landcolor": "#E5ECF6",
           "showlakes": true,
           "showland": true,
           "subunitcolor": "white"
          },
          "hoverlabel": {
           "align": "left"
          },
          "hovermode": "closest",
          "mapbox": {
           "style": "light"
          },
          "paper_bgcolor": "white",
          "plot_bgcolor": "#E5ECF6",
          "polar": {
           "angularaxis": {
            "gridcolor": "white",
            "linecolor": "white",
            "ticks": ""
           },
           "bgcolor": "#E5ECF6",
           "radialaxis": {
            "gridcolor": "white",
            "linecolor": "white",
            "ticks": ""
           }
          },
          "scene": {
           "xaxis": {
            "backgroundcolor": "#E5ECF6",
            "gridcolor": "white",
            "gridwidth": 2,
            "linecolor": "white",
            "showbackground": true,
            "ticks": "",
            "zerolinecolor": "white"
           },
           "yaxis": {
            "backgroundcolor": "#E5ECF6",
            "gridcolor": "white",
            "gridwidth": 2,
            "linecolor": "white",
            "showbackground": true,
            "ticks": "",
            "zerolinecolor": "white"
           },
           "zaxis": {
            "backgroundcolor": "#E5ECF6",
            "gridcolor": "white",
            "gridwidth": 2,
            "linecolor": "white",
            "showbackground": true,
            "ticks": "",
            "zerolinecolor": "white"
           }
          },
          "shapedefaults": {
           "line": {
            "color": "#2a3f5f"
           }
          },
          "ternary": {
           "aaxis": {
            "gridcolor": "white",
            "linecolor": "white",
            "ticks": ""
           },
           "baxis": {
            "gridcolor": "white",
            "linecolor": "white",
            "ticks": ""
           },
           "bgcolor": "#E5ECF6",
           "caxis": {
            "gridcolor": "white",
            "linecolor": "white",
            "ticks": ""
           }
          },
          "title": {
           "x": 0.05
          },
          "xaxis": {
           "automargin": true,
           "gridcolor": "white",
           "linecolor": "white",
           "ticks": "",
           "title": {
            "standoff": 15
           },
           "zerolinecolor": "white",
           "zerolinewidth": 2
          },
          "yaxis": {
           "automargin": true,
           "gridcolor": "white",
           "linecolor": "white",
           "ticks": "",
           "title": {
            "standoff": 15
           },
           "zerolinecolor": "white",
           "zerolinewidth": 2
          }
         }
        },
        "title": {
         "text": "GDP North America"
        },
        "xaxis": {
         "anchor": "y",
         "domain": [
          0,
          1
         ],
         "range": [
          "1990-01-01",
          "2023-09-01"
         ],
         "title": {
          "text": "TIME_PERIOD"
         }
        },
        "yaxis": {
         "anchor": "x",
         "domain": [
          0,
          1
         ],
         "title": {
          "text": "OBS_VALUE"
         }
        }
       }
      }
     },
     "metadata": {},
     "output_type": "display_data"
    }
   ],
   "source": [
    "fig = px.line(na_gdp, x='TIME_PERIOD', y=\"OBS_VALUE\", color='Zone de référence')\n",
    "fig.update_layout(xaxis_range=['1990-01-01','2023-09-01'],\n",
    "                  title_text= \"GDP North America\")\n",
    "fig.show()"
   ]
  },
  {
   "cell_type": "code",
   "execution_count": 165,
   "metadata": {},
   "outputs": [
    {
     "data": {
      "text/html": [
       "<div>\n",
       "<style scoped>\n",
       "    .dataframe tbody tr th:only-of-type {\n",
       "        vertical-align: middle;\n",
       "    }\n",
       "\n",
       "    .dataframe tbody tr th {\n",
       "        vertical-align: top;\n",
       "    }\n",
       "\n",
       "    .dataframe thead th {\n",
       "        text-align: right;\n",
       "    }\n",
       "</style>\n",
       "<table border=\"1\" class=\"dataframe\">\n",
       "  <thead>\n",
       "    <tr style=\"text-align: right;\">\n",
       "      <th></th>\n",
       "      <th>Unnamed: 0</th>\n",
       "      <th>Zone de référence</th>\n",
       "      <th>Secteur institutionnel</th>\n",
       "      <th>Transaction</th>\n",
       "      <th>Activité économique</th>\n",
       "      <th>Unité de mesure</th>\n",
       "      <th>Transformation</th>\n",
       "      <th>TIME_PERIOD</th>\n",
       "      <th>OBS_VALUE</th>\n",
       "    </tr>\n",
       "  </thead>\n",
       "  <tbody>\n",
       "    <tr>\n",
       "      <th>0</th>\n",
       "      <td>2314</td>\n",
       "      <td>Chili</td>\n",
       "      <td>Economie totale</td>\n",
       "      <td>Produit intérieur brut</td>\n",
       "      <td>Non applicable</td>\n",
       "      <td>Changement en pourcentage</td>\n",
       "      <td>Taux de croissance, période sur période</td>\n",
       "      <td>1996-06-01</td>\n",
       "      <td>0.994937</td>\n",
       "    </tr>\n",
       "    <tr>\n",
       "      <th>1</th>\n",
       "      <td>2315</td>\n",
       "      <td>Chili</td>\n",
       "      <td>Economie totale</td>\n",
       "      <td>Produit intérieur brut</td>\n",
       "      <td>Non applicable</td>\n",
       "      <td>Changement en pourcentage</td>\n",
       "      <td>Taux de croissance, période sur période</td>\n",
       "      <td>1996-09-01</td>\n",
       "      <td>0.996914</td>\n",
       "    </tr>\n",
       "    <tr>\n",
       "      <th>2</th>\n",
       "      <td>2316</td>\n",
       "      <td>Chili</td>\n",
       "      <td>Economie totale</td>\n",
       "      <td>Produit intérieur brut</td>\n",
       "      <td>Non applicable</td>\n",
       "      <td>Changement en pourcentage</td>\n",
       "      <td>Taux de croissance, période sur période</td>\n",
       "      <td>1996-12-01</td>\n",
       "      <td>1.433251</td>\n",
       "    </tr>\n",
       "    <tr>\n",
       "      <th>3</th>\n",
       "      <td>2317</td>\n",
       "      <td>Chili</td>\n",
       "      <td>Economie totale</td>\n",
       "      <td>Produit intérieur brut</td>\n",
       "      <td>Non applicable</td>\n",
       "      <td>Changement en pourcentage</td>\n",
       "      <td>Taux de croissance, période sur période</td>\n",
       "      <td>1997-03-01</td>\n",
       "      <td>2.267708</td>\n",
       "    </tr>\n",
       "    <tr>\n",
       "      <th>4</th>\n",
       "      <td>2318</td>\n",
       "      <td>Chili</td>\n",
       "      <td>Economie totale</td>\n",
       "      <td>Produit intérieur brut</td>\n",
       "      <td>Non applicable</td>\n",
       "      <td>Changement en pourcentage</td>\n",
       "      <td>Taux de croissance, période sur période</td>\n",
       "      <td>1997-06-01</td>\n",
       "      <td>2.081234</td>\n",
       "    </tr>\n",
       "    <tr>\n",
       "      <th>...</th>\n",
       "      <td>...</td>\n",
       "      <td>...</td>\n",
       "      <td>...</td>\n",
       "      <td>...</td>\n",
       "      <td>...</td>\n",
       "      <td>...</td>\n",
       "      <td>...</td>\n",
       "      <td>...</td>\n",
       "      <td>...</td>\n",
       "    </tr>\n",
       "    <tr>\n",
       "      <th>2816</th>\n",
       "      <td>27832</td>\n",
       "      <td>Brésil</td>\n",
       "      <td>Economie totale</td>\n",
       "      <td>Produit intérieur brut</td>\n",
       "      <td>Non applicable</td>\n",
       "      <td>Changement en pourcentage</td>\n",
       "      <td>Taux de croissance, période sur période</td>\n",
       "      <td>2022-12-01</td>\n",
       "      <td>0.181719</td>\n",
       "    </tr>\n",
       "    <tr>\n",
       "      <th>2817</th>\n",
       "      <td>27833</td>\n",
       "      <td>Brésil</td>\n",
       "      <td>Economie totale</td>\n",
       "      <td>Produit intérieur brut</td>\n",
       "      <td>Non applicable</td>\n",
       "      <td>Changement en pourcentage</td>\n",
       "      <td>Taux de croissance, période sur période</td>\n",
       "      <td>2023-03-01</td>\n",
       "      <td>1.324569</td>\n",
       "    </tr>\n",
       "    <tr>\n",
       "      <th>2818</th>\n",
       "      <td>27834</td>\n",
       "      <td>Brésil</td>\n",
       "      <td>Economie totale</td>\n",
       "      <td>Produit intérieur brut</td>\n",
       "      <td>Non applicable</td>\n",
       "      <td>Changement en pourcentage</td>\n",
       "      <td>Taux de croissance, période sur période</td>\n",
       "      <td>2023-06-01</td>\n",
       "      <td>0.841377</td>\n",
       "    </tr>\n",
       "    <tr>\n",
       "      <th>2819</th>\n",
       "      <td>27835</td>\n",
       "      <td>Brésil</td>\n",
       "      <td>Economie totale</td>\n",
       "      <td>Produit intérieur brut</td>\n",
       "      <td>Non applicable</td>\n",
       "      <td>Changement en pourcentage</td>\n",
       "      <td>Taux de croissance, période sur période</td>\n",
       "      <td>2023-09-01</td>\n",
       "      <td>0.032943</td>\n",
       "    </tr>\n",
       "    <tr>\n",
       "      <th>2820</th>\n",
       "      <td>27836</td>\n",
       "      <td>Brésil</td>\n",
       "      <td>Economie totale</td>\n",
       "      <td>Produit intérieur brut</td>\n",
       "      <td>Non applicable</td>\n",
       "      <td>Changement en pourcentage</td>\n",
       "      <td>Taux de croissance, période sur période</td>\n",
       "      <td>2023-12-01</td>\n",
       "      <td>-0.037212</td>\n",
       "    </tr>\n",
       "  </tbody>\n",
       "</table>\n",
       "<p>549 rows × 9 columns</p>\n",
       "</div>"
      ],
      "text/plain": [
       "      Unnamed: 0 Zone de référence Secteur institutionnel  \\\n",
       "0           2314             Chili        Economie totale   \n",
       "1           2315             Chili        Economie totale   \n",
       "2           2316             Chili        Economie totale   \n",
       "3           2317             Chili        Economie totale   \n",
       "4           2318             Chili        Economie totale   \n",
       "...          ...               ...                    ...   \n",
       "2816       27832            Brésil        Economie totale   \n",
       "2817       27833            Brésil        Economie totale   \n",
       "2818       27834            Brésil        Economie totale   \n",
       "2819       27835            Brésil        Economie totale   \n",
       "2820       27836            Brésil        Economie totale   \n",
       "\n",
       "                 Transaction Activité économique            Unité de mesure  \\\n",
       "0     Produit intérieur brut      Non applicable  Changement en pourcentage   \n",
       "1     Produit intérieur brut      Non applicable  Changement en pourcentage   \n",
       "2     Produit intérieur brut      Non applicable  Changement en pourcentage   \n",
       "3     Produit intérieur brut      Non applicable  Changement en pourcentage   \n",
       "4     Produit intérieur brut      Non applicable  Changement en pourcentage   \n",
       "...                      ...                 ...                        ...   \n",
       "2816  Produit intérieur brut      Non applicable  Changement en pourcentage   \n",
       "2817  Produit intérieur brut      Non applicable  Changement en pourcentage   \n",
       "2818  Produit intérieur brut      Non applicable  Changement en pourcentage   \n",
       "2819  Produit intérieur brut      Non applicable  Changement en pourcentage   \n",
       "2820  Produit intérieur brut      Non applicable  Changement en pourcentage   \n",
       "\n",
       "                               Transformation TIME_PERIOD  OBS_VALUE  \n",
       "0     Taux de croissance, période sur période  1996-06-01   0.994937  \n",
       "1     Taux de croissance, période sur période  1996-09-01   0.996914  \n",
       "2     Taux de croissance, période sur période  1996-12-01   1.433251  \n",
       "3     Taux de croissance, période sur période  1997-03-01   2.267708  \n",
       "4     Taux de croissance, période sur période  1997-06-01   2.081234  \n",
       "...                                       ...         ...        ...  \n",
       "2816  Taux de croissance, période sur période  2022-12-01   0.181719  \n",
       "2817  Taux de croissance, période sur période  2023-03-01   1.324569  \n",
       "2818  Taux de croissance, période sur période  2023-06-01   0.841377  \n",
       "2819  Taux de croissance, période sur période  2023-09-01   0.032943  \n",
       "2820  Taux de croissance, période sur période  2023-12-01  -0.037212  \n",
       "\n",
       "[549 rows x 9 columns]"
      ]
     },
     "execution_count": 165,
     "metadata": {},
     "output_type": "execute_result"
    }
   ],
   "source": [
    "# South and Central America\n",
    "southamerica_gdp = gdp[(gdp[\"Zone de référence\"] == \"Chili\")| \n",
    "                      (gdp[\"Zone de référence\"] == \"Colombie\")  |\n",
    "                      (gdp[\"Zone de référence\"] == \"Costa Rica\")|\n",
    "                      (gdp[\"Zone de référence\"] == \"Argentine\") |\n",
    "                      (gdp[\"Zone de référence\"] == \"Brésil\") \n",
    "                      ]\n",
    "southamerica_gdp"
   ]
  },
  {
   "cell_type": "code",
   "execution_count": 168,
   "metadata": {},
   "outputs": [
    {
     "data": {
      "application/vnd.plotly.v1+json": {
       "config": {
        "plotlyServerURL": "https://plot.ly"
       },
       "data": [
        {
         "hovertemplate": "Zone de référence=Chili<br>TIME_PERIOD=%{x}<br>OBS_VALUE=%{y}<extra></extra>",
         "legendgroup": "Chili",
         "line": {
          "color": "#636efa",
          "dash": "solid"
         },
         "marker": {
          "symbol": "circle"
         },
         "mode": "lines",
         "name": "Chili",
         "orientation": "v",
         "showlegend": true,
         "type": "scatter",
         "x": [
          "1996-06-01",
          "1996-09-01",
          "1996-12-01",
          "1997-03-01",
          "1997-06-01",
          "1997-09-01",
          "1997-12-01",
          "1998-03-01",
          "1998-06-01",
          "1998-09-01",
          "1998-12-01",
          "1999-03-01",
          "1999-06-01",
          "1999-09-01",
          "1999-12-01",
          "2000-03-01",
          "2000-06-01",
          "2000-09-01",
          "2000-12-01",
          "2001-03-01",
          "2001-06-01",
          "2001-09-01",
          "2001-12-01",
          "2002-03-01",
          "2002-06-01",
          "2002-09-01",
          "2002-12-01",
          "2003-03-01",
          "2003-06-01",
          "2003-09-01",
          "2003-12-01",
          "2004-03-01",
          "2004-06-01",
          "2004-09-01",
          "2004-12-01",
          "2005-03-01",
          "2005-06-01",
          "2005-09-01",
          "2005-12-01",
          "2006-03-01",
          "2006-06-01",
          "2006-09-01",
          "2006-12-01",
          "2007-03-01",
          "2007-06-01",
          "2007-09-01",
          "2007-12-01",
          "2008-03-01",
          "2008-06-01",
          "2008-09-01",
          "2008-12-01",
          "2009-03-01",
          "2009-06-01",
          "2009-09-01",
          "2009-12-01",
          "2010-03-01",
          "2010-06-01",
          "2010-09-01",
          "2010-12-01",
          "2011-03-01",
          "2011-06-01",
          "2011-09-01",
          "2011-12-01",
          "2012-03-01",
          "2012-06-01",
          "2012-09-01",
          "2012-12-01",
          "2013-03-01",
          "2013-06-01",
          "2013-09-01",
          "2013-12-01",
          "2014-03-01",
          "2014-06-01",
          "2014-09-01",
          "2014-12-01",
          "2015-03-01",
          "2015-06-01",
          "2015-09-01",
          "2015-12-01",
          "2016-03-01",
          "2016-06-01",
          "2016-09-01",
          "2016-12-01",
          "2017-03-01",
          "2017-06-01",
          "2017-09-01",
          "2017-12-01",
          "2018-03-01",
          "2018-06-01",
          "2018-09-01",
          "2018-12-01",
          "2019-03-01",
          "2019-06-01",
          "2019-09-01",
          "2019-12-01",
          "2020-03-01",
          "2020-06-01",
          "2020-09-01",
          "2020-12-01",
          "2021-03-01",
          "2021-06-01",
          "2021-09-01",
          "2021-12-01",
          "2022-03-01",
          "2022-06-01",
          "2022-09-01",
          "2022-12-01",
          "2023-03-01",
          "2023-06-01",
          "2023-09-01"
         ],
         "xaxis": "x",
         "y": [
          0.994936771,
          0.996914239,
          1.433250697,
          2.267707579,
          2.081233855,
          2.258983605,
          2.128630587,
          0.803326686,
          1.696357568,
          -0.671693751,
          -3.23674085,
          0.019194374,
          0.272836528,
          2.109523192,
          2.634063267,
          0.944780385,
          0.221694277,
          1.55589961,
          1.173626284,
          0.696726562,
          0.968738716,
          -0.23509538,
          0.624600337,
          0.837434434,
          0.813458395,
          1.089337165,
          1.453285153,
          1.421052776,
          1.058676682,
          0.659224704,
          0.542622994,
          2.106265265,
          1.922414893,
          2.618171548,
          1.622261174,
          0.113133549,
          1.660761948,
          2.431318548,
          1.202331316,
          0.904371131,
          2.075793122,
          1.361350966,
          2.134831237,
          1.026061307,
          1.016700992,
          0.274925169,
          1.879740207,
          2.107285899,
          0.098720545,
          -0.814893415,
          -0.803044188,
          -0.486364714,
          -0.582358636,
          1.196392709,
          1.230024511,
          0.323498697,
          3.393417369,
          2.347382041,
          1.189865358,
          1.165655654,
          1.4368042,
          0.641388864,
          2.174858411,
          2.05531398,
          1.853532999,
          0.777134444,
          0.593636336,
          0.824311762,
          0.850767491,
          0.665138537,
          0.27493726,
          0.301972734,
          0.809075588,
          -0.41776105,
          1.070977739,
          0.647907534,
          0.929949623,
          -0.324920298,
          0.628709405,
          1.165712694,
          -0.471658454,
          0.676883098,
          -0.176678237,
          -0.627960661,
          1.318227782,
          1.933704189,
          0.671839291,
          0.970685055,
          1.444126694,
          -0.345626286,
          1.201787253,
          -0.461266144,
          1.338968508,
          0.136989515,
          -4.044115004,
          2.579440149,
          -13.064847388,
          4.697837586,
          6.66506671,
          4.277398955,
          1.222686336,
          4.217363956,
          2.341687063,
          -0.812336266,
          -0.325797475,
          -1.134187573,
          0.134982414,
          0.546959491,
          -0.348737857,
          0.331248491
         ],
         "yaxis": "y"
        },
        {
         "hovertemplate": "Zone de référence=Colombie<br>TIME_PERIOD=%{x}<br>OBS_VALUE=%{y}<extra></extra>",
         "legendgroup": "Colombie",
         "line": {
          "color": "#EF553B",
          "dash": "solid"
         },
         "marker": {
          "symbol": "circle"
         },
         "mode": "lines",
         "name": "Colombie",
         "orientation": "v",
         "showlegend": true,
         "type": "scatter",
         "x": [
          "2005-06-01",
          "2005-09-01",
          "2005-12-01",
          "2006-03-01",
          "2006-06-01",
          "2006-09-01",
          "2006-12-01",
          "2007-03-01",
          "2007-06-01",
          "2007-09-01",
          "2007-12-01",
          "2008-03-01",
          "2008-06-01",
          "2008-09-01",
          "2008-12-01",
          "2009-03-01",
          "2009-06-01",
          "2009-09-01",
          "2009-12-01",
          "2010-03-01",
          "2010-06-01",
          "2010-09-01",
          "2010-12-01",
          "2011-03-01",
          "2011-06-01",
          "2011-09-01",
          "2011-12-01",
          "2012-03-01",
          "2012-06-01",
          "2012-09-01",
          "2012-12-01",
          "2013-03-01",
          "2013-06-01",
          "2013-09-01",
          "2013-12-01",
          "2014-03-01",
          "2014-06-01",
          "2014-09-01",
          "2014-12-01",
          "2015-03-01",
          "2015-06-01",
          "2015-09-01",
          "2015-12-01",
          "2016-03-01",
          "2016-06-01",
          "2016-09-01",
          "2016-12-01",
          "2017-03-01",
          "2017-06-01",
          "2017-09-01",
          "2017-12-01",
          "2018-03-01",
          "2018-06-01",
          "2018-09-01",
          "2018-12-01",
          "2019-03-01",
          "2019-06-01",
          "2019-09-01",
          "2019-12-01",
          "2020-03-01",
          "2020-06-01",
          "2020-09-01",
          "2020-12-01",
          "2021-03-01",
          "2021-06-01",
          "2021-09-01",
          "2021-12-01",
          "2022-03-01",
          "2022-06-01",
          "2022-09-01",
          "2022-12-01",
          "2023-03-01",
          "2023-06-01",
          "2023-09-01",
          "2023-12-01"
         ],
         "xaxis": "x",
         "y": [
          2.176992179,
          -0.210918055,
          2.065492242,
          2.268903057,
          1.09774288,
          2.030843862,
          1.853408453,
          1.633222618,
          1.074777401,
          2.137500499,
          1.560673795,
          0.260806615,
          0.50186998,
          0.935311297,
          -1.35746022,
          0.066192521,
          0.890130026,
          1.123499548,
          1.098207796,
          0.683422581,
          1.440827665,
          0.921174696,
          2.335656206,
          1.856645487,
          1.359936151,
          2.286715941,
          0.74460832,
          1.500905778,
          0.137658402,
          -0.133784693,
          1.212656194,
          1.163507855,
          3.144159457,
          0.638144521,
          1.299291814,
          1.457143222,
          0.040511916,
          1.355530534,
          0.815216109,
          0.699819811,
          0.56950679,
          1.281167681,
          -0.547029869,
          1.213375345,
          0.22182653,
          0.47023378,
          0.374996459,
          0.112176498,
          0.304767944,
          0.809278945,
          0.142614221,
          0.495330847,
          1.278562229,
          0.91586629,
          0.161299474,
          1.138813395,
          0.776136224,
          1.040342513,
          0.057606371,
          -1.33453494,
          -16.590137824,
          10.497292201,
          6.20801134,
          3.61266616,
          -2.37382525,
          5.572343317,
          4.108300249,
          0.732467997,
          1.29694208,
          1.006754834,
          -0.926632338,
          1.403336033,
          -1.436280726,
          0.339560893,
          0.037231275
         ],
         "yaxis": "y"
        },
        {
         "hovertemplate": "Zone de référence=Costa Rica<br>TIME_PERIOD=%{x}<br>OBS_VALUE=%{y}<extra></extra>",
         "legendgroup": "Costa Rica",
         "line": {
          "color": "#00cc96",
          "dash": "solid"
         },
         "marker": {
          "symbol": "circle"
         },
         "mode": "lines",
         "name": "Costa Rica",
         "orientation": "v",
         "showlegend": true,
         "type": "scatter",
         "x": [
          "1991-06-01",
          "1991-09-01",
          "1991-12-01",
          "1992-03-01",
          "1992-06-01",
          "1992-09-01",
          "1992-12-01",
          "1993-03-01",
          "1993-06-01",
          "1993-09-01",
          "1993-12-01",
          "1994-03-01",
          "1994-06-01",
          "1994-09-01",
          "1994-12-01",
          "1995-03-01",
          "1995-06-01",
          "1995-09-01",
          "1995-12-01",
          "1996-03-01",
          "1996-06-01",
          "1996-09-01",
          "1996-12-01",
          "1997-03-01",
          "1997-06-01",
          "1997-09-01",
          "1997-12-01",
          "1998-03-01",
          "1998-06-01",
          "1998-09-01",
          "1998-12-01",
          "1999-03-01",
          "1999-06-01",
          "1999-09-01",
          "1999-12-01",
          "2000-03-01",
          "2000-06-01",
          "2000-09-01",
          "2000-12-01",
          "2001-03-01",
          "2001-06-01",
          "2001-09-01",
          "2001-12-01",
          "2002-03-01",
          "2002-06-01",
          "2002-09-01",
          "2002-12-01",
          "2003-03-01",
          "2003-06-01",
          "2003-09-01",
          "2003-12-01",
          "2004-03-01",
          "2004-06-01",
          "2004-09-01",
          "2004-12-01",
          "2005-03-01",
          "2005-06-01",
          "2005-09-01",
          "2005-12-01",
          "2006-03-01",
          "2006-06-01",
          "2006-09-01",
          "2006-12-01",
          "2007-03-01",
          "2007-06-01",
          "2007-09-01",
          "2007-12-01",
          "2008-03-01",
          "2008-06-01",
          "2008-09-01",
          "2008-12-01",
          "2009-03-01",
          "2009-06-01",
          "2009-09-01",
          "2009-12-01",
          "2010-03-01",
          "2010-06-01",
          "2010-09-01",
          "2010-12-01",
          "2011-03-01",
          "2011-06-01",
          "2011-09-01",
          "2011-12-01",
          "2012-03-01",
          "2012-06-01",
          "2012-09-01",
          "2012-12-01",
          "2013-03-01",
          "2013-06-01",
          "2013-09-01",
          "2013-12-01",
          "2014-03-01",
          "2014-06-01",
          "2014-09-01",
          "2014-12-01",
          "2015-03-01",
          "2015-06-01",
          "2015-09-01",
          "2015-12-01",
          "2016-03-01",
          "2016-06-01",
          "2016-09-01",
          "2016-12-01",
          "2017-03-01",
          "2017-06-01",
          "2017-09-01",
          "2017-12-01",
          "2018-03-01",
          "2018-06-01",
          "2018-09-01",
          "2018-12-01",
          "2019-03-01",
          "2019-06-01",
          "2019-09-01",
          "2019-12-01",
          "2020-03-01",
          "2020-06-01",
          "2020-09-01",
          "2020-12-01",
          "2021-03-01",
          "2021-06-01",
          "2021-09-01",
          "2021-12-01",
          "2022-03-01",
          "2022-06-01",
          "2022-09-01",
          "2022-12-01",
          "2023-03-01",
          "2023-06-01",
          "2023-09-01",
          "2023-12-01"
         ],
         "xaxis": "x",
         "y": [
          1.035248304,
          0.512306705,
          4.212703705,
          1.756863375,
          2.205445807,
          4.241686013,
          -0.995513814,
          3.004158729,
          0.918226775,
          2.071899892,
          1.231352556,
          -0.180305294,
          2.979325668,
          0.74982096,
          -0.376856494,
          3.534733368,
          -0.558956629,
          -0.010315064,
          0.432670518,
          -0.03685832,
          -0.000526023,
          1.654783645,
          1.480374731,
          0.009881637,
          2.904592233,
          1.042517282,
          3.086391476,
          2.420811796,
          0.017469471,
          0.737046901,
          2.494305843,
          -0.366100529,
          1.974192375,
          0.935016056,
          1.585057507,
          0.918022759,
          0.162958567,
          0.883693047,
          0.810347515,
          1.454238327,
          0.199371803,
          1.265083857,
          0.470352331,
          0.512256592,
          1.807037101,
          0.796461251,
          0.395268474,
          1.278046177,
          1.207316794,
          1.283054893,
          1.072538839,
          1.06782726,
          1.335460605,
          0.424958109,
          1.321994496,
          0.476445079,
          0.950709145,
          1.695534988,
          1.443167452,
          1.281259449,
          2.472204275,
          2.178704159,
          2.956733922,
          1.134110388,
          2.59037971,
          1.14246083,
          1.864057323,
          2.108540873,
          -0.106123949,
          0.571068655,
          -1.026540825,
          -2.514496132,
          1.49310669,
          1.253082917,
          1.616330357,
          1.188737344,
          1.18907384,
          1.627672179,
          0.659778156,
          0.521492971,
          2.292137183,
          0.342097322,
          1.330960365,
          2.064502461,
          0.491952942,
          0.595852799,
          1.246995673,
          0.266047915,
          -0.264913843,
          1.844276837,
          0.603392103,
          1.24821301,
          0.35068627,
          0.815861388,
          1.067423187,
          0.178048619,
          2.19011708,
          1.251073992,
          -0.457662287,
          2.429403701,
          -0.337471571,
          1.750634064,
          1.057641893,
          0.451616914,
          2.192408908,
          0.006972888,
          1.702034009,
          0.349575248,
          1.063558466,
          -0.399460515,
          -0.652304554,
          1.419457233,
          1.47150271,
          0.291395385,
          0.487215836,
          -0.60404915,
          -7.788313709,
          1.265575674,
          2.919911441,
          3.373565564,
          2.377889735,
          3.391324506,
          0.823237958,
          -0.318993681,
          0.920012261,
          1.370042699,
          2.252221882,
          -0.584823505,
          2.504614203,
          1.28614672,
          1.781321913
         ],
         "yaxis": "y"
        },
        {
         "hovertemplate": "Zone de référence=Argentine<br>TIME_PERIOD=%{x}<br>OBS_VALUE=%{y}<extra></extra>",
         "legendgroup": "Argentine",
         "line": {
          "color": "#ab63fa",
          "dash": "solid"
         },
         "marker": {
          "symbol": "circle"
         },
         "mode": "lines",
         "name": "Argentine",
         "orientation": "v",
         "showlegend": true,
         "type": "scatter",
         "x": [
          "1993-06-01",
          "1993-09-01",
          "1993-12-01",
          "1994-03-01",
          "1994-06-01",
          "1994-09-01",
          "1994-12-01",
          "1995-03-01",
          "1995-06-01",
          "1995-09-01",
          "1995-12-01",
          "1996-03-01",
          "1996-06-01",
          "1996-09-01",
          "1996-12-01",
          "1997-03-01",
          "1997-06-01",
          "1997-09-01",
          "1997-12-01",
          "1998-03-01",
          "1998-06-01",
          "1998-09-01",
          "1998-12-01",
          "1999-03-01",
          "1999-06-01",
          "1999-09-01",
          "1999-12-01",
          "2000-03-01",
          "2000-06-01",
          "2000-09-01",
          "2000-12-01",
          "2001-03-01",
          "2001-06-01",
          "2001-09-01",
          "2001-12-01",
          "2002-03-01",
          "2002-06-01",
          "2002-09-01",
          "2002-12-01",
          "2003-03-01",
          "2003-06-01",
          "2003-09-01",
          "2003-12-01",
          "2004-03-01",
          "2004-06-01",
          "2004-09-01",
          "2004-12-01",
          "2005-03-01",
          "2005-06-01",
          "2005-09-01",
          "2005-12-01",
          "2006-03-01",
          "2006-06-01",
          "2006-09-01",
          "2006-12-01",
          "2007-03-01",
          "2007-06-01",
          "2007-09-01",
          "2007-12-01",
          "2008-03-01",
          "2008-06-01",
          "2008-09-01",
          "2008-12-01",
          "2009-03-01",
          "2009-06-01",
          "2009-09-01",
          "2009-12-01",
          "2010-03-01",
          "2010-06-01",
          "2010-09-01",
          "2010-12-01",
          "2011-03-01",
          "2011-06-01",
          "2011-09-01",
          "2011-12-01",
          "2012-03-01",
          "2012-06-01",
          "2012-09-01",
          "2012-12-01",
          "2013-03-01",
          "2013-06-01",
          "2013-09-01",
          "2013-12-01",
          "2014-03-01",
          "2014-06-01",
          "2014-09-01",
          "2014-12-01",
          "2015-03-01",
          "2015-06-01",
          "2015-09-01",
          "2015-12-01",
          "2016-03-01",
          "2016-06-01",
          "2016-09-01",
          "2016-12-01",
          "2017-03-01",
          "2017-06-01",
          "2017-09-01",
          "2017-12-01",
          "2018-03-01",
          "2018-06-01",
          "2018-09-01",
          "2018-12-01",
          "2019-03-01",
          "2019-06-01",
          "2019-09-01",
          "2019-12-01",
          "2020-03-01",
          "2020-06-01",
          "2020-09-01",
          "2020-12-01",
          "2021-03-01",
          "2021-06-01",
          "2021-09-01",
          "2021-12-01",
          "2022-03-01",
          "2022-06-01",
          "2022-09-01",
          "2022-12-01",
          "2023-03-01",
          "2023-06-01",
          "2023-09-01"
         ],
         "xaxis": "x",
         "y": [
          2.852959296,
          2.010235835,
          0.8054548,
          1.421339214,
          2.06825957,
          0.252390576,
          1.240934576,
          -1.543121762,
          -3.790303996,
          -0.386299513,
          0.766784665,
          2.749659958,
          2.228766023,
          2.296677959,
          1.822265983,
          2.100205284,
          1.487513881,
          2.517217344,
          1.351457572,
          0.517421564,
          1.959505358,
          -0.304614298,
          -2.549266052,
          -1.245853391,
          -1.129907359,
          -0.288150498,
          1.672821014,
          -0.340002407,
          -1.60889246,
          -0.255185082,
          0.306858135,
          0.163646159,
          -0.829817774,
          -4.645878876,
          -5.694872931,
          -4.931018536,
          0.423986148,
          0.074497309,
          1.019056942,
          3.695017177,
          3.164325049,
          2.443638131,
          1.87649889,
          3.332249822,
          -1.187140189,
          5.001483408,
          1.364585527,
          2.863951785,
          2.401912723,
          0.544794846,
          1.882201024,
          2.618710144,
          1.283520324,
          2.834537306,
          2.113171474,
          2.324568916,
          2.135647277,
          1.435973867,
          3.025059382,
          0.915145021,
          0.5319922,
          0.816540818,
          -4.699651529,
          -3.68596071,
          -2.327618157,
          4.137050034,
          1.850576163,
          3.006575948,
          4.490697894,
          0.602358806,
          1.091722271,
          2.276464553,
          1.357628526,
          0.850064822,
          -0.179491674,
          -1.066886653,
          -3.317083878,
          3.120596366,
          1.604564971,
          -0.169099504,
          0.803291529,
          0.575513883,
          -0.854431997,
          -1.561201134,
          -0.667877758,
          -0.876704059,
          0.513028084,
          1.416363346,
          2.609138729,
          -0.256162755,
          -1.17323346,
          -0.715893271,
          -1.724610817,
          0.261096564,
          0.654155256,
          1.018090701,
          0.898205924,
          1.351872623,
          0.94385962,
          -0.50941231,
          -4.263739865,
          -0.173477173,
          -1.607017303,
          0.375610664,
          0.443968831,
          0.134160963,
          -1.507469094,
          -4.459706587,
          -14.164386431,
          11.054141602,
          4.603577567,
          3.642444824,
          0.156548466,
          2.571893853,
          2.361542507,
          0.782374557,
          1.698917105,
          0.359293612,
          -1.691146472,
          0.809386918,
          -2.727762996,
          2.723686651
         ],
         "yaxis": "y"
        },
        {
         "hovertemplate": "Zone de référence=Brésil<br>TIME_PERIOD=%{x}<br>OBS_VALUE=%{y}<extra></extra>",
         "legendgroup": "Brésil",
         "line": {
          "color": "#FFA15A",
          "dash": "solid"
         },
         "marker": {
          "symbol": "circle"
         },
         "mode": "lines",
         "name": "Brésil",
         "orientation": "v",
         "showlegend": true,
         "type": "scatter",
         "x": [
          "1996-06-01",
          "1996-09-01",
          "1996-12-01",
          "1997-03-01",
          "1997-06-01",
          "1997-09-01",
          "1997-12-01",
          "1998-03-01",
          "1998-06-01",
          "1998-09-01",
          "1998-12-01",
          "1999-03-01",
          "1999-06-01",
          "1999-09-01",
          "1999-12-01",
          "2000-03-01",
          "2000-06-01",
          "2000-09-01",
          "2000-12-01",
          "2001-03-01",
          "2001-06-01",
          "2001-09-01",
          "2001-12-01",
          "2002-03-01",
          "2002-06-01",
          "2002-09-01",
          "2002-12-01",
          "2003-03-01",
          "2003-06-01",
          "2003-09-01",
          "2003-12-01",
          "2004-03-01",
          "2004-06-01",
          "2004-09-01",
          "2004-12-01",
          "2005-03-01",
          "2005-06-01",
          "2005-09-01",
          "2005-12-01",
          "2006-03-01",
          "2006-06-01",
          "2006-09-01",
          "2006-12-01",
          "2007-03-01",
          "2007-06-01",
          "2007-09-01",
          "2007-12-01",
          "2008-03-01",
          "2008-06-01",
          "2008-09-01",
          "2008-12-01",
          "2009-03-01",
          "2009-06-01",
          "2009-09-01",
          "2009-12-01",
          "2010-03-01",
          "2010-06-01",
          "2010-09-01",
          "2010-12-01",
          "2011-03-01",
          "2011-06-01",
          "2011-09-01",
          "2011-12-01",
          "2012-03-01",
          "2012-06-01",
          "2012-09-01",
          "2012-12-01",
          "2013-03-01",
          "2013-06-01",
          "2013-09-01",
          "2013-12-01",
          "2014-03-01",
          "2014-06-01",
          "2014-09-01",
          "2014-12-01",
          "2015-03-01",
          "2015-06-01",
          "2015-09-01",
          "2015-12-01",
          "2016-03-01",
          "2016-06-01",
          "2016-09-01",
          "2016-12-01",
          "2017-03-01",
          "2017-06-01",
          "2017-09-01",
          "2017-12-01",
          "2018-03-01",
          "2018-06-01",
          "2018-09-01",
          "2018-12-01",
          "2019-03-01",
          "2019-06-01",
          "2019-09-01",
          "2019-12-01",
          "2020-03-01",
          "2020-06-01",
          "2020-09-01",
          "2020-12-01",
          "2021-03-01",
          "2021-06-01",
          "2021-09-01",
          "2021-12-01",
          "2022-03-01",
          "2022-06-01",
          "2022-09-01",
          "2022-12-01",
          "2023-03-01",
          "2023-06-01",
          "2023-09-01",
          "2023-12-01"
         ],
         "xaxis": "x",
         "y": [
          1.234067756,
          3.490251743,
          -0.750919479,
          0.99863892,
          0.579062834,
          1.072659714,
          1.01913272,
          -1.971169865,
          1.613701915,
          -0.073422054,
          -1.005313511,
          0.157486779,
          0.40752922,
          0.11466856,
          1.374331138,
          1.080880641,
          1.330165051,
          1.362856937,
          1.134976267,
          0.255813807,
          -0.380639716,
          -0.441992707,
          -0.465040231,
          2.51454022,
          0.400527574,
          1.239425599,
          0.97290031,
          -0.326306994,
          -0.822671858,
          0.825496567,
          1.039117068,
          1.498137959,
          2.700497494,
          1.20862557,
          0.833562327,
          0.825713906,
          1.159951054,
          -0.670882582,
          1.398625046,
          1.459830367,
          0.406175009,
          1.616852387,
          1.273538184,
          1.774924031,
          1.723899746,
          0.994369702,
          1.502635404,
          1.326366559,
          2.05813016,
          1.477543138,
          -3.710724829,
          -1.329904958,
          1.7427936,
          2.3564325,
          2.518021384,
          2.159634938,
          1.237022169,
          0.887464897,
          1.368426745,
          1.474627504,
          0.876741828,
          -0.156555657,
          0.900511019,
          -1.341725144,
          1.688800377,
          1.732698515,
          0.068978112,
          0.488274027,
          1.46451783,
          0.404717004,
          0.175840295,
          0.762242565,
          -1.331091314,
          -0.088080604,
          0.436913914,
          -0.809105163,
          -2.283584852,
          -1.552921189,
          -0.964581142,
          -1.38760766,
          0.324940099,
          -0.500613569,
          -0.121446286,
          0.992300072,
          0.764537442,
          0.347977632,
          0.557826339,
          0.477919535,
          0.003963601,
          0.902862434,
          -0.238200041,
          0.292729323,
          0.617935376,
          -0.018389856,
          0.762060546,
          -2.181388044,
          -8.794237674,
          7.862742746,
          3.629164808,
          1.024554425,
          -0.551754333,
          0.084795636,
          1.040218856,
          0.924034638,
          1.30377034,
          0.918937307,
          0.18171938,
          1.324569005,
          0.841376644,
          0.032942871,
          -0.037212424
         ],
         "yaxis": "y"
        }
       ],
       "layout": {
        "legend": {
         "title": {
          "text": "Zone de référence"
         },
         "tracegroupgap": 0
        },
        "margin": {
         "t": 60
        },
        "template": {
         "data": {
          "bar": [
           {
            "error_x": {
             "color": "#2a3f5f"
            },
            "error_y": {
             "color": "#2a3f5f"
            },
            "marker": {
             "line": {
              "color": "#E5ECF6",
              "width": 0.5
             },
             "pattern": {
              "fillmode": "overlay",
              "size": 10,
              "solidity": 0.2
             }
            },
            "type": "bar"
           }
          ],
          "barpolar": [
           {
            "marker": {
             "line": {
              "color": "#E5ECF6",
              "width": 0.5
             },
             "pattern": {
              "fillmode": "overlay",
              "size": 10,
              "solidity": 0.2
             }
            },
            "type": "barpolar"
           }
          ],
          "carpet": [
           {
            "aaxis": {
             "endlinecolor": "#2a3f5f",
             "gridcolor": "white",
             "linecolor": "white",
             "minorgridcolor": "white",
             "startlinecolor": "#2a3f5f"
            },
            "baxis": {
             "endlinecolor": "#2a3f5f",
             "gridcolor": "white",
             "linecolor": "white",
             "minorgridcolor": "white",
             "startlinecolor": "#2a3f5f"
            },
            "type": "carpet"
           }
          ],
          "choropleth": [
           {
            "colorbar": {
             "outlinewidth": 0,
             "ticks": ""
            },
            "type": "choropleth"
           }
          ],
          "contour": [
           {
            "colorbar": {
             "outlinewidth": 0,
             "ticks": ""
            },
            "colorscale": [
             [
              0,
              "#0d0887"
             ],
             [
              0.1111111111111111,
              "#46039f"
             ],
             [
              0.2222222222222222,
              "#7201a8"
             ],
             [
              0.3333333333333333,
              "#9c179e"
             ],
             [
              0.4444444444444444,
              "#bd3786"
             ],
             [
              0.5555555555555556,
              "#d8576b"
             ],
             [
              0.6666666666666666,
              "#ed7953"
             ],
             [
              0.7777777777777778,
              "#fb9f3a"
             ],
             [
              0.8888888888888888,
              "#fdca26"
             ],
             [
              1,
              "#f0f921"
             ]
            ],
            "type": "contour"
           }
          ],
          "contourcarpet": [
           {
            "colorbar": {
             "outlinewidth": 0,
             "ticks": ""
            },
            "type": "contourcarpet"
           }
          ],
          "heatmap": [
           {
            "colorbar": {
             "outlinewidth": 0,
             "ticks": ""
            },
            "colorscale": [
             [
              0,
              "#0d0887"
             ],
             [
              0.1111111111111111,
              "#46039f"
             ],
             [
              0.2222222222222222,
              "#7201a8"
             ],
             [
              0.3333333333333333,
              "#9c179e"
             ],
             [
              0.4444444444444444,
              "#bd3786"
             ],
             [
              0.5555555555555556,
              "#d8576b"
             ],
             [
              0.6666666666666666,
              "#ed7953"
             ],
             [
              0.7777777777777778,
              "#fb9f3a"
             ],
             [
              0.8888888888888888,
              "#fdca26"
             ],
             [
              1,
              "#f0f921"
             ]
            ],
            "type": "heatmap"
           }
          ],
          "heatmapgl": [
           {
            "colorbar": {
             "outlinewidth": 0,
             "ticks": ""
            },
            "colorscale": [
             [
              0,
              "#0d0887"
             ],
             [
              0.1111111111111111,
              "#46039f"
             ],
             [
              0.2222222222222222,
              "#7201a8"
             ],
             [
              0.3333333333333333,
              "#9c179e"
             ],
             [
              0.4444444444444444,
              "#bd3786"
             ],
             [
              0.5555555555555556,
              "#d8576b"
             ],
             [
              0.6666666666666666,
              "#ed7953"
             ],
             [
              0.7777777777777778,
              "#fb9f3a"
             ],
             [
              0.8888888888888888,
              "#fdca26"
             ],
             [
              1,
              "#f0f921"
             ]
            ],
            "type": "heatmapgl"
           }
          ],
          "histogram": [
           {
            "marker": {
             "pattern": {
              "fillmode": "overlay",
              "size": 10,
              "solidity": 0.2
             }
            },
            "type": "histogram"
           }
          ],
          "histogram2d": [
           {
            "colorbar": {
             "outlinewidth": 0,
             "ticks": ""
            },
            "colorscale": [
             [
              0,
              "#0d0887"
             ],
             [
              0.1111111111111111,
              "#46039f"
             ],
             [
              0.2222222222222222,
              "#7201a8"
             ],
             [
              0.3333333333333333,
              "#9c179e"
             ],
             [
              0.4444444444444444,
              "#bd3786"
             ],
             [
              0.5555555555555556,
              "#d8576b"
             ],
             [
              0.6666666666666666,
              "#ed7953"
             ],
             [
              0.7777777777777778,
              "#fb9f3a"
             ],
             [
              0.8888888888888888,
              "#fdca26"
             ],
             [
              1,
              "#f0f921"
             ]
            ],
            "type": "histogram2d"
           }
          ],
          "histogram2dcontour": [
           {
            "colorbar": {
             "outlinewidth": 0,
             "ticks": ""
            },
            "colorscale": [
             [
              0,
              "#0d0887"
             ],
             [
              0.1111111111111111,
              "#46039f"
             ],
             [
              0.2222222222222222,
              "#7201a8"
             ],
             [
              0.3333333333333333,
              "#9c179e"
             ],
             [
              0.4444444444444444,
              "#bd3786"
             ],
             [
              0.5555555555555556,
              "#d8576b"
             ],
             [
              0.6666666666666666,
              "#ed7953"
             ],
             [
              0.7777777777777778,
              "#fb9f3a"
             ],
             [
              0.8888888888888888,
              "#fdca26"
             ],
             [
              1,
              "#f0f921"
             ]
            ],
            "type": "histogram2dcontour"
           }
          ],
          "mesh3d": [
           {
            "colorbar": {
             "outlinewidth": 0,
             "ticks": ""
            },
            "type": "mesh3d"
           }
          ],
          "parcoords": [
           {
            "line": {
             "colorbar": {
              "outlinewidth": 0,
              "ticks": ""
             }
            },
            "type": "parcoords"
           }
          ],
          "pie": [
           {
            "automargin": true,
            "type": "pie"
           }
          ],
          "scatter": [
           {
            "fillpattern": {
             "fillmode": "overlay",
             "size": 10,
             "solidity": 0.2
            },
            "type": "scatter"
           }
          ],
          "scatter3d": [
           {
            "line": {
             "colorbar": {
              "outlinewidth": 0,
              "ticks": ""
             }
            },
            "marker": {
             "colorbar": {
              "outlinewidth": 0,
              "ticks": ""
             }
            },
            "type": "scatter3d"
           }
          ],
          "scattercarpet": [
           {
            "marker": {
             "colorbar": {
              "outlinewidth": 0,
              "ticks": ""
             }
            },
            "type": "scattercarpet"
           }
          ],
          "scattergeo": [
           {
            "marker": {
             "colorbar": {
              "outlinewidth": 0,
              "ticks": ""
             }
            },
            "type": "scattergeo"
           }
          ],
          "scattergl": [
           {
            "marker": {
             "colorbar": {
              "outlinewidth": 0,
              "ticks": ""
             }
            },
            "type": "scattergl"
           }
          ],
          "scattermapbox": [
           {
            "marker": {
             "colorbar": {
              "outlinewidth": 0,
              "ticks": ""
             }
            },
            "type": "scattermapbox"
           }
          ],
          "scatterpolar": [
           {
            "marker": {
             "colorbar": {
              "outlinewidth": 0,
              "ticks": ""
             }
            },
            "type": "scatterpolar"
           }
          ],
          "scatterpolargl": [
           {
            "marker": {
             "colorbar": {
              "outlinewidth": 0,
              "ticks": ""
             }
            },
            "type": "scatterpolargl"
           }
          ],
          "scatterternary": [
           {
            "marker": {
             "colorbar": {
              "outlinewidth": 0,
              "ticks": ""
             }
            },
            "type": "scatterternary"
           }
          ],
          "surface": [
           {
            "colorbar": {
             "outlinewidth": 0,
             "ticks": ""
            },
            "colorscale": [
             [
              0,
              "#0d0887"
             ],
             [
              0.1111111111111111,
              "#46039f"
             ],
             [
              0.2222222222222222,
              "#7201a8"
             ],
             [
              0.3333333333333333,
              "#9c179e"
             ],
             [
              0.4444444444444444,
              "#bd3786"
             ],
             [
              0.5555555555555556,
              "#d8576b"
             ],
             [
              0.6666666666666666,
              "#ed7953"
             ],
             [
              0.7777777777777778,
              "#fb9f3a"
             ],
             [
              0.8888888888888888,
              "#fdca26"
             ],
             [
              1,
              "#f0f921"
             ]
            ],
            "type": "surface"
           }
          ],
          "table": [
           {
            "cells": {
             "fill": {
              "color": "#EBF0F8"
             },
             "line": {
              "color": "white"
             }
            },
            "header": {
             "fill": {
              "color": "#C8D4E3"
             },
             "line": {
              "color": "white"
             }
            },
            "type": "table"
           }
          ]
         },
         "layout": {
          "annotationdefaults": {
           "arrowcolor": "#2a3f5f",
           "arrowhead": 0,
           "arrowwidth": 1
          },
          "autotypenumbers": "strict",
          "coloraxis": {
           "colorbar": {
            "outlinewidth": 0,
            "ticks": ""
           }
          },
          "colorscale": {
           "diverging": [
            [
             0,
             "#8e0152"
            ],
            [
             0.1,
             "#c51b7d"
            ],
            [
             0.2,
             "#de77ae"
            ],
            [
             0.3,
             "#f1b6da"
            ],
            [
             0.4,
             "#fde0ef"
            ],
            [
             0.5,
             "#f7f7f7"
            ],
            [
             0.6,
             "#e6f5d0"
            ],
            [
             0.7,
             "#b8e186"
            ],
            [
             0.8,
             "#7fbc41"
            ],
            [
             0.9,
             "#4d9221"
            ],
            [
             1,
             "#276419"
            ]
           ],
           "sequential": [
            [
             0,
             "#0d0887"
            ],
            [
             0.1111111111111111,
             "#46039f"
            ],
            [
             0.2222222222222222,
             "#7201a8"
            ],
            [
             0.3333333333333333,
             "#9c179e"
            ],
            [
             0.4444444444444444,
             "#bd3786"
            ],
            [
             0.5555555555555556,
             "#d8576b"
            ],
            [
             0.6666666666666666,
             "#ed7953"
            ],
            [
             0.7777777777777778,
             "#fb9f3a"
            ],
            [
             0.8888888888888888,
             "#fdca26"
            ],
            [
             1,
             "#f0f921"
            ]
           ],
           "sequentialminus": [
            [
             0,
             "#0d0887"
            ],
            [
             0.1111111111111111,
             "#46039f"
            ],
            [
             0.2222222222222222,
             "#7201a8"
            ],
            [
             0.3333333333333333,
             "#9c179e"
            ],
            [
             0.4444444444444444,
             "#bd3786"
            ],
            [
             0.5555555555555556,
             "#d8576b"
            ],
            [
             0.6666666666666666,
             "#ed7953"
            ],
            [
             0.7777777777777778,
             "#fb9f3a"
            ],
            [
             0.8888888888888888,
             "#fdca26"
            ],
            [
             1,
             "#f0f921"
            ]
           ]
          },
          "colorway": [
           "#636efa",
           "#EF553B",
           "#00cc96",
           "#ab63fa",
           "#FFA15A",
           "#19d3f3",
           "#FF6692",
           "#B6E880",
           "#FF97FF",
           "#FECB52"
          ],
          "font": {
           "color": "#2a3f5f"
          },
          "geo": {
           "bgcolor": "white",
           "lakecolor": "white",
           "landcolor": "#E5ECF6",
           "showlakes": true,
           "showland": true,
           "subunitcolor": "white"
          },
          "hoverlabel": {
           "align": "left"
          },
          "hovermode": "closest",
          "mapbox": {
           "style": "light"
          },
          "paper_bgcolor": "white",
          "plot_bgcolor": "#E5ECF6",
          "polar": {
           "angularaxis": {
            "gridcolor": "white",
            "linecolor": "white",
            "ticks": ""
           },
           "bgcolor": "#E5ECF6",
           "radialaxis": {
            "gridcolor": "white",
            "linecolor": "white",
            "ticks": ""
           }
          },
          "scene": {
           "xaxis": {
            "backgroundcolor": "#E5ECF6",
            "gridcolor": "white",
            "gridwidth": 2,
            "linecolor": "white",
            "showbackground": true,
            "ticks": "",
            "zerolinecolor": "white"
           },
           "yaxis": {
            "backgroundcolor": "#E5ECF6",
            "gridcolor": "white",
            "gridwidth": 2,
            "linecolor": "white",
            "showbackground": true,
            "ticks": "",
            "zerolinecolor": "white"
           },
           "zaxis": {
            "backgroundcolor": "#E5ECF6",
            "gridcolor": "white",
            "gridwidth": 2,
            "linecolor": "white",
            "showbackground": true,
            "ticks": "",
            "zerolinecolor": "white"
           }
          },
          "shapedefaults": {
           "line": {
            "color": "#2a3f5f"
           }
          },
          "ternary": {
           "aaxis": {
            "gridcolor": "white",
            "linecolor": "white",
            "ticks": ""
           },
           "baxis": {
            "gridcolor": "white",
            "linecolor": "white",
            "ticks": ""
           },
           "bgcolor": "#E5ECF6",
           "caxis": {
            "gridcolor": "white",
            "linecolor": "white",
            "ticks": ""
           }
          },
          "title": {
           "x": 0.05
          },
          "xaxis": {
           "automargin": true,
           "gridcolor": "white",
           "linecolor": "white",
           "ticks": "",
           "title": {
            "standoff": 15
           },
           "zerolinecolor": "white",
           "zerolinewidth": 2
          },
          "yaxis": {
           "automargin": true,
           "gridcolor": "white",
           "linecolor": "white",
           "ticks": "",
           "title": {
            "standoff": 15
           },
           "zerolinecolor": "white",
           "zerolinewidth": 2
          }
         }
        },
        "title": {
         "text": "South and Central America GDP "
        },
        "xaxis": {
         "anchor": "y",
         "domain": [
          0,
          1
         ],
         "range": [
          "1990-01-01",
          "2023-09-01"
         ],
         "title": {
          "text": "TIME_PERIOD"
         }
        },
        "yaxis": {
         "anchor": "x",
         "domain": [
          0,
          1
         ],
         "title": {
          "text": "OBS_VALUE"
         }
        }
       }
      }
     },
     "metadata": {},
     "output_type": "display_data"
    }
   ],
   "source": [
    "fig = px.line(southamerica_gdp, x='TIME_PERIOD', y=\"OBS_VALUE\", color='Zone de référence')\n",
    "fig.update_layout(xaxis_range=['1990-01-01','2023-09-01'],\n",
    "                  title_text= \"South and Central America GDP \")\n",
    "fig.show()"
   ]
  },
  {
   "cell_type": "code",
   "execution_count": 153,
   "metadata": {},
   "outputs": [
    {
     "data": {
      "text/html": [
       "<div>\n",
       "<style scoped>\n",
       "    .dataframe tbody tr th:only-of-type {\n",
       "        vertical-align: middle;\n",
       "    }\n",
       "\n",
       "    .dataframe tbody tr th {\n",
       "        vertical-align: top;\n",
       "    }\n",
       "\n",
       "    .dataframe thead th {\n",
       "        text-align: right;\n",
       "    }\n",
       "</style>\n",
       "<table border=\"1\" class=\"dataframe\">\n",
       "  <thead>\n",
       "    <tr style=\"text-align: right;\">\n",
       "      <th></th>\n",
       "      <th>Unnamed: 0</th>\n",
       "      <th>Zone de référence</th>\n",
       "      <th>Secteur institutionnel</th>\n",
       "      <th>Transaction</th>\n",
       "      <th>Activité économique</th>\n",
       "      <th>Unité de mesure</th>\n",
       "      <th>Transformation</th>\n",
       "      <th>TIME_PERIOD</th>\n",
       "      <th>OBS_VALUE</th>\n",
       "    </tr>\n",
       "  </thead>\n",
       "  <tbody>\n",
       "    <tr>\n",
       "      <th>2300</th>\n",
       "      <td>20576</td>\n",
       "      <td>Afrique du Sud</td>\n",
       "      <td>Economie totale</td>\n",
       "      <td>Produit intérieur brut</td>\n",
       "      <td>Non applicable</td>\n",
       "      <td>Changement en pourcentage</td>\n",
       "      <td>Taux de croissance, période sur période</td>\n",
       "      <td>1960-06-01</td>\n",
       "      <td>1.630733</td>\n",
       "    </tr>\n",
       "    <tr>\n",
       "      <th>2301</th>\n",
       "      <td>20577</td>\n",
       "      <td>Afrique du Sud</td>\n",
       "      <td>Economie totale</td>\n",
       "      <td>Produit intérieur brut</td>\n",
       "      <td>Non applicable</td>\n",
       "      <td>Changement en pourcentage</td>\n",
       "      <td>Taux de croissance, période sur période</td>\n",
       "      <td>1960-09-01</td>\n",
       "      <td>1.842597</td>\n",
       "    </tr>\n",
       "    <tr>\n",
       "      <th>2302</th>\n",
       "      <td>20578</td>\n",
       "      <td>Afrique du Sud</td>\n",
       "      <td>Economie totale</td>\n",
       "      <td>Produit intérieur brut</td>\n",
       "      <td>Non applicable</td>\n",
       "      <td>Changement en pourcentage</td>\n",
       "      <td>Taux de croissance, période sur période</td>\n",
       "      <td>1960-12-01</td>\n",
       "      <td>0.987063</td>\n",
       "    </tr>\n",
       "    <tr>\n",
       "      <th>2303</th>\n",
       "      <td>20579</td>\n",
       "      <td>Afrique du Sud</td>\n",
       "      <td>Economie totale</td>\n",
       "      <td>Produit intérieur brut</td>\n",
       "      <td>Non applicable</td>\n",
       "      <td>Changement en pourcentage</td>\n",
       "      <td>Taux de croissance, période sur période</td>\n",
       "      <td>1961-03-01</td>\n",
       "      <td>0.725320</td>\n",
       "    </tr>\n",
       "    <tr>\n",
       "      <th>2304</th>\n",
       "      <td>20580</td>\n",
       "      <td>Afrique du Sud</td>\n",
       "      <td>Economie totale</td>\n",
       "      <td>Produit intérieur brut</td>\n",
       "      <td>Non applicable</td>\n",
       "      <td>Changement en pourcentage</td>\n",
       "      <td>Taux de croissance, période sur période</td>\n",
       "      <td>1961-06-01</td>\n",
       "      <td>-0.436987</td>\n",
       "    </tr>\n",
       "    <tr>\n",
       "      <th>...</th>\n",
       "      <td>...</td>\n",
       "      <td>...</td>\n",
       "      <td>...</td>\n",
       "      <td>...</td>\n",
       "      <td>...</td>\n",
       "      <td>...</td>\n",
       "      <td>...</td>\n",
       "      <td>...</td>\n",
       "      <td>...</td>\n",
       "    </tr>\n",
       "    <tr>\n",
       "      <th>2550</th>\n",
       "      <td>20826</td>\n",
       "      <td>Afrique du Sud</td>\n",
       "      <td>Economie totale</td>\n",
       "      <td>Produit intérieur brut</td>\n",
       "      <td>Non applicable</td>\n",
       "      <td>Changement en pourcentage</td>\n",
       "      <td>Taux de croissance, période sur période</td>\n",
       "      <td>2022-12-01</td>\n",
       "      <td>-1.094064</td>\n",
       "    </tr>\n",
       "    <tr>\n",
       "      <th>2551</th>\n",
       "      <td>20827</td>\n",
       "      <td>Afrique du Sud</td>\n",
       "      <td>Economie totale</td>\n",
       "      <td>Produit intérieur brut</td>\n",
       "      <td>Non applicable</td>\n",
       "      <td>Changement en pourcentage</td>\n",
       "      <td>Taux de croissance, période sur période</td>\n",
       "      <td>2023-03-01</td>\n",
       "      <td>0.329031</td>\n",
       "    </tr>\n",
       "    <tr>\n",
       "      <th>2552</th>\n",
       "      <td>20828</td>\n",
       "      <td>Afrique du Sud</td>\n",
       "      <td>Economie totale</td>\n",
       "      <td>Produit intérieur brut</td>\n",
       "      <td>Non applicable</td>\n",
       "      <td>Changement en pourcentage</td>\n",
       "      <td>Taux de croissance, période sur période</td>\n",
       "      <td>2023-06-01</td>\n",
       "      <td>0.675605</td>\n",
       "    </tr>\n",
       "    <tr>\n",
       "      <th>2553</th>\n",
       "      <td>20829</td>\n",
       "      <td>Afrique du Sud</td>\n",
       "      <td>Economie totale</td>\n",
       "      <td>Produit intérieur brut</td>\n",
       "      <td>Non applicable</td>\n",
       "      <td>Changement en pourcentage</td>\n",
       "      <td>Taux de croissance, période sur période</td>\n",
       "      <td>2023-09-01</td>\n",
       "      <td>-0.182624</td>\n",
       "    </tr>\n",
       "    <tr>\n",
       "      <th>2554</th>\n",
       "      <td>20830</td>\n",
       "      <td>Afrique du Sud</td>\n",
       "      <td>Economie totale</td>\n",
       "      <td>Produit intérieur brut</td>\n",
       "      <td>Non applicable</td>\n",
       "      <td>Changement en pourcentage</td>\n",
       "      <td>Taux de croissance, période sur période</td>\n",
       "      <td>2023-12-01</td>\n",
       "      <td>0.061408</td>\n",
       "    </tr>\n",
       "  </tbody>\n",
       "</table>\n",
       "<p>255 rows × 9 columns</p>\n",
       "</div>"
      ],
      "text/plain": [
       "      Unnamed: 0 Zone de référence Secteur institutionnel  \\\n",
       "2300       20576    Afrique du Sud        Economie totale   \n",
       "2301       20577    Afrique du Sud        Economie totale   \n",
       "2302       20578    Afrique du Sud        Economie totale   \n",
       "2303       20579    Afrique du Sud        Economie totale   \n",
       "2304       20580    Afrique du Sud        Economie totale   \n",
       "...          ...               ...                    ...   \n",
       "2550       20826    Afrique du Sud        Economie totale   \n",
       "2551       20827    Afrique du Sud        Economie totale   \n",
       "2552       20828    Afrique du Sud        Economie totale   \n",
       "2553       20829    Afrique du Sud        Economie totale   \n",
       "2554       20830    Afrique du Sud        Economie totale   \n",
       "\n",
       "                 Transaction Activité économique            Unité de mesure  \\\n",
       "2300  Produit intérieur brut      Non applicable  Changement en pourcentage   \n",
       "2301  Produit intérieur brut      Non applicable  Changement en pourcentage   \n",
       "2302  Produit intérieur brut      Non applicable  Changement en pourcentage   \n",
       "2303  Produit intérieur brut      Non applicable  Changement en pourcentage   \n",
       "2304  Produit intérieur brut      Non applicable  Changement en pourcentage   \n",
       "...                      ...                 ...                        ...   \n",
       "2550  Produit intérieur brut      Non applicable  Changement en pourcentage   \n",
       "2551  Produit intérieur brut      Non applicable  Changement en pourcentage   \n",
       "2552  Produit intérieur brut      Non applicable  Changement en pourcentage   \n",
       "2553  Produit intérieur brut      Non applicable  Changement en pourcentage   \n",
       "2554  Produit intérieur brut      Non applicable  Changement en pourcentage   \n",
       "\n",
       "                               Transformation TIME_PERIOD  OBS_VALUE  \n",
       "2300  Taux de croissance, période sur période  1960-06-01   1.630733  \n",
       "2301  Taux de croissance, période sur période  1960-09-01   1.842597  \n",
       "2302  Taux de croissance, période sur période  1960-12-01   0.987063  \n",
       "2303  Taux de croissance, période sur période  1961-03-01   0.725320  \n",
       "2304  Taux de croissance, période sur période  1961-06-01  -0.436987  \n",
       "...                                       ...         ...        ...  \n",
       "2550  Taux de croissance, période sur période  2022-12-01  -1.094064  \n",
       "2551  Taux de croissance, période sur période  2023-03-01   0.329031  \n",
       "2552  Taux de croissance, période sur période  2023-06-01   0.675605  \n",
       "2553  Taux de croissance, période sur période  2023-09-01  -0.182624  \n",
       "2554  Taux de croissance, période sur période  2023-12-01   0.061408  \n",
       "\n",
       "[255 rows x 9 columns]"
      ]
     },
     "execution_count": 153,
     "metadata": {},
     "output_type": "execute_result"
    }
   ],
   "source": [
    "# Africa\n",
    "af_gdp = gdp[(gdp[\"Zone de référence\"] == \"Afrique du Sud\")]\n",
    "af_gdp"
   ]
  },
  {
   "cell_type": "code",
   "execution_count": 169,
   "metadata": {},
   "outputs": [
    {
     "data": {
      "application/vnd.plotly.v1+json": {
       "config": {
        "plotlyServerURL": "https://plot.ly"
       },
       "data": [
        {
         "hovertemplate": "Zone de référence=Afrique du Sud<br>TIME_PERIOD=%{x}<br>OBS_VALUE=%{y}<extra></extra>",
         "legendgroup": "Afrique du Sud",
         "line": {
          "color": "#636efa",
          "dash": "solid"
         },
         "marker": {
          "symbol": "circle"
         },
         "mode": "lines",
         "name": "Afrique du Sud",
         "orientation": "v",
         "showlegend": true,
         "type": "scatter",
         "x": [
          "1960-06-01",
          "1960-09-01",
          "1960-12-01",
          "1961-03-01",
          "1961-06-01",
          "1961-09-01",
          "1961-12-01",
          "1962-03-01",
          "1962-06-01",
          "1962-09-01",
          "1962-12-01",
          "1963-03-01",
          "1963-06-01",
          "1963-09-01",
          "1963-12-01",
          "1964-03-01",
          "1964-06-01",
          "1964-09-01",
          "1964-12-01",
          "1965-03-01",
          "1965-06-01",
          "1965-09-01",
          "1965-12-01",
          "1966-03-01",
          "1966-06-01",
          "1966-09-01",
          "1966-12-01",
          "1967-03-01",
          "1967-06-01",
          "1967-09-01",
          "1967-12-01",
          "1968-03-01",
          "1968-06-01",
          "1968-09-01",
          "1968-12-01",
          "1969-03-01",
          "1969-06-01",
          "1969-09-01",
          "1969-12-01",
          "1970-03-01",
          "1970-06-01",
          "1970-09-01",
          "1970-12-01",
          "1971-03-01",
          "1971-06-01",
          "1971-09-01",
          "1971-12-01",
          "1972-03-01",
          "1972-06-01",
          "1972-09-01",
          "1972-12-01",
          "1973-03-01",
          "1973-06-01",
          "1973-09-01",
          "1973-12-01",
          "1974-03-01",
          "1974-06-01",
          "1974-09-01",
          "1974-12-01",
          "1975-03-01",
          "1975-06-01",
          "1975-09-01",
          "1975-12-01",
          "1976-03-01",
          "1976-06-01",
          "1976-09-01",
          "1976-12-01",
          "1977-03-01",
          "1977-06-01",
          "1977-09-01",
          "1977-12-01",
          "1978-03-01",
          "1978-06-01",
          "1978-09-01",
          "1978-12-01",
          "1979-03-01",
          "1979-06-01",
          "1979-09-01",
          "1979-12-01",
          "1980-03-01",
          "1980-06-01",
          "1980-09-01",
          "1980-12-01",
          "1981-03-01",
          "1981-06-01",
          "1981-09-01",
          "1981-12-01",
          "1982-03-01",
          "1982-06-01",
          "1982-09-01",
          "1982-12-01",
          "1983-03-01",
          "1983-06-01",
          "1983-09-01",
          "1983-12-01",
          "1984-03-01",
          "1984-06-01",
          "1984-09-01",
          "1984-12-01",
          "1985-03-01",
          "1985-06-01",
          "1985-09-01",
          "1985-12-01",
          "1986-03-01",
          "1986-06-01",
          "1986-09-01",
          "1986-12-01",
          "1987-03-01",
          "1987-06-01",
          "1987-09-01",
          "1987-12-01",
          "1988-03-01",
          "1988-06-01",
          "1988-09-01",
          "1988-12-01",
          "1989-03-01",
          "1989-06-01",
          "1989-09-01",
          "1989-12-01",
          "1990-03-01",
          "1990-06-01",
          "1990-09-01",
          "1990-12-01",
          "1991-03-01",
          "1991-06-01",
          "1991-09-01",
          "1991-12-01",
          "1992-03-01",
          "1992-06-01",
          "1992-09-01",
          "1992-12-01",
          "1993-03-01",
          "1993-06-01",
          "1993-09-01",
          "1993-12-01",
          "1994-03-01",
          "1994-06-01",
          "1994-09-01",
          "1994-12-01",
          "1995-03-01",
          "1995-06-01",
          "1995-09-01",
          "1995-12-01",
          "1996-03-01",
          "1996-06-01",
          "1996-09-01",
          "1996-12-01",
          "1997-03-01",
          "1997-06-01",
          "1997-09-01",
          "1997-12-01",
          "1998-03-01",
          "1998-06-01",
          "1998-09-01",
          "1998-12-01",
          "1999-03-01",
          "1999-06-01",
          "1999-09-01",
          "1999-12-01",
          "2000-03-01",
          "2000-06-01",
          "2000-09-01",
          "2000-12-01",
          "2001-03-01",
          "2001-06-01",
          "2001-09-01",
          "2001-12-01",
          "2002-03-01",
          "2002-06-01",
          "2002-09-01",
          "2002-12-01",
          "2003-03-01",
          "2003-06-01",
          "2003-09-01",
          "2003-12-01",
          "2004-03-01",
          "2004-06-01",
          "2004-09-01",
          "2004-12-01",
          "2005-03-01",
          "2005-06-01",
          "2005-09-01",
          "2005-12-01",
          "2006-03-01",
          "2006-06-01",
          "2006-09-01",
          "2006-12-01",
          "2007-03-01",
          "2007-06-01",
          "2007-09-01",
          "2007-12-01",
          "2008-03-01",
          "2008-06-01",
          "2008-09-01",
          "2008-12-01",
          "2009-03-01",
          "2009-06-01",
          "2009-09-01",
          "2009-12-01",
          "2010-03-01",
          "2010-06-01",
          "2010-09-01",
          "2010-12-01",
          "2011-03-01",
          "2011-06-01",
          "2011-09-01",
          "2011-12-01",
          "2012-03-01",
          "2012-06-01",
          "2012-09-01",
          "2012-12-01",
          "2013-03-01",
          "2013-06-01",
          "2013-09-01",
          "2013-12-01",
          "2014-03-01",
          "2014-06-01",
          "2014-09-01",
          "2014-12-01",
          "2015-03-01",
          "2015-06-01",
          "2015-09-01",
          "2015-12-01",
          "2016-03-01",
          "2016-06-01",
          "2016-09-01",
          "2016-12-01",
          "2017-03-01",
          "2017-06-01",
          "2017-09-01",
          "2017-12-01",
          "2018-03-01",
          "2018-06-01",
          "2018-09-01",
          "2018-12-01",
          "2019-03-01",
          "2019-06-01",
          "2019-09-01",
          "2019-12-01",
          "2020-03-01",
          "2020-06-01",
          "2020-09-01",
          "2020-12-01",
          "2021-03-01",
          "2021-06-01",
          "2021-09-01",
          "2021-12-01",
          "2022-03-01",
          "2022-06-01",
          "2022-09-01",
          "2022-12-01",
          "2023-03-01",
          "2023-06-01",
          "2023-09-01",
          "2023-12-01"
         ],
         "xaxis": "x",
         "y": [
          1.630732953,
          1.842597022,
          0.987063209,
          0.725319611,
          -0.436986588,
          2.233624991,
          0.909000229,
          2.586581337,
          0.640571076,
          1.95202764,
          1.280861445,
          1.32273788,
          2.644226981,
          2.639167193,
          1.762170542,
          1.873091613,
          1.809866683,
          0.939568527,
          2.92427256,
          1.923998284,
          0.967394337,
          -0.315747202,
          1.663322974,
          1.404337538,
          1.088242246,
          1.473290107,
          0.329041265,
          3.635516169,
          0.158926296,
          5.028337401,
          -1.815747866,
          1.641868589,
          0.443369439,
          1.07932653,
          1.890612969,
          0.718687689,
          -0.08433149,
          4.566766309,
          -1.349816884,
          2.15249064,
          2.040587606,
          -1.154461151,
          3.51849898,
          1.481127915,
          -0.815230002,
          1.302659119,
          0.718762237,
          -0.589519975,
          1.046169957,
          0.061773482,
          1.770998777,
          1.289677636,
          -0.444748341,
          2.892126309,
          1.92621499,
          1.868574967,
          1.374417468,
          1.132567196,
          -0.943914052,
          -0.400466152,
          1.723782844,
          0.800665346,
          0.824466409,
          1.314343738,
          -1.995152109,
          2.379248149,
          -0.730836824,
          -0.218388293,
          0.09606388,
          -0.385872981,
          0.513506191,
          1.644337137,
          1.932724731,
          -1.07584401,
          0.910144681,
          1.750362876,
          0.646030359,
          0.746384808,
          2.052155792,
          2.054445467,
          1.901048713,
          1.712013689,
          0.22477213,
          1.242016816,
          2.183854895,
          1.455404361,
          0.623884852,
          -0.926379164,
          -0.83441653,
          -0.025570619,
          -2.114040461,
          -1.54348066,
          0.415254266,
          1.152778503,
          2.536371796,
          1.696766485,
          2.077491808,
          -1.657470107,
          0.154612647,
          -0.595775596,
          -0.727141963,
          -0.263979032,
          1.069340316,
          -1.191395651,
          0.690410026,
          0.225035091,
          0.419882585,
          0.72728254,
          0.356603187,
          0.364927876,
          1.227631694,
          1.502943309,
          0.710055327,
          1.34491922,
          0.938980474,
          0.619315947,
          0.433857416,
          0.080345162,
          -0.618832123,
          0.080051424,
          -0.082522011,
          -0.084042341,
          0.092815014,
          -0.795422603,
          -0.225649346,
          -0.038785793,
          -0.172064954,
          -0.700747897,
          -0.613372611,
          -1.157736308,
          -0.849714498,
          1.285733289,
          0.682763862,
          1.282386428,
          0.853492158,
          -0.047133474,
          0.975661962,
          1.124515257,
          1.858295375,
          0.24994674,
          0.287484075,
          0.663462949,
          0.336366655,
          1.852498307,
          1.19135893,
          1.191484164,
          0.938171466,
          0.46421678,
          0.627410873,
          0.099423795,
          0.013815329,
          0.262703844,
          0.141425317,
          -0.219033432,
          0.096284366,
          0.961068944,
          0.795890222,
          1.091897244,
          1.099982162,
          1.168839972,
          0.919990786,
          0.990394283,
          0.850954686,
          0.614511833,
          0.499704416,
          0.265747943,
          0.769322925,
          1.08600902,
          1.268859181,
          1.131829481,
          0.831988659,
          0.63476228,
          0.488369504,
          0.542690582,
          0.576931272,
          1.513781636,
          1.397449924,
          1.635117939,
          1.067930101,
          1.016599753,
          1.794553973,
          1.363618551,
          0.669356074,
          1.757168426,
          1.420243604,
          1.381152984,
          1.382817924,
          1.623672013,
          0.819557991,
          1.171935193,
          1.417079709,
          0.420005275,
          1.220887141,
          0.238933351,
          -0.569248528,
          -1.555542595,
          -0.343211369,
          0.231907188,
          0.666971689,
          1.166724893,
          0.839411996,
          0.890246294,
          0.930781355,
          0.984801432,
          0.559671779,
          0.413771114,
          0.684087092,
          0.566841886,
          0.83473463,
          0.406557831,
          0.476942783,
          0.776024074,
          0.727379222,
          0.474459609,
          0.538352036,
          -0.137935652,
          0.394667298,
          0.480579252,
          0.748775643,
          0.722352926,
          -0.844263371,
          0.450424009,
          0.433466201,
          0.238864308,
          0.096214305,
          -0.012183122,
          0.084913574,
          0.472126567,
          0.54530205,
          0.183895972,
          0.393361099,
          0.529024513,
          -0.248655701,
          1.22982101,
          0.277494927,
          -0.873434491,
          0.452210814,
          0.105108482,
          -0.036211972,
          0.235929608,
          -16.889937293,
          13.730038872,
          2.74200195,
          0.641236515,
          1.297861283,
          -1.875252185,
          1.372988936,
          1.532076678,
          -0.836762081,
          1.773960034,
          -1.094063686,
          0.329030871,
          0.675605172,
          -0.182623843,
          0.061408357
         ],
         "yaxis": "y"
        }
       ],
       "layout": {
        "legend": {
         "title": {
          "text": "Zone de référence"
         },
         "tracegroupgap": 0
        },
        "margin": {
         "t": 60
        },
        "template": {
         "data": {
          "bar": [
           {
            "error_x": {
             "color": "#2a3f5f"
            },
            "error_y": {
             "color": "#2a3f5f"
            },
            "marker": {
             "line": {
              "color": "#E5ECF6",
              "width": 0.5
             },
             "pattern": {
              "fillmode": "overlay",
              "size": 10,
              "solidity": 0.2
             }
            },
            "type": "bar"
           }
          ],
          "barpolar": [
           {
            "marker": {
             "line": {
              "color": "#E5ECF6",
              "width": 0.5
             },
             "pattern": {
              "fillmode": "overlay",
              "size": 10,
              "solidity": 0.2
             }
            },
            "type": "barpolar"
           }
          ],
          "carpet": [
           {
            "aaxis": {
             "endlinecolor": "#2a3f5f",
             "gridcolor": "white",
             "linecolor": "white",
             "minorgridcolor": "white",
             "startlinecolor": "#2a3f5f"
            },
            "baxis": {
             "endlinecolor": "#2a3f5f",
             "gridcolor": "white",
             "linecolor": "white",
             "minorgridcolor": "white",
             "startlinecolor": "#2a3f5f"
            },
            "type": "carpet"
           }
          ],
          "choropleth": [
           {
            "colorbar": {
             "outlinewidth": 0,
             "ticks": ""
            },
            "type": "choropleth"
           }
          ],
          "contour": [
           {
            "colorbar": {
             "outlinewidth": 0,
             "ticks": ""
            },
            "colorscale": [
             [
              0,
              "#0d0887"
             ],
             [
              0.1111111111111111,
              "#46039f"
             ],
             [
              0.2222222222222222,
              "#7201a8"
             ],
             [
              0.3333333333333333,
              "#9c179e"
             ],
             [
              0.4444444444444444,
              "#bd3786"
             ],
             [
              0.5555555555555556,
              "#d8576b"
             ],
             [
              0.6666666666666666,
              "#ed7953"
             ],
             [
              0.7777777777777778,
              "#fb9f3a"
             ],
             [
              0.8888888888888888,
              "#fdca26"
             ],
             [
              1,
              "#f0f921"
             ]
            ],
            "type": "contour"
           }
          ],
          "contourcarpet": [
           {
            "colorbar": {
             "outlinewidth": 0,
             "ticks": ""
            },
            "type": "contourcarpet"
           }
          ],
          "heatmap": [
           {
            "colorbar": {
             "outlinewidth": 0,
             "ticks": ""
            },
            "colorscale": [
             [
              0,
              "#0d0887"
             ],
             [
              0.1111111111111111,
              "#46039f"
             ],
             [
              0.2222222222222222,
              "#7201a8"
             ],
             [
              0.3333333333333333,
              "#9c179e"
             ],
             [
              0.4444444444444444,
              "#bd3786"
             ],
             [
              0.5555555555555556,
              "#d8576b"
             ],
             [
              0.6666666666666666,
              "#ed7953"
             ],
             [
              0.7777777777777778,
              "#fb9f3a"
             ],
             [
              0.8888888888888888,
              "#fdca26"
             ],
             [
              1,
              "#f0f921"
             ]
            ],
            "type": "heatmap"
           }
          ],
          "heatmapgl": [
           {
            "colorbar": {
             "outlinewidth": 0,
             "ticks": ""
            },
            "colorscale": [
             [
              0,
              "#0d0887"
             ],
             [
              0.1111111111111111,
              "#46039f"
             ],
             [
              0.2222222222222222,
              "#7201a8"
             ],
             [
              0.3333333333333333,
              "#9c179e"
             ],
             [
              0.4444444444444444,
              "#bd3786"
             ],
             [
              0.5555555555555556,
              "#d8576b"
             ],
             [
              0.6666666666666666,
              "#ed7953"
             ],
             [
              0.7777777777777778,
              "#fb9f3a"
             ],
             [
              0.8888888888888888,
              "#fdca26"
             ],
             [
              1,
              "#f0f921"
             ]
            ],
            "type": "heatmapgl"
           }
          ],
          "histogram": [
           {
            "marker": {
             "pattern": {
              "fillmode": "overlay",
              "size": 10,
              "solidity": 0.2
             }
            },
            "type": "histogram"
           }
          ],
          "histogram2d": [
           {
            "colorbar": {
             "outlinewidth": 0,
             "ticks": ""
            },
            "colorscale": [
             [
              0,
              "#0d0887"
             ],
             [
              0.1111111111111111,
              "#46039f"
             ],
             [
              0.2222222222222222,
              "#7201a8"
             ],
             [
              0.3333333333333333,
              "#9c179e"
             ],
             [
              0.4444444444444444,
              "#bd3786"
             ],
             [
              0.5555555555555556,
              "#d8576b"
             ],
             [
              0.6666666666666666,
              "#ed7953"
             ],
             [
              0.7777777777777778,
              "#fb9f3a"
             ],
             [
              0.8888888888888888,
              "#fdca26"
             ],
             [
              1,
              "#f0f921"
             ]
            ],
            "type": "histogram2d"
           }
          ],
          "histogram2dcontour": [
           {
            "colorbar": {
             "outlinewidth": 0,
             "ticks": ""
            },
            "colorscale": [
             [
              0,
              "#0d0887"
             ],
             [
              0.1111111111111111,
              "#46039f"
             ],
             [
              0.2222222222222222,
              "#7201a8"
             ],
             [
              0.3333333333333333,
              "#9c179e"
             ],
             [
              0.4444444444444444,
              "#bd3786"
             ],
             [
              0.5555555555555556,
              "#d8576b"
             ],
             [
              0.6666666666666666,
              "#ed7953"
             ],
             [
              0.7777777777777778,
              "#fb9f3a"
             ],
             [
              0.8888888888888888,
              "#fdca26"
             ],
             [
              1,
              "#f0f921"
             ]
            ],
            "type": "histogram2dcontour"
           }
          ],
          "mesh3d": [
           {
            "colorbar": {
             "outlinewidth": 0,
             "ticks": ""
            },
            "type": "mesh3d"
           }
          ],
          "parcoords": [
           {
            "line": {
             "colorbar": {
              "outlinewidth": 0,
              "ticks": ""
             }
            },
            "type": "parcoords"
           }
          ],
          "pie": [
           {
            "automargin": true,
            "type": "pie"
           }
          ],
          "scatter": [
           {
            "fillpattern": {
             "fillmode": "overlay",
             "size": 10,
             "solidity": 0.2
            },
            "type": "scatter"
           }
          ],
          "scatter3d": [
           {
            "line": {
             "colorbar": {
              "outlinewidth": 0,
              "ticks": ""
             }
            },
            "marker": {
             "colorbar": {
              "outlinewidth": 0,
              "ticks": ""
             }
            },
            "type": "scatter3d"
           }
          ],
          "scattercarpet": [
           {
            "marker": {
             "colorbar": {
              "outlinewidth": 0,
              "ticks": ""
             }
            },
            "type": "scattercarpet"
           }
          ],
          "scattergeo": [
           {
            "marker": {
             "colorbar": {
              "outlinewidth": 0,
              "ticks": ""
             }
            },
            "type": "scattergeo"
           }
          ],
          "scattergl": [
           {
            "marker": {
             "colorbar": {
              "outlinewidth": 0,
              "ticks": ""
             }
            },
            "type": "scattergl"
           }
          ],
          "scattermapbox": [
           {
            "marker": {
             "colorbar": {
              "outlinewidth": 0,
              "ticks": ""
             }
            },
            "type": "scattermapbox"
           }
          ],
          "scatterpolar": [
           {
            "marker": {
             "colorbar": {
              "outlinewidth": 0,
              "ticks": ""
             }
            },
            "type": "scatterpolar"
           }
          ],
          "scatterpolargl": [
           {
            "marker": {
             "colorbar": {
              "outlinewidth": 0,
              "ticks": ""
             }
            },
            "type": "scatterpolargl"
           }
          ],
          "scatterternary": [
           {
            "marker": {
             "colorbar": {
              "outlinewidth": 0,
              "ticks": ""
             }
            },
            "type": "scatterternary"
           }
          ],
          "surface": [
           {
            "colorbar": {
             "outlinewidth": 0,
             "ticks": ""
            },
            "colorscale": [
             [
              0,
              "#0d0887"
             ],
             [
              0.1111111111111111,
              "#46039f"
             ],
             [
              0.2222222222222222,
              "#7201a8"
             ],
             [
              0.3333333333333333,
              "#9c179e"
             ],
             [
              0.4444444444444444,
              "#bd3786"
             ],
             [
              0.5555555555555556,
              "#d8576b"
             ],
             [
              0.6666666666666666,
              "#ed7953"
             ],
             [
              0.7777777777777778,
              "#fb9f3a"
             ],
             [
              0.8888888888888888,
              "#fdca26"
             ],
             [
              1,
              "#f0f921"
             ]
            ],
            "type": "surface"
           }
          ],
          "table": [
           {
            "cells": {
             "fill": {
              "color": "#EBF0F8"
             },
             "line": {
              "color": "white"
             }
            },
            "header": {
             "fill": {
              "color": "#C8D4E3"
             },
             "line": {
              "color": "white"
             }
            },
            "type": "table"
           }
          ]
         },
         "layout": {
          "annotationdefaults": {
           "arrowcolor": "#2a3f5f",
           "arrowhead": 0,
           "arrowwidth": 1
          },
          "autotypenumbers": "strict",
          "coloraxis": {
           "colorbar": {
            "outlinewidth": 0,
            "ticks": ""
           }
          },
          "colorscale": {
           "diverging": [
            [
             0,
             "#8e0152"
            ],
            [
             0.1,
             "#c51b7d"
            ],
            [
             0.2,
             "#de77ae"
            ],
            [
             0.3,
             "#f1b6da"
            ],
            [
             0.4,
             "#fde0ef"
            ],
            [
             0.5,
             "#f7f7f7"
            ],
            [
             0.6,
             "#e6f5d0"
            ],
            [
             0.7,
             "#b8e186"
            ],
            [
             0.8,
             "#7fbc41"
            ],
            [
             0.9,
             "#4d9221"
            ],
            [
             1,
             "#276419"
            ]
           ],
           "sequential": [
            [
             0,
             "#0d0887"
            ],
            [
             0.1111111111111111,
             "#46039f"
            ],
            [
             0.2222222222222222,
             "#7201a8"
            ],
            [
             0.3333333333333333,
             "#9c179e"
            ],
            [
             0.4444444444444444,
             "#bd3786"
            ],
            [
             0.5555555555555556,
             "#d8576b"
            ],
            [
             0.6666666666666666,
             "#ed7953"
            ],
            [
             0.7777777777777778,
             "#fb9f3a"
            ],
            [
             0.8888888888888888,
             "#fdca26"
            ],
            [
             1,
             "#f0f921"
            ]
           ],
           "sequentialminus": [
            [
             0,
             "#0d0887"
            ],
            [
             0.1111111111111111,
             "#46039f"
            ],
            [
             0.2222222222222222,
             "#7201a8"
            ],
            [
             0.3333333333333333,
             "#9c179e"
            ],
            [
             0.4444444444444444,
             "#bd3786"
            ],
            [
             0.5555555555555556,
             "#d8576b"
            ],
            [
             0.6666666666666666,
             "#ed7953"
            ],
            [
             0.7777777777777778,
             "#fb9f3a"
            ],
            [
             0.8888888888888888,
             "#fdca26"
            ],
            [
             1,
             "#f0f921"
            ]
           ]
          },
          "colorway": [
           "#636efa",
           "#EF553B",
           "#00cc96",
           "#ab63fa",
           "#FFA15A",
           "#19d3f3",
           "#FF6692",
           "#B6E880",
           "#FF97FF",
           "#FECB52"
          ],
          "font": {
           "color": "#2a3f5f"
          },
          "geo": {
           "bgcolor": "white",
           "lakecolor": "white",
           "landcolor": "#E5ECF6",
           "showlakes": true,
           "showland": true,
           "subunitcolor": "white"
          },
          "hoverlabel": {
           "align": "left"
          },
          "hovermode": "closest",
          "mapbox": {
           "style": "light"
          },
          "paper_bgcolor": "white",
          "plot_bgcolor": "#E5ECF6",
          "polar": {
           "angularaxis": {
            "gridcolor": "white",
            "linecolor": "white",
            "ticks": ""
           },
           "bgcolor": "#E5ECF6",
           "radialaxis": {
            "gridcolor": "white",
            "linecolor": "white",
            "ticks": ""
           }
          },
          "scene": {
           "xaxis": {
            "backgroundcolor": "#E5ECF6",
            "gridcolor": "white",
            "gridwidth": 2,
            "linecolor": "white",
            "showbackground": true,
            "ticks": "",
            "zerolinecolor": "white"
           },
           "yaxis": {
            "backgroundcolor": "#E5ECF6",
            "gridcolor": "white",
            "gridwidth": 2,
            "linecolor": "white",
            "showbackground": true,
            "ticks": "",
            "zerolinecolor": "white"
           },
           "zaxis": {
            "backgroundcolor": "#E5ECF6",
            "gridcolor": "white",
            "gridwidth": 2,
            "linecolor": "white",
            "showbackground": true,
            "ticks": "",
            "zerolinecolor": "white"
           }
          },
          "shapedefaults": {
           "line": {
            "color": "#2a3f5f"
           }
          },
          "ternary": {
           "aaxis": {
            "gridcolor": "white",
            "linecolor": "white",
            "ticks": ""
           },
           "baxis": {
            "gridcolor": "white",
            "linecolor": "white",
            "ticks": ""
           },
           "bgcolor": "#E5ECF6",
           "caxis": {
            "gridcolor": "white",
            "linecolor": "white",
            "ticks": ""
           }
          },
          "title": {
           "x": 0.05
          },
          "xaxis": {
           "automargin": true,
           "gridcolor": "white",
           "linecolor": "white",
           "ticks": "",
           "title": {
            "standoff": 15
           },
           "zerolinecolor": "white",
           "zerolinewidth": 2
          },
          "yaxis": {
           "automargin": true,
           "gridcolor": "white",
           "linecolor": "white",
           "ticks": "",
           "title": {
            "standoff": 15
           },
           "zerolinecolor": "white",
           "zerolinewidth": 2
          }
         }
        },
        "title": {
         "text": "Africa GDP "
        },
        "xaxis": {
         "anchor": "y",
         "domain": [
          0,
          1
         ],
         "range": [
          "1990-01-01",
          "2023-09-01"
         ],
         "title": {
          "text": "TIME_PERIOD"
         }
        },
        "yaxis": {
         "anchor": "x",
         "domain": [
          0,
          1
         ],
         "title": {
          "text": "OBS_VALUE"
         }
        }
       }
      }
     },
     "metadata": {},
     "output_type": "display_data"
    }
   ],
   "source": [
    "fig = px.line(af_gdp, x='TIME_PERIOD', y=\"OBS_VALUE\", color='Zone de référence')\n",
    "fig.update_layout(xaxis_range=['1990-01-01','2023-09-01'],\n",
    "                  title_text= \"Africa GDP \")\n",
    "fig.show()"
   ]
  },
  {
   "cell_type": "code",
   "execution_count": 148,
   "metadata": {},
   "outputs": [
    {
     "data": {
      "text/plain": [
       "array(['Chili', 'Corée', 'G7', 'Italie', 'Türkiye', 'Colombie',\n",
       "       'Luxembourg', 'Autriche', 'Zone euro (20 pays)', 'États-Unis',\n",
       "       'Royaume-Uni', 'Lettonie', 'Canada', 'Mexique',\n",
       "       'Union européenne (27 pays à partir du 01/02/2020)', 'Suède',\n",
       "       'Tchéquie', 'Lituanie', 'Espagne', 'Pologne', 'G20', 'Islande',\n",
       "       'Belgique', 'Allemagne', 'OCDE', 'Japon', 'France', 'Costa Rica',\n",
       "       'Slovénie', 'Hongrie', 'Norvège', 'Finlande', 'Portugal',\n",
       "       'Pays-Bas', 'Suisse', 'OCDE Europe', 'ALENA', 'Estonie',\n",
       "       'Danemark', 'Grèce', 'Australie', 'République slovaque',\n",
       "       'Nouvelle-Zélande', 'Israël', 'Argentine', 'Afrique du Sud',\n",
       "       'Chine (République populaire de)', 'Brésil', 'Arabie saoudite',\n",
       "       'Inde', 'Indonésie', 'Russie'], dtype=object)"
      ]
     },
     "execution_count": 148,
     "metadata": {},
     "output_type": "execute_result"
    }
   ],
   "source": [
    "gdp[\"Zone de référence\"].unique()"
   ]
  },
  {
   "cell_type": "code",
   "execution_count": 155,
   "metadata": {},
   "outputs": [
    {
     "data": {
      "text/html": [
       "<div>\n",
       "<style scoped>\n",
       "    .dataframe tbody tr th:only-of-type {\n",
       "        vertical-align: middle;\n",
       "    }\n",
       "\n",
       "    .dataframe tbody tr th {\n",
       "        vertical-align: top;\n",
       "    }\n",
       "\n",
       "    .dataframe thead th {\n",
       "        text-align: right;\n",
       "    }\n",
       "</style>\n",
       "<table border=\"1\" class=\"dataframe\">\n",
       "  <thead>\n",
       "    <tr style=\"text-align: right;\">\n",
       "      <th></th>\n",
       "      <th>Unnamed: 0</th>\n",
       "      <th>Zone de référence</th>\n",
       "      <th>Secteur institutionnel</th>\n",
       "      <th>Transaction</th>\n",
       "      <th>Activité économique</th>\n",
       "      <th>Unité de mesure</th>\n",
       "      <th>Transformation</th>\n",
       "      <th>TIME_PERIOD</th>\n",
       "      <th>OBS_VALUE</th>\n",
       "    </tr>\n",
       "  </thead>\n",
       "  <tbody>\n",
       "    <tr>\n",
       "      <th>110</th>\n",
       "      <td>4417</td>\n",
       "      <td>Corée</td>\n",
       "      <td>Economie totale</td>\n",
       "      <td>Produit intérieur brut</td>\n",
       "      <td>Non applicable</td>\n",
       "      <td>Changement en pourcentage</td>\n",
       "      <td>Taux de croissance, période sur période</td>\n",
       "      <td>1960-06-01</td>\n",
       "      <td>4.496005</td>\n",
       "    </tr>\n",
       "    <tr>\n",
       "      <th>111</th>\n",
       "      <td>4418</td>\n",
       "      <td>Corée</td>\n",
       "      <td>Economie totale</td>\n",
       "      <td>Produit intérieur brut</td>\n",
       "      <td>Non applicable</td>\n",
       "      <td>Changement en pourcentage</td>\n",
       "      <td>Taux de croissance, période sur période</td>\n",
       "      <td>1960-09-01</td>\n",
       "      <td>-1.111563</td>\n",
       "    </tr>\n",
       "    <tr>\n",
       "      <th>112</th>\n",
       "      <td>4419</td>\n",
       "      <td>Corée</td>\n",
       "      <td>Economie totale</td>\n",
       "      <td>Produit intérieur brut</td>\n",
       "      <td>Non applicable</td>\n",
       "      <td>Changement en pourcentage</td>\n",
       "      <td>Taux de croissance, période sur période</td>\n",
       "      <td>1960-12-01</td>\n",
       "      <td>0.596299</td>\n",
       "    </tr>\n",
       "    <tr>\n",
       "      <th>113</th>\n",
       "      <td>4420</td>\n",
       "      <td>Corée</td>\n",
       "      <td>Economie totale</td>\n",
       "      <td>Produit intérieur brut</td>\n",
       "      <td>Non applicable</td>\n",
       "      <td>Changement en pourcentage</td>\n",
       "      <td>Taux de croissance, période sur période</td>\n",
       "      <td>1961-03-01</td>\n",
       "      <td>3.200927</td>\n",
       "    </tr>\n",
       "    <tr>\n",
       "      <th>114</th>\n",
       "      <td>4421</td>\n",
       "      <td>Corée</td>\n",
       "      <td>Economie totale</td>\n",
       "      <td>Produit intérieur brut</td>\n",
       "      <td>Non applicable</td>\n",
       "      <td>Changement en pourcentage</td>\n",
       "      <td>Taux de croissance, période sur période</td>\n",
       "      <td>1961-06-01</td>\n",
       "      <td>4.316423</td>\n",
       "    </tr>\n",
       "    <tr>\n",
       "      <th>...</th>\n",
       "      <td>...</td>\n",
       "      <td>...</td>\n",
       "      <td>...</td>\n",
       "      <td>...</td>\n",
       "      <td>...</td>\n",
       "      <td>...</td>\n",
       "      <td>...</td>\n",
       "      <td>...</td>\n",
       "      <td>...</td>\n",
       "    </tr>\n",
       "    <tr>\n",
       "      <th>4202</th>\n",
       "      <td>50085</td>\n",
       "      <td>Russie</td>\n",
       "      <td>Economie totale</td>\n",
       "      <td>Produit intérieur brut</td>\n",
       "      <td>Non applicable</td>\n",
       "      <td>Changement en pourcentage</td>\n",
       "      <td>Taux de croissance, période sur période</td>\n",
       "      <td>2020-09-01</td>\n",
       "      <td>2.778079</td>\n",
       "    </tr>\n",
       "    <tr>\n",
       "      <th>4203</th>\n",
       "      <td>50086</td>\n",
       "      <td>Russie</td>\n",
       "      <td>Economie totale</td>\n",
       "      <td>Produit intérieur brut</td>\n",
       "      <td>Non applicable</td>\n",
       "      <td>Changement en pourcentage</td>\n",
       "      <td>Taux de croissance, période sur période</td>\n",
       "      <td>2020-12-01</td>\n",
       "      <td>0.739743</td>\n",
       "    </tr>\n",
       "    <tr>\n",
       "      <th>4204</th>\n",
       "      <td>50087</td>\n",
       "      <td>Russie</td>\n",
       "      <td>Economie totale</td>\n",
       "      <td>Produit intérieur brut</td>\n",
       "      <td>Non applicable</td>\n",
       "      <td>Changement en pourcentage</td>\n",
       "      <td>Taux de croissance, période sur période</td>\n",
       "      <td>2021-03-01</td>\n",
       "      <td>0.680789</td>\n",
       "    </tr>\n",
       "    <tr>\n",
       "      <th>4205</th>\n",
       "      <td>50088</td>\n",
       "      <td>Russie</td>\n",
       "      <td>Economie totale</td>\n",
       "      <td>Produit intérieur brut</td>\n",
       "      <td>Non applicable</td>\n",
       "      <td>Changement en pourcentage</td>\n",
       "      <td>Taux de croissance, période sur période</td>\n",
       "      <td>2021-06-01</td>\n",
       "      <td>3.190934</td>\n",
       "    </tr>\n",
       "    <tr>\n",
       "      <th>4206</th>\n",
       "      <td>50089</td>\n",
       "      <td>Russie</td>\n",
       "      <td>Economie totale</td>\n",
       "      <td>Produit intérieur brut</td>\n",
       "      <td>Non applicable</td>\n",
       "      <td>Changement en pourcentage</td>\n",
       "      <td>Taux de croissance, période sur période</td>\n",
       "      <td>2021-09-01</td>\n",
       "      <td>-0.794506</td>\n",
       "    </tr>\n",
       "  </tbody>\n",
       "</table>\n",
       "<p>899 rows × 9 columns</p>\n",
       "</div>"
      ],
      "text/plain": [
       "      Unnamed: 0 Zone de référence Secteur institutionnel  \\\n",
       "110         4417             Corée        Economie totale   \n",
       "111         4418             Corée        Economie totale   \n",
       "112         4419             Corée        Economie totale   \n",
       "113         4420             Corée        Economie totale   \n",
       "114         4421             Corée        Economie totale   \n",
       "...          ...               ...                    ...   \n",
       "4202       50085            Russie        Economie totale   \n",
       "4203       50086            Russie        Economie totale   \n",
       "4204       50087            Russie        Economie totale   \n",
       "4205       50088            Russie        Economie totale   \n",
       "4206       50089            Russie        Economie totale   \n",
       "\n",
       "                 Transaction Activité économique            Unité de mesure  \\\n",
       "110   Produit intérieur brut      Non applicable  Changement en pourcentage   \n",
       "111   Produit intérieur brut      Non applicable  Changement en pourcentage   \n",
       "112   Produit intérieur brut      Non applicable  Changement en pourcentage   \n",
       "113   Produit intérieur brut      Non applicable  Changement en pourcentage   \n",
       "114   Produit intérieur brut      Non applicable  Changement en pourcentage   \n",
       "...                      ...                 ...                        ...   \n",
       "4202  Produit intérieur brut      Non applicable  Changement en pourcentage   \n",
       "4203  Produit intérieur brut      Non applicable  Changement en pourcentage   \n",
       "4204  Produit intérieur brut      Non applicable  Changement en pourcentage   \n",
       "4205  Produit intérieur brut      Non applicable  Changement en pourcentage   \n",
       "4206  Produit intérieur brut      Non applicable  Changement en pourcentage   \n",
       "\n",
       "                               Transformation TIME_PERIOD  OBS_VALUE  \n",
       "110   Taux de croissance, période sur période  1960-06-01   4.496005  \n",
       "111   Taux de croissance, période sur période  1960-09-01  -1.111563  \n",
       "112   Taux de croissance, période sur période  1960-12-01   0.596299  \n",
       "113   Taux de croissance, période sur période  1961-03-01   3.200927  \n",
       "114   Taux de croissance, période sur période  1961-06-01   4.316423  \n",
       "...                                       ...         ...        ...  \n",
       "4202  Taux de croissance, période sur période  2020-09-01   2.778079  \n",
       "4203  Taux de croissance, période sur période  2020-12-01   0.739743  \n",
       "4204  Taux de croissance, période sur période  2021-03-01   0.680789  \n",
       "4205  Taux de croissance, période sur période  2021-06-01   3.190934  \n",
       "4206  Taux de croissance, période sur période  2021-09-01  -0.794506  \n",
       "\n",
       "[899 rows x 9 columns]"
      ]
     },
     "execution_count": 155,
     "metadata": {},
     "output_type": "execute_result"
    }
   ],
   "source": [
    "# Asia\n",
    "as_gdp = gdp[(gdp[\"Zone de référence\"] == \"Corée\")| \n",
    "                      (gdp[\"Zone de référence\"] == \"Türkiye\")  |\n",
    "                      (gdp[\"Zone de référence\"] == \"Chine (République populaire de)\")|\n",
    "                      (gdp[\"Zone de référence\"] == \"Israël\") |\n",
    "                      (gdp[\"Zone de référence\"] == \"Arabie saoudite\") |\n",
    "                      (gdp[\"Zone de référence\"] == \"Indonésie\") | \n",
    "                      (gdp[\"Zone de référence\"] == \"Inde\") | \n",
    "                      (gdp[\"Zone de référence\"] == \"Russie\")                 \n",
    "                      ]\n",
    "as_gdp"
   ]
  },
  {
   "cell_type": "code",
   "execution_count": 172,
   "metadata": {},
   "outputs": [
    {
     "data": {
      "application/vnd.plotly.v1+json": {
       "config": {
        "plotlyServerURL": "https://plot.ly"
       },
       "data": [
        {
         "hovertemplate": "Zone de référence=Corée<br>TIME_PERIOD=%{x}<br>OBS_VALUE=%{y}<extra></extra>",
         "legendgroup": "Corée",
         "line": {
          "color": "#636efa",
          "dash": "solid"
         },
         "marker": {
          "symbol": "circle"
         },
         "mode": "lines",
         "name": "Corée",
         "orientation": "v",
         "showlegend": true,
         "type": "scatter",
         "x": [
          "1960-06-01",
          "1960-09-01",
          "1960-12-01",
          "1961-03-01",
          "1961-06-01",
          "1961-09-01",
          "1961-12-01",
          "1962-03-01",
          "1962-06-01",
          "1962-09-01",
          "1962-12-01",
          "1963-03-01",
          "1963-06-01",
          "1963-09-01",
          "1963-12-01",
          "1964-03-01",
          "1964-06-01",
          "1964-09-01",
          "1964-12-01",
          "1965-03-01",
          "1965-06-01",
          "1965-09-01",
          "1965-12-01",
          "1966-03-01",
          "1966-06-01",
          "1966-09-01",
          "1966-12-01",
          "1967-03-01",
          "1967-06-01",
          "1967-09-01",
          "1967-12-01",
          "1968-03-01",
          "1968-06-01",
          "1968-09-01",
          "1968-12-01",
          "1969-03-01",
          "1969-06-01",
          "1969-09-01",
          "1969-12-01",
          "1970-03-01",
          "1970-06-01",
          "1970-09-01",
          "1970-12-01",
          "1971-03-01",
          "1971-06-01",
          "1971-09-01",
          "1971-12-01",
          "1972-03-01",
          "1972-06-01",
          "1972-09-01",
          "1972-12-01",
          "1973-03-01",
          "1973-06-01",
          "1973-09-01",
          "1973-12-01",
          "1974-03-01",
          "1974-06-01",
          "1974-09-01",
          "1974-12-01",
          "1975-03-01",
          "1975-06-01",
          "1975-09-01",
          "1975-12-01",
          "1976-03-01",
          "1976-06-01",
          "1976-09-01",
          "1976-12-01",
          "1977-03-01",
          "1977-06-01",
          "1977-09-01",
          "1977-12-01",
          "1978-03-01",
          "1978-06-01",
          "1978-09-01",
          "1978-12-01",
          "1979-03-01",
          "1979-06-01",
          "1979-09-01",
          "1979-12-01",
          "1980-03-01",
          "1980-06-01",
          "1980-09-01",
          "1980-12-01",
          "1981-03-01",
          "1981-06-01",
          "1981-09-01",
          "1981-12-01",
          "1982-03-01",
          "1982-06-01",
          "1982-09-01",
          "1982-12-01",
          "1983-03-01",
          "1983-06-01",
          "1983-09-01",
          "1983-12-01",
          "1984-03-01",
          "1984-06-01",
          "1984-09-01",
          "1984-12-01",
          "1985-03-01",
          "1985-06-01",
          "1985-09-01",
          "1985-12-01",
          "1986-03-01",
          "1986-06-01",
          "1986-09-01",
          "1986-12-01",
          "1987-03-01",
          "1987-06-01",
          "1987-09-01",
          "1987-12-01",
          "1988-03-01",
          "1988-06-01",
          "1988-09-01",
          "1988-12-01",
          "1989-03-01",
          "1989-06-01",
          "1989-09-01",
          "1989-12-01",
          "1990-03-01",
          "1990-06-01",
          "1990-09-01",
          "1990-12-01",
          "1991-03-01",
          "1991-06-01",
          "1991-09-01",
          "1991-12-01",
          "1992-03-01",
          "1992-06-01",
          "1992-09-01",
          "1992-12-01",
          "1993-03-01",
          "1993-06-01",
          "1993-09-01",
          "1993-12-01",
          "1994-03-01",
          "1994-06-01",
          "1994-09-01",
          "1994-12-01",
          "1995-03-01",
          "1995-06-01",
          "1995-09-01",
          "1995-12-01",
          "1996-03-01",
          "1996-06-01",
          "1996-09-01",
          "1996-12-01",
          "1997-03-01",
          "1997-06-01",
          "1997-09-01",
          "1997-12-01",
          "1998-03-01",
          "1998-06-01",
          "1998-09-01",
          "1998-12-01",
          "1999-03-01",
          "1999-06-01",
          "1999-09-01",
          "1999-12-01",
          "2000-03-01",
          "2000-06-01",
          "2000-09-01",
          "2000-12-01",
          "2001-03-01",
          "2001-06-01",
          "2001-09-01",
          "2001-12-01",
          "2002-03-01",
          "2002-06-01",
          "2002-09-01",
          "2002-12-01",
          "2003-03-01",
          "2003-06-01",
          "2003-09-01",
          "2003-12-01",
          "2004-03-01",
          "2004-06-01",
          "2004-09-01",
          "2004-12-01",
          "2005-03-01",
          "2005-06-01",
          "2005-09-01",
          "2005-12-01",
          "2006-03-01",
          "2006-06-01",
          "2006-09-01",
          "2006-12-01",
          "2007-03-01",
          "2007-06-01",
          "2007-09-01",
          "2007-12-01",
          "2008-03-01",
          "2008-06-01",
          "2008-09-01",
          "2008-12-01",
          "2009-03-01",
          "2009-06-01",
          "2009-09-01",
          "2009-12-01",
          "2010-03-01",
          "2010-06-01",
          "2010-09-01",
          "2010-12-01",
          "2011-03-01",
          "2011-06-01",
          "2011-09-01",
          "2011-12-01",
          "2012-03-01",
          "2012-06-01",
          "2012-09-01",
          "2012-12-01",
          "2013-03-01",
          "2013-06-01",
          "2013-09-01",
          "2013-12-01",
          "2014-03-01",
          "2014-06-01",
          "2014-09-01",
          "2014-12-01",
          "2015-03-01",
          "2015-06-01",
          "2015-09-01",
          "2015-12-01",
          "2016-03-01",
          "2016-06-01",
          "2016-09-01",
          "2016-12-01",
          "2017-03-01",
          "2017-06-01",
          "2017-09-01",
          "2017-12-01",
          "2018-03-01",
          "2018-06-01",
          "2018-09-01",
          "2018-12-01",
          "2019-03-01",
          "2019-06-01",
          "2019-09-01",
          "2019-12-01",
          "2020-03-01",
          "2020-06-01",
          "2020-09-01",
          "2020-12-01",
          "2021-03-01",
          "2021-06-01",
          "2021-09-01",
          "2021-12-01",
          "2022-03-01",
          "2022-06-01",
          "2022-09-01",
          "2022-12-01",
          "2023-03-01",
          "2023-06-01",
          "2023-09-01",
          "2023-12-01"
         ],
         "xaxis": "x",
         "y": [
          4.496005439,
          -1.111562966,
          0.596298835,
          3.20092662,
          4.316423271,
          -1.825247143,
          1.297043617,
          1.991930454,
          -1.868167524,
          2.927449609,
          2.880017792,
          5.859393765,
          -2.358560133,
          3.295069015,
          0.093359129,
          5.970535022,
          -2.874867444,
          6.805402395,
          4.019545705,
          1.278573815,
          0.226092863,
          -0.790992177,
          2.332367206,
          6.129066097,
          6.193839408,
          -1.728704276,
          1.331174981,
          3.370041807,
          2.087957254,
          4.139624768,
          0.660321191,
          6.363252295,
          1.471809575,
          5.132128648,
          -1.706630201,
          5.110987142,
          3.452410594,
          8.061461678,
          2.010960349,
          -1.694379647,
          4.021110832,
          0.61861926,
          7.704463977,
          0.560985094,
          3.257423037,
          0.193234303,
          0.751014143,
          1.437411275,
          2.955504084,
          1.648226735,
          4.251313975,
          3.307410387,
          4.202215108,
          5.090241766,
          1.447179718,
          4.175234446,
          -0.263554358,
          1.56076644,
          -0.341014777,
          1.414647153,
          4.708017469,
          2.857939982,
          3.085712348,
          2.888755135,
          4.80717592,
          1.940145549,
          1.124698181,
          1.000940879,
          5.073162158,
          6.0092059,
          3.768176164,
          -0.809499069,
          3.082241658,
          1.859288012,
          4.797352379,
          4.486019937,
          0.755831526,
          -2.767723422,
          -1.518757047,
          0.886148261,
          -0.539530976,
          1.892977664,
          -2.765761869,
          4.115111914,
          2.415542796,
          4.162809598,
          1.568787799,
          0.678619182,
          2.348344979,
          2.07400645,
          3.146901625,
          4.430468416,
          3.087699961,
          3.713597355,
          0.715888069,
          4.381299676,
          2.506439485,
          1.363243714,
          0.486023902,
          2.810896317,
          2.408892709,
          1.137674121,
          3.048656647,
          1.925429551,
          3.897172975,
          4.317175112,
          1.559825819,
          3.211522029,
          4.953211831,
          0.975698471,
          2.035328587,
          7.703239327,
          -2.1607374,
          3.145655266,
          3.254636181,
          0.043277553,
          1.460586398,
          2.564383464,
          4.129775627,
          1.01855052,
          2.23062202,
          3.232927558,
          2.033266271,
          3.750176278,
          1.661478045,
          2.145297059,
          2.503572026,
          1.780392603,
          0.701694982,
          0.067624061,
          1.560677644,
          1.990657829,
          2.565331673,
          1.843683328,
          1.913663988,
          2.916855703,
          1.631592096,
          1.682199111,
          3.930438208,
          2.090489418,
          2.021824591,
          2.075873115,
          1.870552316,
          1.908135199,
          2.020152462,
          1.758931416,
          1.691579214,
          0.46806387,
          3.550552773,
          0.791744376,
          -0.455994331,
          -6.818021985,
          -0.807932069,
          1.747151805,
          2.496049822,
          3.03463255,
          4.383164849,
          2.781170984,
          2.886255375,
          1.895051738,
          1.332510215,
          2.754591172,
          -0.324457972,
          1.225554801,
          1.298881026,
          1.350193624,
          1.762585517,
          2.544481592,
          1.812135416,
          2.021812956,
          1.097353992,
          -0.659159835,
          -0.154146863,
          1.932669509,
          2.639479586,
          1.254800591,
          0.763499369,
          0.405586129,
          0.757933774,
          0.850903369,
          1.887062862,
          1.505330894,
          1.012464666,
          1.639117138,
          0.730602028,
          1.613954951,
          0.779357615,
          1.674043596,
          1.730290857,
          1.173831453,
          2.156948555,
          0.402394858,
          0.523473003,
          0.815881043,
          -3.283889347,
          0.089986722,
          1.332777638,
          2.992674785,
          0.746867545,
          1.959076739,
          1.899801372,
          1.15521508,
          1.219318711,
          0.933130719,
          0.490791061,
          0.526323638,
          0.472298068,
          0.865665953,
          0.565974618,
          0.45177694,
          0.502248725,
          0.859424906,
          1.166152951,
          0.856151759,
          0.874915753,
          0.85644443,
          0.87160402,
          0.319454245,
          0.495085269,
          0.761630954,
          0.486137139,
          1.46130046,
          0.690195609,
          0.272629303,
          1.232503808,
          0.408153887,
          0.5997012,
          0.977751925,
          0.759515901,
          1.394926941,
          -0.323549159,
          1.253680524,
          0.688244533,
          0.616673977,
          0.644164091,
          -0.067736397,
          1.092481064,
          0.415327871,
          1.216302313,
          -1.276259202,
          -3.01546504,
          2.314953096,
          1.34605072,
          1.786997745,
          0.880678161,
          0.12722835,
          1.395438784,
          0.660557888,
          0.750468621,
          0.233726766,
          -0.302968296,
          0.329874547,
          0.608652949,
          0.616072633,
          0.624853456
         ],
         "yaxis": "y"
        },
        {
         "hovertemplate": "Zone de référence=Türkiye<br>TIME_PERIOD=%{x}<br>OBS_VALUE=%{y}<extra></extra>",
         "legendgroup": "Türkiye",
         "line": {
          "color": "#EF553B",
          "dash": "solid"
         },
         "marker": {
          "symbol": "circle"
         },
         "mode": "lines",
         "name": "Türkiye",
         "orientation": "v",
         "showlegend": true,
         "type": "scatter",
         "x": [
          "1998-06-01",
          "1998-09-01",
          "1998-12-01",
          "1999-03-01",
          "1999-06-01",
          "1999-09-01",
          "1999-12-01",
          "2000-03-01",
          "2000-06-01",
          "2000-09-01",
          "2000-12-01",
          "2001-03-01",
          "2001-06-01",
          "2001-09-01",
          "2001-12-01",
          "2002-03-01",
          "2002-06-01",
          "2002-09-01",
          "2002-12-01",
          "2003-03-01",
          "2003-06-01",
          "2003-09-01",
          "2003-12-01",
          "2004-03-01",
          "2004-06-01",
          "2004-09-01",
          "2004-12-01",
          "2005-03-01",
          "2005-06-01",
          "2005-09-01",
          "2005-12-01",
          "2006-03-01",
          "2006-06-01",
          "2006-09-01",
          "2006-12-01",
          "2007-03-01",
          "2007-06-01",
          "2007-09-01",
          "2007-12-01",
          "2008-03-01",
          "2008-06-01",
          "2008-09-01",
          "2008-12-01",
          "2009-03-01",
          "2009-06-01",
          "2009-09-01",
          "2009-12-01",
          "2010-03-01",
          "2010-06-01",
          "2010-09-01",
          "2010-12-01",
          "2011-03-01",
          "2011-06-01",
          "2011-09-01",
          "2011-12-01",
          "2012-03-01",
          "2012-06-01",
          "2012-09-01",
          "2012-12-01",
          "2013-03-01",
          "2013-06-01",
          "2013-09-01",
          "2013-12-01",
          "2014-03-01",
          "2014-06-01",
          "2014-09-01",
          "2014-12-01",
          "2015-03-01",
          "2015-06-01",
          "2015-09-01",
          "2015-12-01",
          "2016-03-01",
          "2016-06-01",
          "2016-09-01",
          "2016-12-01",
          "2017-03-01",
          "2017-06-01",
          "2017-09-01",
          "2017-12-01",
          "2018-03-01",
          "2018-06-01",
          "2018-09-01",
          "2018-12-01",
          "2019-03-01",
          "2019-06-01",
          "2019-09-01",
          "2019-12-01",
          "2020-03-01",
          "2020-06-01",
          "2020-09-01",
          "2020-12-01",
          "2021-03-01",
          "2021-06-01",
          "2021-09-01",
          "2021-12-01",
          "2022-03-01",
          "2022-06-01",
          "2022-09-01",
          "2022-12-01",
          "2023-03-01",
          "2023-06-01",
          "2023-09-01",
          "2023-12-01"
         ],
         "xaxis": "x",
         "y": [
          -0.796542956,
          -1.407074898,
          -0.258688159,
          -1.685820218,
          -0.563715666,
          -1.686618055,
          2.987420294,
          1.574851379,
          3.893370357,
          1.489316422,
          1.436633405,
          -5.125129608,
          -4.844038717,
          1.251785772,
          -1.682896271,
          3.777582554,
          4.316415446,
          1.366468032,
          2.13363529,
          0.083600699,
          0.336326982,
          2.851212403,
          3.023013077,
          2.754282995,
          2.328300885,
          1.127730536,
          1.622484668,
          4.609951611,
          0.422159476,
          1.41197126,
          3.306804141,
          1.14513327,
          3.046122099,
          -0.753486109,
          2.258713045,
          1.823080444,
          0.030535506,
          0.586394599,
          3.432599138,
          2.106492108,
          -3.548598571,
          -1.816869974,
          -2.540031551,
          -5.664019566,
          4.006998137,
          2.395761074,
          1.952357185,
          -0.294994982,
          3.800709327,
          2.770701784,
          3.023189403,
          2.253858177,
          2.747690817,
          2.658843122,
          1.357311969,
          -0.889773757,
          1.727526866,
          1.764793881,
          1.602891829,
          2.92988564,
          2.935776113,
          1.465976155,
          0.193829518,
          2.901075638,
          -1.62240622,
          2.458184399,
          1.347559385,
          1.890749754,
          1.523769405,
          1.401513902,
          1.166866867,
          0.361537968,
          1.430886402,
          -2.867673426,
          5.509611596,
          1.368865306,
          2.28031882,
          1.515918521,
          1.882761165,
          1.267288048,
          0.588498793,
          -0.961150162,
          -3.448987929,
          1.563174382,
          2.271247249,
          0.530768617,
          1.335277559,
          0.177106334,
          -10.71333831,
          16.411679445,
          1.465309314,
          2.033946063,
          1.712232685,
          3.647502808,
          1.566958247,
          0.212733956,
          1.414398999,
          0.542206625,
          1.14854317,
          -0.162637371,
          3.608919239,
          0.31194338,
          0.952749257
         ],
         "yaxis": "y"
        },
        {
         "hovertemplate": "Zone de référence=Israël<br>TIME_PERIOD=%{x}<br>OBS_VALUE=%{y}<extra></extra>",
         "legendgroup": "Israël",
         "line": {
          "color": "#00cc96",
          "dash": "solid"
         },
         "marker": {
          "symbol": "circle"
         },
         "mode": "lines",
         "name": "Israël",
         "orientation": "v",
         "showlegend": true,
         "type": "scatter",
         "x": [
          "1995-06-01",
          "1995-09-01",
          "1995-12-01",
          "1996-03-01",
          "1996-06-01",
          "1996-09-01",
          "1996-12-01",
          "1997-03-01",
          "1997-06-01",
          "1997-09-01",
          "1997-12-01",
          "1998-03-01",
          "1998-06-01",
          "1998-09-01",
          "1998-12-01",
          "1999-03-01",
          "1999-06-01",
          "1999-09-01",
          "1999-12-01",
          "2000-03-01",
          "2000-06-01",
          "2000-09-01",
          "2000-12-01",
          "2001-03-01",
          "2001-06-01",
          "2001-09-01",
          "2001-12-01",
          "2002-03-01",
          "2002-06-01",
          "2002-09-01",
          "2002-12-01",
          "2003-03-01",
          "2003-06-01",
          "2003-09-01",
          "2003-12-01",
          "2004-03-01",
          "2004-06-01",
          "2004-09-01",
          "2004-12-01",
          "2005-03-01",
          "2005-06-01",
          "2005-09-01",
          "2005-12-01",
          "2006-03-01",
          "2006-06-01",
          "2006-09-01",
          "2006-12-01",
          "2007-03-01",
          "2007-06-01",
          "2007-09-01",
          "2007-12-01",
          "2008-03-01",
          "2008-06-01",
          "2008-09-01",
          "2008-12-01",
          "2009-03-01",
          "2009-06-01",
          "2009-09-01",
          "2009-12-01",
          "2010-03-01",
          "2010-06-01",
          "2010-09-01",
          "2010-12-01",
          "2011-03-01",
          "2011-06-01",
          "2011-09-01",
          "2011-12-01",
          "2012-03-01",
          "2012-06-01",
          "2012-09-01",
          "2012-12-01",
          "2013-03-01",
          "2013-06-01",
          "2013-09-01",
          "2013-12-01",
          "2014-03-01",
          "2014-06-01",
          "2014-09-01",
          "2014-12-01",
          "2015-03-01",
          "2015-06-01",
          "2015-09-01",
          "2015-12-01",
          "2016-03-01",
          "2016-06-01",
          "2016-09-01",
          "2016-12-01",
          "2017-03-01",
          "2017-06-01",
          "2017-09-01",
          "2017-12-01",
          "2018-03-01",
          "2018-06-01",
          "2018-09-01",
          "2018-12-01",
          "2019-03-01",
          "2019-06-01",
          "2019-09-01",
          "2019-12-01",
          "2020-03-01",
          "2020-06-01",
          "2020-09-01",
          "2020-12-01",
          "2021-03-01",
          "2021-06-01",
          "2021-09-01",
          "2021-12-01",
          "2022-03-01",
          "2022-06-01",
          "2022-09-01",
          "2022-12-01",
          "2023-03-01",
          "2023-06-01",
          "2023-09-01",
          "2023-12-01"
         ],
         "xaxis": "x",
         "y": [
          2.136182555,
          1.128489849,
          0.630419928,
          1.2235357,
          1.865848848,
          1.31781712,
          1.647154936,
          1.217699361,
          0.106884981,
          0.141845395,
          1.817109267,
          1.842065967,
          -0.514326306,
          1.083056827,
          0.4179174,
          0.063160327,
          3.297104797,
          0.368499536,
          1.943077217,
          1.254912341,
          3.699134491,
          3.162166256,
          0.230674798,
          -1.004679562,
          -0.903628035,
          -1.071124796,
          -0.373898382,
          0.846868205,
          0.0366923,
          0.020395044,
          -0.017844674,
          1.416436183,
          -0.523507886,
          0.745236857,
          0.657272352,
          1.462956741,
          1.326473128,
          1.385912141,
          1.148554094,
          1.130593003,
          0.950936482,
          1.163211249,
          1.887540241,
          1.738339865,
          1.598075938,
          -0.567190732,
          1.460817698,
          2.046610331,
          1.471199444,
          2.091220728,
          1.638964171,
          0.279203793,
          0.205565233,
          0.317370835,
          -0.750865269,
          0.235620108,
          1.002374008,
          0.842358177,
          1.097352425,
          1.668231995,
          1.565119934,
          1.159093704,
          1.59675296,
          1.784743954,
          0.804320748,
          1.998778119,
          0.702457846,
          -0.787997771,
          1.040948093,
          1.108655877,
          0.177127521,
          1.338509386,
          1.706334087,
          1.047040931,
          0.871659794,
          1.438810854,
          0.546110164,
          0.846467909,
          1.455303592,
          -0.083616977,
          0.253030976,
          0.134101878,
          1.098655855,
          0.088152381,
          2.89945274,
          1.01270947,
          1.324150349,
          0.336044353,
          1.091659692,
          1.59330465,
          1.382339972,
          1.09516382,
          0.456114271,
          0.928794764,
          0.854497446,
          1.826456111,
          -0.219619386,
          1.225088042,
          0.866874665,
          -1.644125288,
          -8.269969442,
          8.998404844,
          2.74444409,
          0.16606416,
          3.703549467,
          2.145222943,
          4.734393885,
          -0.785999367,
          1.330323191,
          0.493332465,
          1.772819588,
          0.680440047,
          0.678750702,
          0.349533976,
          -5.619926983
         ],
         "yaxis": "y"
        },
        {
         "hovertemplate": "Zone de référence=Chine (République populaire de)<br>TIME_PERIOD=%{x}<br>OBS_VALUE=%{y}<extra></extra>",
         "legendgroup": "Chine (République populaire de)",
         "line": {
          "color": "#ab63fa",
          "dash": "solid"
         },
         "marker": {
          "symbol": "circle"
         },
         "mode": "lines",
         "name": "Chine (République populaire de)",
         "orientation": "v",
         "showlegend": true,
         "type": "scatter",
         "x": [
          "2011-03-01",
          "2011-06-01",
          "2011-09-01",
          "2011-12-01",
          "2012-03-01",
          "2012-06-01",
          "2012-09-01",
          "2012-12-01",
          "2013-03-01",
          "2013-06-01",
          "2013-09-01",
          "2013-12-01",
          "2014-03-01",
          "2014-06-01",
          "2014-09-01",
          "2014-12-01",
          "2015-03-01",
          "2015-06-01",
          "2015-09-01",
          "2015-12-01",
          "2016-03-01",
          "2016-06-01",
          "2016-09-01",
          "2016-12-01",
          "2017-03-01",
          "2017-06-01",
          "2017-09-01",
          "2017-12-01",
          "2018-03-01",
          "2018-06-01",
          "2018-09-01",
          "2018-12-01",
          "2019-03-01",
          "2019-06-01",
          "2019-09-01",
          "2019-12-01",
          "2020-03-01",
          "2020-06-01",
          "2020-09-01",
          "2020-12-01",
          "2021-03-01",
          "2021-06-01",
          "2021-09-01",
          "2021-12-01",
          "2022-03-01",
          "2022-06-01",
          "2022-09-01",
          "2022-12-01",
          "2023-03-01",
          "2023-06-01",
          "2023-09-01",
          "2023-12-01"
         ],
         "xaxis": "x",
         "y": [
          2.3,
          2.3,
          1.8,
          1.6,
          1.7,
          2.2,
          1.9,
          2,
          1.7,
          1.8,
          2.2,
          1.6,
          1.8,
          1.9,
          1.8,
          1.7,
          1.6,
          2,
          1.7,
          1.6,
          1.6,
          1.8,
          1.7,
          1.6,
          1.7,
          1.8,
          1.6,
          1.5,
          1.8,
          1.7,
          1.4,
          1.3,
          1.7,
          1.4,
          1.4,
          1.2,
          -10.3,
          11.5,
          3.4,
          2.6,
          0.6,
          1.4,
          0.6,
          1.6,
          0.6,
          -2.1,
          4,
          0.6,
          2.1,
          0.6,
          1.5,
          1
         ],
         "yaxis": "y"
        },
        {
         "hovertemplate": "Zone de référence=Arabie saoudite<br>TIME_PERIOD=%{x}<br>OBS_VALUE=%{y}<extra></extra>",
         "legendgroup": "Arabie saoudite",
         "line": {
          "color": "#FFA15A",
          "dash": "solid"
         },
         "marker": {
          "symbol": "circle"
         },
         "mode": "lines",
         "name": "Arabie saoudite",
         "orientation": "v",
         "showlegend": true,
         "type": "scatter",
         "x": [
          "2010-06-01",
          "2010-09-01",
          "2010-12-01",
          "2011-03-01",
          "2011-06-01",
          "2011-09-01",
          "2011-12-01",
          "2012-03-01",
          "2012-06-01",
          "2012-09-01",
          "2012-12-01",
          "2013-03-01",
          "2013-06-01",
          "2013-09-01",
          "2013-12-01",
          "2014-03-01",
          "2014-06-01",
          "2014-09-01",
          "2014-12-01",
          "2015-03-01",
          "2015-06-01",
          "2015-09-01",
          "2015-12-01",
          "2016-03-01",
          "2016-06-01",
          "2016-09-01",
          "2016-12-01",
          "2017-03-01",
          "2017-06-01",
          "2017-09-01",
          "2017-12-01",
          "2018-03-01",
          "2018-06-01",
          "2018-09-01",
          "2018-12-01",
          "2019-03-01",
          "2019-06-01",
          "2019-09-01",
          "2019-12-01",
          "2020-03-01",
          "2020-06-01",
          "2020-09-01",
          "2020-12-01",
          "2021-03-01",
          "2021-06-01",
          "2021-09-01",
          "2021-12-01",
          "2022-03-01",
          "2022-06-01",
          "2022-09-01",
          "2022-12-01",
          "2023-03-01",
          "2023-06-01",
          "2023-09-01",
          "2023-12-01"
         ],
         "xaxis": "x",
         "y": [
          2.709871437,
          1.196130536,
          6.012217542,
          2.579354353,
          1.760133179,
          1.592071673,
          2.378504007,
          1.427761083,
          1.144136761,
          1.207570033,
          -2.317067386,
          -0.415922582,
          3.206936803,
          3.451612517,
          -1.132702487,
          1.191707047,
          0.390287801,
          1.528796782,
          -0.435025566,
          1.716557571,
          2.690199876,
          0.32166419,
          0.101880979,
          0.001216636,
          1.003435128,
          -0.646166247,
          1.586914566,
          -0.992472384,
          0.634452703,
          0.975239441,
          -0.17868231,
          1.828443652,
          0.103501177,
          1.014961845,
          1.000916148,
          -0.777181162,
          0.658614308,
          -0.271047919,
          0.972499092,
          -2.714336199,
          -3.983215701,
          2.040781102,
          1.536214949,
          0.397779368,
          1.638419909,
          3.062417285,
          2.023738307,
          2.210199127,
          1.207249593,
          1.186111345,
          1.530224386,
          -1.479868852,
          0.010983216,
          -2.310009843,
          -0.568607046
         ],
         "yaxis": "y"
        },
        {
         "hovertemplate": "Zone de référence=Inde<br>TIME_PERIOD=%{x}<br>OBS_VALUE=%{y}<extra></extra>",
         "legendgroup": "Inde",
         "line": {
          "color": "#19d3f3",
          "dash": "solid"
         },
         "marker": {
          "symbol": "circle"
         },
         "mode": "lines",
         "name": "Inde",
         "orientation": "v",
         "showlegend": true,
         "type": "scatter",
         "x": [
          "1996-09-01",
          "1996-12-01",
          "1997-03-01",
          "1997-06-01",
          "1997-09-01",
          "1997-12-01",
          "1998-03-01",
          "1998-06-01",
          "1998-09-01",
          "1998-12-01",
          "1999-03-01",
          "1999-06-01",
          "1999-09-01",
          "1999-12-01",
          "2000-03-01",
          "2000-06-01",
          "2000-09-01",
          "2000-12-01",
          "2001-03-01",
          "2001-06-01",
          "2001-09-01",
          "2001-12-01",
          "2002-03-01",
          "2002-06-01",
          "2002-09-01",
          "2002-12-01",
          "2003-03-01",
          "2003-06-01",
          "2003-09-01",
          "2003-12-01",
          "2004-03-01",
          "2004-06-01",
          "2004-09-01",
          "2004-12-01",
          "2005-03-01",
          "2005-06-01",
          "2005-09-01",
          "2005-12-01",
          "2006-03-01",
          "2006-06-01",
          "2006-09-01",
          "2006-12-01",
          "2007-03-01",
          "2007-06-01",
          "2007-09-01",
          "2007-12-01",
          "2008-03-01",
          "2008-06-01",
          "2008-09-01",
          "2008-12-01",
          "2009-03-01",
          "2009-06-01",
          "2009-09-01",
          "2009-12-01",
          "2010-03-01",
          "2010-06-01",
          "2010-09-01",
          "2010-12-01",
          "2011-03-01",
          "2011-06-01",
          "2011-09-01",
          "2011-12-01",
          "2012-03-01",
          "2012-06-01",
          "2012-09-01",
          "2012-12-01",
          "2013-03-01",
          "2013-06-01",
          "2013-09-01",
          "2013-12-01",
          "2014-03-01",
          "2014-06-01",
          "2014-09-01",
          "2014-12-01",
          "2015-03-01",
          "2015-06-01",
          "2015-09-01",
          "2015-12-01",
          "2016-03-01",
          "2016-06-01",
          "2016-09-01",
          "2016-12-01",
          "2017-03-01",
          "2017-06-01",
          "2017-09-01",
          "2017-12-01",
          "2018-03-01",
          "2018-06-01",
          "2018-09-01",
          "2018-12-01",
          "2019-03-01",
          "2019-06-01",
          "2019-09-01",
          "2019-12-01",
          "2020-03-01",
          "2020-06-01",
          "2020-09-01",
          "2020-12-01",
          "2021-03-01",
          "2021-06-01",
          "2021-09-01",
          "2021-12-01",
          "2022-03-01",
          "2022-06-01",
          "2022-09-01",
          "2022-12-01",
          "2023-03-01",
          "2023-06-01",
          "2023-09-01",
          "2023-12-01"
         ],
         "xaxis": "x",
         "y": [
          0.48898,
          1.58557,
          0.75236,
          0.40985,
          1.19283,
          1.60086,
          1.63007,
          1.31074,
          1.81475,
          1.31071,
          1.62415,
          2.58223,
          1.24533,
          1.65076,
          2.09953,
          0.13491,
          1.32769,
          0.04189,
          0.54066,
          2.08137,
          1.23686,
          2.29588,
          0.8071,
          0.62376,
          0.59356,
          0.07824,
          2.25109,
          2.5332,
          2.63211,
          3.28321,
          0.36449,
          2.37817,
          2.39764,
          1.93661,
          1.75097,
          3.1669,
          1.39142,
          2.52791,
          2.50557,
          1.43638,
          3.303,
          1.71129,
          2.7934,
          2.52015,
          1.79448,
          3.37688,
          0.6059,
          1.04386,
          0.87024,
          0.12257,
          -1.84614,
          5.80366,
          2.55388,
          2.12673,
          2.60018,
          2.40256,
          2.95598,
          2.32107,
          1.83064,
          1.21165,
          -0.00385,
          1.62889,
          1.38078,
          1.15795,
          1.794,
          1.18687,
          1.59873,
          1.40382,
          1.60112,
          2.20112,
          1.15901,
          2.28966,
          1.8258,
          1.53395,
          1.68428,
          2.14174,
          1.84623,
          2.03254,
          2.90244,
          1.78095,
          2.29156,
          1.36377,
          0.79957,
          2.05849,
          1.64821,
          1.87877,
          2.14705,
          1.30991,
          1.39716,
          1.47368,
          1.04242,
          1.36366,
          0.61612,
          0.17613,
          0.19734,
          -22.66674,
          22.37623,
          6.77636,
          1.34098,
          -6.96525,
          9.19246,
          1.88096,
          0.49615,
          0.82774,
          1.84437,
          1.17727,
          2.24077,
          2.08768,
          1.88623,
          2.05395
         ],
         "yaxis": "y"
        },
        {
         "hovertemplate": "Zone de référence=Indonésie<br>TIME_PERIOD=%{x}<br>OBS_VALUE=%{y}<extra></extra>",
         "legendgroup": "Indonésie",
         "line": {
          "color": "#FF6692",
          "dash": "solid"
         },
         "marker": {
          "symbol": "circle"
         },
         "mode": "lines",
         "name": "Indonésie",
         "orientation": "v",
         "showlegend": true,
         "type": "scatter",
         "x": [
          "1990-06-01",
          "1990-09-01",
          "1990-12-01",
          "1991-03-01",
          "1991-06-01",
          "1991-09-01",
          "1991-12-01",
          "1992-03-01",
          "1992-06-01",
          "1992-09-01",
          "1992-12-01",
          "1993-03-01",
          "1993-06-01",
          "1993-09-01",
          "1993-12-01",
          "1994-03-01",
          "1994-06-01",
          "1994-09-01",
          "1994-12-01",
          "1995-03-01",
          "1995-06-01",
          "1995-09-01",
          "1995-12-01",
          "1996-03-01",
          "1996-06-01",
          "1996-09-01",
          "1996-12-01",
          "1997-03-01",
          "1997-06-01",
          "1997-09-01",
          "1997-12-01",
          "1998-03-01",
          "1998-06-01",
          "1998-09-01",
          "1998-12-01",
          "1999-03-01",
          "1999-06-01",
          "1999-09-01",
          "1999-12-01",
          "2000-03-01",
          "2000-06-01",
          "2000-09-01",
          "2000-12-01",
          "2001-03-01",
          "2001-06-01",
          "2001-09-01",
          "2001-12-01",
          "2002-03-01",
          "2002-06-01",
          "2002-09-01",
          "2002-12-01",
          "2003-03-01",
          "2003-06-01",
          "2003-09-01",
          "2003-12-01",
          "2004-03-01",
          "2004-06-01",
          "2004-09-01",
          "2004-12-01",
          "2005-03-01",
          "2005-06-01",
          "2005-09-01",
          "2005-12-01",
          "2006-03-01",
          "2006-06-01",
          "2006-09-01",
          "2006-12-01",
          "2007-03-01",
          "2007-06-01",
          "2007-09-01",
          "2007-12-01",
          "2008-03-01",
          "2008-06-01",
          "2008-09-01",
          "2008-12-01",
          "2009-03-01",
          "2009-06-01",
          "2009-09-01",
          "2009-12-01",
          "2010-03-01",
          "2010-06-01",
          "2010-09-01",
          "2010-12-01",
          "2011-03-01",
          "2011-06-01",
          "2011-09-01",
          "2011-12-01",
          "2012-03-01",
          "2012-06-01",
          "2012-09-01",
          "2012-12-01",
          "2013-03-01",
          "2013-06-01",
          "2013-09-01",
          "2013-12-01",
          "2014-03-01",
          "2014-06-01",
          "2014-09-01",
          "2014-12-01",
          "2015-03-01",
          "2015-06-01",
          "2015-09-01",
          "2015-12-01",
          "2016-03-01",
          "2016-06-01",
          "2016-09-01",
          "2016-12-01",
          "2017-03-01",
          "2017-06-01",
          "2017-09-01",
          "2017-12-01",
          "2018-03-01",
          "2018-06-01",
          "2018-09-01",
          "2018-12-01",
          "2019-03-01",
          "2019-06-01",
          "2019-09-01",
          "2019-12-01",
          "2020-03-01",
          "2020-06-01",
          "2020-09-01",
          "2020-12-01",
          "2021-03-01",
          "2021-06-01",
          "2021-09-01",
          "2021-12-01",
          "2022-03-01",
          "2022-06-01",
          "2022-09-01",
          "2022-12-01",
          "2023-03-01",
          "2023-06-01",
          "2023-09-01",
          "2023-12-01"
         ],
         "xaxis": "x",
         "y": [
          2.46526052,
          1.005079199,
          1.332367733,
          3.56899132,
          2.555983803,
          1.339736366,
          1.533548928,
          1.091365275,
          1.290625138,
          3.468742828,
          0.502289408,
          1.921953626,
          1.146154392,
          3.35959042,
          3.340132525,
          0.913822294,
          2.742164279,
          -0.037292014,
          -0.051385778,
          5.370421692,
          2.037694754,
          0.38897581,
          1.369192634,
          1.687402878,
          3.216570103,
          1.872110621,
          3.246263562,
          -1.251111353,
          1.309338395,
          1.871090663,
          -0.513920728,
          -7.357209728,
          -7.838990038,
          -1.114245198,
          -2.792810871,
          5.647681199,
          -0.054982737,
          0.273416965,
          0.107211652,
          3.147464302,
          -0.574923718,
          2.436406825,
          2.875613082,
          -0.712595937,
          1.022894734,
          0.020738765,
          1.416301355,
          1.219098583,
          1.285428675,
          1.283531345,
          1.081071923,
          1.305113264,
          1.133864086,
          1.047589655,
          0.985596804,
          1.174987671,
          1.195908358,
          1.216829969,
          2.814066405,
          0.811018021,
          1.145210323,
          1.101901968,
          1.421164862,
          1.321218929,
          1.276789436,
          1.611894739,
          1.594383978,
          1.62635968,
          1.666702241,
          1.576563345,
          0.866016391,
          2.33653478,
          1.098759498,
          1.216191375,
          1.07836587,
          1.247925758,
          0.614678508,
          1.585072418,
          1.706785701,
          1.627998857,
          1.621887977,
          1.532667618,
          1.563385883,
          1.46075789,
          1.475517399,
          1.515272591,
          1.456814605,
          1.531030433,
          1.448993226,
          1.428312438,
          1.393578601,
          1.359799097,
          1.34258383,
          1.277636687,
          1.280425755,
          1.199852932,
          1.205407493,
          1.189921816,
          1.13427304,
          1.232607342,
          1.154921743,
          1.238283674,
          1.29559216,
          1.17410264,
          1.311218239,
          1.204254143,
          1.206135279,
          1.287526422,
          1.195367393,
          1.279517584,
          1.270481225,
          1.241225956,
          1.298288402,
          1.294885818,
          1.289268229,
          1.289703803,
          1.270774532,
          1.024522366,
          0.947704304,
          -0.323528739,
          -6.536352044,
          2.679599987,
          1.729069629,
          1.399861462,
          1.079473819,
          -0.138435993,
          2.488231041,
          1.227959313,
          1.347550124,
          1.141489981,
          1.34865145,
          1.185015079,
          1.247637374,
          1.218823286,
          1.226592697
         ],
         "yaxis": "y"
        },
        {
         "hovertemplate": "Zone de référence=Russie<br>TIME_PERIOD=%{x}<br>OBS_VALUE=%{y}<extra></extra>",
         "legendgroup": "Russie",
         "line": {
          "color": "#B6E880",
          "dash": "solid"
         },
         "marker": {
          "symbol": "circle"
         },
         "mode": "lines",
         "name": "Russie",
         "orientation": "v",
         "showlegend": true,
         "type": "scatter",
         "x": [
          "2003-06-01",
          "2003-09-01",
          "2003-12-01",
          "2004-03-01",
          "2004-06-01",
          "2004-09-01",
          "2004-12-01",
          "2005-03-01",
          "2005-06-01",
          "2005-09-01",
          "2005-12-01",
          "2006-03-01",
          "2006-06-01",
          "2006-09-01",
          "2006-12-01",
          "2007-03-01",
          "2007-06-01",
          "2007-09-01",
          "2007-12-01",
          "2008-03-01",
          "2008-06-01",
          "2008-09-01",
          "2008-12-01",
          "2009-03-01",
          "2009-06-01",
          "2009-09-01",
          "2009-12-01",
          "2010-03-01",
          "2010-06-01",
          "2010-09-01",
          "2010-12-01",
          "2011-03-01",
          "2011-06-01",
          "2011-09-01",
          "2011-12-01",
          "2012-03-01",
          "2012-06-01",
          "2012-09-01",
          "2012-12-01",
          "2013-03-01",
          "2013-06-01",
          "2013-09-01",
          "2013-12-01",
          "2014-03-01",
          "2014-06-01",
          "2014-09-01",
          "2014-12-01",
          "2015-03-01",
          "2015-06-01",
          "2015-09-01",
          "2015-12-01",
          "2016-03-01",
          "2016-06-01",
          "2016-09-01",
          "2016-12-01",
          "2017-03-01",
          "2017-06-01",
          "2017-09-01",
          "2017-12-01",
          "2018-03-01",
          "2018-06-01",
          "2018-09-01",
          "2018-12-01",
          "2019-03-01",
          "2019-06-01",
          "2019-09-01",
          "2019-12-01",
          "2020-03-01",
          "2020-06-01",
          "2020-09-01",
          "2020-12-01",
          "2021-03-01",
          "2021-06-01",
          "2021-09-01"
         ],
         "xaxis": "x",
         "y": [
          1.115436542,
          1.688167184,
          1.823818769,
          1.878666931,
          1.927184041,
          1.514535194,
          1.118170784,
          1.748082059,
          1.522295172,
          1.762204946,
          2.062840474,
          1.930605205,
          1.925103954,
          2.296129166,
          1.899240513,
          1.813650933,
          2.52379819,
          2.20511038,
          3.193832161,
          2.653171822,
          0.621602394,
          -1.490668597,
          -3.252211484,
          -3.526981758,
          -1.458860781,
          0.410425161,
          1.081708456,
          2.138462021,
          0.950099062,
          0.523512525,
          1.25698003,
          1.155158313,
          0.947690943,
          1.151337174,
          1.207682223,
          1.570296481,
          0.387073923,
          0.516147564,
          0.067384631,
          0.740663422,
          0.340510666,
          0.040528552,
          0.577354817,
          -0.007460833,
          0.4816152,
          -0.318118911,
          -0.235289925,
          -1.017222508,
          -0.669807617,
          0.193525875,
          -0.257791317,
          0.190057524,
          0.053848741,
          0.100716464,
          0.825105938,
          0.201684982,
          0.690456285,
          0.679484492,
          0.020994643,
          1.356032191,
          0.55794654,
          0.241368821,
          0.663966548,
          -0.038077851,
          2.261719554,
          -0.978355601,
          -0.452487734,
          -0.196323318,
          -4.485002074,
          2.7780786,
          0.739743224,
          0.680789326,
          3.190933741,
          -0.794505895
         ],
         "yaxis": "y"
        }
       ],
       "layout": {
        "legend": {
         "title": {
          "text": "Zone de référence"
         },
         "tracegroupgap": 0
        },
        "margin": {
         "t": 60
        },
        "template": {
         "data": {
          "bar": [
           {
            "error_x": {
             "color": "#2a3f5f"
            },
            "error_y": {
             "color": "#2a3f5f"
            },
            "marker": {
             "line": {
              "color": "#E5ECF6",
              "width": 0.5
             },
             "pattern": {
              "fillmode": "overlay",
              "size": 10,
              "solidity": 0.2
             }
            },
            "type": "bar"
           }
          ],
          "barpolar": [
           {
            "marker": {
             "line": {
              "color": "#E5ECF6",
              "width": 0.5
             },
             "pattern": {
              "fillmode": "overlay",
              "size": 10,
              "solidity": 0.2
             }
            },
            "type": "barpolar"
           }
          ],
          "carpet": [
           {
            "aaxis": {
             "endlinecolor": "#2a3f5f",
             "gridcolor": "white",
             "linecolor": "white",
             "minorgridcolor": "white",
             "startlinecolor": "#2a3f5f"
            },
            "baxis": {
             "endlinecolor": "#2a3f5f",
             "gridcolor": "white",
             "linecolor": "white",
             "minorgridcolor": "white",
             "startlinecolor": "#2a3f5f"
            },
            "type": "carpet"
           }
          ],
          "choropleth": [
           {
            "colorbar": {
             "outlinewidth": 0,
             "ticks": ""
            },
            "type": "choropleth"
           }
          ],
          "contour": [
           {
            "colorbar": {
             "outlinewidth": 0,
             "ticks": ""
            },
            "colorscale": [
             [
              0,
              "#0d0887"
             ],
             [
              0.1111111111111111,
              "#46039f"
             ],
             [
              0.2222222222222222,
              "#7201a8"
             ],
             [
              0.3333333333333333,
              "#9c179e"
             ],
             [
              0.4444444444444444,
              "#bd3786"
             ],
             [
              0.5555555555555556,
              "#d8576b"
             ],
             [
              0.6666666666666666,
              "#ed7953"
             ],
             [
              0.7777777777777778,
              "#fb9f3a"
             ],
             [
              0.8888888888888888,
              "#fdca26"
             ],
             [
              1,
              "#f0f921"
             ]
            ],
            "type": "contour"
           }
          ],
          "contourcarpet": [
           {
            "colorbar": {
             "outlinewidth": 0,
             "ticks": ""
            },
            "type": "contourcarpet"
           }
          ],
          "heatmap": [
           {
            "colorbar": {
             "outlinewidth": 0,
             "ticks": ""
            },
            "colorscale": [
             [
              0,
              "#0d0887"
             ],
             [
              0.1111111111111111,
              "#46039f"
             ],
             [
              0.2222222222222222,
              "#7201a8"
             ],
             [
              0.3333333333333333,
              "#9c179e"
             ],
             [
              0.4444444444444444,
              "#bd3786"
             ],
             [
              0.5555555555555556,
              "#d8576b"
             ],
             [
              0.6666666666666666,
              "#ed7953"
             ],
             [
              0.7777777777777778,
              "#fb9f3a"
             ],
             [
              0.8888888888888888,
              "#fdca26"
             ],
             [
              1,
              "#f0f921"
             ]
            ],
            "type": "heatmap"
           }
          ],
          "heatmapgl": [
           {
            "colorbar": {
             "outlinewidth": 0,
             "ticks": ""
            },
            "colorscale": [
             [
              0,
              "#0d0887"
             ],
             [
              0.1111111111111111,
              "#46039f"
             ],
             [
              0.2222222222222222,
              "#7201a8"
             ],
             [
              0.3333333333333333,
              "#9c179e"
             ],
             [
              0.4444444444444444,
              "#bd3786"
             ],
             [
              0.5555555555555556,
              "#d8576b"
             ],
             [
              0.6666666666666666,
              "#ed7953"
             ],
             [
              0.7777777777777778,
              "#fb9f3a"
             ],
             [
              0.8888888888888888,
              "#fdca26"
             ],
             [
              1,
              "#f0f921"
             ]
            ],
            "type": "heatmapgl"
           }
          ],
          "histogram": [
           {
            "marker": {
             "pattern": {
              "fillmode": "overlay",
              "size": 10,
              "solidity": 0.2
             }
            },
            "type": "histogram"
           }
          ],
          "histogram2d": [
           {
            "colorbar": {
             "outlinewidth": 0,
             "ticks": ""
            },
            "colorscale": [
             [
              0,
              "#0d0887"
             ],
             [
              0.1111111111111111,
              "#46039f"
             ],
             [
              0.2222222222222222,
              "#7201a8"
             ],
             [
              0.3333333333333333,
              "#9c179e"
             ],
             [
              0.4444444444444444,
              "#bd3786"
             ],
             [
              0.5555555555555556,
              "#d8576b"
             ],
             [
              0.6666666666666666,
              "#ed7953"
             ],
             [
              0.7777777777777778,
              "#fb9f3a"
             ],
             [
              0.8888888888888888,
              "#fdca26"
             ],
             [
              1,
              "#f0f921"
             ]
            ],
            "type": "histogram2d"
           }
          ],
          "histogram2dcontour": [
           {
            "colorbar": {
             "outlinewidth": 0,
             "ticks": ""
            },
            "colorscale": [
             [
              0,
              "#0d0887"
             ],
             [
              0.1111111111111111,
              "#46039f"
             ],
             [
              0.2222222222222222,
              "#7201a8"
             ],
             [
              0.3333333333333333,
              "#9c179e"
             ],
             [
              0.4444444444444444,
              "#bd3786"
             ],
             [
              0.5555555555555556,
              "#d8576b"
             ],
             [
              0.6666666666666666,
              "#ed7953"
             ],
             [
              0.7777777777777778,
              "#fb9f3a"
             ],
             [
              0.8888888888888888,
              "#fdca26"
             ],
             [
              1,
              "#f0f921"
             ]
            ],
            "type": "histogram2dcontour"
           }
          ],
          "mesh3d": [
           {
            "colorbar": {
             "outlinewidth": 0,
             "ticks": ""
            },
            "type": "mesh3d"
           }
          ],
          "parcoords": [
           {
            "line": {
             "colorbar": {
              "outlinewidth": 0,
              "ticks": ""
             }
            },
            "type": "parcoords"
           }
          ],
          "pie": [
           {
            "automargin": true,
            "type": "pie"
           }
          ],
          "scatter": [
           {
            "fillpattern": {
             "fillmode": "overlay",
             "size": 10,
             "solidity": 0.2
            },
            "type": "scatter"
           }
          ],
          "scatter3d": [
           {
            "line": {
             "colorbar": {
              "outlinewidth": 0,
              "ticks": ""
             }
            },
            "marker": {
             "colorbar": {
              "outlinewidth": 0,
              "ticks": ""
             }
            },
            "type": "scatter3d"
           }
          ],
          "scattercarpet": [
           {
            "marker": {
             "colorbar": {
              "outlinewidth": 0,
              "ticks": ""
             }
            },
            "type": "scattercarpet"
           }
          ],
          "scattergeo": [
           {
            "marker": {
             "colorbar": {
              "outlinewidth": 0,
              "ticks": ""
             }
            },
            "type": "scattergeo"
           }
          ],
          "scattergl": [
           {
            "marker": {
             "colorbar": {
              "outlinewidth": 0,
              "ticks": ""
             }
            },
            "type": "scattergl"
           }
          ],
          "scattermapbox": [
           {
            "marker": {
             "colorbar": {
              "outlinewidth": 0,
              "ticks": ""
             }
            },
            "type": "scattermapbox"
           }
          ],
          "scatterpolar": [
           {
            "marker": {
             "colorbar": {
              "outlinewidth": 0,
              "ticks": ""
             }
            },
            "type": "scatterpolar"
           }
          ],
          "scatterpolargl": [
           {
            "marker": {
             "colorbar": {
              "outlinewidth": 0,
              "ticks": ""
             }
            },
            "type": "scatterpolargl"
           }
          ],
          "scatterternary": [
           {
            "marker": {
             "colorbar": {
              "outlinewidth": 0,
              "ticks": ""
             }
            },
            "type": "scatterternary"
           }
          ],
          "surface": [
           {
            "colorbar": {
             "outlinewidth": 0,
             "ticks": ""
            },
            "colorscale": [
             [
              0,
              "#0d0887"
             ],
             [
              0.1111111111111111,
              "#46039f"
             ],
             [
              0.2222222222222222,
              "#7201a8"
             ],
             [
              0.3333333333333333,
              "#9c179e"
             ],
             [
              0.4444444444444444,
              "#bd3786"
             ],
             [
              0.5555555555555556,
              "#d8576b"
             ],
             [
              0.6666666666666666,
              "#ed7953"
             ],
             [
              0.7777777777777778,
              "#fb9f3a"
             ],
             [
              0.8888888888888888,
              "#fdca26"
             ],
             [
              1,
              "#f0f921"
             ]
            ],
            "type": "surface"
           }
          ],
          "table": [
           {
            "cells": {
             "fill": {
              "color": "#EBF0F8"
             },
             "line": {
              "color": "white"
             }
            },
            "header": {
             "fill": {
              "color": "#C8D4E3"
             },
             "line": {
              "color": "white"
             }
            },
            "type": "table"
           }
          ]
         },
         "layout": {
          "annotationdefaults": {
           "arrowcolor": "#2a3f5f",
           "arrowhead": 0,
           "arrowwidth": 1
          },
          "autotypenumbers": "strict",
          "coloraxis": {
           "colorbar": {
            "outlinewidth": 0,
            "ticks": ""
           }
          },
          "colorscale": {
           "diverging": [
            [
             0,
             "#8e0152"
            ],
            [
             0.1,
             "#c51b7d"
            ],
            [
             0.2,
             "#de77ae"
            ],
            [
             0.3,
             "#f1b6da"
            ],
            [
             0.4,
             "#fde0ef"
            ],
            [
             0.5,
             "#f7f7f7"
            ],
            [
             0.6,
             "#e6f5d0"
            ],
            [
             0.7,
             "#b8e186"
            ],
            [
             0.8,
             "#7fbc41"
            ],
            [
             0.9,
             "#4d9221"
            ],
            [
             1,
             "#276419"
            ]
           ],
           "sequential": [
            [
             0,
             "#0d0887"
            ],
            [
             0.1111111111111111,
             "#46039f"
            ],
            [
             0.2222222222222222,
             "#7201a8"
            ],
            [
             0.3333333333333333,
             "#9c179e"
            ],
            [
             0.4444444444444444,
             "#bd3786"
            ],
            [
             0.5555555555555556,
             "#d8576b"
            ],
            [
             0.6666666666666666,
             "#ed7953"
            ],
            [
             0.7777777777777778,
             "#fb9f3a"
            ],
            [
             0.8888888888888888,
             "#fdca26"
            ],
            [
             1,
             "#f0f921"
            ]
           ],
           "sequentialminus": [
            [
             0,
             "#0d0887"
            ],
            [
             0.1111111111111111,
             "#46039f"
            ],
            [
             0.2222222222222222,
             "#7201a8"
            ],
            [
             0.3333333333333333,
             "#9c179e"
            ],
            [
             0.4444444444444444,
             "#bd3786"
            ],
            [
             0.5555555555555556,
             "#d8576b"
            ],
            [
             0.6666666666666666,
             "#ed7953"
            ],
            [
             0.7777777777777778,
             "#fb9f3a"
            ],
            [
             0.8888888888888888,
             "#fdca26"
            ],
            [
             1,
             "#f0f921"
            ]
           ]
          },
          "colorway": [
           "#636efa",
           "#EF553B",
           "#00cc96",
           "#ab63fa",
           "#FFA15A",
           "#19d3f3",
           "#FF6692",
           "#B6E880",
           "#FF97FF",
           "#FECB52"
          ],
          "font": {
           "color": "#2a3f5f"
          },
          "geo": {
           "bgcolor": "white",
           "lakecolor": "white",
           "landcolor": "#E5ECF6",
           "showlakes": true,
           "showland": true,
           "subunitcolor": "white"
          },
          "hoverlabel": {
           "align": "left"
          },
          "hovermode": "closest",
          "mapbox": {
           "style": "light"
          },
          "paper_bgcolor": "white",
          "plot_bgcolor": "#E5ECF6",
          "polar": {
           "angularaxis": {
            "gridcolor": "white",
            "linecolor": "white",
            "ticks": ""
           },
           "bgcolor": "#E5ECF6",
           "radialaxis": {
            "gridcolor": "white",
            "linecolor": "white",
            "ticks": ""
           }
          },
          "scene": {
           "xaxis": {
            "backgroundcolor": "#E5ECF6",
            "gridcolor": "white",
            "gridwidth": 2,
            "linecolor": "white",
            "showbackground": true,
            "ticks": "",
            "zerolinecolor": "white"
           },
           "yaxis": {
            "backgroundcolor": "#E5ECF6",
            "gridcolor": "white",
            "gridwidth": 2,
            "linecolor": "white",
            "showbackground": true,
            "ticks": "",
            "zerolinecolor": "white"
           },
           "zaxis": {
            "backgroundcolor": "#E5ECF6",
            "gridcolor": "white",
            "gridwidth": 2,
            "linecolor": "white",
            "showbackground": true,
            "ticks": "",
            "zerolinecolor": "white"
           }
          },
          "shapedefaults": {
           "line": {
            "color": "#2a3f5f"
           }
          },
          "ternary": {
           "aaxis": {
            "gridcolor": "white",
            "linecolor": "white",
            "ticks": ""
           },
           "baxis": {
            "gridcolor": "white",
            "linecolor": "white",
            "ticks": ""
           },
           "bgcolor": "#E5ECF6",
           "caxis": {
            "gridcolor": "white",
            "linecolor": "white",
            "ticks": ""
           }
          },
          "title": {
           "x": 0.05
          },
          "xaxis": {
           "automargin": true,
           "gridcolor": "white",
           "linecolor": "white",
           "ticks": "",
           "title": {
            "standoff": 15
           },
           "zerolinecolor": "white",
           "zerolinewidth": 2
          },
          "yaxis": {
           "automargin": true,
           "gridcolor": "white",
           "linecolor": "white",
           "ticks": "",
           "title": {
            "standoff": 15
           },
           "zerolinecolor": "white",
           "zerolinewidth": 2
          }
         }
        },
        "title": {
         "text": "Asia GDP "
        },
        "xaxis": {
         "anchor": "y",
         "domain": [
          0,
          1
         ],
         "range": [
          "1990-01-01",
          "2023-09-01"
         ],
         "title": {
          "text": "TIME_PERIOD"
         }
        },
        "yaxis": {
         "anchor": "x",
         "domain": [
          0,
          1
         ],
         "title": {
          "text": "OBS_VALUE"
         }
        }
       }
      }
     },
     "metadata": {},
     "output_type": "display_data"
    }
   ],
   "source": [
    "fig = px.line(as_gdp, x='TIME_PERIOD', y=\"OBS_VALUE\", color='Zone de référence')\n",
    "fig.update_layout(xaxis_range=['1990-01-01','2023-09-01'],\n",
    "                  title_text= \"Asia GDP \")\n",
    "fig.show()"
   ]
  }
 ],
 "metadata": {
  "kernelspec": {
   "display_name": "Python 3",
   "language": "python",
   "name": "python3"
  },
  "language_info": {
   "codemirror_mode": {
    "name": "ipython",
    "version": 3
   },
   "file_extension": ".py",
   "mimetype": "text/x-python",
   "name": "python",
   "nbconvert_exporter": "python",
   "pygments_lexer": "ipython3",
   "version": "3.11.5"
  }
 },
 "nbformat": 4,
 "nbformat_minor": 2
}
