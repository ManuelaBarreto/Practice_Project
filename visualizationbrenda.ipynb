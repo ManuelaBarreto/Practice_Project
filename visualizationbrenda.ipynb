{
 "cells": [
  {
   "cell_type": "code",
   "execution_count": 2,
   "metadata": {},
   "outputs": [],
   "source": [
    "import plotly as plt\n",
    "import plotly.express as px\n",
    "import pandas as pd"
   ]
  },
  {
   "cell_type": "markdown",
   "metadata": {},
   "source": [
    "## France Graph"
   ]
  },
  {
   "cell_type": "code",
   "execution_count": 45,
   "metadata": {},
   "outputs": [
    {
     "data": {
      "text/html": [
       "<div>\n",
       "<style scoped>\n",
       "    .dataframe tbody tr th:only-of-type {\n",
       "        vertical-align: middle;\n",
       "    }\n",
       "\n",
       "    .dataframe tbody tr th {\n",
       "        vertical-align: top;\n",
       "    }\n",
       "\n",
       "    .dataframe thead th {\n",
       "        text-align: right;\n",
       "    }\n",
       "</style>\n",
       "<table border=\"1\" class=\"dataframe\">\n",
       "  <thead>\n",
       "    <tr style=\"text-align: right;\">\n",
       "      <th></th>\n",
       "      <th>Unnamed: 0</th>\n",
       "      <th>Zone de référence</th>\n",
       "      <th>Secteur institutionnel</th>\n",
       "      <th>Transaction</th>\n",
       "      <th>Activité économique</th>\n",
       "      <th>Unité de mesure</th>\n",
       "      <th>Transformation</th>\n",
       "      <th>TIME_PERIOD</th>\n",
       "      <th>OBS_VALUE</th>\n",
       "    </tr>\n",
       "  </thead>\n",
       "  <tbody>\n",
       "    <tr>\n",
       "      <th>5357</th>\n",
       "      <td>6585</td>\n",
       "      <td>France</td>\n",
       "      <td>Economie totale</td>\n",
       "      <td>Exportations de biens et de services</td>\n",
       "      <td>Non applicable</td>\n",
       "      <td>Changement en pourcentage</td>\n",
       "      <td>Taux de croissance, sur 1 an</td>\n",
       "      <td>1961-03-01</td>\n",
       "      <td>4.679040</td>\n",
       "    </tr>\n",
       "    <tr>\n",
       "      <th>5358</th>\n",
       "      <td>6586</td>\n",
       "      <td>France</td>\n",
       "      <td>Economie totale</td>\n",
       "      <td>Exportations de biens et de services</td>\n",
       "      <td>Non applicable</td>\n",
       "      <td>Changement en pourcentage</td>\n",
       "      <td>Taux de croissance, sur 1 an</td>\n",
       "      <td>1961-06-01</td>\n",
       "      <td>5.688760</td>\n",
       "    </tr>\n",
       "    <tr>\n",
       "      <th>5359</th>\n",
       "      <td>6587</td>\n",
       "      <td>France</td>\n",
       "      <td>Economie totale</td>\n",
       "      <td>Exportations de biens et de services</td>\n",
       "      <td>Non applicable</td>\n",
       "      <td>Changement en pourcentage</td>\n",
       "      <td>Taux de croissance, sur 1 an</td>\n",
       "      <td>1961-09-01</td>\n",
       "      <td>5.677047</td>\n",
       "    </tr>\n",
       "    <tr>\n",
       "      <th>5360</th>\n",
       "      <td>6588</td>\n",
       "      <td>France</td>\n",
       "      <td>Economie totale</td>\n",
       "      <td>Exportations de biens et de services</td>\n",
       "      <td>Non applicable</td>\n",
       "      <td>Changement en pourcentage</td>\n",
       "      <td>Taux de croissance, sur 1 an</td>\n",
       "      <td>1961-12-01</td>\n",
       "      <td>4.433333</td>\n",
       "    </tr>\n",
       "    <tr>\n",
       "      <th>5361</th>\n",
       "      <td>6589</td>\n",
       "      <td>France</td>\n",
       "      <td>Economie totale</td>\n",
       "      <td>Exportations de biens et de services</td>\n",
       "      <td>Non applicable</td>\n",
       "      <td>Changement en pourcentage</td>\n",
       "      <td>Taux de croissance, sur 1 an</td>\n",
       "      <td>1962-03-01</td>\n",
       "      <td>2.029582</td>\n",
       "    </tr>\n",
       "    <tr>\n",
       "      <th>...</th>\n",
       "      <td>...</td>\n",
       "      <td>...</td>\n",
       "      <td>...</td>\n",
       "      <td>...</td>\n",
       "      <td>...</td>\n",
       "      <td>...</td>\n",
       "      <td>...</td>\n",
       "      <td>...</td>\n",
       "      <td>...</td>\n",
       "    </tr>\n",
       "    <tr>\n",
       "      <th>109395</th>\n",
       "      <td>135571</td>\n",
       "      <td>France</td>\n",
       "      <td>Economie totale</td>\n",
       "      <td>Formation brute de capital fixe</td>\n",
       "      <td>Total - Toutes les activités</td>\n",
       "      <td>Changement en pourcentage</td>\n",
       "      <td>Taux de croissance, sur 1 an</td>\n",
       "      <td>2022-12-01</td>\n",
       "      <td>3.355299</td>\n",
       "    </tr>\n",
       "    <tr>\n",
       "      <th>109396</th>\n",
       "      <td>135572</td>\n",
       "      <td>France</td>\n",
       "      <td>Economie totale</td>\n",
       "      <td>Formation brute de capital fixe</td>\n",
       "      <td>Total - Toutes les activités</td>\n",
       "      <td>Changement en pourcentage</td>\n",
       "      <td>Taux de croissance, sur 1 an</td>\n",
       "      <td>2023-03-01</td>\n",
       "      <td>2.522049</td>\n",
       "    </tr>\n",
       "    <tr>\n",
       "      <th>109397</th>\n",
       "      <td>135573</td>\n",
       "      <td>France</td>\n",
       "      <td>Economie totale</td>\n",
       "      <td>Formation brute de capital fixe</td>\n",
       "      <td>Total - Toutes les activités</td>\n",
       "      <td>Changement en pourcentage</td>\n",
       "      <td>Taux de croissance, sur 1 an</td>\n",
       "      <td>2023-06-01</td>\n",
       "      <td>2.398074</td>\n",
       "    </tr>\n",
       "    <tr>\n",
       "      <th>109398</th>\n",
       "      <td>135574</td>\n",
       "      <td>France</td>\n",
       "      <td>Economie totale</td>\n",
       "      <td>Formation brute de capital fixe</td>\n",
       "      <td>Total - Toutes les activités</td>\n",
       "      <td>Changement en pourcentage</td>\n",
       "      <td>Taux de croissance, sur 1 an</td>\n",
       "      <td>2023-09-01</td>\n",
       "      <td>0.342186</td>\n",
       "    </tr>\n",
       "    <tr>\n",
       "      <th>109399</th>\n",
       "      <td>135575</td>\n",
       "      <td>France</td>\n",
       "      <td>Economie totale</td>\n",
       "      <td>Formation brute de capital fixe</td>\n",
       "      <td>Total - Toutes les activités</td>\n",
       "      <td>Changement en pourcentage</td>\n",
       "      <td>Taux de croissance, sur 1 an</td>\n",
       "      <td>2023-12-01</td>\n",
       "      <td>-0.872110</td>\n",
       "    </tr>\n",
       "  </tbody>\n",
       "</table>\n",
       "<p>3138 rows × 9 columns</p>\n",
       "</div>"
      ],
      "text/plain": [
       "        Unnamed: 0 Zone de référence Secteur institutionnel  \\\n",
       "5357          6585            France        Economie totale   \n",
       "5358          6586            France        Economie totale   \n",
       "5359          6587            France        Economie totale   \n",
       "5360          6588            France        Economie totale   \n",
       "5361          6589            France        Economie totale   \n",
       "...            ...               ...                    ...   \n",
       "109395      135571            France        Economie totale   \n",
       "109396      135572            France        Economie totale   \n",
       "109397      135573            France        Economie totale   \n",
       "109398      135574            France        Economie totale   \n",
       "109399      135575            France        Economie totale   \n",
       "\n",
       "                                 Transaction           Activité économique  \\\n",
       "5357    Exportations de biens et de services                Non applicable   \n",
       "5358    Exportations de biens et de services                Non applicable   \n",
       "5359    Exportations de biens et de services                Non applicable   \n",
       "5360    Exportations de biens et de services                Non applicable   \n",
       "5361    Exportations de biens et de services                Non applicable   \n",
       "...                                      ...                           ...   \n",
       "109395       Formation brute de capital fixe  Total - Toutes les activités   \n",
       "109396       Formation brute de capital fixe  Total - Toutes les activités   \n",
       "109397       Formation brute de capital fixe  Total - Toutes les activités   \n",
       "109398       Formation brute de capital fixe  Total - Toutes les activités   \n",
       "109399       Formation brute de capital fixe  Total - Toutes les activités   \n",
       "\n",
       "                  Unité de mesure                Transformation TIME_PERIOD  \\\n",
       "5357    Changement en pourcentage  Taux de croissance, sur 1 an  1961-03-01   \n",
       "5358    Changement en pourcentage  Taux de croissance, sur 1 an  1961-06-01   \n",
       "5359    Changement en pourcentage  Taux de croissance, sur 1 an  1961-09-01   \n",
       "5360    Changement en pourcentage  Taux de croissance, sur 1 an  1961-12-01   \n",
       "5361    Changement en pourcentage  Taux de croissance, sur 1 an  1962-03-01   \n",
       "...                           ...                           ...         ...   \n",
       "109395  Changement en pourcentage  Taux de croissance, sur 1 an  2022-12-01   \n",
       "109396  Changement en pourcentage  Taux de croissance, sur 1 an  2023-03-01   \n",
       "109397  Changement en pourcentage  Taux de croissance, sur 1 an  2023-06-01   \n",
       "109398  Changement en pourcentage  Taux de croissance, sur 1 an  2023-09-01   \n",
       "109399  Changement en pourcentage  Taux de croissance, sur 1 an  2023-12-01   \n",
       "\n",
       "        OBS_VALUE  \n",
       "5357     4.679040  \n",
       "5358     5.688760  \n",
       "5359     5.677047  \n",
       "5360     4.433333  \n",
       "5361     2.029582  \n",
       "...           ...  \n",
       "109395   3.355299  \n",
       "109396   2.522049  \n",
       "109397   2.398074  \n",
       "109398   0.342186  \n",
       "109399  -0.872110  \n",
       "\n",
       "[3138 rows x 9 columns]"
      ]
     },
     "execution_count": 45,
     "metadata": {},
     "output_type": "execute_result"
    }
   ],
   "source": [
    "fr_gdp = pd.read_csv(\"global/dataglobal/clean_realgdp.csv\")\n",
    "fr_gdp = fr_gdp[(fr_gdp[\"Zone de référence\"] == \"France\")]\n",
    "\n",
    "fr_gdp"
   ]
  },
  {
   "cell_type": "code",
   "execution_count": 46,
   "metadata": {},
   "outputs": [
    {
     "data": {
      "text/html": [
       "<div>\n",
       "<style scoped>\n",
       "    .dataframe tbody tr th:only-of-type {\n",
       "        vertical-align: middle;\n",
       "    }\n",
       "\n",
       "    .dataframe tbody tr th {\n",
       "        vertical-align: top;\n",
       "    }\n",
       "\n",
       "    .dataframe thead th {\n",
       "        text-align: right;\n",
       "    }\n",
       "</style>\n",
       "<table border=\"1\" class=\"dataframe\">\n",
       "  <thead>\n",
       "    <tr style=\"text-align: right;\">\n",
       "      <th></th>\n",
       "      <th>Unnamed: 0</th>\n",
       "      <th>Zone de référence</th>\n",
       "      <th>Secteur institutionnel</th>\n",
       "      <th>Transaction</th>\n",
       "      <th>Activité économique</th>\n",
       "      <th>Unité de mesure</th>\n",
       "      <th>Transformation</th>\n",
       "      <th>TIME_PERIOD</th>\n",
       "      <th>OBS_VALUE</th>\n",
       "    </tr>\n",
       "  </thead>\n",
       "  <tbody>\n",
       "    <tr>\n",
       "      <th>5357</th>\n",
       "      <td>6585</td>\n",
       "      <td>France</td>\n",
       "      <td>Economie totale</td>\n",
       "      <td>Exportations de biens et de services</td>\n",
       "      <td>Non applicable</td>\n",
       "      <td>Changement en pourcentage</td>\n",
       "      <td>Taux de croissance, sur 1 an</td>\n",
       "      <td>1961-03-01</td>\n",
       "      <td>4.679040</td>\n",
       "    </tr>\n",
       "    <tr>\n",
       "      <th>25371</th>\n",
       "      <td>31005</td>\n",
       "      <td>France</td>\n",
       "      <td>Economie totale</td>\n",
       "      <td>Importations de biens et de services</td>\n",
       "      <td>Non applicable</td>\n",
       "      <td>Changement en pourcentage</td>\n",
       "      <td>Taux de croissance, sur 1 an</td>\n",
       "      <td>1961-03-01</td>\n",
       "      <td>5.566160</td>\n",
       "    </tr>\n",
       "    <tr>\n",
       "      <th>30421</th>\n",
       "      <td>37728</td>\n",
       "      <td>France</td>\n",
       "      <td>Economie totale</td>\n",
       "      <td>Exportations de biens et de services</td>\n",
       "      <td>Non applicable</td>\n",
       "      <td>Changement en pourcentage</td>\n",
       "      <td>Taux de croissance, période sur période</td>\n",
       "      <td>1961-03-01</td>\n",
       "      <td>1.978983</td>\n",
       "    </tr>\n",
       "    <tr>\n",
       "      <th>34897</th>\n",
       "      <td>43348</td>\n",
       "      <td>France</td>\n",
       "      <td>Economie totale</td>\n",
       "      <td>Formation brute de capital fixe</td>\n",
       "      <td>Total - Toutes les activités</td>\n",
       "      <td>Changement en pourcentage</td>\n",
       "      <td>Taux de croissance, période sur période</td>\n",
       "      <td>1961-03-01</td>\n",
       "      <td>3.537860</td>\n",
       "    </tr>\n",
       "    <tr>\n",
       "      <th>59881</th>\n",
       "      <td>73984</td>\n",
       "      <td>France</td>\n",
       "      <td>Administrations publiques</td>\n",
       "      <td>Dépense de consommation finale</td>\n",
       "      <td>Non applicable</td>\n",
       "      <td>Changement en pourcentage</td>\n",
       "      <td>Taux de croissance, période sur période</td>\n",
       "      <td>1961-03-01</td>\n",
       "      <td>1.497772</td>\n",
       "    </tr>\n",
       "    <tr>\n",
       "      <th>67389</th>\n",
       "      <td>82987</td>\n",
       "      <td>France</td>\n",
       "      <td>Economie totale</td>\n",
       "      <td>Produit intérieur brut</td>\n",
       "      <td>Non applicable</td>\n",
       "      <td>Changement en pourcentage</td>\n",
       "      <td>Taux de croissance, période sur période</td>\n",
       "      <td>1961-03-01</td>\n",
       "      <td>1.608374</td>\n",
       "    </tr>\n",
       "    <tr>\n",
       "      <th>74317</th>\n",
       "      <td>91013</td>\n",
       "      <td>France</td>\n",
       "      <td>Economie totale</td>\n",
       "      <td>Importations de biens et de services</td>\n",
       "      <td>Non applicable</td>\n",
       "      <td>Changement en pourcentage</td>\n",
       "      <td>Taux de croissance, période sur période</td>\n",
       "      <td>1961-03-01</td>\n",
       "      <td>2.282617</td>\n",
       "    </tr>\n",
       "    <tr>\n",
       "      <th>80426</th>\n",
       "      <td>99079</td>\n",
       "      <td>France</td>\n",
       "      <td>Administrations publiques</td>\n",
       "      <td>Dépense de consommation finale</td>\n",
       "      <td>Non applicable</td>\n",
       "      <td>Changement en pourcentage</td>\n",
       "      <td>Taux de croissance, sur 1 an</td>\n",
       "      <td>1961-03-01</td>\n",
       "      <td>3.646059</td>\n",
       "    </tr>\n",
       "    <tr>\n",
       "      <th>80694</th>\n",
       "      <td>99473</td>\n",
       "      <td>France</td>\n",
       "      <td>Les Ménages et ISBLSM</td>\n",
       "      <td>Dépense de consommation finale</td>\n",
       "      <td>Non applicable</td>\n",
       "      <td>Changement en pourcentage</td>\n",
       "      <td>Taux de croissance, sur 1 an</td>\n",
       "      <td>1961-03-01</td>\n",
       "      <td>4.365378</td>\n",
       "    </tr>\n",
       "    <tr>\n",
       "      <th>88188</th>\n",
       "      <td>108786</td>\n",
       "      <td>France</td>\n",
       "      <td>Les Ménages et ISBLSM</td>\n",
       "      <td>Dépense de consommation finale</td>\n",
       "      <td>Non applicable</td>\n",
       "      <td>Changement en pourcentage</td>\n",
       "      <td>Taux de croissance, période sur période</td>\n",
       "      <td>1961-03-01</td>\n",
       "      <td>1.770339</td>\n",
       "    </tr>\n",
       "    <tr>\n",
       "      <th>93177</th>\n",
       "      <td>115214</td>\n",
       "      <td>France</td>\n",
       "      <td>Economie totale</td>\n",
       "      <td>Produit intérieur brut</td>\n",
       "      <td>Non applicable</td>\n",
       "      <td>Changement en pourcentage</td>\n",
       "      <td>Taux de croissance, sur 1 an</td>\n",
       "      <td>1961-03-01</td>\n",
       "      <td>3.971438</td>\n",
       "    </tr>\n",
       "    <tr>\n",
       "      <th>109148</th>\n",
       "      <td>135324</td>\n",
       "      <td>France</td>\n",
       "      <td>Economie totale</td>\n",
       "      <td>Formation brute de capital fixe</td>\n",
       "      <td>Total - Toutes les activités</td>\n",
       "      <td>Changement en pourcentage</td>\n",
       "      <td>Taux de croissance, sur 1 an</td>\n",
       "      <td>1961-03-01</td>\n",
       "      <td>8.774274</td>\n",
       "    </tr>\n",
       "  </tbody>\n",
       "</table>\n",
       "</div>"
      ],
      "text/plain": [
       "        Unnamed: 0 Zone de référence     Secteur institutionnel  \\\n",
       "5357          6585            France            Economie totale   \n",
       "25371        31005            France            Economie totale   \n",
       "30421        37728            France            Economie totale   \n",
       "34897        43348            France            Economie totale   \n",
       "59881        73984            France  Administrations publiques   \n",
       "67389        82987            France            Economie totale   \n",
       "74317        91013            France            Economie totale   \n",
       "80426        99079            France  Administrations publiques   \n",
       "80694        99473            France      Les Ménages et ISBLSM   \n",
       "88188       108786            France      Les Ménages et ISBLSM   \n",
       "93177       115214            France            Economie totale   \n",
       "109148      135324            France            Economie totale   \n",
       "\n",
       "                                 Transaction           Activité économique  \\\n",
       "5357    Exportations de biens et de services                Non applicable   \n",
       "25371   Importations de biens et de services                Non applicable   \n",
       "30421   Exportations de biens et de services                Non applicable   \n",
       "34897        Formation brute de capital fixe  Total - Toutes les activités   \n",
       "59881         Dépense de consommation finale                Non applicable   \n",
       "67389                 Produit intérieur brut                Non applicable   \n",
       "74317   Importations de biens et de services                Non applicable   \n",
       "80426         Dépense de consommation finale                Non applicable   \n",
       "80694         Dépense de consommation finale                Non applicable   \n",
       "88188         Dépense de consommation finale                Non applicable   \n",
       "93177                 Produit intérieur brut                Non applicable   \n",
       "109148       Formation brute de capital fixe  Total - Toutes les activités   \n",
       "\n",
       "                  Unité de mesure                           Transformation  \\\n",
       "5357    Changement en pourcentage             Taux de croissance, sur 1 an   \n",
       "25371   Changement en pourcentage             Taux de croissance, sur 1 an   \n",
       "30421   Changement en pourcentage  Taux de croissance, période sur période   \n",
       "34897   Changement en pourcentage  Taux de croissance, période sur période   \n",
       "59881   Changement en pourcentage  Taux de croissance, période sur période   \n",
       "67389   Changement en pourcentage  Taux de croissance, période sur période   \n",
       "74317   Changement en pourcentage  Taux de croissance, période sur période   \n",
       "80426   Changement en pourcentage             Taux de croissance, sur 1 an   \n",
       "80694   Changement en pourcentage             Taux de croissance, sur 1 an   \n",
       "88188   Changement en pourcentage  Taux de croissance, période sur période   \n",
       "93177   Changement en pourcentage             Taux de croissance, sur 1 an   \n",
       "109148  Changement en pourcentage             Taux de croissance, sur 1 an   \n",
       "\n",
       "       TIME_PERIOD  OBS_VALUE  \n",
       "5357    1961-03-01   4.679040  \n",
       "25371   1961-03-01   5.566160  \n",
       "30421   1961-03-01   1.978983  \n",
       "34897   1961-03-01   3.537860  \n",
       "59881   1961-03-01   1.497772  \n",
       "67389   1961-03-01   1.608374  \n",
       "74317   1961-03-01   2.282617  \n",
       "80426   1961-03-01   3.646059  \n",
       "80694   1961-03-01   4.365378  \n",
       "88188   1961-03-01   1.770339  \n",
       "93177   1961-03-01   3.971438  \n",
       "109148  1961-03-01   8.774274  "
      ]
     },
     "execution_count": 46,
     "metadata": {},
     "output_type": "execute_result"
    }
   ],
   "source": [
    "fr_gdp[fr_gdp[\"TIME_PERIOD\"]==\"1961-03-01\"]"
   ]
  },
  {
   "cell_type": "code",
   "execution_count": 47,
   "metadata": {},
   "outputs": [],
   "source": [
    "fr_gdp = fr_gdp[fr_gdp[\"Secteur institutionnel\"] == \"Economie totale\"]\n",
    "fr_gdp = fr_gdp[fr_gdp[\"Transaction\"] == \"Produit intérieur brut\"]\n",
    "fr_gdp = fr_gdp[fr_gdp[\"Transformation\"] == \"Taux de croissance, période sur période\"]"
   ]
  },
  {
   "cell_type": "code",
   "execution_count": 48,
   "metadata": {},
   "outputs": [
    {
     "data": {
      "text/html": [
       "<div>\n",
       "<style scoped>\n",
       "    .dataframe tbody tr th:only-of-type {\n",
       "        vertical-align: middle;\n",
       "    }\n",
       "\n",
       "    .dataframe tbody tr th {\n",
       "        vertical-align: top;\n",
       "    }\n",
       "\n",
       "    .dataframe thead th {\n",
       "        text-align: right;\n",
       "    }\n",
       "</style>\n",
       "<table border=\"1\" class=\"dataframe\">\n",
       "  <thead>\n",
       "    <tr style=\"text-align: right;\">\n",
       "      <th></th>\n",
       "      <th>Unnamed: 0</th>\n",
       "      <th>Zone de référence</th>\n",
       "      <th>Secteur institutionnel</th>\n",
       "      <th>Transaction</th>\n",
       "      <th>Activité économique</th>\n",
       "      <th>Unité de mesure</th>\n",
       "      <th>Transformation</th>\n",
       "      <th>TIME_PERIOD</th>\n",
       "      <th>OBS_VALUE</th>\n",
       "    </tr>\n",
       "  </thead>\n",
       "  <tbody>\n",
       "    <tr>\n",
       "      <th>67386</th>\n",
       "      <td>82984</td>\n",
       "      <td>France</td>\n",
       "      <td>Economie totale</td>\n",
       "      <td>Produit intérieur brut</td>\n",
       "      <td>Non applicable</td>\n",
       "      <td>Changement en pourcentage</td>\n",
       "      <td>Taux de croissance, période sur période</td>\n",
       "      <td>1960-06-01</td>\n",
       "      <td>0.375710</td>\n",
       "    </tr>\n",
       "    <tr>\n",
       "      <th>67387</th>\n",
       "      <td>82985</td>\n",
       "      <td>France</td>\n",
       "      <td>Economie totale</td>\n",
       "      <td>Produit intérieur brut</td>\n",
       "      <td>Non applicable</td>\n",
       "      <td>Changement en pourcentage</td>\n",
       "      <td>Taux de croissance, période sur période</td>\n",
       "      <td>1960-09-01</td>\n",
       "      <td>0.748561</td>\n",
       "    </tr>\n",
       "    <tr>\n",
       "      <th>67388</th>\n",
       "      <td>82986</td>\n",
       "      <td>France</td>\n",
       "      <td>Economie totale</td>\n",
       "      <td>Produit intérieur brut</td>\n",
       "      <td>Non applicable</td>\n",
       "      <td>Changement en pourcentage</td>\n",
       "      <td>Taux de croissance, période sur période</td>\n",
       "      <td>1960-12-01</td>\n",
       "      <td>1.185218</td>\n",
       "    </tr>\n",
       "    <tr>\n",
       "      <th>67389</th>\n",
       "      <td>82987</td>\n",
       "      <td>France</td>\n",
       "      <td>Economie totale</td>\n",
       "      <td>Produit intérieur brut</td>\n",
       "      <td>Non applicable</td>\n",
       "      <td>Changement en pourcentage</td>\n",
       "      <td>Taux de croissance, période sur période</td>\n",
       "      <td>1961-03-01</td>\n",
       "      <td>1.608374</td>\n",
       "    </tr>\n",
       "    <tr>\n",
       "      <th>67390</th>\n",
       "      <td>82988</td>\n",
       "      <td>France</td>\n",
       "      <td>Economie totale</td>\n",
       "      <td>Produit intérieur brut</td>\n",
       "      <td>Non applicable</td>\n",
       "      <td>Changement en pourcentage</td>\n",
       "      <td>Taux de croissance, période sur période</td>\n",
       "      <td>1961-06-01</td>\n",
       "      <td>1.600329</td>\n",
       "    </tr>\n",
       "    <tr>\n",
       "      <th>...</th>\n",
       "      <td>...</td>\n",
       "      <td>...</td>\n",
       "      <td>...</td>\n",
       "      <td>...</td>\n",
       "      <td>...</td>\n",
       "      <td>...</td>\n",
       "      <td>...</td>\n",
       "      <td>...</td>\n",
       "      <td>...</td>\n",
       "    </tr>\n",
       "    <tr>\n",
       "      <th>67636</th>\n",
       "      <td>83234</td>\n",
       "      <td>France</td>\n",
       "      <td>Economie totale</td>\n",
       "      <td>Produit intérieur brut</td>\n",
       "      <td>Non applicable</td>\n",
       "      <td>Changement en pourcentage</td>\n",
       "      <td>Taux de croissance, période sur période</td>\n",
       "      <td>2022-12-01</td>\n",
       "      <td>-0.046063</td>\n",
       "    </tr>\n",
       "    <tr>\n",
       "      <th>67637</th>\n",
       "      <td>83235</td>\n",
       "      <td>France</td>\n",
       "      <td>Economie totale</td>\n",
       "      <td>Produit intérieur brut</td>\n",
       "      <td>Non applicable</td>\n",
       "      <td>Changement en pourcentage</td>\n",
       "      <td>Taux de croissance, période sur période</td>\n",
       "      <td>2023-03-01</td>\n",
       "      <td>0.048680</td>\n",
       "    </tr>\n",
       "    <tr>\n",
       "      <th>67638</th>\n",
       "      <td>83236</td>\n",
       "      <td>France</td>\n",
       "      <td>Economie totale</td>\n",
       "      <td>Produit intérieur brut</td>\n",
       "      <td>Non applicable</td>\n",
       "      <td>Changement en pourcentage</td>\n",
       "      <td>Taux de croissance, période sur période</td>\n",
       "      <td>2023-06-01</td>\n",
       "      <td>0.629831</td>\n",
       "    </tr>\n",
       "    <tr>\n",
       "      <th>67639</th>\n",
       "      <td>83237</td>\n",
       "      <td>France</td>\n",
       "      <td>Economie totale</td>\n",
       "      <td>Produit intérieur brut</td>\n",
       "      <td>Non applicable</td>\n",
       "      <td>Changement en pourcentage</td>\n",
       "      <td>Taux de croissance, période sur période</td>\n",
       "      <td>2023-09-01</td>\n",
       "      <td>-0.011540</td>\n",
       "    </tr>\n",
       "    <tr>\n",
       "      <th>67640</th>\n",
       "      <td>83238</td>\n",
       "      <td>France</td>\n",
       "      <td>Economie totale</td>\n",
       "      <td>Produit intérieur brut</td>\n",
       "      <td>Non applicable</td>\n",
       "      <td>Changement en pourcentage</td>\n",
       "      <td>Taux de croissance, période sur période</td>\n",
       "      <td>2023-12-01</td>\n",
       "      <td>0.052434</td>\n",
       "    </tr>\n",
       "  </tbody>\n",
       "</table>\n",
       "<p>255 rows × 9 columns</p>\n",
       "</div>"
      ],
      "text/plain": [
       "       Unnamed: 0 Zone de référence Secteur institutionnel  \\\n",
       "67386       82984            France        Economie totale   \n",
       "67387       82985            France        Economie totale   \n",
       "67388       82986            France        Economie totale   \n",
       "67389       82987            France        Economie totale   \n",
       "67390       82988            France        Economie totale   \n",
       "...           ...               ...                    ...   \n",
       "67636       83234            France        Economie totale   \n",
       "67637       83235            France        Economie totale   \n",
       "67638       83236            France        Economie totale   \n",
       "67639       83237            France        Economie totale   \n",
       "67640       83238            France        Economie totale   \n",
       "\n",
       "                  Transaction Activité économique            Unité de mesure  \\\n",
       "67386  Produit intérieur brut      Non applicable  Changement en pourcentage   \n",
       "67387  Produit intérieur brut      Non applicable  Changement en pourcentage   \n",
       "67388  Produit intérieur brut      Non applicable  Changement en pourcentage   \n",
       "67389  Produit intérieur brut      Non applicable  Changement en pourcentage   \n",
       "67390  Produit intérieur brut      Non applicable  Changement en pourcentage   \n",
       "...                       ...                 ...                        ...   \n",
       "67636  Produit intérieur brut      Non applicable  Changement en pourcentage   \n",
       "67637  Produit intérieur brut      Non applicable  Changement en pourcentage   \n",
       "67638  Produit intérieur brut      Non applicable  Changement en pourcentage   \n",
       "67639  Produit intérieur brut      Non applicable  Changement en pourcentage   \n",
       "67640  Produit intérieur brut      Non applicable  Changement en pourcentage   \n",
       "\n",
       "                                Transformation TIME_PERIOD  OBS_VALUE  \n",
       "67386  Taux de croissance, période sur période  1960-06-01   0.375710  \n",
       "67387  Taux de croissance, période sur période  1960-09-01   0.748561  \n",
       "67388  Taux de croissance, période sur période  1960-12-01   1.185218  \n",
       "67389  Taux de croissance, période sur période  1961-03-01   1.608374  \n",
       "67390  Taux de croissance, période sur période  1961-06-01   1.600329  \n",
       "...                                        ...         ...        ...  \n",
       "67636  Taux de croissance, période sur période  2022-12-01  -0.046063  \n",
       "67637  Taux de croissance, période sur période  2023-03-01   0.048680  \n",
       "67638  Taux de croissance, période sur période  2023-06-01   0.629831  \n",
       "67639  Taux de croissance, période sur période  2023-09-01  -0.011540  \n",
       "67640  Taux de croissance, période sur période  2023-12-01   0.052434  \n",
       "\n",
       "[255 rows x 9 columns]"
      ]
     },
     "execution_count": 48,
     "metadata": {},
     "output_type": "execute_result"
    }
   ],
   "source": [
    "fr_gdp"
   ]
  },
  {
   "cell_type": "code",
   "execution_count": 49,
   "metadata": {},
   "outputs": [
    {
     "data": {
      "application/vnd.plotly.v1+json": {
       "config": {
        "plotlyServerURL": "https://plot.ly"
       },
       "data": [
        {
         "hovertemplate": "TIME_PERIOD=%{x}<br>OBS_VALUE=%{y}<extra></extra>",
         "legendgroup": "",
         "line": {
          "color": "#636efa",
          "dash": "solid"
         },
         "marker": {
          "symbol": "circle"
         },
         "mode": "lines",
         "name": "",
         "orientation": "v",
         "showlegend": false,
         "type": "scatter",
         "x": [
          "1960-06-01",
          "1960-09-01",
          "1960-12-01",
          "1961-03-01",
          "1961-06-01",
          "1961-09-01",
          "1961-12-01",
          "1962-03-01",
          "1962-06-01",
          "1962-09-01",
          "1962-12-01",
          "1963-03-01",
          "1963-06-01",
          "1963-09-01",
          "1963-12-01",
          "1964-03-01",
          "1964-06-01",
          "1964-09-01",
          "1964-12-01",
          "1965-03-01",
          "1965-06-01",
          "1965-09-01",
          "1965-12-01",
          "1966-03-01",
          "1966-06-01",
          "1966-09-01",
          "1966-12-01",
          "1967-03-01",
          "1967-06-01",
          "1967-09-01",
          "1967-12-01",
          "1968-03-01",
          "1968-06-01",
          "1968-09-01",
          "1968-12-01",
          "1969-03-01",
          "1969-06-01",
          "1969-09-01",
          "1969-12-01",
          "1970-03-01",
          "1970-06-01",
          "1970-09-01",
          "1970-12-01",
          "1971-03-01",
          "1971-06-01",
          "1971-09-01",
          "1971-12-01",
          "1972-03-01",
          "1972-06-01",
          "1972-09-01",
          "1972-12-01",
          "1973-03-01",
          "1973-06-01",
          "1973-09-01",
          "1973-12-01",
          "1974-03-01",
          "1974-06-01",
          "1974-09-01",
          "1974-12-01",
          "1975-03-01",
          "1975-06-01",
          "1975-09-01",
          "1975-12-01",
          "1976-03-01",
          "1976-06-01",
          "1976-09-01",
          "1976-12-01",
          "1977-03-01",
          "1977-06-01",
          "1977-09-01",
          "1977-12-01",
          "1978-03-01",
          "1978-06-01",
          "1978-09-01",
          "1978-12-01",
          "1979-03-01",
          "1979-06-01",
          "1979-09-01",
          "1979-12-01",
          "1980-03-01",
          "1980-06-01",
          "1980-09-01",
          "1980-12-01",
          "1981-03-01",
          "1981-06-01",
          "1981-09-01",
          "1981-12-01",
          "1982-03-01",
          "1982-06-01",
          "1982-09-01",
          "1982-12-01",
          "1983-03-01",
          "1983-06-01",
          "1983-09-01",
          "1983-12-01",
          "1984-03-01",
          "1984-06-01",
          "1984-09-01",
          "1984-12-01",
          "1985-03-01",
          "1985-06-01",
          "1985-09-01",
          "1985-12-01",
          "1986-03-01",
          "1986-06-01",
          "1986-09-01",
          "1986-12-01",
          "1987-03-01",
          "1987-06-01",
          "1987-09-01",
          "1987-12-01",
          "1988-03-01",
          "1988-06-01",
          "1988-09-01",
          "1988-12-01",
          "1989-03-01",
          "1989-06-01",
          "1989-09-01",
          "1989-12-01",
          "1990-03-01",
          "1990-06-01",
          "1990-09-01",
          "1990-12-01",
          "1991-03-01",
          "1991-06-01",
          "1991-09-01",
          "1991-12-01",
          "1992-03-01",
          "1992-06-01",
          "1992-09-01",
          "1992-12-01",
          "1993-03-01",
          "1993-06-01",
          "1993-09-01",
          "1993-12-01",
          "1994-03-01",
          "1994-06-01",
          "1994-09-01",
          "1994-12-01",
          "1995-03-01",
          "1995-06-01",
          "1995-09-01",
          "1995-12-01",
          "1996-03-01",
          "1996-06-01",
          "1996-09-01",
          "1996-12-01",
          "1997-03-01",
          "1997-06-01",
          "1997-09-01",
          "1997-12-01",
          "1998-03-01",
          "1998-06-01",
          "1998-09-01",
          "1998-12-01",
          "1999-03-01",
          "1999-06-01",
          "1999-09-01",
          "1999-12-01",
          "2000-03-01",
          "2000-06-01",
          "2000-09-01",
          "2000-12-01",
          "2001-03-01",
          "2001-06-01",
          "2001-09-01",
          "2001-12-01",
          "2002-03-01",
          "2002-06-01",
          "2002-09-01",
          "2002-12-01",
          "2003-03-01",
          "2003-06-01",
          "2003-09-01",
          "2003-12-01",
          "2004-03-01",
          "2004-06-01",
          "2004-09-01",
          "2004-12-01",
          "2005-03-01",
          "2005-06-01",
          "2005-09-01",
          "2005-12-01",
          "2006-03-01",
          "2006-06-01",
          "2006-09-01",
          "2006-12-01",
          "2007-03-01",
          "2007-06-01",
          "2007-09-01",
          "2007-12-01",
          "2008-03-01",
          "2008-06-01",
          "2008-09-01",
          "2008-12-01",
          "2009-03-01",
          "2009-06-01",
          "2009-09-01",
          "2009-12-01",
          "2010-03-01",
          "2010-06-01",
          "2010-09-01",
          "2010-12-01",
          "2011-03-01",
          "2011-06-01",
          "2011-09-01",
          "2011-12-01",
          "2012-03-01",
          "2012-06-01",
          "2012-09-01",
          "2012-12-01",
          "2013-03-01",
          "2013-06-01",
          "2013-09-01",
          "2013-12-01",
          "2014-03-01",
          "2014-06-01",
          "2014-09-01",
          "2014-12-01",
          "2015-03-01",
          "2015-06-01",
          "2015-09-01",
          "2015-12-01",
          "2016-03-01",
          "2016-06-01",
          "2016-09-01",
          "2016-12-01",
          "2017-03-01",
          "2017-06-01",
          "2017-09-01",
          "2017-12-01",
          "2018-03-01",
          "2018-06-01",
          "2018-09-01",
          "2018-12-01",
          "2019-03-01",
          "2019-06-01",
          "2019-09-01",
          "2019-12-01",
          "2020-03-01",
          "2020-06-01",
          "2020-09-01",
          "2020-12-01",
          "2021-03-01",
          "2021-06-01",
          "2021-09-01",
          "2021-12-01",
          "2022-03-01",
          "2022-06-01",
          "2022-09-01",
          "2022-12-01",
          "2023-03-01",
          "2023-06-01",
          "2023-09-01",
          "2023-12-01"
         ],
         "xaxis": "x",
         "y": [
          0.375710027,
          0.748560969,
          1.185217727,
          1.608373557,
          1.600329267,
          1.59221853,
          1.699021949,
          1.800279466,
          1.615682117,
          1.439785328,
          1.251796955,
          -1.665799419,
          4.465475469,
          3.298802433,
          0.311286644,
          1.882604425,
          0.958920529,
          1.226254685,
          0.903738702,
          0.221994873,
          2.488095418,
          1.445018966,
          1.392214333,
          0.902205649,
          1.512521587,
          1.140425464,
          0.545946646,
          1.713639564,
          1.094577234,
          0.956190097,
          0.974727457,
          2.909618399,
          -7.580956365,
          11.373243098,
          1.024590164,
          0.183745183,
          2.453037118,
          0.94538382,
          0.790251715,
          1.911374445,
          1.262038455,
          1.377238609,
          1.570186063,
          0.129083296,
          1.821986785,
          1.630601407,
          0.856781066,
          1.309796145,
          0.38417729,
          0.887960161,
          1.660236385,
          1.99228223,
          1.080382169,
          0.858845143,
          1.278319135,
          0.959287031,
          0.500642661,
          0.943450926,
          -1.510183316,
          -0.44990402,
          0.252750122,
          0.38735228,
          1.350335463,
          1.467728516,
          1.192260978,
          0.472915631,
          1.245840306,
          1.105448055,
          0.434796121,
          0.458443057,
          0.228252482,
          1.389138596,
          1.662617478,
          -0.087958221,
          0.851110816,
          0.860055009,
          0.955992372,
          1.143098761,
          0.190206929,
          1.247834907,
          -0.780400321,
          0.116188465,
          -0.177294547,
          0.341439433,
          0.685903288,
          0.665638372,
          0.58008017,
          0.83582524,
          0.716352383,
          -0.041624981,
          0.610731714,
          0.384402408,
          0.02657405,
          0.1414816,
          0.587998206,
          0.400890504,
          0.458125968,
          0.658149476,
          -0.086228568,
          0.293953397,
          0.877085635,
          0.528858816,
          0.477965659,
          0.332488206,
          1.068311586,
          0.503513216,
          0.107268753,
          0.119328267,
          1.505605643,
          0.670064031,
          1.477518679,
          1.226815382,
          0.840802069,
          1.275533843,
          0.822222254,
          1.162971119,
          1.220998906,
          1.116052395,
          1.418431088,
          0.294592727,
          0.52056024,
          0.595039794,
          -0.168948116,
          0.223221979,
          0.336639547,
          0.347586309,
          0.567457565,
          0.810165623,
          0.139074847,
          -0.176256749,
          -0.106714875,
          -0.631589824,
          -0.079284745,
          0.098487722,
          0.341397579,
          0.651081656,
          0.998113537,
          0.889476714,
          0.904982856,
          0.326801893,
          0.634928231,
          0.159033304,
          -0.036014221,
          0.744115705,
          0.144398574,
          0.41238745,
          0.331263405,
          0.316374283,
          1.003763556,
          0.960572045,
          1.048699823,
          0.97750801,
          0.789395914,
          0.582784949,
          0.718728374,
          0.664925406,
          0.61500729,
          1.491979513,
          1.346372483,
          0.834585323,
          1.024228887,
          0.844185727,
          0.59343411,
          0.45927747,
          0.164303647,
          0.642981938,
          -0.438387637,
          0.589153263,
          0.412234648,
          0.493676045,
          -0.008996493,
          0.095731299,
          -0.252973673,
          0.968534195,
          0.429788506,
          0.990330472,
          0.571505003,
          0.374528597,
          0.632140553,
          0.269998806,
          0.226727363,
          0.667367173,
          0.636168123,
          0.745135032,
          1.039896686,
          0.170765356,
          0.614044973,
          0.780238663,
          0.678606827,
          0.425655325,
          0.211667062,
          0.49347087,
          -0.594037829,
          -0.127651426,
          -1.507534031,
          -1.719634907,
          0.018995938,
          0.080935024,
          0.853212534,
          0.267075663,
          0.500767171,
          0.611825951,
          0.614929795,
          1.062421617,
          -0.027586999,
          0.437919446,
          0.250544374,
          -0.050372724,
          -0.094446854,
          0.238553381,
          -0.134881184,
          0.018933056,
          0.732411885,
          -0.096734834,
          0.730043342,
          -0.048957916,
          0.093283756,
          0.564955649,
          -0.091209896,
          0.532147931,
          0.163011555,
          0.209200476,
          0.199962664,
          0.619485205,
          -0.375219922,
          0.391084538,
          0.605032241,
          0.627782922,
          0.875025671,
          0.896555096,
          0.59578768,
          -0.015241574,
          0.45086419,
          0.4736779,
          0.545274603,
          0.69080505,
          0.643046758,
          0.101081134,
          -0.416965644,
          -5.297836274,
          -13.147869132,
          17.529993052,
          -0.647098119,
          0.047628283,
          0.865790202,
          2.980170012,
          0.562569898,
          -0.126129436,
          0.343294532,
          0.576492069,
          -0.046063206,
          0.048679546,
          0.62983062,
          -0.0115403,
          0.052434391
         ],
         "yaxis": "y"
        }
       ],
       "layout": {
        "legend": {
         "tracegroupgap": 0
        },
        "margin": {
         "t": 60
        },
        "template": {
         "data": {
          "bar": [
           {
            "error_x": {
             "color": "#2a3f5f"
            },
            "error_y": {
             "color": "#2a3f5f"
            },
            "marker": {
             "line": {
              "color": "#E5ECF6",
              "width": 0.5
             },
             "pattern": {
              "fillmode": "overlay",
              "size": 10,
              "solidity": 0.2
             }
            },
            "type": "bar"
           }
          ],
          "barpolar": [
           {
            "marker": {
             "line": {
              "color": "#E5ECF6",
              "width": 0.5
             },
             "pattern": {
              "fillmode": "overlay",
              "size": 10,
              "solidity": 0.2
             }
            },
            "type": "barpolar"
           }
          ],
          "carpet": [
           {
            "aaxis": {
             "endlinecolor": "#2a3f5f",
             "gridcolor": "white",
             "linecolor": "white",
             "minorgridcolor": "white",
             "startlinecolor": "#2a3f5f"
            },
            "baxis": {
             "endlinecolor": "#2a3f5f",
             "gridcolor": "white",
             "linecolor": "white",
             "minorgridcolor": "white",
             "startlinecolor": "#2a3f5f"
            },
            "type": "carpet"
           }
          ],
          "choropleth": [
           {
            "colorbar": {
             "outlinewidth": 0,
             "ticks": ""
            },
            "type": "choropleth"
           }
          ],
          "contour": [
           {
            "colorbar": {
             "outlinewidth": 0,
             "ticks": ""
            },
            "colorscale": [
             [
              0,
              "#0d0887"
             ],
             [
              0.1111111111111111,
              "#46039f"
             ],
             [
              0.2222222222222222,
              "#7201a8"
             ],
             [
              0.3333333333333333,
              "#9c179e"
             ],
             [
              0.4444444444444444,
              "#bd3786"
             ],
             [
              0.5555555555555556,
              "#d8576b"
             ],
             [
              0.6666666666666666,
              "#ed7953"
             ],
             [
              0.7777777777777778,
              "#fb9f3a"
             ],
             [
              0.8888888888888888,
              "#fdca26"
             ],
             [
              1,
              "#f0f921"
             ]
            ],
            "type": "contour"
           }
          ],
          "contourcarpet": [
           {
            "colorbar": {
             "outlinewidth": 0,
             "ticks": ""
            },
            "type": "contourcarpet"
           }
          ],
          "heatmap": [
           {
            "colorbar": {
             "outlinewidth": 0,
             "ticks": ""
            },
            "colorscale": [
             [
              0,
              "#0d0887"
             ],
             [
              0.1111111111111111,
              "#46039f"
             ],
             [
              0.2222222222222222,
              "#7201a8"
             ],
             [
              0.3333333333333333,
              "#9c179e"
             ],
             [
              0.4444444444444444,
              "#bd3786"
             ],
             [
              0.5555555555555556,
              "#d8576b"
             ],
             [
              0.6666666666666666,
              "#ed7953"
             ],
             [
              0.7777777777777778,
              "#fb9f3a"
             ],
             [
              0.8888888888888888,
              "#fdca26"
             ],
             [
              1,
              "#f0f921"
             ]
            ],
            "type": "heatmap"
           }
          ],
          "heatmapgl": [
           {
            "colorbar": {
             "outlinewidth": 0,
             "ticks": ""
            },
            "colorscale": [
             [
              0,
              "#0d0887"
             ],
             [
              0.1111111111111111,
              "#46039f"
             ],
             [
              0.2222222222222222,
              "#7201a8"
             ],
             [
              0.3333333333333333,
              "#9c179e"
             ],
             [
              0.4444444444444444,
              "#bd3786"
             ],
             [
              0.5555555555555556,
              "#d8576b"
             ],
             [
              0.6666666666666666,
              "#ed7953"
             ],
             [
              0.7777777777777778,
              "#fb9f3a"
             ],
             [
              0.8888888888888888,
              "#fdca26"
             ],
             [
              1,
              "#f0f921"
             ]
            ],
            "type": "heatmapgl"
           }
          ],
          "histogram": [
           {
            "marker": {
             "pattern": {
              "fillmode": "overlay",
              "size": 10,
              "solidity": 0.2
             }
            },
            "type": "histogram"
           }
          ],
          "histogram2d": [
           {
            "colorbar": {
             "outlinewidth": 0,
             "ticks": ""
            },
            "colorscale": [
             [
              0,
              "#0d0887"
             ],
             [
              0.1111111111111111,
              "#46039f"
             ],
             [
              0.2222222222222222,
              "#7201a8"
             ],
             [
              0.3333333333333333,
              "#9c179e"
             ],
             [
              0.4444444444444444,
              "#bd3786"
             ],
             [
              0.5555555555555556,
              "#d8576b"
             ],
             [
              0.6666666666666666,
              "#ed7953"
             ],
             [
              0.7777777777777778,
              "#fb9f3a"
             ],
             [
              0.8888888888888888,
              "#fdca26"
             ],
             [
              1,
              "#f0f921"
             ]
            ],
            "type": "histogram2d"
           }
          ],
          "histogram2dcontour": [
           {
            "colorbar": {
             "outlinewidth": 0,
             "ticks": ""
            },
            "colorscale": [
             [
              0,
              "#0d0887"
             ],
             [
              0.1111111111111111,
              "#46039f"
             ],
             [
              0.2222222222222222,
              "#7201a8"
             ],
             [
              0.3333333333333333,
              "#9c179e"
             ],
             [
              0.4444444444444444,
              "#bd3786"
             ],
             [
              0.5555555555555556,
              "#d8576b"
             ],
             [
              0.6666666666666666,
              "#ed7953"
             ],
             [
              0.7777777777777778,
              "#fb9f3a"
             ],
             [
              0.8888888888888888,
              "#fdca26"
             ],
             [
              1,
              "#f0f921"
             ]
            ],
            "type": "histogram2dcontour"
           }
          ],
          "mesh3d": [
           {
            "colorbar": {
             "outlinewidth": 0,
             "ticks": ""
            },
            "type": "mesh3d"
           }
          ],
          "parcoords": [
           {
            "line": {
             "colorbar": {
              "outlinewidth": 0,
              "ticks": ""
             }
            },
            "type": "parcoords"
           }
          ],
          "pie": [
           {
            "automargin": true,
            "type": "pie"
           }
          ],
          "scatter": [
           {
            "fillpattern": {
             "fillmode": "overlay",
             "size": 10,
             "solidity": 0.2
            },
            "type": "scatter"
           }
          ],
          "scatter3d": [
           {
            "line": {
             "colorbar": {
              "outlinewidth": 0,
              "ticks": ""
             }
            },
            "marker": {
             "colorbar": {
              "outlinewidth": 0,
              "ticks": ""
             }
            },
            "type": "scatter3d"
           }
          ],
          "scattercarpet": [
           {
            "marker": {
             "colorbar": {
              "outlinewidth": 0,
              "ticks": ""
             }
            },
            "type": "scattercarpet"
           }
          ],
          "scattergeo": [
           {
            "marker": {
             "colorbar": {
              "outlinewidth": 0,
              "ticks": ""
             }
            },
            "type": "scattergeo"
           }
          ],
          "scattergl": [
           {
            "marker": {
             "colorbar": {
              "outlinewidth": 0,
              "ticks": ""
             }
            },
            "type": "scattergl"
           }
          ],
          "scattermapbox": [
           {
            "marker": {
             "colorbar": {
              "outlinewidth": 0,
              "ticks": ""
             }
            },
            "type": "scattermapbox"
           }
          ],
          "scatterpolar": [
           {
            "marker": {
             "colorbar": {
              "outlinewidth": 0,
              "ticks": ""
             }
            },
            "type": "scatterpolar"
           }
          ],
          "scatterpolargl": [
           {
            "marker": {
             "colorbar": {
              "outlinewidth": 0,
              "ticks": ""
             }
            },
            "type": "scatterpolargl"
           }
          ],
          "scatterternary": [
           {
            "marker": {
             "colorbar": {
              "outlinewidth": 0,
              "ticks": ""
             }
            },
            "type": "scatterternary"
           }
          ],
          "surface": [
           {
            "colorbar": {
             "outlinewidth": 0,
             "ticks": ""
            },
            "colorscale": [
             [
              0,
              "#0d0887"
             ],
             [
              0.1111111111111111,
              "#46039f"
             ],
             [
              0.2222222222222222,
              "#7201a8"
             ],
             [
              0.3333333333333333,
              "#9c179e"
             ],
             [
              0.4444444444444444,
              "#bd3786"
             ],
             [
              0.5555555555555556,
              "#d8576b"
             ],
             [
              0.6666666666666666,
              "#ed7953"
             ],
             [
              0.7777777777777778,
              "#fb9f3a"
             ],
             [
              0.8888888888888888,
              "#fdca26"
             ],
             [
              1,
              "#f0f921"
             ]
            ],
            "type": "surface"
           }
          ],
          "table": [
           {
            "cells": {
             "fill": {
              "color": "#EBF0F8"
             },
             "line": {
              "color": "white"
             }
            },
            "header": {
             "fill": {
              "color": "#C8D4E3"
             },
             "line": {
              "color": "white"
             }
            },
            "type": "table"
           }
          ]
         },
         "layout": {
          "annotationdefaults": {
           "arrowcolor": "#2a3f5f",
           "arrowhead": 0,
           "arrowwidth": 1
          },
          "autotypenumbers": "strict",
          "coloraxis": {
           "colorbar": {
            "outlinewidth": 0,
            "ticks": ""
           }
          },
          "colorscale": {
           "diverging": [
            [
             0,
             "#8e0152"
            ],
            [
             0.1,
             "#c51b7d"
            ],
            [
             0.2,
             "#de77ae"
            ],
            [
             0.3,
             "#f1b6da"
            ],
            [
             0.4,
             "#fde0ef"
            ],
            [
             0.5,
             "#f7f7f7"
            ],
            [
             0.6,
             "#e6f5d0"
            ],
            [
             0.7,
             "#b8e186"
            ],
            [
             0.8,
             "#7fbc41"
            ],
            [
             0.9,
             "#4d9221"
            ],
            [
             1,
             "#276419"
            ]
           ],
           "sequential": [
            [
             0,
             "#0d0887"
            ],
            [
             0.1111111111111111,
             "#46039f"
            ],
            [
             0.2222222222222222,
             "#7201a8"
            ],
            [
             0.3333333333333333,
             "#9c179e"
            ],
            [
             0.4444444444444444,
             "#bd3786"
            ],
            [
             0.5555555555555556,
             "#d8576b"
            ],
            [
             0.6666666666666666,
             "#ed7953"
            ],
            [
             0.7777777777777778,
             "#fb9f3a"
            ],
            [
             0.8888888888888888,
             "#fdca26"
            ],
            [
             1,
             "#f0f921"
            ]
           ],
           "sequentialminus": [
            [
             0,
             "#0d0887"
            ],
            [
             0.1111111111111111,
             "#46039f"
            ],
            [
             0.2222222222222222,
             "#7201a8"
            ],
            [
             0.3333333333333333,
             "#9c179e"
            ],
            [
             0.4444444444444444,
             "#bd3786"
            ],
            [
             0.5555555555555556,
             "#d8576b"
            ],
            [
             0.6666666666666666,
             "#ed7953"
            ],
            [
             0.7777777777777778,
             "#fb9f3a"
            ],
            [
             0.8888888888888888,
             "#fdca26"
            ],
            [
             1,
             "#f0f921"
            ]
           ]
          },
          "colorway": [
           "#636efa",
           "#EF553B",
           "#00cc96",
           "#ab63fa",
           "#FFA15A",
           "#19d3f3",
           "#FF6692",
           "#B6E880",
           "#FF97FF",
           "#FECB52"
          ],
          "font": {
           "color": "#2a3f5f"
          },
          "geo": {
           "bgcolor": "white",
           "lakecolor": "white",
           "landcolor": "#E5ECF6",
           "showlakes": true,
           "showland": true,
           "subunitcolor": "white"
          },
          "hoverlabel": {
           "align": "left"
          },
          "hovermode": "closest",
          "mapbox": {
           "style": "light"
          },
          "paper_bgcolor": "white",
          "plot_bgcolor": "#E5ECF6",
          "polar": {
           "angularaxis": {
            "gridcolor": "white",
            "linecolor": "white",
            "ticks": ""
           },
           "bgcolor": "#E5ECF6",
           "radialaxis": {
            "gridcolor": "white",
            "linecolor": "white",
            "ticks": ""
           }
          },
          "scene": {
           "xaxis": {
            "backgroundcolor": "#E5ECF6",
            "gridcolor": "white",
            "gridwidth": 2,
            "linecolor": "white",
            "showbackground": true,
            "ticks": "",
            "zerolinecolor": "white"
           },
           "yaxis": {
            "backgroundcolor": "#E5ECF6",
            "gridcolor": "white",
            "gridwidth": 2,
            "linecolor": "white",
            "showbackground": true,
            "ticks": "",
            "zerolinecolor": "white"
           },
           "zaxis": {
            "backgroundcolor": "#E5ECF6",
            "gridcolor": "white",
            "gridwidth": 2,
            "linecolor": "white",
            "showbackground": true,
            "ticks": "",
            "zerolinecolor": "white"
           }
          },
          "shapedefaults": {
           "line": {
            "color": "#2a3f5f"
           }
          },
          "ternary": {
           "aaxis": {
            "gridcolor": "white",
            "linecolor": "white",
            "ticks": ""
           },
           "baxis": {
            "gridcolor": "white",
            "linecolor": "white",
            "ticks": ""
           },
           "bgcolor": "#E5ECF6",
           "caxis": {
            "gridcolor": "white",
            "linecolor": "white",
            "ticks": ""
           }
          },
          "title": {
           "x": 0.05
          },
          "xaxis": {
           "automargin": true,
           "gridcolor": "white",
           "linecolor": "white",
           "ticks": "",
           "title": {
            "standoff": 15
           },
           "zerolinecolor": "white",
           "zerolinewidth": 2
          },
          "yaxis": {
           "automargin": true,
           "gridcolor": "white",
           "linecolor": "white",
           "ticks": "",
           "title": {
            "standoff": 15
           },
           "zerolinecolor": "white",
           "zerolinewidth": 2
          }
         }
        },
        "title": {
         "text": "GDP"
        },
        "xaxis": {
         "anchor": "y",
         "domain": [
          0,
          1
         ],
         "range": [
          "1990-01-01",
          "2023-09-01"
         ],
         "title": {
          "text": "TIME_PERIOD"
         }
        },
        "yaxis": {
         "anchor": "x",
         "domain": [
          0,
          1
         ],
         "title": {
          "text": "OBS_VALUE"
         }
        }
       }
      }
     },
     "metadata": {},
     "output_type": "display_data"
    }
   ],
   "source": [
    "fig = px.line(fr_gdp, x='TIME_PERIOD', y=\"OBS_VALUE\")\n",
    "fig.update_layout(xaxis_range=['1990-01-01','2023-09-01'],\n",
    "                  title_text= \"GDP\")\n",
    "fig.show()"
   ]
  },
  {
   "cell_type": "markdown",
   "metadata": {},
   "source": [
    "## World Graph"
   ]
  },
  {
   "cell_type": "code",
   "execution_count": 52,
   "metadata": {},
   "outputs": [],
   "source": [
    "real_gdp = pd.read_csv(\"global/dataglobal/clean_realgdp.csv\")\n",
    "real_gdp20 = pd.read_csv(\"global/dataglobal/clean_realgdpg20.csv\")"
   ]
  },
  {
   "cell_type": "code",
   "execution_count": 56,
   "metadata": {},
   "outputs": [
    {
     "data": {
      "text/plain": [
       "Index(['Unnamed: 0', 'Zone de référence', 'Secteur institutionnel',\n",
       "       'Transaction', 'Activité économique', 'Unité de mesure',\n",
       "       'Transformation', 'TIME_PERIOD', 'OBS_VALUE'],\n",
       "      dtype='object')"
      ]
     },
     "execution_count": 56,
     "metadata": {},
     "output_type": "execute_result"
    }
   ],
   "source": [
    "real_gdp.columns"
   ]
  },
  {
   "cell_type": "code",
   "execution_count": 59,
   "metadata": {},
   "outputs": [
    {
     "data": {
      "text/plain": [
       "Index(['Unnamed: 0', 'Zone de référence', 'Secteur institutionnel',\n",
       "       'Transaction', 'Activité économique', 'Unité de mesure',\n",
       "       'Transformation', 'TIME_PERIOD', 'OBS_VALUE'],\n",
       "      dtype='object')"
      ]
     },
     "execution_count": 59,
     "metadata": {},
     "output_type": "execute_result"
    }
   ],
   "source": [
    "real_gdp20.columns"
   ]
  },
  {
   "cell_type": "code",
   "execution_count": 61,
   "metadata": {},
   "outputs": [],
   "source": [
    "gdps = [real_gdp, real_gdp20]\n",
    "gdp = pd.concat(gdps)"
   ]
  },
  {
   "cell_type": "code",
   "execution_count": 62,
   "metadata": {},
   "outputs": [
    {
     "data": {
      "text/html": [
       "<div>\n",
       "<style scoped>\n",
       "    .dataframe tbody tr th:only-of-type {\n",
       "        vertical-align: middle;\n",
       "    }\n",
       "\n",
       "    .dataframe tbody tr th {\n",
       "        vertical-align: top;\n",
       "    }\n",
       "\n",
       "    .dataframe thead th {\n",
       "        text-align: right;\n",
       "    }\n",
       "</style>\n",
       "<table border=\"1\" class=\"dataframe\">\n",
       "  <thead>\n",
       "    <tr style=\"text-align: right;\">\n",
       "      <th></th>\n",
       "      <th>Unnamed: 0</th>\n",
       "      <th>Zone de référence</th>\n",
       "      <th>Secteur institutionnel</th>\n",
       "      <th>Transaction</th>\n",
       "      <th>Activité économique</th>\n",
       "      <th>Unité de mesure</th>\n",
       "      <th>Transformation</th>\n",
       "      <th>TIME_PERIOD</th>\n",
       "      <th>OBS_VALUE</th>\n",
       "    </tr>\n",
       "  </thead>\n",
       "  <tbody>\n",
       "    <tr>\n",
       "      <th>0</th>\n",
       "      <td>28</td>\n",
       "      <td>OCDE Europe</td>\n",
       "      <td>Administrations publiques</td>\n",
       "      <td>Dépense de consommation finale</td>\n",
       "      <td>Non applicable</td>\n",
       "      <td>Changement en pourcentage</td>\n",
       "      <td>Taux de croissance, période sur période</td>\n",
       "      <td>1961-06-01</td>\n",
       "      <td>0.644198</td>\n",
       "    </tr>\n",
       "    <tr>\n",
       "      <th>1</th>\n",
       "      <td>29</td>\n",
       "      <td>OCDE Europe</td>\n",
       "      <td>Administrations publiques</td>\n",
       "      <td>Dépense de consommation finale</td>\n",
       "      <td>Non applicable</td>\n",
       "      <td>Changement en pourcentage</td>\n",
       "      <td>Taux de croissance, période sur période</td>\n",
       "      <td>1961-09-01</td>\n",
       "      <td>1.725270</td>\n",
       "    </tr>\n",
       "    <tr>\n",
       "      <th>2</th>\n",
       "      <td>30</td>\n",
       "      <td>OCDE Europe</td>\n",
       "      <td>Administrations publiques</td>\n",
       "      <td>Dépense de consommation finale</td>\n",
       "      <td>Non applicable</td>\n",
       "      <td>Changement en pourcentage</td>\n",
       "      <td>Taux de croissance, période sur période</td>\n",
       "      <td>1961-12-01</td>\n",
       "      <td>1.222290</td>\n",
       "    </tr>\n",
       "    <tr>\n",
       "      <th>3</th>\n",
       "      <td>31</td>\n",
       "      <td>OCDE Europe</td>\n",
       "      <td>Administrations publiques</td>\n",
       "      <td>Dépense de consommation finale</td>\n",
       "      <td>Non applicable</td>\n",
       "      <td>Changement en pourcentage</td>\n",
       "      <td>Taux de croissance, période sur période</td>\n",
       "      <td>1962-03-01</td>\n",
       "      <td>1.613121</td>\n",
       "    </tr>\n",
       "    <tr>\n",
       "      <th>4</th>\n",
       "      <td>32</td>\n",
       "      <td>OCDE Europe</td>\n",
       "      <td>Administrations publiques</td>\n",
       "      <td>Dépense de consommation finale</td>\n",
       "      <td>Non applicable</td>\n",
       "      <td>Changement en pourcentage</td>\n",
       "      <td>Taux de croissance, période sur période</td>\n",
       "      <td>1962-06-01</td>\n",
       "      <td>1.618299</td>\n",
       "    </tr>\n",
       "    <tr>\n",
       "      <th>...</th>\n",
       "      <td>...</td>\n",
       "      <td>...</td>\n",
       "      <td>...</td>\n",
       "      <td>...</td>\n",
       "      <td>...</td>\n",
       "      <td>...</td>\n",
       "      <td>...</td>\n",
       "      <td>...</td>\n",
       "      <td>...</td>\n",
       "    </tr>\n",
       "    <tr>\n",
       "      <th>59209</th>\n",
       "      <td>73362</td>\n",
       "      <td>Arabie saoudite</td>\n",
       "      <td>Economie totale</td>\n",
       "      <td>Importations de biens et de services</td>\n",
       "      <td>Non applicable</td>\n",
       "      <td>Changement en pourcentage</td>\n",
       "      <td>Taux de croissance, sur 1 an</td>\n",
       "      <td>2022-12-01</td>\n",
       "      <td>3.605642</td>\n",
       "    </tr>\n",
       "    <tr>\n",
       "      <th>59210</th>\n",
       "      <td>73363</td>\n",
       "      <td>Arabie saoudite</td>\n",
       "      <td>Economie totale</td>\n",
       "      <td>Importations de biens et de services</td>\n",
       "      <td>Non applicable</td>\n",
       "      <td>Changement en pourcentage</td>\n",
       "      <td>Taux de croissance, sur 1 an</td>\n",
       "      <td>2023-03-01</td>\n",
       "      <td>17.915152</td>\n",
       "    </tr>\n",
       "    <tr>\n",
       "      <th>59211</th>\n",
       "      <td>73364</td>\n",
       "      <td>Arabie saoudite</td>\n",
       "      <td>Economie totale</td>\n",
       "      <td>Importations de biens et de services</td>\n",
       "      <td>Non applicable</td>\n",
       "      <td>Changement en pourcentage</td>\n",
       "      <td>Taux de croissance, sur 1 an</td>\n",
       "      <td>2023-06-01</td>\n",
       "      <td>4.430807</td>\n",
       "    </tr>\n",
       "    <tr>\n",
       "      <th>59212</th>\n",
       "      <td>73365</td>\n",
       "      <td>Arabie saoudite</td>\n",
       "      <td>Economie totale</td>\n",
       "      <td>Importations de biens et de services</td>\n",
       "      <td>Non applicable</td>\n",
       "      <td>Changement en pourcentage</td>\n",
       "      <td>Taux de croissance, sur 1 an</td>\n",
       "      <td>2023-09-01</td>\n",
       "      <td>11.683939</td>\n",
       "    </tr>\n",
       "    <tr>\n",
       "      <th>59213</th>\n",
       "      <td>73366</td>\n",
       "      <td>Arabie saoudite</td>\n",
       "      <td>Economie totale</td>\n",
       "      <td>Importations de biens et de services</td>\n",
       "      <td>Non applicable</td>\n",
       "      <td>Changement en pourcentage</td>\n",
       "      <td>Taux de croissance, sur 1 an</td>\n",
       "      <td>2023-12-01</td>\n",
       "      <td>5.875272</td>\n",
       "    </tr>\n",
       "  </tbody>\n",
       "</table>\n",
       "<p>168886 rows × 9 columns</p>\n",
       "</div>"
      ],
      "text/plain": [
       "       Unnamed: 0 Zone de référence     Secteur institutionnel  \\\n",
       "0              28       OCDE Europe  Administrations publiques   \n",
       "1              29       OCDE Europe  Administrations publiques   \n",
       "2              30       OCDE Europe  Administrations publiques   \n",
       "3              31       OCDE Europe  Administrations publiques   \n",
       "4              32       OCDE Europe  Administrations publiques   \n",
       "...           ...               ...                        ...   \n",
       "59209       73362   Arabie saoudite            Economie totale   \n",
       "59210       73363   Arabie saoudite            Economie totale   \n",
       "59211       73364   Arabie saoudite            Economie totale   \n",
       "59212       73365   Arabie saoudite            Economie totale   \n",
       "59213       73366   Arabie saoudite            Economie totale   \n",
       "\n",
       "                                Transaction Activité économique  \\\n",
       "0            Dépense de consommation finale      Non applicable   \n",
       "1            Dépense de consommation finale      Non applicable   \n",
       "2            Dépense de consommation finale      Non applicable   \n",
       "3            Dépense de consommation finale      Non applicable   \n",
       "4            Dépense de consommation finale      Non applicable   \n",
       "...                                     ...                 ...   \n",
       "59209  Importations de biens et de services      Non applicable   \n",
       "59210  Importations de biens et de services      Non applicable   \n",
       "59211  Importations de biens et de services      Non applicable   \n",
       "59212  Importations de biens et de services      Non applicable   \n",
       "59213  Importations de biens et de services      Non applicable   \n",
       "\n",
       "                 Unité de mesure                           Transformation  \\\n",
       "0      Changement en pourcentage  Taux de croissance, période sur période   \n",
       "1      Changement en pourcentage  Taux de croissance, période sur période   \n",
       "2      Changement en pourcentage  Taux de croissance, période sur période   \n",
       "3      Changement en pourcentage  Taux de croissance, période sur période   \n",
       "4      Changement en pourcentage  Taux de croissance, période sur période   \n",
       "...                          ...                                      ...   \n",
       "59209  Changement en pourcentage             Taux de croissance, sur 1 an   \n",
       "59210  Changement en pourcentage             Taux de croissance, sur 1 an   \n",
       "59211  Changement en pourcentage             Taux de croissance, sur 1 an   \n",
       "59212  Changement en pourcentage             Taux de croissance, sur 1 an   \n",
       "59213  Changement en pourcentage             Taux de croissance, sur 1 an   \n",
       "\n",
       "      TIME_PERIOD  OBS_VALUE  \n",
       "0      1961-06-01   0.644198  \n",
       "1      1961-09-01   1.725270  \n",
       "2      1961-12-01   1.222290  \n",
       "3      1962-03-01   1.613121  \n",
       "4      1962-06-01   1.618299  \n",
       "...           ...        ...  \n",
       "59209  2022-12-01   3.605642  \n",
       "59210  2023-03-01  17.915152  \n",
       "59211  2023-06-01   4.430807  \n",
       "59212  2023-09-01  11.683939  \n",
       "59213  2023-12-01   5.875272  \n",
       "\n",
       "[168886 rows x 9 columns]"
      ]
     },
     "execution_count": 62,
     "metadata": {},
     "output_type": "execute_result"
    }
   ],
   "source": [
    "gdp"
   ]
  },
  {
   "cell_type": "code",
   "execution_count": 63,
   "metadata": {},
   "outputs": [
    {
     "data": {
      "text/plain": [
       "array(['OCDE Europe', 'Costa Rica', 'Hongrie', 'Nouvelle-Zélande',\n",
       "       'Norvège', 'Luxembourg', 'Slovénie', 'Suède', 'Tchéquie',\n",
       "       'Estonie', 'OCDE', 'Islande', 'Colombie', 'Mexique', 'Lituanie',\n",
       "       'Chili', 'Danemark', 'G7', 'Lettonie', 'Corée',\n",
       "       'Union européenne (27 pays à partir du 01/02/2020)',\n",
       "       'Zone euro (20 pays)', 'France', 'Allemagne', 'Pologne',\n",
       "       'Portugal', 'Italie', 'Pays-Bas', 'ALENA', 'États-Unis',\n",
       "       'République slovaque', 'Japon', 'Belgique', 'Türkiye', 'Grèce',\n",
       "       'Finlande', 'Suisse', 'Royaume-Uni', 'G20', 'Autriche', 'Espagne',\n",
       "       'Canada', 'Israël', 'Australie', 'Brésil', 'Argentine', 'Russie',\n",
       "       'Afrique du Sud', 'Arabie saoudite', 'Indonésie', 'Inde',\n",
       "       'Chine (République populaire de)'], dtype=object)"
      ]
     },
     "execution_count": 63,
     "metadata": {},
     "output_type": "execute_result"
    }
   ],
   "source": [
    "gdp[\"Zone de référence\"].unique()"
   ]
  },
  {
   "cell_type": "code",
   "execution_count": null,
   "metadata": {},
   "outputs": [],
   "source": [
    "real_gdp = real_gdp[(real_gdp[\"Zone de référence\"] == \"France\")| (real_gdp[\"Zone de référence\"] == \"OCDE\")| (real_gdp[\"Zone de référence\"] == \"OCDE\")]\n",
    "\n",
    "real_gdp"
   ]
  },
  {
   "cell_type": "code",
   "execution_count": null,
   "metadata": {},
   "outputs": [],
   "source": [
    "fig = px.line(fr_gdp, x='TIME_PERIOD', y=\"OBS_VALUE\", color='Zone de référence')\n",
    "fig.update_layout(xaxis_range=['1990-01-01','2023-09-01'],\n",
    "                  title_text= \"GDP\")\n",
    "fig.show()"
   ]
  }
 ],
 "metadata": {
  "kernelspec": {
   "display_name": "Python 3",
   "language": "python",
   "name": "python3"
  },
  "language_info": {
   "codemirror_mode": {
    "name": "ipython",
    "version": 3
   },
   "file_extension": ".py",
   "mimetype": "text/x-python",
   "name": "python",
   "nbconvert_exporter": "python",
   "pygments_lexer": "ipython3",
   "version": "3.11.5"
  }
 },
 "nbformat": 4,
 "nbformat_minor": 2
}
