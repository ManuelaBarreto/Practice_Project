{
 "cells": [
  {
   "cell_type": "markdown",
   "metadata": {},
   "source": [
    "# Imports"
   ]
  },
  {
   "cell_type": "code",
   "execution_count": 1,
   "metadata": {},
   "outputs": [
    {
     "name": "stdout",
     "output_type": "stream",
     "text": [
      "Requirement already satisfied: lxml in c:\\users\\manue\\anaconda3\\envs\\machinelearning\\lib\\site-packages (5.1.0)\n"
     ]
    }
   ],
   "source": [
    "!pip install lxml"
   ]
  },
  {
   "cell_type": "code",
   "execution_count": 2,
   "metadata": {},
   "outputs": [
    {
     "name": "stdout",
     "output_type": "stream",
     "text": [
      "Requirement already satisfied: mtranslate==1.8 in c:\\users\\manue\\anaconda3\\envs\\machinelearning\\lib\\site-packages (1.8)\n"
     ]
    }
   ],
   "source": [
    "!pip install mtranslate==1.8"
   ]
  },
  {
   "cell_type": "code",
   "execution_count": 3,
   "metadata": {},
   "outputs": [],
   "source": [
    "import pandas as pd\n",
    "import numpy as np\n",
    "import matplotlib.pyplot as plt\n",
    "\n",
    "import mtranslate as mt"
   ]
  },
  {
   "cell_type": "markdown",
   "metadata": {},
   "source": [
    "# General Funtions"
   ]
  },
  {
   "cell_type": "code",
   "execution_count": 4,
   "metadata": {},
   "outputs": [],
   "source": [
    "def trimester_to_date(trimester):\n",
    "    year, quarter = trimester.split('-')\n",
    "    quarter=quarter[1]\n",
    "    month = int(quarter) * 3\n",
    "    return pd.Timestamp(year=int(year), month=month, day=1)"
   ]
  },
  {
   "cell_type": "code",
   "execution_count": 5,
   "metadata": {},
   "outputs": [],
   "source": [
    "def translate_country_name(text):\n",
    "    return mt.translate(text, 'en', 'fr')"
   ]
  },
  {
   "cell_type": "markdown",
   "metadata": {},
   "source": [
    "# Country Codes"
   ]
  },
  {
   "cell_type": "code",
   "execution_count": 6,
   "metadata": {},
   "outputs": [],
   "source": [
    "codes=pd.read_html('https://www.iban.com/country-codes')\n",
    "cases=pd.read_csv('global\\dataglobal\\clean_weekly_cases_per_million.csv',parse_dates=True)\n",
    "cases['date']=pd.to_datetime(cases['date'])"
   ]
  },
  {
   "cell_type": "code",
   "execution_count": 7,
   "metadata": {},
   "outputs": [],
   "source": [
    "cases=cases[(cases['date']>=pd.Timestamp(year=2021,month=1,day=1)) & (cases['date']<pd.Timestamp(year=2023,month=1,day=1))][['Countries','Cases']]\n",
    "cases=cases.groupby('Countries').mean()\n",
    "codes=pd.DataFrame(codes[0])[['Country','Alpha-3 code']]"
   ]
  },
  {
   "cell_type": "code",
   "execution_count": 8,
   "metadata": {},
   "outputs": [],
   "source": [
    "codes['Country']=codes.Country.replace({'United States of America (the)':'United States','Venezuela (Bolivarian Republic of)':'Venezuela',\n",
    "               'Bolivia (Plurinational State of)':'Bolivia','Côte d\\'Ivoire':'Cote d\\'Ivoire','Russian Federation (the)':'Russia',\n",
    "               'United Kingdom of Great Britain and Northern Ireland (the)':'United Kingdom','Viet Nam':'Vietnam',\n",
    "               'Lao People\\'s Democratic Republic (the)':'Laos','Korea (the Republic of)':'South Korea'})"
   ]
  },
  {
   "cell_type": "code",
   "execution_count": 9,
   "metadata": {},
   "outputs": [],
   "source": [
    "codes=codes.set_index('Country')\n",
    "df=cases.join(codes,how='inner')\n",
    "df.columns=['Cases','Alpha3']\n",
    "df.to_csv('global\\dataglobal\\clean_countrycodes.csv')"
   ]
  },
  {
   "cell_type": "markdown",
   "metadata": {},
   "source": [
    "# Covid Data"
   ]
  },
  {
   "cell_type": "code",
   "execution_count": 10,
   "metadata": {},
   "outputs": [],
   "source": [
    "stringency=pd.read_json('global\\stringency.json')\n",
    "\n",
    "stringency=stringency.drop(['stringency_index_nonvac','stringency_index_vac','stringency_index_weighted_avg'],axis=1)\n",
    "stringency.rename(columns={'location':'Countries'},inplace=True)\n",
    "\n",
    "stringency.to_csv('global\\dataglobal\\clean_stringency.csv')"
   ]
  },
  {
   "cell_type": "code",
   "execution_count": 11,
   "metadata": {},
   "outputs": [],
   "source": [
    "deaths=pd.read_csv('global\\weekly_deaths_per_million.csv',parse_dates=True)\n",
    "\n",
    "deaths['date']=pd.to_datetime(deaths['date'])\n",
    "deaths = pd.melt(deaths, id_vars=['date'], var_name='Countries', value_name='Deaths')\n",
    "\n",
    "deaths.to_csv('global\\dataglobal\\clean_weekly_deaths_per_million.csv')"
   ]
  },
  {
   "cell_type": "code",
   "execution_count": 12,
   "metadata": {},
   "outputs": [],
   "source": [
    "cases=pd.read_csv('global\\weekly_cases_per_million.csv',parse_dates=True)\n",
    "\n",
    "cases['date']=pd.to_datetime(cases['date'])\n",
    "cases = pd.melt(cases, id_vars=['date'], var_name='Countries', value_name='Cases')\n",
    "\n",
    "cases.to_csv('global\\dataglobal\\clean_weekly_cases_per_million.csv')"
   ]
  },
  {
   "cell_type": "code",
   "execution_count": 13,
   "metadata": {},
   "outputs": [],
   "source": [
    "#merge\n",
    "temp = pd.merge(right=stringency,left=cases,on=['date','Countries'],how='left')\n",
    "covid_df = pd.merge(right=temp,left=deaths,on=['date','Countries'],how='left')\n",
    "\n",
    "covid_df.to_csv(\"global/dataglobal/clean_covid_recap.csv\")"
   ]
  },
  {
   "cell_type": "markdown",
   "metadata": {},
   "source": [
    "# Employment"
   ]
  },
  {
   "cell_type": "code",
   "execution_count": 14,
   "metadata": {},
   "outputs": [],
   "source": [
    "employment=pd.read_csv('Global_original/employment.csv')\n",
    "employment=employment[employment['UNIT_MEASURE']=='H']\n",
    "employment=employment[employment['Transaction']=='Emploi total']\n",
    "employment=employment[employment['ADJUSTMENT']=='Y']"
   ]
  },
  {
   "cell_type": "code",
   "execution_count": 15,
   "metadata": {},
   "outputs": [],
   "source": [
    "employment2=employment.drop(['STRUCTURE','STRUCTURE_ID','STRUCTURE_NAME','ACTION','FREQ',\n",
    "       'ADJUSTMENT', 'Ajustement', 'REF_AREA','SECTOR','Secteur institutionnel','COUNTERPART_SECTOR','Secteur institutionnel de contrepartie',\n",
    "       'TRANSACTION','INSTR_ASSET','Instruments financiers et actifs non financiers','ACTIVITY','EXPENDITURE','Dépense','UNIT_MEASURE','PRICE_BASE',\n",
    "       'Type de prix','TRANSFORMATION','Transformation','TABLE_IDENTIFIER','Identifiant de tableau','Période temporelle','Valeur d\\'observation',\n",
    "       'REF_YEAR_PRICE','Prix ​​année de référence','BASE_PER','Période de base','CONF_STATUS','Statut de confidentialité','DECIMALS','Décimales',\n",
    "       'OBS_STATUS','Statut d\\'observation','UNIT_MULT','CURRENCY','Monnaie'],axis=1)\n",
    "\n",
    "employment2.TIME_PERIOD=employment2.TIME_PERIOD.astype(str)\n",
    "employment2=employment2[employment2['Fréquence d\\'observation']=='Trimestrielle']\n",
    "employment2.OBS_VALUE=employment2.OBS_VALUE.astype(float)"
   ]
  },
  {
   "cell_type": "code",
   "execution_count": 16,
   "metadata": {},
   "outputs": [],
   "source": [
    "for country in employment2['Zone de référence'].unique():\n",
    "    for activite in employment2['Activité économique'].unique():\n",
    "        a=employment2[(employment2['Zone de référence']==country) & (employment2['Activité économique']==activite)]['OBS_VALUE'].pct_change()\n",
    "        employment2.loc[(employment2['Zone de référence']==country) & (employment2['Activité économique']==activite),'OBS_VALUE']=a\n",
    "\n",
    "employment2=employment2.dropna(subset='OBS_VALUE')\n",
    "employment2.loc[:,'TIME_PERIOD']=employment2.TIME_PERIOD.apply(lambda x: trimester_to_date(x))\n",
    "employment2['TIME_PERIOD']=pd.to_datetime(employment2['TIME_PERIOD'])"
   ]
  },
  {
   "cell_type": "code",
   "execution_count": 17,
   "metadata": {},
   "outputs": [],
   "source": [
    "translate_dic = {}\n",
    "for country in list(employment2['Zone de référence'].unique()):\n",
    "    translate_dic[country] = translate_country_name(country)\n",
    "    \n",
    "    \n",
    "employment2['Zone de référence'] = employment2['Zone de référence'].replace(translate_dic)"
   ]
  },
  {
   "cell_type": "code",
   "execution_count": 18,
   "metadata": {},
   "outputs": [],
   "source": [
    "employment2.to_csv('global/dataglobal/clean_employment.csv')"
   ]
  },
  {
   "cell_type": "markdown",
   "metadata": {},
   "source": [
    "# Employee Compensation"
   ]
  },
  {
   "cell_type": "code",
   "execution_count": 19,
   "metadata": {},
   "outputs": [],
   "source": [
    "compensation=pd.read_csv('Global_original/employeecompensation.csv')\n",
    "compensation=compensation[compensation['FREQ']=='Q']\n",
    "compensation=compensation[compensation['ADJUSTMENT']=='Y']"
   ]
  },
  {
   "cell_type": "code",
   "execution_count": 20,
   "metadata": {},
   "outputs": [],
   "source": [
    "compensation2=compensation.drop(['STRUCTURE','STRUCTURE_ID','ACTION','FREQ','Fréquence d\\'observation','ADJUSTMENT','Ajustement',\n",
    "                                 'REF_AREA','SECTOR','COUNTERPART_SECTOR','Secteur institutionnel de contrepartie','TRANSACTION','INSTR_ASSET','Instruments financiers et actifs non financiers',\n",
    "                                 'ACTIVITY','EXPENDITURE','Dépense','UNIT_MEASURE','Unité de mesure','PRICE_BASE','Type de prix','TRANSFORMATION','Transformation',\n",
    "                                 'TABLE_IDENTIFIER','Identifiant de tableau','Période temporelle','Valeur d\\'observation','REF_YEAR_PRICE','Prix ​​année de référence',\n",
    "                                 'BASE_PER','Période de base','CONF_STATUS','Statut de confidentialité','DECIMALS','Décimales','OBS_STATUS','Statut d\\'observation',\n",
    "                                 'UNIT_MULT','CURRENCY','Monnaie'],axis=1)\n",
    "\n",
    "compensation2.TIME_PERIOD=compensation2.TIME_PERIOD.astype(str)\n",
    "compensation2.OBS_VALUE=compensation2.OBS_VALUE.astype(float)"
   ]
  },
  {
   "cell_type": "code",
   "execution_count": 21,
   "metadata": {},
   "outputs": [],
   "source": [
    "for country in compensation2['Zone de référence'].unique():\n",
    "    for activite in compensation2[compensation2['Zone de référence']==country]['Activité économique'].unique():\n",
    "        a=compensation2[(compensation2['Zone de référence']==country) & (compensation2['Activité économique']==activite)]['OBS_VALUE'].pct_change()\n",
    "        compensation2.loc[(compensation2['Zone de référence']==country) & (compensation2['Activité économique']==activite),'OBS_VALUE']=a\n",
    "\n",
    "compensation2=compensation2.dropna(subset='OBS_VALUE')\n",
    "compensation2.loc[:,'TIME_PERIOD']=compensation2.TIME_PERIOD.apply(lambda x: trimester_to_date(x))\n",
    "compensation2['TIME_PERIOD']=pd.to_datetime(compensation2['TIME_PERIOD'])"
   ]
  },
  {
   "cell_type": "code",
   "execution_count": 22,
   "metadata": {},
   "outputs": [],
   "source": [
    "translate_dic = {}\n",
    "for country in list(compensation2['Zone de référence'].unique()):\n",
    "    translate_dic[country] = translate_country_name(country)\n",
    "    \n",
    "    \n",
    "compensation2['Zone de référence'] = compensation2['Zone de référence'].replace(translate_dic)"
   ]
  },
  {
   "cell_type": "code",
   "execution_count": 23,
   "metadata": {},
   "outputs": [],
   "source": [
    "compensation2.to_csv('global/dataglobal/clean_employee_compensation.csv')"
   ]
  },
  {
   "cell_type": "markdown",
   "metadata": {},
   "source": [
    "# Final Consumption Expenditure"
   ]
  },
  {
   "cell_type": "markdown",
   "metadata": {},
   "source": [
    "### Europe"
   ]
  },
  {
   "cell_type": "code",
   "execution_count": 24,
   "metadata": {},
   "outputs": [
    {
     "name": "stderr",
     "output_type": "stream",
     "text": [
      "C:\\Users\\manue\\AppData\\Local\\Temp\\ipykernel_15688\\3056129126.py:1: DtypeWarning: Columns (34) have mixed types. Specify dtype option on import or set low_memory=False.\n",
      "  consumption = pd.read_csv(\"Global_original/finalconsumptionexpenditure.csv\")\n"
     ]
    }
   ],
   "source": [
    "consumption = pd.read_csv(\"Global_original/finalconsumptionexpenditure.csv\")\n",
    "\n",
    "for column in consumption.columns:\n",
    "    if (len(consumption[column].unique()) <= 1) and (column not in [\"Secteur institutionnel\"]):\n",
    "        consumption.drop(columns=[column],inplace=True)\n",
    "\n",
    "consumption = consumption[consumption[\"FREQ\"] == \"Q\"]\n",
    "consumption = consumption[consumption[\"Ajustement\"] == \"Corrigé des variations saisonnières et des effets de calendrier\"]\n",
    "consumption = consumption[consumption[\"Type de prix\"]==\"Volumes chaînés\"]\n",
    "consumption = consumption[consumption[\"Transaction\"]==\"Dépense de consommation finale des résidents et non-résidents sur le territoire économique\"]\n",
    "\n",
    "consumption.drop(columns=[\"Fréquence d'observation\",\"FREQ\",\"ADJUSTMENT\",\"Ajustement\",\"REF_AREA\",\"TRANSACTION\",\"Transaction\",\"Type de prix\",\"PRICE_BASE\",\"OBS_STATUS\",\"REF_YEAR_PRICE\",\"Statut d'observation\",\"Monnaie\"], inplace= True)"
   ]
  },
  {
   "cell_type": "code",
   "execution_count": 25,
   "metadata": {},
   "outputs": [],
   "source": [
    "#Just checking that I still have all of the years\n",
    "\n",
    "lista = sorted(list(consumption[\"TIME_PERIOD\"].unique()))\n",
    "lista_anos = []\n",
    "for i in lista:\n",
    "    try: \n",
    "        int(i)\n",
    "        lista_anos.append(i)\n",
    "\n",
    "    except:\n",
    "        pass\n",
    "\n",
    "for i in range(len(lista_anos)-1):\n",
    "    if int(lista_anos[i+1]) != int(lista_anos[i]) + 1:\n",
    "        print(lista_anos[i],lista_anos[i+1])"
   ]
  },
  {
   "cell_type": "code",
   "execution_count": 26,
   "metadata": {},
   "outputs": [],
   "source": [
    "for country in list(consumption['Zone de référence'].unique()):\n",
    "    consumption.loc[consumption['Zone de référence']==country,\"OBS_VALUE\"] = consumption[consumption['Zone de référence']==country][\"OBS_VALUE\"].pct_change()\n",
    "\n",
    "consumption.TIME_PERIOD = consumption.TIME_PERIOD.apply(lambda x: trimester_to_date(x))"
   ]
  },
  {
   "cell_type": "code",
   "execution_count": 27,
   "metadata": {},
   "outputs": [],
   "source": [
    "translate_dic = {}\n",
    "for country in list(consumption['Zone de référence'].unique()):\n",
    "    translate_dic[country] = translate_country_name(country)\n",
    "    \n",
    "    \n",
    "consumption['Zone de référence'] = consumption['Zone de référence'].replace(translate_dic)"
   ]
  },
  {
   "cell_type": "markdown",
   "metadata": {},
   "source": [
    "### Brazil"
   ]
  },
  {
   "cell_type": "code",
   "execution_count": 28,
   "metadata": {},
   "outputs": [],
   "source": [
    "consumption_brazil = pd.read_csv(\"data_manu/ Real Final Consumption Expenditure for Brazil.csv\")\n",
    "consumption_brazil\n",
    "\n",
    "consumption_brazil.insert(loc=0, column='Zone de référence', value=['Brazil']*len(consumption_brazil))\n",
    "consumption_brazil.insert(loc=1, column='Secteur institutionnel', value=['Ménages']*len(consumption_brazil))\n",
    "consumption_brazil.insert(loc=4, column='CURRENCY', value=['BRL']*len(consumption_brazil))\n",
    "consumption_brazil.rename(columns={'DATE':'TIME_PERIOD','NCRSAXDCBRQ':'OBS_VALUE'},inplace=True)"
   ]
  },
  {
   "cell_type": "code",
   "execution_count": 29,
   "metadata": {},
   "outputs": [],
   "source": [
    "for country in list(consumption_brazil['Zone de référence'].unique()):\n",
    "    consumption_brazil.loc[consumption_brazil['Zone de référence']==country,\"OBS_VALUE\"] = consumption_brazil[consumption_brazil['Zone de référence']==country][\"OBS_VALUE\"].pct_change()"
   ]
  },
  {
   "cell_type": "code",
   "execution_count": 30,
   "metadata": {},
   "outputs": [],
   "source": [
    "translate_dic = {}\n",
    "for country in list(consumption_brazil['Zone de référence'].unique()):\n",
    "    translate_dic[country] = translate_country_name(country)\n",
    "    \n",
    "    \n",
    "consumption_brazil['Zone de référence'] = consumption_brazil['Zone de référence'].replace(translate_dic)"
   ]
  },
  {
   "cell_type": "markdown",
   "metadata": {},
   "source": [
    "### China"
   ]
  },
  {
   "cell_type": "code",
   "execution_count": 31,
   "metadata": {},
   "outputs": [],
   "source": [
    "consumption_china = pd.read_csv(\"data_manu/Final consumption expenditure (constant LCU) - China.csv\")\n",
    "\n",
    "consumption_china.dropna(how='all', inplace=True)\n",
    "consumption_china.dropna(subset=['2022'], inplace=True)\n",
    "consumption_china.drop(columns=[\"Country Code\", \"Indicator Code\"], inplace=True)"
   ]
  },
  {
   "cell_type": "code",
   "execution_count": 32,
   "metadata": {},
   "outputs": [],
   "source": [
    "not_usefull = [\"Australia\",\"Austria\", \"Belgium\", \"Bulgaria\", \"Brazil\", \"Canada\", \"Costa Rica\", \"Switzerland\", \"Spain\", \"Finland\", \"France\", \"United Kingdom\",\n",
    "                \"Ireland\", \"Netherlands\", \"Poland\", \"Ukraine\", \"United States\", \"Italy\", \"Luxembourg\", \"Lithuania\", \"Croatia\", \"Hungary\", \n",
    "                \"Iceland\", \"Norway\", \"Portugal\", \"Romania\", \"New Zealand\", \"Albania\", \"Belarus\", \"Armenia\", \"Cyprus\", \"Germany\", \"Denmark\",\n",
    "                \"Estonia\", \"Georgia\", \"Greece\", \"Czechia\", \"Latvia\", \"Malta\", \"Moldova\", \"Montenegro\", \"Serbia\", \"Slovakia\", \"Slovenia\", \"Sweden\", \n",
    "                \"Kosovo\"]\n",
    "\n",
    "consumption_china = consumption_china[~(consumption_china[\"Country Name\"].isin(not_usefull))]"
   ]
  },
  {
   "cell_type": "code",
   "execution_count": 33,
   "metadata": {},
   "outputs": [],
   "source": [
    "consumption_china = pd.melt(consumption_china, id_vars=['Country Name', 'Indicator Name'], var_name='TIME_PERIOD', value_name='OBS_VALUE')\n",
    "\n",
    "consumption_china = consumption_china[consumption_china[\"TIME_PERIOD\"] != \"Unnamed: 67\"]\n",
    "consumption_china.sort_values(by=\"Country Name\", inplace=True)\n",
    "\n",
    "consumption_china.drop(columns=['Indicator Name'],inplace=True)\n",
    "consumption_china.insert(loc=1, column='Secteur institutionnel', value=['Ménages']*len(consumption_china))\n",
    "consumption_china.insert(loc=4, column='CURRENCY', value=['NAN']*len(consumption_china))\n",
    "consumption_china.rename(columns={'Country Name':'Zone de référence'},inplace=True)"
   ]
  },
  {
   "cell_type": "code",
   "execution_count": 34,
   "metadata": {},
   "outputs": [
    {
     "name": "stderr",
     "output_type": "stream",
     "text": [
      "C:\\Users\\manue\\AppData\\Local\\Temp\\ipykernel_15688\\2327604100.py:2: FutureWarning: The default fill_method='pad' in Series.pct_change is deprecated and will be removed in a future version. Either fill in any non-leading NA values prior to calling pct_change or specify 'fill_method=None' to not fill NA values.\n",
      "  consumption_china.loc[consumption_china['Zone de référence']==country,\"OBS_VALUE\"] = consumption_china[consumption_china['Zone de référence']==country][\"OBS_VALUE\"].pct_change()\n"
     ]
    }
   ],
   "source": [
    "for country in list(consumption_china['Zone de référence'].unique()):\n",
    "    consumption_china.loc[consumption_china['Zone de référence']==country,\"OBS_VALUE\"] = consumption_china[consumption_china['Zone de référence']==country][\"OBS_VALUE\"].pct_change()"
   ]
  },
  {
   "cell_type": "code",
   "execution_count": 35,
   "metadata": {},
   "outputs": [
    {
     "name": "stdout",
     "output_type": "stream",
     "text": [
      "Slovak Republic\n",
      "Colombia\n",
      "Japan\n",
      "Israel\n",
      "Chile\n"
     ]
    }
   ],
   "source": [
    "for i in list(consumption['Zone de référence'].unique()):\n",
    "    if i in list(consumption_china['Zone de référence'].unique()):\n",
    "        print(i)"
   ]
  },
  {
   "cell_type": "markdown",
   "metadata": {},
   "source": [
    "### Concatenating everything"
   ]
  },
  {
   "cell_type": "code",
   "execution_count": 36,
   "metadata": {},
   "outputs": [],
   "source": [
    "consumption = pd.concat([consumption, consumption_brazil, consumption_china])\n",
    "consumption.sort_values(by=[\"Zone de référence\",\"TIME_PERIOD\"], inplace=True)"
   ]
  },
  {
   "cell_type": "code",
   "execution_count": 37,
   "metadata": {},
   "outputs": [],
   "source": [
    "consumption.to_csv(\"global/dataglobal/clean_finalconsumptionexpenditure.csv\")"
   ]
  },
  {
   "cell_type": "markdown",
   "metadata": {},
   "source": [
    "# GFCF"
   ]
  },
  {
   "cell_type": "markdown",
   "metadata": {},
   "source": [
    "### Europe"
   ]
  },
  {
   "cell_type": "code",
   "execution_count": 38,
   "metadata": {},
   "outputs": [],
   "source": [
    "europe_gfcf = pd.read_csv(\"Global_original/GFCF.csv\")\n",
    "\n",
    "for column in europe_gfcf.columns:\n",
    "    if (len(europe_gfcf[column].unique()) <= 1) and (column not in [\"Secteur institutionnel\"]):\n",
    "        europe_gfcf.drop(columns=[column],inplace=True)\n",
    "\n",
    "europe_gfcf = europe_gfcf[europe_gfcf[\"FREQ\"] == \"Q\"]\n",
    "europe_gfcf = europe_gfcf[europe_gfcf[\"Ajustement\"] == \"Corrigé des variations saisonnières et des effets de calendrier\"]\n",
    "europe_gfcf = europe_gfcf[europe_gfcf[\"Type de prix\"]==\"Volumes chaînés\"]\n",
    "europe_gfcf = europe_gfcf[europe_gfcf[\"Instruments financiers et actifs non financiers\"].isin(['Actifs fixes, brut','Logements, brut'])]\n",
    "\n",
    "europe_gfcf.drop(columns=[\"Fréquence d'observation\",\"FREQ\",\"ADJUSTMENT\",\"Ajustement\",\"REF_AREA\",\"INSTR_ASSET\",\"Type de prix\",\"PRICE_BASE\",\"OBS_STATUS\",\"REF_YEAR_PRICE\",\"Statut d'observation\",\"Monnaie\",'CURRENCY'], inplace= True)"
   ]
  },
  {
   "cell_type": "code",
   "execution_count": 39,
   "metadata": {},
   "outputs": [],
   "source": [
    "#Just checking that I still have all of the years\n",
    "\n",
    "lista = sorted(list(europe_gfcf[\"TIME_PERIOD\"].unique()))\n",
    "lista_anos = []\n",
    "for i in lista:\n",
    "    try: \n",
    "        int(i)\n",
    "        lista_anos.append(i)\n",
    "\n",
    "    except:\n",
    "        pass\n",
    "\n",
    "for i in range(len(lista_anos)-1):\n",
    "    if int(lista_anos[i+1]) != int(lista_anos[i]) + 1:\n",
    "        print(lista_anos[i],lista_anos[i+1])"
   ]
  },
  {
   "cell_type": "code",
   "execution_count": 40,
   "metadata": {},
   "outputs": [],
   "source": [
    "for country in list(europe_gfcf['Zone de référence'].unique()):\n",
    "    europe_gfcf.loc[europe_gfcf['Zone de référence']==country,\"OBS_VALUE\"] = europe_gfcf[europe_gfcf['Zone de référence']==country][\"OBS_VALUE\"].pct_change(periods=4)\n",
    "\n",
    "europe_gfcf.TIME_PERIOD = europe_gfcf.TIME_PERIOD.apply(lambda x: trimester_to_date(x))"
   ]
  },
  {
   "cell_type": "code",
   "execution_count": 41,
   "metadata": {},
   "outputs": [],
   "source": [
    "translate_dic = {}\n",
    "for country in list(europe_gfcf['Zone de référence'].unique()):\n",
    "    translate_dic[country] = translate_country_name(country)\n",
    "    \n",
    "    \n",
    "europe_gfcf['Zone de référence'] = europe_gfcf['Zone de référence'].replace(translate_dic)"
   ]
  },
  {
   "cell_type": "markdown",
   "metadata": {},
   "source": [
    "### Out of Europe"
   ]
  },
  {
   "cell_type": "markdown",
   "metadata": {},
   "source": [
    "Brazil"
   ]
  },
  {
   "cell_type": "code",
   "execution_count": 53,
   "metadata": {},
   "outputs": [],
   "source": [
    "br_gfcf =pd.read_csv('data_manu/gfcf_brazil.csv')\n",
    "br_gfcf[\"NFIRSAXDCBRQ\"] = br_gfcf[\"NFIRSAXDCBRQ\"].pct_change(periods=4)\n",
    "br_gfcf = br_gfcf[br_gfcf[\"DATE\"] >= \"1997-01-01\"]\n",
    "br_gfcf.rename(columns={'DATE': 'TIME_PERIOD','BRAGFCFQDSMEI': 'OBS_VALUE'}, inplace=True)\n",
    "br_gfcf['Country Name'] = \"Brazil\""
   ]
  },
  {
   "cell_type": "markdown",
   "metadata": {},
   "source": [
    "South Africa"
   ]
  },
  {
   "cell_type": "code",
   "execution_count": 54,
   "metadata": {},
   "outputs": [],
   "source": [
    "sa_gfcf =pd.read_csv('data_manu/gfcf_south_africa.csv')\n",
    "sa_gfcf[\"NFIRSAXDCZAQ\"] = sa_gfcf[\"NFIRSAXDCZAQ\"].pct_change(periods=4)\n",
    "sa_gfcf = sa_gfcf[sa_gfcf[\"DATE\"] >= \"1994-01-01\"]\n",
    "sa_gfcf.rename(columns={'DATE': 'TIME_PERIOD','NFIRSAXDCZAQ': 'OBS_VALUE'}, inplace=True)\n",
    "sa_gfcf['Country Name'] = \"South Africa\""
   ]
  },
  {
   "cell_type": "markdown",
   "metadata": {},
   "source": [
    "Indonesia"
   ]
  },
  {
   "cell_type": "code",
   "execution_count": 55,
   "metadata": {},
   "outputs": [],
   "source": [
    "ids_gfcf =pd.read_csv('data_manu/gfcf_indonesia.csv')\n",
    "ids_gfcf[\"NFIRSAXDCIDQ\"] = ids_gfcf[\"NFIRSAXDCIDQ\"].pct_change(periods=4)\n",
    "ids_gfcf = ids_gfcf[ids_gfcf[\"DATE\"] >= \"2001-01-01\"]\n",
    "ids_gfcf.rename(columns={'DATE': 'TIME_PERIOD','NFIRSAXDCIDQ': 'OBS_VALUE'}, inplace=True)\n",
    "ids_gfcf['Country Name'] = \"Indonesia\""
   ]
  },
  {
   "cell_type": "markdown",
   "metadata": {},
   "source": [
    "India"
   ]
  },
  {
   "cell_type": "code",
   "execution_count": 56,
   "metadata": {},
   "outputs": [],
   "source": [
    "india_gfcf =pd.read_csv('data_manu/gfcf_india.csv')\n",
    "india_gfcf = india_gfcf[india_gfcf[\"DATE\"] >= \"2005-01-01\"]\n",
    "\n",
    "india_gfcf[\"NFIRNSAXDCINQ\"] = india_gfcf[\"NFIRNSAXDCINQ\"].pct_change(periods=4)\n",
    "india_gfcf.rename(columns={'DATE': 'TIME_PERIOD', 'NFIRNSAXDCINQ': 'OBS_VALUE'}, inplace=True)\n",
    "\n",
    "india_gfcf = india_gfcf[india_gfcf[\"TIME_PERIOD\"] >= \"2006-01-01\"]\n",
    "india_gfcf['Country Name'] = \"India\""
   ]
  },
  {
   "cell_type": "markdown",
   "metadata": {},
   "source": [
    "other african countries GFCF"
   ]
  },
  {
   "cell_type": "code",
   "execution_count": 58,
   "metadata": {},
   "outputs": [],
   "source": [
    "other_gfcf = pd.read_csv('data_manu/gfcf_costa_rica.csv')\n",
    "\n",
    "other_gfcf.dropna(how='all', inplace=True)\n",
    "other_gfcf.dropna(subset=['2022'], inplace=True)\n",
    "other_gfcf.drop(columns=[\"Country Code\", \"Indicator Code\"], inplace=True)"
   ]
  },
  {
   "cell_type": "code",
   "execution_count": 59,
   "metadata": {},
   "outputs": [],
   "source": [
    "not_usefull = [\"Australia\",\"Austria\", \"Belgium\", \"Bulgaria\", \"Brazil\", \"Canada\", \"Switzerland\", \"Spain\", \"Finland\", \"France\", \"United Kingdom\",\n",
    "                \"Ireland\", \"Netherlands\", \"Poland\", \"Ukraine\", \"United States\", \"Italy\", \"Luxembourg\", \"Lithuania\", \"Croatia\", \"Hungary\", \n",
    "                \"Iceland\", \"Norway\", \"Portugal\", \"Romania\", \"New Zealand\", \"Albania\", \"Belarus\", \"Armenia\", \"Cyprus\", \"Germany\", \"Denmark\",\n",
    "                \"Estonia\", \"Georgia\", \"Greece\", \"Czechia\", \"Latvia\", \"Malta\", \"Moldova\", \"Montenegro\", \"Serbia\", \"Slovakia\", \"Slovenia\", \"Sweden\", \n",
    "                \"Kosovo\"]\n",
    "\n",
    "other_gfcf = other_gfcf[~(other_gfcf[\"Country Name\"].isin(not_usefull))]"
   ]
  },
  {
   "cell_type": "code",
   "execution_count": 60,
   "metadata": {},
   "outputs": [],
   "source": [
    "other_gfcf = pd.melt(other_gfcf, id_vars=['Country Name', 'Indicator Name'], var_name='TIME_PERIOD', value_name='OBS_VALUE')\n",
    "\n",
    "other_gfcf = other_gfcf[other_gfcf[\"TIME_PERIOD\"] != \"Unnamed: 67\"]\n",
    "other_gfcf.sort_values(by=\"Country Name\", inplace=True)"
   ]
  },
  {
   "cell_type": "code",
   "execution_count": 61,
   "metadata": {},
   "outputs": [
    {
     "name": "stderr",
     "output_type": "stream",
     "text": [
      "C:\\Users\\manue\\AppData\\Local\\Temp\\ipykernel_15688\\517485930.py:2: FutureWarning: The default fill_method='pad' in Series.pct_change is deprecated and will be removed in a future version. Either fill in any non-leading NA values prior to calling pct_change or specify 'fill_method=None' to not fill NA values.\n",
      "  other_gfcf.loc[other_gfcf['Country Name']==country,\"OBS_VALUE\"] = other_gfcf[other_gfcf['Country Name']==country][\"OBS_VALUE\"].pct_change(periods=4)\n"
     ]
    }
   ],
   "source": [
    "for country in list(other_gfcf['Country Name'].unique()):\n",
    "    other_gfcf.loc[other_gfcf['Country Name']==country,\"OBS_VALUE\"] = other_gfcf[other_gfcf['Country Name']==country][\"OBS_VALUE\"].pct_change(periods=4)"
   ]
  },
  {
   "cell_type": "markdown",
   "metadata": {},
   "source": [
    "### Concatenating everything"
   ]
  },
  {
   "cell_type": "code",
   "execution_count": 62,
   "metadata": {},
   "outputs": [],
   "source": [
    "other_gfcf = pd.concat([other_gfcf, india_gfcf, br_gfcf, sa_gfcf, ids_gfcf])\n",
    "other_gfcf.sort_values(by=\"Country Name\", inplace=True)"
   ]
  },
  {
   "cell_type": "code",
   "execution_count": 63,
   "metadata": {},
   "outputs": [],
   "source": [
    "other_gfcf.drop(columns=['Indicator Name'],inplace=True)\n",
    "other_gfcf.rename(columns={'Country Name':'Zone de référence'},inplace=True)\n",
    "other_gfcf.insert(loc=1, column='Secteur institutionnel', value=['Economie totale']*len(other_gfcf))\n",
    "other_gfcf.insert(loc=2, column='Instruments financiers et actifs non financiers', value=['Actifs fixes, brut']*len(other_gfcf))"
   ]
  },
  {
   "cell_type": "code",
   "execution_count": 64,
   "metadata": {},
   "outputs": [],
   "source": [
    "gfcf = pd.concat([other_gfcf, europe_gfcf])\n",
    "gfcf.sort_values(by=[\"Zone de référence\",\"TIME_PERIOD\"], inplace=True)"
   ]
  },
  {
   "cell_type": "code",
   "execution_count": 65,
   "metadata": {},
   "outputs": [],
   "source": [
    "gfcf.to_csv(\"global/dataglobal/clean_gfcf.csv\")"
   ]
  },
  {
   "cell_type": "markdown",
   "metadata": {},
   "source": [
    "# GDP"
   ]
  },
  {
   "cell_type": "code",
   "execution_count": 47,
   "metadata": {},
   "outputs": [],
   "source": [
    "real_gdp =pd.read_csv('Global_original/realgdpoecd.csv')\n",
    "\n",
    "for column in real_gdp.columns:\n",
    "    if (len(real_gdp[column].unique()) <= 1) and (column != \"Unité de mesure\"):\n",
    "        real_gdp.drop(columns=[column],inplace=True)\n",
    "\n",
    "#leave only the trimesters values\n",
    "real_gdp = real_gdp[real_gdp[\"FREQ\"] == \"Q\"]\n",
    "real_gdp.TIME_PERIOD = real_gdp.TIME_PERIOD.apply(lambda x: trimester_to_date(x))\n",
    "real_gdp = real_gdp[real_gdp[\"Secteur institutionnel\"] == \"Economie totale\"]\n",
    "real_gdp = real_gdp[real_gdp[\"Transaction\"] == \"Produit intérieur brut\"]\n",
    "real_gdp = real_gdp[real_gdp[\"Transformation\"] == \"Taux de croissance, sur 1 an\"]\n",
    "\n",
    "#dropping unimportant columns\n",
    "real_gdp.drop(columns=[\"FREQ\", \"Fréquence d'observation\", \"TRANSACTION\", \"SECTOR\", \"REF_YEAR_PRICE\",\n",
    "                        \"ACTIVITY\", \"EXPENDITURE\", \"TRANSFORMATION\",\"REF_AREA\", \"OBS_STATUS\",\"Statut d'observation\",\"Dépense\"], inplace=True)\n",
    "\n",
    "real_gdp.to_csv(\"global/dataglobal/clean_realgdp.csv\")\n"
   ]
  },
  {
   "cell_type": "code",
   "execution_count": 48,
   "metadata": {},
   "outputs": [],
   "source": [
    "real_gdp20 =pd.read_csv('Global_original/realgdpg20.csv')\n",
    "\n",
    "for column in real_gdp20.columns:\n",
    "    if (len(real_gdp20[column].unique()) <= 1) and (column != \"Unité de mesure\"):\n",
    "        real_gdp20.drop(columns=[column],inplace=True)\n",
    "\n",
    "#leave only the trimesters values\n",
    "real_gdp20 = real_gdp20[real_gdp20[\"FREQ\"] == \"Q\"]\n",
    "real_gdp20.TIME_PERIOD = real_gdp20.TIME_PERIOD.apply(lambda x: trimester_to_date(x))\n",
    "\n",
    "real_gdp20 = real_gdp20[real_gdp20[\"Secteur institutionnel\"] == \"Economie totale\"]\n",
    "real_gdp20 = real_gdp20[real_gdp20[\"Transaction\"] == \"Produit intérieur brut\"]\n",
    "real_gdp20 = real_gdp20[real_gdp20[\"Transformation\"] == \"Taux de croissance, sur 1 an\"]\n",
    "        \n",
    "real_gdp20.drop(columns=[\"FREQ\", \"REF_AREA\", \"OBS_STATUS\", \"Statut d'observation\", \"Dépense\", \"Fréquence d'observation\", \"TRANSACTION\", \"SECTOR\", \"REF_YEAR_PRICE\",\n",
    "                        \"ACTIVITY\", \"EXPENDITURE\", \"TRANSFORMATION\"], inplace=True)\n",
    "\n",
    "real_gdp20.to_csv(\"global/dataglobal/clean_realgdpg20.csv\")"
   ]
  },
  {
   "cell_type": "code",
   "execution_count": 74,
   "metadata": {},
   "outputs": [],
   "source": [
    "egp_gdp =pd.read_csv('data_manu/gdp_egypt.csv')\n",
    "\n",
    "egp_gdp.drop(columns=[\"Source\"], inplace= True)\n",
    "\n",
    "egp_gdp.to_csv(\"global/dataglobal/clean_gdp_gdp.csv\")"
   ]
  },
  {
   "cell_type": "code",
   "execution_count": 82,
   "metadata": {},
   "outputs": [
    {
     "name": "stderr",
     "output_type": "stream",
     "text": [
      "C:\\Users\\manue\\AppData\\Local\\Temp\\ipykernel_15688\\1566800817.py:7: SettingWithCopyWarning: \n",
      "A value is trying to be set on a copy of a slice from a DataFrame.\n",
      "Try using .loc[row_indexer,col_indexer] = value instead\n",
      "\n",
      "See the caveats in the documentation: https://pandas.pydata.org/pandas-docs/stable/user_guide/indexing.html#returning-a-view-versus-a-copy\n",
      "  nig_annual[\"GDP at 2010 Constant Basic Prices\"] = nig_annual[\"GDP at 2010 Constant Basic Prices\"].pct_change()\n",
      "C:\\Users\\manue\\AppData\\Local\\Temp\\ipykernel_15688\\1566800817.py:10: SettingWithCopyWarning: \n",
      "A value is trying to be set on a copy of a slice from a DataFrame.\n",
      "Try using .loc[row_indexer,col_indexer] = value instead\n",
      "\n",
      "See the caveats in the documentation: https://pandas.pydata.org/pandas-docs/stable/user_guide/indexing.html#returning-a-view-versus-a-copy\n",
      "  nig_quart[\"GDP at 2010 Constant Basic Prices\"] = nig_quart[\"GDP at 2010 Constant Basic Prices\"].pct_change(periods=4)\n"
     ]
    }
   ],
   "source": [
    "nig_gdp =pd.read_csv('data_manu/gdp_nigeria.csv', index_col=False)\n",
    "\n",
    "nig_gdp = nig_gdp[[\"year\", \"Period\", \"GDP at 2010 Constant Basic Prices\", \"GDP at 2010 Constant Market Prices\" ]]\n",
    "nig_annual = nig_gdp[(nig_gdp[\"Period\"] == \"Annual\") & (nig_gdp[\"year\"] <= 2010)]\n",
    "nig_quart = nig_gdp[(nig_gdp[\"Period\"] != \"Annual\") & (nig_gdp[\"year\"] >= 2010)]\n",
    "\n",
    "nig_annual[\"GDP at 2010 Constant Basic Prices\"] = nig_annual[\"GDP at 2010 Constant Basic Prices\"].pct_change()\n",
    "nig_annual = nig_annual[nig_annual[\"year\"] != 1981]\n",
    "\n",
    "nig_quart[\"GDP at 2010 Constant Basic Prices\"] = nig_quart[\"GDP at 2010 Constant Basic Prices\"].pct_change(periods=4)\n",
    "nig_quart = nig_quart[nig_quart[\"year\"] != 2010]\n",
    "\n",
    "nig_gdp = pd.concat([nig_annual, nig_quart])\n",
    "nig_gdp.drop(columns=[\"GDP at 2010 Constant Market Prices\"], inplace=True)\n",
    "\n",
    "nig_gdp.to_csv(\"global/dataglobal/clean_nig_gdp.csv\")"
   ]
  },
  {
   "cell_type": "markdown",
   "metadata": {},
   "source": [
    "Second part"
   ]
  },
  {
   "cell_type": "code",
   "execution_count": 84,
   "metadata": {},
   "outputs": [],
   "source": [
    "egypt=pd.read_csv('global\\dataglobal\\clean_gdp_gdp.csv',index_col='Unnamed: 0')\n",
    "nigeria=pd.read_csv('global\\dataglobal\\clean_nig_gdp.csv',index_col='Unnamed: 0')\n",
    "gdp=pd.read_csv('global/dataglobal/clean_realgdp.csv',index_col='Unnamed: 0')\n",
    "gdp20=pd.read_csv('global/dataglobal/clean_realgdpg20.csv',index_col='Unnamed: 0')"
   ]
  },
  {
   "cell_type": "code",
   "execution_count": 85,
   "metadata": {},
   "outputs": [],
   "source": [
    "gdp20countries=[i for i in gdp20['Zone de référence'].unique() if i not in gdp['Zone de référence'].unique()]\n",
    "\n",
    "gdp20=gdp20[gdp20['Zone de référence'].isin(gdp20countries)]\n",
    "\n",
    "gdp=pd.concat([gdp,gdp20])"
   ]
  },
  {
   "cell_type": "code",
   "execution_count": 86,
   "metadata": {},
   "outputs": [],
   "source": [
    "egypt['Fiscal Year']=egypt['Fiscal Year'].apply(lambda x: x[:4])\n",
    "egypt['TIME_PERIOD']=egypt['Fiscal Year']+'-'+egypt['Quarter']\n",
    "egypt['TIME_PERIOD']=egypt['TIME_PERIOD'].apply(lambda x: trimester_to_date(x))\n",
    "egypt=egypt.drop(['Indicator','Unit','Quarter','Fiscal Year'],axis=1)\n",
    "egypt[['Zone de référence','Secteur institutionnel','Transaction','Activité économique','Unité de mesure','Transformation']]='Egypte','Economie totale','Produit intérieur brut','Non applicable','Changement en pourcentage','Taux de croissance, sur 1 an'\n",
    "egypt=egypt.rename(columns={'Real Growth Rate':'OBS_VALUE'})\n",
    "\n",
    "gdp=pd.concat([gdp,egypt])"
   ]
  },
  {
   "cell_type": "code",
   "execution_count": 87,
   "metadata": {},
   "outputs": [],
   "source": [
    "nigeria['Period']=nigeria['Period'].replace({'Annual':'Q1'})\n",
    "nigeria['TIME_PERIOD']=nigeria['year'].astype(str)+'-'+nigeria['Period']\n",
    "nigeria[['Zone de référence','Secteur institutionnel','Transaction','Activité économique','Unité de mesure','Transformation']]='Nigeria','Economie totale','Produit intérieur brut','Non applicable','Changement en pourcentage','Taux de croissance, sur 1 an'\n",
    "nigeria=nigeria.drop(['year','Period'],axis=1)\n",
    "nigeria=nigeria.rename(columns={'GDP at 2010 Constant Basic Prices':'OBS_VALUE'})\n",
    "nigeria['OBS_VALUE']=nigeria['OBS_VALUE']*100\n",
    "nigeria['TIME_PERIOD']=nigeria['TIME_PERIOD'].apply(lambda x: trimester_to_date(x))\n",
    "\n",
    "gdp=pd.concat([gdp,nigeria])"
   ]
  },
  {
   "cell_type": "code",
   "execution_count": 88,
   "metadata": {},
   "outputs": [],
   "source": [
    "translate_dic = {}\n",
    "for country in list(gdp['Zone de référence'].unique()):\n",
    "    translate_dic[country] = translate_country_name(country)\n",
    "    \n",
    "    \n",
    "gdp['Zone de référence'] = gdp['Zone de référence'].replace(translate_dic)"
   ]
  },
  {
   "cell_type": "code",
   "execution_count": null,
   "metadata": {},
   "outputs": [],
   "source": [
    "gdp.to_csv('global\\dataglobal\\clean_gdp_recap.csv')"
   ]
  }
 ],
 "metadata": {
  "kernelspec": {
   "display_name": "MachineLearning",
   "language": "python",
   "name": "python3"
  },
  "language_info": {
   "codemirror_mode": {
    "name": "ipython",
    "version": 3
   },
   "file_extension": ".py",
   "mimetype": "text/x-python",
   "name": "python",
   "nbconvert_exporter": "python",
   "pygments_lexer": "ipython3",
   "version": "3.10.0"
  }
 },
 "nbformat": 4,
 "nbformat_minor": 2
}
