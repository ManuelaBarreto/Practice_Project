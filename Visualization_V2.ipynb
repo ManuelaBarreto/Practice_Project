{
 "cells": [
  {
   "cell_type": "markdown",
   "metadata": {},
   "source": [
    "## Imports"
   ]
  },
  {
   "cell_type": "code",
   "execution_count": 145,
   "metadata": {},
   "outputs": [
    {
     "name": "stdout",
     "output_type": "stream",
     "text": [
      "Requirement already satisfied: dash in c:\\users\\manue\\anaconda3\\envs\\machinelearning\\lib\\site-packages (2.15.0)\n",
      "Requirement already satisfied: Flask<3.1,>=1.0.4 in c:\\users\\manue\\anaconda3\\envs\\machinelearning\\lib\\site-packages (from dash) (3.0.2)\n",
      "Requirement already satisfied: Werkzeug<3.1 in c:\\users\\manue\\anaconda3\\envs\\machinelearning\\lib\\site-packages (from dash) (3.0.1)\n",
      "Requirement already satisfied: plotly>=5.0.0 in c:\\users\\manue\\anaconda3\\envs\\machinelearning\\lib\\site-packages (from dash) (5.18.0)\n",
      "Requirement already satisfied: dash-html-components==2.0.0 in c:\\users\\manue\\anaconda3\\envs\\machinelearning\\lib\\site-packages (from dash) (2.0.0)\n",
      "Requirement already satisfied: dash-core-components==2.0.0 in c:\\users\\manue\\anaconda3\\envs\\machinelearning\\lib\\site-packages (from dash) (2.0.0)\n",
      "Requirement already satisfied: dash-table==5.0.0 in c:\\users\\manue\\anaconda3\\envs\\machinelearning\\lib\\site-packages (from dash) (5.0.0)\n",
      "Requirement already satisfied: typing-extensions>=4.1.1 in c:\\users\\manue\\anaconda3\\envs\\machinelearning\\lib\\site-packages (from dash) (4.9.0)\n",
      "Requirement already satisfied: requests in c:\\users\\manue\\anaconda3\\envs\\machinelearning\\lib\\site-packages (from dash) (2.31.0)\n",
      "Requirement already satisfied: retrying in c:\\users\\manue\\anaconda3\\envs\\machinelearning\\lib\\site-packages (from dash) (1.3.4)\n",
      "Requirement already satisfied: nest-asyncio in c:\\users\\manue\\appdata\\roaming\\python\\python310\\site-packages (from dash) (1.5.9)\n",
      "Requirement already satisfied: setuptools in c:\\users\\manue\\anaconda3\\envs\\machinelearning\\lib\\site-packages (from dash) (68.2.2)\n",
      "Requirement already satisfied: importlib-metadata in c:\\users\\manue\\anaconda3\\envs\\machinelearning\\lib\\site-packages (from dash) (7.0.1)\n",
      "Requirement already satisfied: Jinja2>=3.1.2 in c:\\users\\manue\\anaconda3\\envs\\machinelearning\\lib\\site-packages (from Flask<3.1,>=1.0.4->dash) (3.1.3)\n",
      "Requirement already satisfied: itsdangerous>=2.1.2 in c:\\users\\manue\\anaconda3\\envs\\machinelearning\\lib\\site-packages (from Flask<3.1,>=1.0.4->dash) (2.1.2)\n",
      "Requirement already satisfied: click>=8.1.3 in c:\\users\\manue\\anaconda3\\envs\\machinelearning\\lib\\site-packages (from Flask<3.1,>=1.0.4->dash) (8.1.7)\n",
      "Requirement already satisfied: blinker>=1.6.2 in c:\\users\\manue\\anaconda3\\envs\\machinelearning\\lib\\site-packages (from Flask<3.1,>=1.0.4->dash) (1.7.0)\n",
      "Requirement already satisfied: tenacity>=6.2.0 in c:\\users\\manue\\anaconda3\\envs\\machinelearning\\lib\\site-packages (from plotly>=5.0.0->dash) (8.2.3)\n",
      "Requirement already satisfied: packaging in c:\\users\\manue\\appdata\\roaming\\python\\python310\\site-packages (from plotly>=5.0.0->dash) (23.2)\n",
      "Requirement already satisfied: MarkupSafe>=2.1.1 in c:\\users\\manue\\anaconda3\\envs\\machinelearning\\lib\\site-packages (from Werkzeug<3.1->dash) (2.1.5)\n",
      "Requirement already satisfied: zipp>=0.5 in c:\\users\\manue\\anaconda3\\envs\\machinelearning\\lib\\site-packages (from importlib-metadata->dash) (3.17.0)\n",
      "Requirement already satisfied: charset-normalizer<4,>=2 in c:\\users\\manue\\anaconda3\\envs\\machinelearning\\lib\\site-packages (from requests->dash) (3.3.2)\n",
      "Requirement already satisfied: idna<4,>=2.5 in c:\\users\\manue\\anaconda3\\envs\\machinelearning\\lib\\site-packages (from requests->dash) (2.10)\n",
      "Requirement already satisfied: urllib3<3,>=1.21.1 in c:\\users\\manue\\anaconda3\\envs\\machinelearning\\lib\\site-packages (from requests->dash) (2.2.0)\n",
      "Requirement already satisfied: certifi>=2017.4.17 in c:\\users\\manue\\anaconda3\\envs\\machinelearning\\lib\\site-packages (from requests->dash) (2024.2.2)\n",
      "Requirement already satisfied: six>=1.7.0 in c:\\users\\manue\\anaconda3\\envs\\machinelearning\\lib\\site-packages (from retrying->dash) (1.16.0)\n",
      "Requirement already satisfied: colorama in c:\\users\\manue\\appdata\\roaming\\python\\python310\\site-packages (from click>=8.1.3->Flask<3.1,>=1.0.4->dash) (0.4.6)\n"
     ]
    }
   ],
   "source": [
    "!pip install dash"
   ]
  },
  {
   "cell_type": "code",
   "execution_count": 146,
   "metadata": {},
   "outputs": [
    {
     "name": "stdout",
     "output_type": "stream",
     "text": [
      "Requirement already satisfied: jupyter-dash in c:\\users\\manue\\anaconda3\\envs\\machinelearning\\lib\\site-packages (0.4.2)\n",
      "Requirement already satisfied: dash in c:\\users\\manue\\anaconda3\\envs\\machinelearning\\lib\\site-packages (from jupyter-dash) (2.15.0)\n",
      "Requirement already satisfied: requests in c:\\users\\manue\\anaconda3\\envs\\machinelearning\\lib\\site-packages (from jupyter-dash) (2.31.0)\n",
      "Requirement already satisfied: flask in c:\\users\\manue\\anaconda3\\envs\\machinelearning\\lib\\site-packages (from jupyter-dash) (3.0.2)\n",
      "Requirement already satisfied: retrying in c:\\users\\manue\\anaconda3\\envs\\machinelearning\\lib\\site-packages (from jupyter-dash) (1.3.4)\n",
      "Requirement already satisfied: ipython in c:\\users\\manue\\appdata\\roaming\\python\\python310\\site-packages (from jupyter-dash) (8.20.0)\n",
      "Requirement already satisfied: ipykernel in c:\\users\\manue\\appdata\\roaming\\python\\python310\\site-packages (from jupyter-dash) (6.29.0)\n",
      "Requirement already satisfied: ansi2html in c:\\users\\manue\\anaconda3\\envs\\machinelearning\\lib\\site-packages (from jupyter-dash) (1.9.1)\n",
      "Requirement already satisfied: nest-asyncio in c:\\users\\manue\\appdata\\roaming\\python\\python310\\site-packages (from jupyter-dash) (1.5.9)\n",
      "Requirement already satisfied: Werkzeug<3.1 in c:\\users\\manue\\anaconda3\\envs\\machinelearning\\lib\\site-packages (from dash->jupyter-dash) (3.0.1)\n",
      "Requirement already satisfied: plotly>=5.0.0 in c:\\users\\manue\\anaconda3\\envs\\machinelearning\\lib\\site-packages (from dash->jupyter-dash) (5.18.0)\n",
      "Requirement already satisfied: dash-html-components==2.0.0 in c:\\users\\manue\\anaconda3\\envs\\machinelearning\\lib\\site-packages (from dash->jupyter-dash) (2.0.0)\n",
      "Requirement already satisfied: dash-core-components==2.0.0 in c:\\users\\manue\\anaconda3\\envs\\machinelearning\\lib\\site-packages (from dash->jupyter-dash) (2.0.0)\n",
      "Requirement already satisfied: dash-table==5.0.0 in c:\\users\\manue\\anaconda3\\envs\\machinelearning\\lib\\site-packages (from dash->jupyter-dash) (5.0.0)\n",
      "Requirement already satisfied: typing-extensions>=4.1.1 in c:\\users\\manue\\anaconda3\\envs\\machinelearning\\lib\\site-packages (from dash->jupyter-dash) (4.9.0)\n",
      "Requirement already satisfied: setuptools in c:\\users\\manue\\anaconda3\\envs\\machinelearning\\lib\\site-packages (from dash->jupyter-dash) (68.2.2)\n",
      "Requirement already satisfied: importlib-metadata in c:\\users\\manue\\anaconda3\\envs\\machinelearning\\lib\\site-packages (from dash->jupyter-dash) (7.0.1)\n",
      "Requirement already satisfied: Jinja2>=3.1.2 in c:\\users\\manue\\anaconda3\\envs\\machinelearning\\lib\\site-packages (from flask->jupyter-dash) (3.1.3)\n",
      "Requirement already satisfied: itsdangerous>=2.1.2 in c:\\users\\manue\\anaconda3\\envs\\machinelearning\\lib\\site-packages (from flask->jupyter-dash) (2.1.2)\n",
      "Requirement already satisfied: click>=8.1.3 in c:\\users\\manue\\anaconda3\\envs\\machinelearning\\lib\\site-packages (from flask->jupyter-dash) (8.1.7)\n",
      "Requirement already satisfied: blinker>=1.6.2 in c:\\users\\manue\\anaconda3\\envs\\machinelearning\\lib\\site-packages (from flask->jupyter-dash) (1.7.0)\n",
      "Requirement already satisfied: comm>=0.1.1 in c:\\users\\manue\\appdata\\roaming\\python\\python310\\site-packages (from ipykernel->jupyter-dash) (0.2.1)\n",
      "Requirement already satisfied: debugpy>=1.6.5 in c:\\users\\manue\\appdata\\roaming\\python\\python310\\site-packages (from ipykernel->jupyter-dash) (1.8.0)\n",
      "Requirement already satisfied: jupyter-client>=6.1.12 in c:\\users\\manue\\appdata\\roaming\\python\\python310\\site-packages (from ipykernel->jupyter-dash) (8.6.0)\n",
      "Requirement already satisfied: jupyter-core!=5.0.*,>=4.12 in c:\\users\\manue\\appdata\\roaming\\python\\python310\\site-packages (from ipykernel->jupyter-dash) (5.7.1)\n",
      "Requirement already satisfied: matplotlib-inline>=0.1 in c:\\users\\manue\\appdata\\roaming\\python\\python310\\site-packages (from ipykernel->jupyter-dash) (0.1.6)\n",
      "Requirement already satisfied: packaging in c:\\users\\manue\\appdata\\roaming\\python\\python310\\site-packages (from ipykernel->jupyter-dash) (23.2)\n",
      "Requirement already satisfied: psutil in c:\\users\\manue\\appdata\\roaming\\python\\python310\\site-packages (from ipykernel->jupyter-dash) (5.9.7)\n",
      "Requirement already satisfied: pyzmq>=24 in c:\\users\\manue\\appdata\\roaming\\python\\python310\\site-packages (from ipykernel->jupyter-dash) (25.1.2)\n",
      "Requirement already satisfied: tornado>=6.1 in c:\\users\\manue\\appdata\\roaming\\python\\python310\\site-packages (from ipykernel->jupyter-dash) (6.4)\n",
      "Requirement already satisfied: traitlets>=5.4.0 in c:\\users\\manue\\appdata\\roaming\\python\\python310\\site-packages (from ipykernel->jupyter-dash) (5.14.1)\n",
      "Requirement already satisfied: decorator in c:\\users\\manue\\appdata\\roaming\\python\\python310\\site-packages (from ipython->jupyter-dash) (5.1.1)\n",
      "Requirement already satisfied: jedi>=0.16 in c:\\users\\manue\\appdata\\roaming\\python\\python310\\site-packages (from ipython->jupyter-dash) (0.19.1)\n",
      "Requirement already satisfied: prompt-toolkit<3.1.0,>=3.0.41 in c:\\users\\manue\\appdata\\roaming\\python\\python310\\site-packages (from ipython->jupyter-dash) (3.0.43)\n",
      "Requirement already satisfied: pygments>=2.4.0 in c:\\users\\manue\\appdata\\roaming\\python\\python310\\site-packages (from ipython->jupyter-dash) (2.17.2)\n",
      "Requirement already satisfied: stack-data in c:\\users\\manue\\appdata\\roaming\\python\\python310\\site-packages (from ipython->jupyter-dash) (0.6.3)\n",
      "Requirement already satisfied: exceptiongroup in c:\\users\\manue\\appdata\\roaming\\python\\python310\\site-packages (from ipython->jupyter-dash) (1.2.0)\n",
      "Requirement already satisfied: colorama in c:\\users\\manue\\appdata\\roaming\\python\\python310\\site-packages (from ipython->jupyter-dash) (0.4.6)\n",
      "Requirement already satisfied: charset-normalizer<4,>=2 in c:\\users\\manue\\anaconda3\\envs\\machinelearning\\lib\\site-packages (from requests->jupyter-dash) (3.3.2)\n",
      "Requirement already satisfied: idna<4,>=2.5 in c:\\users\\manue\\anaconda3\\envs\\machinelearning\\lib\\site-packages (from requests->jupyter-dash) (2.10)\n",
      "Requirement already satisfied: urllib3<3,>=1.21.1 in c:\\users\\manue\\anaconda3\\envs\\machinelearning\\lib\\site-packages (from requests->jupyter-dash) (2.2.0)\n",
      "Requirement already satisfied: certifi>=2017.4.17 in c:\\users\\manue\\anaconda3\\envs\\machinelearning\\lib\\site-packages (from requests->jupyter-dash) (2024.2.2)\n",
      "Requirement already satisfied: six>=1.7.0 in c:\\users\\manue\\anaconda3\\envs\\machinelearning\\lib\\site-packages (from retrying->jupyter-dash) (1.16.0)\n",
      "Requirement already satisfied: parso<0.9.0,>=0.8.3 in c:\\users\\manue\\appdata\\roaming\\python\\python310\\site-packages (from jedi>=0.16->ipython->jupyter-dash) (0.8.3)\n",
      "Requirement already satisfied: MarkupSafe>=2.0 in c:\\users\\manue\\anaconda3\\envs\\machinelearning\\lib\\site-packages (from Jinja2>=3.1.2->flask->jupyter-dash) (2.1.5)\n",
      "Requirement already satisfied: python-dateutil>=2.8.2 in c:\\users\\manue\\anaconda3\\envs\\machinelearning\\lib\\site-packages (from jupyter-client>=6.1.12->ipykernel->jupyter-dash) (2.8.2)\n",
      "Requirement already satisfied: platformdirs>=2.5 in c:\\users\\manue\\appdata\\roaming\\python\\python310\\site-packages (from jupyter-core!=5.0.*,>=4.12->ipykernel->jupyter-dash) (4.1.0)\n",
      "Requirement already satisfied: pywin32>=300 in c:\\users\\manue\\appdata\\roaming\\python\\python310\\site-packages (from jupyter-core!=5.0.*,>=4.12->ipykernel->jupyter-dash) (306)\n",
      "Requirement already satisfied: tenacity>=6.2.0 in c:\\users\\manue\\anaconda3\\envs\\machinelearning\\lib\\site-packages (from plotly>=5.0.0->dash->jupyter-dash) (8.2.3)\n",
      "Requirement already satisfied: wcwidth in c:\\users\\manue\\appdata\\roaming\\python\\python310\\site-packages (from prompt-toolkit<3.1.0,>=3.0.41->ipython->jupyter-dash) (0.2.13)\n",
      "Requirement already satisfied: zipp>=0.5 in c:\\users\\manue\\anaconda3\\envs\\machinelearning\\lib\\site-packages (from importlib-metadata->dash->jupyter-dash) (3.17.0)\n",
      "Requirement already satisfied: executing>=1.2.0 in c:\\users\\manue\\appdata\\roaming\\python\\python310\\site-packages (from stack-data->ipython->jupyter-dash) (2.0.1)\n",
      "Requirement already satisfied: asttokens>=2.1.0 in c:\\users\\manue\\appdata\\roaming\\python\\python310\\site-packages (from stack-data->ipython->jupyter-dash) (2.4.1)\n",
      "Requirement already satisfied: pure-eval in c:\\users\\manue\\appdata\\roaming\\python\\python310\\site-packages (from stack-data->ipython->jupyter-dash) (0.2.2)\n"
     ]
    }
   ],
   "source": [
    "!pip install jupyter-dash"
   ]
  },
  {
   "cell_type": "code",
   "execution_count": 147,
   "metadata": {},
   "outputs": [
    {
     "name": "stdout",
     "output_type": "stream",
     "text": [
      "Requirement already satisfied: dash_mantine_components in c:\\users\\manue\\anaconda3\\envs\\machinelearning\\lib\\site-packages (0.12.1)\n"
     ]
    }
   ],
   "source": [
    "!pip install dash_mantine_components"
   ]
  },
  {
   "cell_type": "code",
   "execution_count": 148,
   "metadata": {},
   "outputs": [
    {
     "name": "stdout",
     "output_type": "stream",
     "text": [
      "Requirement already satisfied: mtranslate==1.8 in c:\\users\\manue\\anaconda3\\envs\\machinelearning\\lib\\site-packages (1.8)\n"
     ]
    }
   ],
   "source": [
    "!pip install mtranslate==1.8"
   ]
  },
  {
   "cell_type": "code",
   "execution_count": 149,
   "metadata": {},
   "outputs": [],
   "source": [
    "import pandas as pd\n",
    "import numpy as np\n",
    "import seaborn as sns\n",
    "import matplotlib\n",
    "import plotly as plt\n",
    "import plotly.express as px\n",
    "import plotly.graph_objects as go\n",
    "from plotly.subplots import make_subplots\n",
    "\n",
    "import dash\n",
    "from dash import dcc\n",
    "from dash import callback\n",
    "from dash import Dash, html\n",
    "from dash.dependencies import Input, Output\n",
    "import dash_mantine_components as dmc"
   ]
  },
  {
   "cell_type": "markdown",
   "metadata": {},
   "source": [
    "## Countries and Continents Divisions"
   ]
  },
  {
   "cell_type": "markdown",
   "metadata": {},
   "source": [
    "#### Employee Compensation"
   ]
  },
  {
   "cell_type": "code",
   "execution_count": 150,
   "metadata": {},
   "outputs": [],
   "source": [
    "options_emp_comp = []\n",
    "\n",
    "#Europe\n",
    "european_union = ['European Union']\n",
    "eastern_europe = ['Romania','Poland','Greece','Bulgaria','Hungary']\n",
    "western_europe = ['Norway','France','Germany','Spain','Sweden','Italy']\n",
    "\n",
    "for country in european_union:\n",
    "    options_emp_comp.append({\"value\": country, \"label\": country, \"group\": \"Europan Union\"})\n",
    "\n",
    "for country in eastern_europe:\n",
    "    options_emp_comp.append({\"value\": country, \"label\": country, \"group\": \"Eastern Europe\"})\n",
    "\n",
    "for country in western_europe:\n",
    "    options_emp_comp.append({\"value\": country, \"label\": country, \"group\": \"Western Europe\"})"
   ]
  },
  {
   "cell_type": "markdown",
   "metadata": {},
   "source": [
    "#### Employment Rate"
   ]
  },
  {
   "cell_type": "code",
   "execution_count": 151,
   "metadata": {},
   "outputs": [],
   "source": [
    "options_emp_rate = []\n",
    "\n",
    "#Europe\n",
    "european_union = ['European Union']\n",
    "eastern_europe = ['Romania','Poland','Greece','Bulgaria','Hungary']\n",
    "western_europe = ['Norway','France','Germany','Spain','Sweden','Italy']\n",
    "\n",
    "for country in european_union:\n",
    "    options_emp_rate.append({\"value\": country, \"label\": country, \"group\": \"Europan Union\"})\n",
    "\n",
    "for country in eastern_europe:\n",
    "    options_emp_rate.append({\"value\": country, \"label\": country, \"group\": \"Eastern Europe\"})\n",
    "\n",
    "for country in western_europe:\n",
    "    options_emp_rate.append({\"value\": country, \"label\": country, \"group\": \"Western Europe\"})"
   ]
  },
  {
   "cell_type": "markdown",
   "metadata": {},
   "source": [
    "#### Final Consumption Expenditure"
   ]
  },
  {
   "cell_type": "code",
   "execution_count": 152,
   "metadata": {},
   "outputs": [],
   "source": [
    "options_consumption = []\n",
    "\n",
    "#Europe\n",
    "european_union = ['European Union']\n",
    "eastern_europe = ['Romania','Poland','Greece','Bulgaria','Hungary']\n",
    "western_europe = ['Norway','France','Germany','Spain','Sweden','Italy']\n",
    "\n",
    "for country in european_union:\n",
    "    options_consumption.append({\"value\": country, \"label\": country, \"group\": \"Europan Union\"})\n",
    "\n",
    "for country in eastern_europe:\n",
    "    options_consumption.append({\"value\": country, \"label\": country, \"group\": \"Eastern Europe\"})\n",
    "\n",
    "for country in western_europe:\n",
    "    options_consumption.append({\"value\": country, \"label\": country, \"group\": \"Western Europe\"})"
   ]
  },
  {
   "cell_type": "markdown",
   "metadata": {},
   "source": [
    "#### GFCF"
   ]
  },
  {
   "cell_type": "code",
   "execution_count": 153,
   "metadata": {},
   "outputs": [],
   "source": [
    "options_gfcf = []\n",
    "\n",
    "#Europe\n",
    "\n",
    "country_groups = ['Eurozone', 'European Union']\n",
    "\n",
    "europe = ['Russia', 'France','Poland','Croatia', 'Estonia','Portugal','Romania','Hungary', 'Italy', 'Norway', \n",
    "          'Bulgaria', 'Spain','Sweden','Germany', 'Switzerland', 'Netherlands','Greece','Denmark']\n",
    "\n",
    "oceania = ['New Zealand','Australia']\n",
    "\n",
    "asia = ['India', 'Indonesia','Japan', 'South Korea','Malaysia','Pakistan','Saudi Arabia','Thailand','Turkey','Vietnam']\n",
    "\n",
    "africa = ['Algeria','Angola','Cameroon', \"Cote d'Ivoire\", 'Egypt', 'Kenya','Mali','Morocco','Senegal','South Africa']\n",
    "\n",
    "south_america = ['Argentina','Bolivia','Brazil','Chile','Colombia','Peru']\n",
    "\n",
    "north_america = ['Mexico','United States','Canada']\n",
    "\n",
    "central_america = ['Belize','Costa Rica', 'Ecuador']\n",
    "\n",
    "\n",
    "for country in country_groups:\n",
    "    options_gfcf.append({\"value\": country, \"label\": country, \"group\": \"Country Groups\"})\n",
    "\n",
    "for country in europe:\n",
    "    options_gfcf.append({\"value\": country, \"label\": country, \"group\": \"Europe\"})\n",
    "\n",
    "for country in oceania:\n",
    "    options_gfcf.append({\"value\": country, \"label\": country, \"group\": \"Oceania\"})\n",
    "\n",
    "for country in asia:\n",
    "    options_gfcf.append({\"value\": country, \"label\": country, \"group\": \"Asia\"})\n",
    "\n",
    "for country in africa:\n",
    "    options_gfcf.append({\"value\": country, \"label\": country, \"group\": \"Africa\"})\n",
    "\n",
    "for country in south_america:\n",
    "    options_gfcf.append({\"value\": country, \"label\": country, \"group\": \"South America\"})\n",
    "\n",
    "for country in north_america:\n",
    "    options_gfcf.append({\"value\": country, \"label\": country, \"group\": \"North America\"})\n",
    "\n",
    "for country in central_america:\n",
    "    options_gfcf.append({\"value\": country, \"label\": country, \"group\": \"Central America\"})"
   ]
  },
  {
   "cell_type": "markdown",
   "metadata": {},
   "source": [
    "#### GDP"
   ]
  },
  {
   "cell_type": "code",
   "execution_count": 154,
   "metadata": {},
   "outputs": [],
   "source": [
    "options_gdp = []\n",
    "\n",
    "#Europe\n",
    "\n",
    "country_groups = ['OECD Europe','Eurozone','NAFTA','G7','OECD','European Union', 'G20']\n",
    "\n",
    "europe = ['Germany','Italy','France','Norway','Netherlands','Portugal','Greece','Switzerland','Sweden','Hungary','Denmark','Spain', 'Poland', 'Russia']\n",
    "\n",
    "oceania = ['New Zealand','Australia']\n",
    "\n",
    "asia = ['Turkey','Japan','South Korea','India',\"China\",'Indonesia','Saudi Arabia']\n",
    "\n",
    "africa = ['Nigeria','South Africa']\n",
    "\n",
    "south_america = ['Colombia','Chile','Argentina','Chile','Brazil']\n",
    "\n",
    "north_america = ['Mexico','United States','Canada']\n",
    "\n",
    "central_america = ['Costa Rica']\n",
    "\n",
    "\n",
    "for country in country_groups:\n",
    "    options_gdp.append({\"value\": country, \"label\": country, \"group\": \"Country Groups\"})\n",
    "\n",
    "for country in europe:\n",
    "    options_gdp.append({\"value\": country, \"label\": country, \"group\": \"Europe\"})\n",
    "\n",
    "for country in oceania:\n",
    "    options_gdp.append({\"value\": country, \"label\": country, \"group\": \"Oceania\"})\n",
    "\n",
    "for country in asia:\n",
    "    options_gdp.append({\"value\": country, \"label\": country, \"group\": \"Asia\"})\n",
    "\n",
    "for country in africa:\n",
    "    options_gdp.append({\"value\": country, \"label\": country, \"group\": \"Africa\"})\n",
    "\n",
    "for country in south_america:\n",
    "    options_gdp.append({\"value\": country, \"label\": country, \"group\": \"South America\"})\n",
    "\n",
    "for country in north_america:\n",
    "    options_gdp.append({\"value\": country, \"label\": country, \"group\": \"North America\"})\n",
    "\n",
    "for country in central_america:\n",
    "    options_gdp.append({\"value\": country, \"label\": country, \"group\": \"Central America\"})"
   ]
  },
  {
   "cell_type": "markdown",
   "metadata": {},
   "source": [
    "## Covid Data Recap"
   ]
  },
  {
   "cell_type": "code",
   "execution_count": 155,
   "metadata": {},
   "outputs": [
    {
     "data": {
      "text/html": [
       "<div>\n",
       "<style scoped>\n",
       "    .dataframe tbody tr th:only-of-type {\n",
       "        vertical-align: middle;\n",
       "    }\n",
       "\n",
       "    .dataframe tbody tr th {\n",
       "        vertical-align: top;\n",
       "    }\n",
       "\n",
       "    .dataframe thead th {\n",
       "        text-align: right;\n",
       "    }\n",
       "</style>\n",
       "<table border=\"1\" class=\"dataframe\">\n",
       "  <thead>\n",
       "    <tr style=\"text-align: right;\">\n",
       "      <th></th>\n",
       "      <th>TIME_PERIOD</th>\n",
       "      <th>Countries</th>\n",
       "      <th>Deaths</th>\n",
       "      <th>Cases</th>\n",
       "      <th>stringency_index</th>\n",
       "    </tr>\n",
       "  </thead>\n",
       "  <tbody>\n",
       "    <tr>\n",
       "      <th>0</th>\n",
       "      <td>2020-01-05</td>\n",
       "      <td>World</td>\n",
       "      <td>NaN</td>\n",
       "      <td>NaN</td>\n",
       "      <td>NaN</td>\n",
       "    </tr>\n",
       "    <tr>\n",
       "      <th>1</th>\n",
       "      <td>2020-01-06</td>\n",
       "      <td>World</td>\n",
       "      <td>NaN</td>\n",
       "      <td>NaN</td>\n",
       "      <td>NaN</td>\n",
       "    </tr>\n",
       "    <tr>\n",
       "      <th>2</th>\n",
       "      <td>2020-01-07</td>\n",
       "      <td>World</td>\n",
       "      <td>NaN</td>\n",
       "      <td>NaN</td>\n",
       "      <td>NaN</td>\n",
       "    </tr>\n",
       "    <tr>\n",
       "      <th>3</th>\n",
       "      <td>2020-01-08</td>\n",
       "      <td>World</td>\n",
       "      <td>NaN</td>\n",
       "      <td>NaN</td>\n",
       "      <td>NaN</td>\n",
       "    </tr>\n",
       "    <tr>\n",
       "      <th>4</th>\n",
       "      <td>2020-01-09</td>\n",
       "      <td>World</td>\n",
       "      <td>NaN</td>\n",
       "      <td>NaN</td>\n",
       "      <td>NaN</td>\n",
       "    </tr>\n",
       "    <tr>\n",
       "      <th>...</th>\n",
       "      <td>...</td>\n",
       "      <td>...</td>\n",
       "      <td>...</td>\n",
       "      <td>...</td>\n",
       "      <td>...</td>\n",
       "    </tr>\n",
       "    <tr>\n",
       "      <th>375435</th>\n",
       "      <td>2024-02-28</td>\n",
       "      <td>Zimbabwe</td>\n",
       "      <td>0.123</td>\n",
       "      <td>0.306</td>\n",
       "      <td>NaN</td>\n",
       "    </tr>\n",
       "    <tr>\n",
       "      <th>375436</th>\n",
       "      <td>2024-02-29</td>\n",
       "      <td>Zimbabwe</td>\n",
       "      <td>0.123</td>\n",
       "      <td>0.306</td>\n",
       "      <td>NaN</td>\n",
       "    </tr>\n",
       "    <tr>\n",
       "      <th>375437</th>\n",
       "      <td>2024-03-01</td>\n",
       "      <td>Zimbabwe</td>\n",
       "      <td>0.123</td>\n",
       "      <td>0.306</td>\n",
       "      <td>NaN</td>\n",
       "    </tr>\n",
       "    <tr>\n",
       "      <th>375438</th>\n",
       "      <td>2024-03-02</td>\n",
       "      <td>Zimbabwe</td>\n",
       "      <td>0.123</td>\n",
       "      <td>0.306</td>\n",
       "      <td>NaN</td>\n",
       "    </tr>\n",
       "    <tr>\n",
       "      <th>375439</th>\n",
       "      <td>2024-03-03</td>\n",
       "      <td>Zimbabwe</td>\n",
       "      <td>0.061</td>\n",
       "      <td>0.184</td>\n",
       "      <td>NaN</td>\n",
       "    </tr>\n",
       "  </tbody>\n",
       "</table>\n",
       "<p>375440 rows × 5 columns</p>\n",
       "</div>"
      ],
      "text/plain": [
       "       TIME_PERIOD Countries  Deaths  Cases  stringency_index\n",
       "0       2020-01-05     World     NaN    NaN               NaN\n",
       "1       2020-01-06     World     NaN    NaN               NaN\n",
       "2       2020-01-07     World     NaN    NaN               NaN\n",
       "3       2020-01-08     World     NaN    NaN               NaN\n",
       "4       2020-01-09     World     NaN    NaN               NaN\n",
       "...            ...       ...     ...    ...               ...\n",
       "375435  2024-02-28  Zimbabwe   0.123  0.306               NaN\n",
       "375436  2024-02-29  Zimbabwe   0.123  0.306               NaN\n",
       "375437  2024-03-01  Zimbabwe   0.123  0.306               NaN\n",
       "375438  2024-03-02  Zimbabwe   0.123  0.306               NaN\n",
       "375439  2024-03-03  Zimbabwe   0.061  0.184               NaN\n",
       "\n",
       "[375440 rows x 5 columns]"
      ]
     },
     "execution_count": 155,
     "metadata": {},
     "output_type": "execute_result"
    }
   ],
   "source": [
    "covid_df = pd.read_csv('global/dataglobal/clean_covid_recap.csv')\n",
    "covid_df.drop(columns=['Unnamed: 0'],inplace=True)\n",
    "covid_df.rename(columns={'date':'TIME_PERIOD'},inplace=True)\n",
    "\n",
    "covid_df"
   ]
  },
  {
   "cell_type": "markdown",
   "metadata": {},
   "source": [
    "## Home Page With Interactive Globe"
   ]
  },
  {
   "cell_type": "code",
   "execution_count": 156,
   "metadata": {},
   "outputs": [
    {
     "name": "stderr",
     "output_type": "stream",
     "text": [
      "c:\\Users\\manue\\anaconda3\\envs\\MachineLearning\\lib\\site-packages\\pandas\\core\\arraylike.py:399: RuntimeWarning:\n",
      "\n",
      "divide by zero encountered in log\n",
      "\n"
     ]
    },
    {
     "data": {
      "application/vnd.plotly.v1+json": {
       "config": {
        "plotlyServerURL": "https://plot.ly"
       },
       "data": [
        {
         "colorbar": {
          "title": {
           "text": "Avg Weekly Cases<br>(per Million 2021-2022)"
          }
         },
         "colorscale": [
          [
           0,
           "rgb(255,245,240)"
          ],
          [
           0.125,
           "rgb(254,224,210)"
          ],
          [
           0.25,
           "rgb(252,187,161)"
          ],
          [
           0.375,
           "rgb(252,146,114)"
          ],
          [
           0.5,
           "rgb(251,106,74)"
          ],
          [
           0.625,
           "rgb(239,59,44)"
          ],
          [
           0.75,
           "rgb(203,24,29)"
          ],
          [
           0.875,
           "rgb(165,15,21)"
          ],
          [
           1,
           "rgb(103,0,13)"
          ]
         ],
         "locations": [
          "AFG",
          "ALB",
          "DZA",
          "ASM",
          "AND",
          "AGO",
          "AIA",
          "ATG",
          "ARG",
          "ARM",
          "ABW",
          "AUS",
          "AUT",
          "AZE",
          "BHR",
          "BGD",
          "BRB",
          "BLR",
          "BEL",
          "BLZ",
          "BEN",
          "BMU",
          "BTN",
          "BOL",
          "BIH",
          "BWA",
          "BRA",
          "BGR",
          "BFA",
          "BDI",
          "KHM",
          "CMR",
          "CAN",
          "TCD",
          "CHL",
          "CHN",
          "COL",
          "CRI",
          "CIV",
          "HRV",
          "CUB",
          "CYP",
          "CZE",
          "DNK",
          "DJI",
          "DMA",
          "ECU",
          "EGY",
          "SLV",
          "GNQ",
          "ERI",
          "EST",
          "SWZ",
          "ETH",
          "FJI",
          "FIN",
          "FRA",
          "GUF",
          "PYF",
          "GAB",
          "GEO",
          "DEU",
          "GHA",
          "GIB",
          "GRC",
          "GRL",
          "GRD",
          "GLP",
          "GUM",
          "GTM",
          "GGY",
          "GIN",
          "GNB",
          "GUY",
          "HTI",
          "HND",
          "HUN",
          "ISL",
          "IND",
          "IDN",
          "IRQ",
          "IRL",
          "IMN",
          "ISR",
          "ITA",
          "JAM",
          "JPN",
          "JEY",
          "JOR",
          "KAZ",
          "KEN",
          "KIR",
          "KWT",
          "KGZ",
          "LAO",
          "LVA",
          "LBN",
          "LSO",
          "LBR",
          "LBY",
          "LIE",
          "LTU",
          "LUX",
          "MDG",
          "MWI",
          "MYS",
          "MDV",
          "MLI",
          "MLT",
          "MTQ",
          "MRT",
          "MUS",
          "MYT",
          "MEX",
          "MCO",
          "MNG",
          "MNE",
          "MSR",
          "MAR",
          "MOZ",
          "MMR",
          "NAM",
          "NRU",
          "NPL",
          "NCL",
          "NZL",
          "NIC",
          "NGA",
          "NIU",
          "NOR",
          "OMN",
          "PAK",
          "PLW",
          "PAN",
          "PNG",
          "PRY",
          "PER",
          "PCN",
          "POL",
          "PRT",
          "PRI",
          "QAT",
          "ROU",
          "RUS",
          "RWA",
          "KNA",
          "LCA",
          "MAF",
          "SPM",
          "VCT",
          "WSM",
          "SMR",
          "STP",
          "SAU",
          "SEN",
          "SRB",
          "SYC",
          "SLE",
          "SGP",
          "SXM",
          "SVK",
          "SVN",
          "SLB",
          "SOM",
          "ZAF",
          "KOR",
          "SSD",
          "ESP",
          "LKA",
          "SUR",
          "SWE",
          "CHE",
          "TJK",
          "THA",
          "TGO",
          "TKL",
          "TON",
          "TTO",
          "TUN",
          "TUR",
          "TKM",
          "TUV",
          "UGA",
          "UKR",
          "GBR",
          "USA",
          "URY",
          "UZB",
          "VUT",
          "VEN",
          "VNM",
          "WLF",
          "YEM",
          "ZMB",
          "ZWE"
         ],
         "marker": {
          "line": {
           "width": 1
          }
         },
         "text": [
          "Afghanistan",
          "Albania",
          "Algeria",
          "American Samoa",
          "Andorra",
          "Angola",
          "Anguilla",
          "Antigua and Barbuda",
          "Argentina",
          "Armenia",
          "Aruba",
          "Australia",
          "Austria",
          "Azerbaijan",
          "Bahrain",
          "Bangladesh",
          "Barbados",
          "Belarus",
          "Belgium",
          "Belize",
          "Benin",
          "Bermuda",
          "Bhutan",
          "Bolivia",
          "Bosnia and Herzegovina",
          "Botswana",
          "Brazil",
          "Bulgaria",
          "Burkina Faso",
          "Burundi",
          "Cambodia",
          "Cameroon",
          "Canada",
          "Chad",
          "Chile",
          "China",
          "Colombia",
          "Costa Rica",
          "Cote d'Ivoire",
          "Croatia",
          "Cuba",
          "Cyprus",
          "Czechia",
          "Denmark",
          "Djibouti",
          "Dominica",
          "Ecuador",
          "Egypt",
          "El Salvador",
          "Equatorial Guinea",
          "Eritrea",
          "Estonia",
          "Eswatini",
          "Ethiopia",
          "Fiji",
          "Finland",
          "France",
          "French Guiana",
          "French Polynesia",
          "Gabon",
          "Georgia",
          "Germany",
          "Ghana",
          "Gibraltar",
          "Greece",
          "Greenland",
          "Grenada",
          "Guadeloupe",
          "Guam",
          "Guatemala",
          "Guernsey",
          "Guinea",
          "Guinea-Bissau",
          "Guyana",
          "Haiti",
          "Honduras",
          "Hungary",
          "Iceland",
          "India",
          "Indonesia",
          "Iraq",
          "Ireland",
          "Isle of Man",
          "Israel",
          "Italy",
          "Jamaica",
          "Japan",
          "Jersey",
          "Jordan",
          "Kazakhstan",
          "Kenya",
          "Kiribati",
          "Kuwait",
          "Kyrgyzstan",
          "Laos",
          "Latvia",
          "Lebanon",
          "Lesotho",
          "Liberia",
          "Libya",
          "Liechtenstein",
          "Lithuania",
          "Luxembourg",
          "Madagascar",
          "Malawi",
          "Malaysia",
          "Maldives",
          "Mali",
          "Malta",
          "Martinique",
          "Mauritania",
          "Mauritius",
          "Mayotte",
          "Mexico",
          "Monaco",
          "Mongolia",
          "Montenegro",
          "Montserrat",
          "Morocco",
          "Mozambique",
          "Myanmar",
          "Namibia",
          "Nauru",
          "Nepal",
          "New Caledonia",
          "New Zealand",
          "Nicaragua",
          "Nigeria",
          "Niue",
          "Norway",
          "Oman",
          "Pakistan",
          "Palau",
          "Panama",
          "Papua New Guinea",
          "Paraguay",
          "Peru",
          "Pitcairn",
          "Poland",
          "Portugal",
          "Puerto Rico",
          "Qatar",
          "Romania",
          "Russia",
          "Rwanda",
          "Saint Kitts and Nevis",
          "Saint Lucia",
          "Saint Martin (French part)",
          "Saint Pierre and Miquelon",
          "Saint Vincent and the Grenadines",
          "Samoa",
          "San Marino",
          "Sao Tome and Principe",
          "Saudi Arabia",
          "Senegal",
          "Serbia",
          "Seychelles",
          "Sierra Leone",
          "Singapore",
          "Sint Maarten (Dutch part)",
          "Slovakia",
          "Slovenia",
          "Solomon Islands",
          "Somalia",
          "South Africa",
          "South Korea",
          "South Sudan",
          "Spain",
          "Sri Lanka",
          "Suriname",
          "Sweden",
          "Switzerland",
          "Tajikistan",
          "Thailand",
          "Togo",
          "Tokelau",
          "Tonga",
          "Trinidad and Tobago",
          "Tunisia",
          "Turkey",
          "Turkmenistan",
          "Tuvalu",
          "Uganda",
          "Ukraine",
          "United Kingdom",
          "United States",
          "Uruguay",
          "Uzbekistan",
          "Vanuatu",
          "Venezuela",
          "Vietnam",
          "Wallis and Futuna",
          "Yemen",
          "Zambia",
          "Zimbabwe"
         ],
         "type": "choropleth",
         "z": [
          3.5927985801408666,
          6.844537390448154,
          3.616407666389302,
          7.489655109329044,
          8.475949798759528,
          3.1667214244350914,
          7.762574612954928,
          6.819370867158892,
          7.463560980959021,
          6.904061513366946,
          8.152668678575804,
          8.270521052776441,
          8.652630971858356,
          6.350633355150841,
          8.279912266429637,
          4.451077988468974,
          8.18339294327688,
          6.706297932791114,
          8.109868150458256,
          7.248562801891864,
          2.8795379409936945,
          7.8971276509928545,
          6.632702814842808,
          6.659369870434712,
          6.766254226121025,
          7.043980482503651,
          7.1551751851976855,
          7.335735652027862,
          1.912020001592895,
          3.64102821032215,
          4.369363923160419,
          3.5147885488256745,
          6.892541111816283,
          1.1256649607680338,
          7.676998210136155,
          6.03858232536102,
          6.786109015146277,
          7.522917477590314,
          3.1114477242182317,
          7.833439594322546,
          6.847664187415863,
          8.783336169924274,
          8.182673147642415,
          8.570857622969118,
          4.438244817822668,
          7.632675372867415,
          6.0942028514028115,
          3.5071044328737204,
          5.4741992203347785,
          4.227569429248766,
          3.1824684437332924,
          8.31390619523497,
          6.265931362086686,
          3.373656896954543,
          6.562548596398125,
          7.805945546288959,
          8.574207073244207,
          7.893525353951079,
          7.562307515978822,
          5.066293983708862,
          8.31265679417379,
          8.318036783392905,
          3.5080247935042466,
          8.618164581294556,
          8.414123432922402,
          7.614721960352208,
          7.309387062064379,
          8.441855474310653,
          7.780129745429211,
          6.346122599240574,
          8.5315313359447,
          2.8333415389009526,
          3.387830033604794,
          6.659167661274322,
          2.9937471538220315,
          5.761304795891274,
          7.49451964297389,
          8.552814613230495,
          5.453901228272661,
          5.344305415371206,
          6.002533166047569,
          8.028234369366015,
          8.35906572024237,
          8.396097203440661,
          8.227873579476167,
          6.164795017278934,
          7.6826587929566585,
          8.601456895523695,
          7.126348388613121,
          6.463138905336547,
          3.7809632329362635,
          5.523931660323011,
          7.051388697857067,
          4.8514164946942815,
          5.624458440562298,
          8.486407711532395,
          7.520304936742802,
          4.890806032785722,
          2.4221745934224694,
          6.359447774075397,
          8.454117282769484,
          8.30275338627554,
          8.48460975760407,
          2.785357368698681,
          3.652417582062206,
          7.237714965477907,
          8.055212943167868,
          2.4129477891888618,
          7.531739475005513,
          8.661786081091918,
          4.615658958590866,
          7.670880774361316,
          6.995954455402668,
          6.07992766547308,
          8.332043525535656,
          7.951298715488504,
          8.072111925258955,
          8.013125178003564,
          5.37681318820987,
          4.12634761959449,
          4.509844359486015,
          6.3236427561460555,
          8.158094224234375,
          5.453436264389376,
          7.869656496630637,
          8.228712714114065,
          2.6817389481698513,
          2.091031650378564,
          7.405896917573955,
          7.832035559381092,
          6.343254210692099,
          3.8100352431264684,
          8.059760498768503,
          7.465338187144144,
          3.7707255189549347,
          6.775935168050534,
          6.875040736750149,
          6.704522932536983,
          7.116463839005049,
          8.483648952750697,
          8.037311681571655,
          7.113826807984926,
          7.182584036314856,
          7.125973137595918,
          4.468114484601634,
          7.180556366135395,
          7.358829447333536,
          8.124754233160555,
          8.599713644812473,
          6.766714054702105,
          6.553205048842294,
          8.68392788415194,
          5.402885912516258,
          4.807950312569451,
          3.666286731956157,
          7.994302738775331,
          8.409236590731274,
          1.761805006531454,
          8.197676190294938,
          7.645723855755439,
          7.966027751859336,
          8.589300792262446,
          5.655624668040827,
          2.511609602468348,
          6.199715694743173,
          8.57423646428982,
          2.5747791790140844,
          7.779105187145436,
          5.625937994087279,
          7.070192322867102,
          7.629673567007922,
          8.37325684900171,
          1.4263188870616565,
          6.4468920913452195,
          3.659174304862821,
          3.2318959001019274,
          7.2948038722305135,
          7.021082552840004,
          6.674431876024823,
          7.423628746673203,
          null,
          7.76257204389357,
          3.3238778653225642,
          6.955768634011829,
          8.04187437354901,
          7.732949547878395,
          7.935168344192716,
          3.8356555426100942,
          5.865105073310399,
          5.001905887930754,
          7.025828890377727,
          7.944721467767296,
          1.030746472617853,
          5.015610159182644,
          4.978446766562514
         ],
         "zmax": 8.783336169924274,
         "zmin": null
        }
       ],
       "layout": {
        "geo": {
         "countrycolor": "#d1d1d1",
         "lakecolor": "#99c0db",
         "oceancolor": "#c9d2e0",
         "projection": {
          "type": "orthographic"
         },
         "resolution": 110,
         "rivercolor": "#99c0db",
         "showcoastlines": false,
         "showcountries": true,
         "showframe": false,
         "showlakes": true,
         "showocean": true,
         "showrivers": true
        },
        "height": 900,
        "template": {
         "data": {
          "bar": [
           {
            "error_x": {
             "color": "#2a3f5f"
            },
            "error_y": {
             "color": "#2a3f5f"
            },
            "marker": {
             "line": {
              "color": "#E5ECF6",
              "width": 0.5
             },
             "pattern": {
              "fillmode": "overlay",
              "size": 10,
              "solidity": 0.2
             }
            },
            "type": "bar"
           }
          ],
          "barpolar": [
           {
            "marker": {
             "line": {
              "color": "#E5ECF6",
              "width": 0.5
             },
             "pattern": {
              "fillmode": "overlay",
              "size": 10,
              "solidity": 0.2
             }
            },
            "type": "barpolar"
           }
          ],
          "carpet": [
           {
            "aaxis": {
             "endlinecolor": "#2a3f5f",
             "gridcolor": "white",
             "linecolor": "white",
             "minorgridcolor": "white",
             "startlinecolor": "#2a3f5f"
            },
            "baxis": {
             "endlinecolor": "#2a3f5f",
             "gridcolor": "white",
             "linecolor": "white",
             "minorgridcolor": "white",
             "startlinecolor": "#2a3f5f"
            },
            "type": "carpet"
           }
          ],
          "choropleth": [
           {
            "colorbar": {
             "outlinewidth": 0,
             "ticks": ""
            },
            "type": "choropleth"
           }
          ],
          "contour": [
           {
            "colorbar": {
             "outlinewidth": 0,
             "ticks": ""
            },
            "colorscale": [
             [
              0,
              "#0d0887"
             ],
             [
              0.1111111111111111,
              "#46039f"
             ],
             [
              0.2222222222222222,
              "#7201a8"
             ],
             [
              0.3333333333333333,
              "#9c179e"
             ],
             [
              0.4444444444444444,
              "#bd3786"
             ],
             [
              0.5555555555555556,
              "#d8576b"
             ],
             [
              0.6666666666666666,
              "#ed7953"
             ],
             [
              0.7777777777777778,
              "#fb9f3a"
             ],
             [
              0.8888888888888888,
              "#fdca26"
             ],
             [
              1,
              "#f0f921"
             ]
            ],
            "type": "contour"
           }
          ],
          "contourcarpet": [
           {
            "colorbar": {
             "outlinewidth": 0,
             "ticks": ""
            },
            "type": "contourcarpet"
           }
          ],
          "heatmap": [
           {
            "colorbar": {
             "outlinewidth": 0,
             "ticks": ""
            },
            "colorscale": [
             [
              0,
              "#0d0887"
             ],
             [
              0.1111111111111111,
              "#46039f"
             ],
             [
              0.2222222222222222,
              "#7201a8"
             ],
             [
              0.3333333333333333,
              "#9c179e"
             ],
             [
              0.4444444444444444,
              "#bd3786"
             ],
             [
              0.5555555555555556,
              "#d8576b"
             ],
             [
              0.6666666666666666,
              "#ed7953"
             ],
             [
              0.7777777777777778,
              "#fb9f3a"
             ],
             [
              0.8888888888888888,
              "#fdca26"
             ],
             [
              1,
              "#f0f921"
             ]
            ],
            "type": "heatmap"
           }
          ],
          "heatmapgl": [
           {
            "colorbar": {
             "outlinewidth": 0,
             "ticks": ""
            },
            "colorscale": [
             [
              0,
              "#0d0887"
             ],
             [
              0.1111111111111111,
              "#46039f"
             ],
             [
              0.2222222222222222,
              "#7201a8"
             ],
             [
              0.3333333333333333,
              "#9c179e"
             ],
             [
              0.4444444444444444,
              "#bd3786"
             ],
             [
              0.5555555555555556,
              "#d8576b"
             ],
             [
              0.6666666666666666,
              "#ed7953"
             ],
             [
              0.7777777777777778,
              "#fb9f3a"
             ],
             [
              0.8888888888888888,
              "#fdca26"
             ],
             [
              1,
              "#f0f921"
             ]
            ],
            "type": "heatmapgl"
           }
          ],
          "histogram": [
           {
            "marker": {
             "pattern": {
              "fillmode": "overlay",
              "size": 10,
              "solidity": 0.2
             }
            },
            "type": "histogram"
           }
          ],
          "histogram2d": [
           {
            "colorbar": {
             "outlinewidth": 0,
             "ticks": ""
            },
            "colorscale": [
             [
              0,
              "#0d0887"
             ],
             [
              0.1111111111111111,
              "#46039f"
             ],
             [
              0.2222222222222222,
              "#7201a8"
             ],
             [
              0.3333333333333333,
              "#9c179e"
             ],
             [
              0.4444444444444444,
              "#bd3786"
             ],
             [
              0.5555555555555556,
              "#d8576b"
             ],
             [
              0.6666666666666666,
              "#ed7953"
             ],
             [
              0.7777777777777778,
              "#fb9f3a"
             ],
             [
              0.8888888888888888,
              "#fdca26"
             ],
             [
              1,
              "#f0f921"
             ]
            ],
            "type": "histogram2d"
           }
          ],
          "histogram2dcontour": [
           {
            "colorbar": {
             "outlinewidth": 0,
             "ticks": ""
            },
            "colorscale": [
             [
              0,
              "#0d0887"
             ],
             [
              0.1111111111111111,
              "#46039f"
             ],
             [
              0.2222222222222222,
              "#7201a8"
             ],
             [
              0.3333333333333333,
              "#9c179e"
             ],
             [
              0.4444444444444444,
              "#bd3786"
             ],
             [
              0.5555555555555556,
              "#d8576b"
             ],
             [
              0.6666666666666666,
              "#ed7953"
             ],
             [
              0.7777777777777778,
              "#fb9f3a"
             ],
             [
              0.8888888888888888,
              "#fdca26"
             ],
             [
              1,
              "#f0f921"
             ]
            ],
            "type": "histogram2dcontour"
           }
          ],
          "mesh3d": [
           {
            "colorbar": {
             "outlinewidth": 0,
             "ticks": ""
            },
            "type": "mesh3d"
           }
          ],
          "parcoords": [
           {
            "line": {
             "colorbar": {
              "outlinewidth": 0,
              "ticks": ""
             }
            },
            "type": "parcoords"
           }
          ],
          "pie": [
           {
            "automargin": true,
            "type": "pie"
           }
          ],
          "scatter": [
           {
            "fillpattern": {
             "fillmode": "overlay",
             "size": 10,
             "solidity": 0.2
            },
            "type": "scatter"
           }
          ],
          "scatter3d": [
           {
            "line": {
             "colorbar": {
              "outlinewidth": 0,
              "ticks": ""
             }
            },
            "marker": {
             "colorbar": {
              "outlinewidth": 0,
              "ticks": ""
             }
            },
            "type": "scatter3d"
           }
          ],
          "scattercarpet": [
           {
            "marker": {
             "colorbar": {
              "outlinewidth": 0,
              "ticks": ""
             }
            },
            "type": "scattercarpet"
           }
          ],
          "scattergeo": [
           {
            "marker": {
             "colorbar": {
              "outlinewidth": 0,
              "ticks": ""
             }
            },
            "type": "scattergeo"
           }
          ],
          "scattergl": [
           {
            "marker": {
             "colorbar": {
              "outlinewidth": 0,
              "ticks": ""
             }
            },
            "type": "scattergl"
           }
          ],
          "scattermapbox": [
           {
            "marker": {
             "colorbar": {
              "outlinewidth": 0,
              "ticks": ""
             }
            },
            "type": "scattermapbox"
           }
          ],
          "scatterpolar": [
           {
            "marker": {
             "colorbar": {
              "outlinewidth": 0,
              "ticks": ""
             }
            },
            "type": "scatterpolar"
           }
          ],
          "scatterpolargl": [
           {
            "marker": {
             "colorbar": {
              "outlinewidth": 0,
              "ticks": ""
             }
            },
            "type": "scatterpolargl"
           }
          ],
          "scatterternary": [
           {
            "marker": {
             "colorbar": {
              "outlinewidth": 0,
              "ticks": ""
             }
            },
            "type": "scatterternary"
           }
          ],
          "surface": [
           {
            "colorbar": {
             "outlinewidth": 0,
             "ticks": ""
            },
            "colorscale": [
             [
              0,
              "#0d0887"
             ],
             [
              0.1111111111111111,
              "#46039f"
             ],
             [
              0.2222222222222222,
              "#7201a8"
             ],
             [
              0.3333333333333333,
              "#9c179e"
             ],
             [
              0.4444444444444444,
              "#bd3786"
             ],
             [
              0.5555555555555556,
              "#d8576b"
             ],
             [
              0.6666666666666666,
              "#ed7953"
             ],
             [
              0.7777777777777778,
              "#fb9f3a"
             ],
             [
              0.8888888888888888,
              "#fdca26"
             ],
             [
              1,
              "#f0f921"
             ]
            ],
            "type": "surface"
           }
          ],
          "table": [
           {
            "cells": {
             "fill": {
              "color": "#EBF0F8"
             },
             "line": {
              "color": "white"
             }
            },
            "header": {
             "fill": {
              "color": "#C8D4E3"
             },
             "line": {
              "color": "white"
             }
            },
            "type": "table"
           }
          ]
         },
         "layout": {
          "annotationdefaults": {
           "arrowcolor": "#2a3f5f",
           "arrowhead": 0,
           "arrowwidth": 1
          },
          "autotypenumbers": "strict",
          "coloraxis": {
           "colorbar": {
            "outlinewidth": 0,
            "ticks": ""
           }
          },
          "colorscale": {
           "diverging": [
            [
             0,
             "#8e0152"
            ],
            [
             0.1,
             "#c51b7d"
            ],
            [
             0.2,
             "#de77ae"
            ],
            [
             0.3,
             "#f1b6da"
            ],
            [
             0.4,
             "#fde0ef"
            ],
            [
             0.5,
             "#f7f7f7"
            ],
            [
             0.6,
             "#e6f5d0"
            ],
            [
             0.7,
             "#b8e186"
            ],
            [
             0.8,
             "#7fbc41"
            ],
            [
             0.9,
             "#4d9221"
            ],
            [
             1,
             "#276419"
            ]
           ],
           "sequential": [
            [
             0,
             "#0d0887"
            ],
            [
             0.1111111111111111,
             "#46039f"
            ],
            [
             0.2222222222222222,
             "#7201a8"
            ],
            [
             0.3333333333333333,
             "#9c179e"
            ],
            [
             0.4444444444444444,
             "#bd3786"
            ],
            [
             0.5555555555555556,
             "#d8576b"
            ],
            [
             0.6666666666666666,
             "#ed7953"
            ],
            [
             0.7777777777777778,
             "#fb9f3a"
            ],
            [
             0.8888888888888888,
             "#fdca26"
            ],
            [
             1,
             "#f0f921"
            ]
           ],
           "sequentialminus": [
            [
             0,
             "#0d0887"
            ],
            [
             0.1111111111111111,
             "#46039f"
            ],
            [
             0.2222222222222222,
             "#7201a8"
            ],
            [
             0.3333333333333333,
             "#9c179e"
            ],
            [
             0.4444444444444444,
             "#bd3786"
            ],
            [
             0.5555555555555556,
             "#d8576b"
            ],
            [
             0.6666666666666666,
             "#ed7953"
            ],
            [
             0.7777777777777778,
             "#fb9f3a"
            ],
            [
             0.8888888888888888,
             "#fdca26"
            ],
            [
             1,
             "#f0f921"
            ]
           ]
          },
          "colorway": [
           "#636efa",
           "#EF553B",
           "#00cc96",
           "#ab63fa",
           "#FFA15A",
           "#19d3f3",
           "#FF6692",
           "#B6E880",
           "#FF97FF",
           "#FECB52"
          ],
          "font": {
           "color": "#2a3f5f"
          },
          "geo": {
           "bgcolor": "white",
           "lakecolor": "white",
           "landcolor": "#E5ECF6",
           "showlakes": true,
           "showland": true,
           "subunitcolor": "white"
          },
          "hoverlabel": {
           "align": "left"
          },
          "hovermode": "closest",
          "mapbox": {
           "style": "light"
          },
          "paper_bgcolor": "white",
          "plot_bgcolor": "#E5ECF6",
          "polar": {
           "angularaxis": {
            "gridcolor": "white",
            "linecolor": "white",
            "ticks": ""
           },
           "bgcolor": "#E5ECF6",
           "radialaxis": {
            "gridcolor": "white",
            "linecolor": "white",
            "ticks": ""
           }
          },
          "scene": {
           "xaxis": {
            "backgroundcolor": "#E5ECF6",
            "gridcolor": "white",
            "gridwidth": 2,
            "linecolor": "white",
            "showbackground": true,
            "ticks": "",
            "zerolinecolor": "white"
           },
           "yaxis": {
            "backgroundcolor": "#E5ECF6",
            "gridcolor": "white",
            "gridwidth": 2,
            "linecolor": "white",
            "showbackground": true,
            "ticks": "",
            "zerolinecolor": "white"
           },
           "zaxis": {
            "backgroundcolor": "#E5ECF6",
            "gridcolor": "white",
            "gridwidth": 2,
            "linecolor": "white",
            "showbackground": true,
            "ticks": "",
            "zerolinecolor": "white"
           }
          },
          "shapedefaults": {
           "line": {
            "color": "#2a3f5f"
           }
          },
          "ternary": {
           "aaxis": {
            "gridcolor": "white",
            "linecolor": "white",
            "ticks": ""
           },
           "baxis": {
            "gridcolor": "white",
            "linecolor": "white",
            "ticks": ""
           },
           "bgcolor": "#E5ECF6",
           "caxis": {
            "gridcolor": "white",
            "linecolor": "white",
            "ticks": ""
           }
          },
          "title": {
           "x": 0.05
          },
          "xaxis": {
           "automargin": true,
           "gridcolor": "white",
           "linecolor": "white",
           "ticks": "",
           "title": {
            "standoff": 15
           },
           "zerolinecolor": "white",
           "zerolinewidth": 2
          },
          "yaxis": {
           "automargin": true,
           "gridcolor": "white",
           "linecolor": "white",
           "ticks": "",
           "title": {
            "standoff": 15
           },
           "zerolinecolor": "white",
           "zerolinewidth": 2
          }
         }
        },
        "width": 1300
       }
      }
     },
     "metadata": {},
     "output_type": "display_data"
    }
   ],
   "source": [
    "import plotly.graph_objects as go\n",
    "import pandas as pd\n",
    "\n",
    "df = pd.read_csv('global/dataglobal/clean_countrycodes.csv')\n",
    "df.rename(columns={'Unnamed: 0':'COUNTRY','Alpha3':'CODE'},inplace=True)\n",
    "df['Cases'] = np.log(df['Cases'])\n",
    "\n",
    "\n",
    "globe = go.Figure(go.Choropleth(\n",
    "    z=df['Cases'], \n",
    "    colorscale='Reds',\n",
    "    text=df['COUNTRY'],\n",
    "    locations=df['CODE'],\n",
    "    zmin=df['Cases'].min(),\n",
    "    zmax=df['Cases'].max(),\n",
    "    colorbar_title='Avg Weekly Cases<br>(per Million 2021-2022)',\n",
    "    marker_line_width=1\n",
    "))\n",
    "\n",
    "#Layout Configuration\n",
    "globe.update_layout(\n",
    "    geo=dict(\n",
    "        showframe = False,\n",
    "        showcoastlines = False,\n",
    "        projection = dict(type = 'orthographic'),\n",
    "        resolution = 110,\n",
    "        showcountries = True,\n",
    "        countrycolor = '#d1d1d1',\n",
    "        showocean = True,\n",
    "        oceancolor = '#c9d2e0',\n",
    "        showlakes = True,\n",
    "        lakecolor = '#99c0db',\n",
    "        showrivers = True,\n",
    "        rivercolor = '#99c0db'\n",
    "    ),\n",
    "    width=1300,\n",
    "    height=900\n",
    ")\n",
    "\n",
    "\n",
    "globe.show()"
   ]
  },
  {
   "cell_type": "code",
   "execution_count": 157,
   "metadata": {},
   "outputs": [],
   "source": [
    "#Defining layout for the home page\n",
    "def homepage_layout():\n",
    "    return html.Div( #The Header\n",
    "        children =[\n",
    "            html.Div(\n",
    "                className=\"app-header\",\n",
    "                children=[\n",
    "                    html.H1(children=\"Covid Worldwide Analysis\", className='app-header--title'),\n",
    "                    html.P(children=\"Evolution of the economy before, during and after the Covid pandemic. Continental and global analysis.\",\n",
    "                            className='app-header--description'),\n",
    "                ]\n",
    "            ),\n",
    "            html.Div( #The Menu\n",
    "                className=\"app-nav\",\n",
    "                children=[\n",
    "                    html.Ul(\n",
    "                        children=[\n",
    "                            html.A('Employee Compensation', href='/employee_compensation'),\n",
    "                            html.A('Employment (in hours worked)', href='/employment_rate'),\n",
    "                            html.A('Final Consumption Expenditure', href='/final_consumption_expenditure'),\n",
    "                            html.A('GFCF', href='/gfcf'),\n",
    "                            html.A('GDP', href='/gdp')\n",
    "                        ]\n",
    "                    )\n",
    "                ]\n",
    "            ),\n",
    "            html.Div( #The Globe\n",
    "                children=[\n",
    "                    dcc.Graph(figure=globe),       \n",
    "                ],\n",
    "                style = {\"display\": \"flex\",\n",
    "                    \"flex-direction\": \"row\",\n",
    "                    \"justify-content\": \"center\"\n",
    "                }\n",
    "            )\n",
    "        ]\n",
    "    )"
   ]
  },
  {
   "cell_type": "markdown",
   "metadata": {},
   "source": [
    "## Page 1: Employee compensation"
   ]
  },
  {
   "cell_type": "code",
   "execution_count": 158,
   "metadata": {},
   "outputs": [
    {
     "data": {
      "text/html": [
       "<div>\n",
       "<style scoped>\n",
       "    .dataframe tbody tr th:only-of-type {\n",
       "        vertical-align: middle;\n",
       "    }\n",
       "\n",
       "    .dataframe tbody tr th {\n",
       "        vertical-align: top;\n",
       "    }\n",
       "\n",
       "    .dataframe thead th {\n",
       "        text-align: right;\n",
       "    }\n",
       "</style>\n",
       "<table border=\"1\" class=\"dataframe\">\n",
       "  <thead>\n",
       "    <tr style=\"text-align: right;\">\n",
       "      <th></th>\n",
       "      <th>STRUCTURE_NAME</th>\n",
       "      <th>Countries</th>\n",
       "      <th>Secteur institutionnel</th>\n",
       "      <th>Transaction</th>\n",
       "      <th>Activité économique</th>\n",
       "      <th>TIME_PERIOD</th>\n",
       "      <th>OBS_VALUE</th>\n",
       "      <th>Multiplicateur d'unité</th>\n",
       "    </tr>\n",
       "  </thead>\n",
       "  <tbody>\n",
       "    <tr>\n",
       "      <th>459</th>\n",
       "      <td>Rémunération trimestrielle des salariés par ac...</td>\n",
       "      <td>Romania</td>\n",
       "      <td>Economie totale</td>\n",
       "      <td>Rémunération des salariés</td>\n",
       "      <td>Construction</td>\n",
       "      <td>1995-06-01</td>\n",
       "      <td>0.163842</td>\n",
       "      <td>Millions</td>\n",
       "    </tr>\n",
       "    <tr>\n",
       "      <th>460</th>\n",
       "      <td>Rémunération trimestrielle des salariés par ac...</td>\n",
       "      <td>Romania</td>\n",
       "      <td>Economie totale</td>\n",
       "      <td>Rémunération des salariés</td>\n",
       "      <td>Construction</td>\n",
       "      <td>1995-09-01</td>\n",
       "      <td>0.152913</td>\n",
       "      <td>Millions</td>\n",
       "    </tr>\n",
       "    <tr>\n",
       "      <th>461</th>\n",
       "      <td>Rémunération trimestrielle des salariés par ac...</td>\n",
       "      <td>Romania</td>\n",
       "      <td>Economie totale</td>\n",
       "      <td>Rémunération des salariés</td>\n",
       "      <td>Construction</td>\n",
       "      <td>1995-12-01</td>\n",
       "      <td>0.149474</td>\n",
       "      <td>Millions</td>\n",
       "    </tr>\n",
       "    <tr>\n",
       "      <th>462</th>\n",
       "      <td>Rémunération trimestrielle des salariés par ac...</td>\n",
       "      <td>Romania</td>\n",
       "      <td>Economie totale</td>\n",
       "      <td>Rémunération des salariés</td>\n",
       "      <td>Construction</td>\n",
       "      <td>1996-03-01</td>\n",
       "      <td>0.179487</td>\n",
       "      <td>Millions</td>\n",
       "    </tr>\n",
       "    <tr>\n",
       "      <th>463</th>\n",
       "      <td>Rémunération trimestrielle des salariés par ac...</td>\n",
       "      <td>Romania</td>\n",
       "      <td>Economie totale</td>\n",
       "      <td>Rémunération des salariés</td>\n",
       "      <td>Construction</td>\n",
       "      <td>1996-06-01</td>\n",
       "      <td>0.156832</td>\n",
       "      <td>Millions</td>\n",
       "    </tr>\n",
       "  </tbody>\n",
       "</table>\n",
       "</div>"
      ],
      "text/plain": [
       "                                        STRUCTURE_NAME Countries  \\\n",
       "459  Rémunération trimestrielle des salariés par ac...   Romania   \n",
       "460  Rémunération trimestrielle des salariés par ac...   Romania   \n",
       "461  Rémunération trimestrielle des salariés par ac...   Romania   \n",
       "462  Rémunération trimestrielle des salariés par ac...   Romania   \n",
       "463  Rémunération trimestrielle des salariés par ac...   Romania   \n",
       "\n",
       "    Secteur institutionnel                Transaction Activité économique  \\\n",
       "459        Economie totale  Rémunération des salariés        Construction   \n",
       "460        Economie totale  Rémunération des salariés        Construction   \n",
       "461        Economie totale  Rémunération des salariés        Construction   \n",
       "462        Economie totale  Rémunération des salariés        Construction   \n",
       "463        Economie totale  Rémunération des salariés        Construction   \n",
       "\n",
       "    TIME_PERIOD  OBS_VALUE Multiplicateur d'unité  \n",
       "459  1995-06-01   0.163842               Millions  \n",
       "460  1995-09-01   0.152913               Millions  \n",
       "461  1995-12-01   0.149474               Millions  \n",
       "462  1996-03-01   0.179487               Millions  \n",
       "463  1996-06-01   0.156832               Millions  "
      ]
     },
     "execution_count": 158,
     "metadata": {},
     "output_type": "execute_result"
    }
   ],
   "source": [
    "emp_comp = pd.read_csv(\"global/dataglobal/clean_employee_compensation.csv\")\n",
    "emp_comp = emp_comp[emp_comp['Transaction'].isin(['Rémunération des salariés'])]\n",
    "emp_comp = emp_comp[emp_comp['Activité économique'].isin(['Construction','Total - Toutes les activités','Industrie (sauf construction)'])]\n",
    "emp_comp[\"Zone de référence\"] = np.where(emp_comp[\"Zone de référence\"] == 'European Union (27 countries as of 02/01/2020)','European Union',emp_comp[\"Zone de référence\"])\n",
    "emp_comp.rename(columns={'Zone de référence':'Countries'},inplace=True)\n",
    "emp_comp.drop(columns=['Unnamed: 0'],inplace=True)\n",
    "emp_comp.dropna(axis=0,inplace=True)\n",
    "emp_comp.head()"
   ]
  },
  {
   "cell_type": "code",
   "execution_count": 159,
   "metadata": {},
   "outputs": [],
   "source": [
    "#Define layout for page 1 (Employee Compensation)\n",
    "def page1_layout():\n",
    "    return html.Div(\n",
    "        html.Div(\n",
    "            className='wrapper',\n",
    "            children=[\n",
    "                html.Div( #The Header\n",
    "                    className=\"app-header\",\n",
    "                    children=[\n",
    "                        html.H1(children=\"Employee Compensation\", className='app-header--title'),\n",
    "                        html.P(\n",
    "                            children=\"Quarter over Quarter Variation.\",\n",
    "                            className='app-header--description'),\n",
    "                    ],\n",
    "                ),\n",
    "                html.Div( #The Home Page link\n",
    "                    children=[\n",
    "                        dcc.Link('Home Page', href='/'),\n",
    "                    ],\n",
    "                    style={'width': '100%', 'margin-top':'-120px',}\n",
    "                ),\n",
    "                html.Div( #The dropdown list and the graphic\n",
    "                    className = \"dropdown\",\n",
    "                    children=[\n",
    "                        dmc.MultiSelect( #Dropdown list countries\n",
    "                            label=\"Select the Countries you want to analyse\",\n",
    "                            placeholder=\"Select one or more\",\n",
    "                            value=[\"European Union\"],\n",
    "                            data=options_emp_comp,\n",
    "                            id='countries_filter',\n",
    "                            style={'width': '100%'},\n",
    "                        ),\n",
    "                        dmc.Select( #Dropdown list economic activity\n",
    "                            label=\"Select the economic activity you want to see\",\n",
    "                            placeholder=\"Select one\",\n",
    "                            value=\"Total - Toutes les activités\",\n",
    "                            data=list(emp_comp['Activité économique'].unique()),\n",
    "                            id='eco_act_filter',\n",
    "                            style={'width': '100%'},\n",
    "                        ),\n",
    "                        dmc.Select( #Dropdown list economic activity\n",
    "                            label=\"Select the covid index you want to compare\",\n",
    "                            placeholder=\"Select one\",\n",
    "                            value=\"Cases\",\n",
    "                            data=['Cases','Deaths','stringency_index'],\n",
    "                            id='covid_filter',\n",
    "                            style={'width': '100%'},\n",
    "                        )\n",
    "                    ],\n",
    "                ),\n",
    "                html.Div( #Graphic (Code is in the dash part)\n",
    "                    className = 'plot_card',\n",
    "                    children=[\n",
    "                        dcc.Graph(id='emp_comp_plot',style={'width':'65%'}),\n",
    "                        html.Div(\n",
    "                            className='conclusion',\n",
    "                            children=[\n",
    "                                html.H1(children=\"Our Analysis\", className='app-conclusion--title'),\n",
    "                                html.P(\n",
    "                                    children=\"adkjnsakdfnajdfn\",\n",
    "                                    className='app-conclusion--description')\n",
    "                            ]\n",
    "                        )\n",
    "                    ],\n",
    "                )\n",
    "            ]\n",
    "        )\n",
    "    )"
   ]
  },
  {
   "cell_type": "markdown",
   "metadata": {},
   "source": [
    "## Page 2: Employment Rate"
   ]
  },
  {
   "cell_type": "code",
   "execution_count": 160,
   "metadata": {},
   "outputs": [
    {
     "data": {
      "text/html": [
       "<div>\n",
       "<style scoped>\n",
       "    .dataframe tbody tr th:only-of-type {\n",
       "        vertical-align: middle;\n",
       "    }\n",
       "\n",
       "    .dataframe tbody tr th {\n",
       "        vertical-align: top;\n",
       "    }\n",
       "\n",
       "    .dataframe thead th {\n",
       "        text-align: right;\n",
       "    }\n",
       "</style>\n",
       "<table border=\"1\" class=\"dataframe\">\n",
       "  <thead>\n",
       "    <tr style=\"text-align: right;\">\n",
       "      <th></th>\n",
       "      <th>Fréquence d'observation</th>\n",
       "      <th>Countries</th>\n",
       "      <th>Transaction</th>\n",
       "      <th>Activité économique</th>\n",
       "      <th>Unité de mesure</th>\n",
       "      <th>TIME_PERIOD</th>\n",
       "      <th>OBS_VALUE</th>\n",
       "      <th>Multiplicateur d'unité</th>\n",
       "    </tr>\n",
       "  </thead>\n",
       "  <tbody>\n",
       "    <tr>\n",
       "      <th>406</th>\n",
       "      <td>Trimestrielle</td>\n",
       "      <td>Latvia</td>\n",
       "      <td>Emploi total</td>\n",
       "      <td>Industrie (sauf construction)</td>\n",
       "      <td>Heures</td>\n",
       "      <td>1995-06-01</td>\n",
       "      <td>0.017951</td>\n",
       "      <td>Millions</td>\n",
       "    </tr>\n",
       "    <tr>\n",
       "      <th>407</th>\n",
       "      <td>Trimestrielle</td>\n",
       "      <td>Latvia</td>\n",
       "      <td>Emploi total</td>\n",
       "      <td>Industrie (sauf construction)</td>\n",
       "      <td>Heures</td>\n",
       "      <td>1995-09-01</td>\n",
       "      <td>-0.012448</td>\n",
       "      <td>Millions</td>\n",
       "    </tr>\n",
       "    <tr>\n",
       "      <th>408</th>\n",
       "      <td>Trimestrielle</td>\n",
       "      <td>Latvia</td>\n",
       "      <td>Emploi total</td>\n",
       "      <td>Industrie (sauf construction)</td>\n",
       "      <td>Heures</td>\n",
       "      <td>1995-12-01</td>\n",
       "      <td>0.004202</td>\n",
       "      <td>Millions</td>\n",
       "    </tr>\n",
       "    <tr>\n",
       "      <th>409</th>\n",
       "      <td>Trimestrielle</td>\n",
       "      <td>Latvia</td>\n",
       "      <td>Emploi total</td>\n",
       "      <td>Industrie (sauf construction)</td>\n",
       "      <td>Heures</td>\n",
       "      <td>1996-03-01</td>\n",
       "      <td>-0.005230</td>\n",
       "      <td>Millions</td>\n",
       "    </tr>\n",
       "    <tr>\n",
       "      <th>410</th>\n",
       "      <td>Trimestrielle</td>\n",
       "      <td>Latvia</td>\n",
       "      <td>Emploi total</td>\n",
       "      <td>Industrie (sauf construction)</td>\n",
       "      <td>Heures</td>\n",
       "      <td>1996-06-01</td>\n",
       "      <td>0.005258</td>\n",
       "      <td>Millions</td>\n",
       "    </tr>\n",
       "  </tbody>\n",
       "</table>\n",
       "</div>"
      ],
      "text/plain": [
       "    Fréquence d'observation Countries   Transaction  \\\n",
       "406           Trimestrielle    Latvia  Emploi total   \n",
       "407           Trimestrielle    Latvia  Emploi total   \n",
       "408           Trimestrielle    Latvia  Emploi total   \n",
       "409           Trimestrielle    Latvia  Emploi total   \n",
       "410           Trimestrielle    Latvia  Emploi total   \n",
       "\n",
       "               Activité économique Unité de mesure TIME_PERIOD  OBS_VALUE  \\\n",
       "406  Industrie (sauf construction)          Heures  1995-06-01   0.017951   \n",
       "407  Industrie (sauf construction)          Heures  1995-09-01  -0.012448   \n",
       "408  Industrie (sauf construction)          Heures  1995-12-01   0.004202   \n",
       "409  Industrie (sauf construction)          Heures  1996-03-01  -0.005230   \n",
       "410  Industrie (sauf construction)          Heures  1996-06-01   0.005258   \n",
       "\n",
       "    Multiplicateur d'unité  \n",
       "406               Millions  \n",
       "407               Millions  \n",
       "408               Millions  \n",
       "409               Millions  \n",
       "410               Millions  "
      ]
     },
     "execution_count": 160,
     "metadata": {},
     "output_type": "execute_result"
    }
   ],
   "source": [
    "emp_rate = pd.read_csv(\"global/dataglobal/clean_employment.csv\")\n",
    "emp_rate = emp_rate[emp_rate['Activité économique'].isin(['Construction','Total - Toutes les activités','Industrie (sauf construction)','Information et communication'])]\n",
    "emp_rate[\"Zone de référence\"] = np.where(emp_rate[\"Zone de référence\"] == 'European Union (27 countries as of 02/01/2020)','European Union',emp_rate[\"Zone de référence\"])\n",
    "emp_rate.rename(columns={'Zone de référence':'Countries'},inplace=True)\n",
    "emp_rate.drop(columns=['Unnamed: 0'],inplace=True)\n",
    "emp_rate.dropna(axis=0,inplace=True)\n",
    "emp_rate.head()"
   ]
  },
  {
   "cell_type": "code",
   "execution_count": 161,
   "metadata": {},
   "outputs": [],
   "source": [
    "#Define layout for page 2 (Employment Rate)\n",
    "def page2_layout():\n",
    "    return html.Div(\n",
    "        html.Div(\n",
    "            className='wrapper',\n",
    "            children=[\n",
    "                html.Div( #The Header\n",
    "                    className=\"app-header\",\n",
    "                    children=[\n",
    "                        html.H1(children=\"Employment (in hours worked)\", className='app-header--title'),\n",
    "                        html.P(\n",
    "                            children=\"Quarter over Quarter Variation\",\n",
    "                            className='app-header--description'),\n",
    "                    ],\n",
    "                ),\n",
    "                html.Div( #The Home Page link\n",
    "                    children=[\n",
    "                        dcc.Link('Home Page', href='/'),\n",
    "                    ],\n",
    "                    style={'width': '100%', 'margin-top':'-120px',}\n",
    "                ),\n",
    "                html.Div( #The dropdown list and the graphic\n",
    "                    className = 'dropdown',\n",
    "                    children=[\n",
    "                        dmc.MultiSelect( #Dropdown list\n",
    "                            label=\"Select the Countries you want to analyse\",\n",
    "                            placeholder=\"Select one or more\",\n",
    "                            value=[\"France\"],\n",
    "                            data=options_emp_rate,\n",
    "                            id='countries_filter',\n",
    "                            style={'width': '100%'},\n",
    "                        ),\n",
    "                        dmc.Select( #Dropdown list economic activity\n",
    "                            label=\"Select the economic activity you want to see\",\n",
    "                            placeholder=\"Select one\",\n",
    "                            value=\"Total - Toutes les activités\",\n",
    "                            data=list(emp_rate['Activité économique'].unique()),\n",
    "                            id='eco_act_filter',\n",
    "                            style={'width': '100%'},\n",
    "                        ),\n",
    "                        dmc.Select( #Dropdown list economic activity\n",
    "                            label=\"Select the covid index you want to compare\",\n",
    "                            placeholder=\"Select one\",\n",
    "                            value=\"Cases\",\n",
    "                            data=['Cases','Deaths','stringency_index'],\n",
    "                            id='covid_filter',\n",
    "                            style={'width': '100%'},\n",
    "                        )\n",
    "                    ],\n",
    "                ),\n",
    "                html.Div( #Graphic (Code is in the dash part)\n",
    "                    className = 'plot_card',\n",
    "                    children=[\n",
    "                        dcc.Graph(id='emp_rate_plot',style={'width':'65%'}),\n",
    "                        html.Div(\n",
    "                            className='conclusion',\n",
    "                            children=[\n",
    "                                html.H1(children=\"Our Analysis\", className='app-conclusion--title'),\n",
    "                                html.P(\n",
    "                                    children=\"adkjnsakdfnajdfn\",\n",
    "                                    className='app-conclusion--description')\n",
    "                            ]\n",
    "                        )    \n",
    "                    ],\n",
    "                )\n",
    "            ]\n",
    "        )\n",
    "    )"
   ]
  },
  {
   "cell_type": "markdown",
   "metadata": {},
   "source": [
    "## Page 3: Final Consumption Expenditure"
   ]
  },
  {
   "cell_type": "code",
   "execution_count": 162,
   "metadata": {},
   "outputs": [
    {
     "data": {
      "text/html": [
       "<div>\n",
       "<style scoped>\n",
       "    .dataframe tbody tr th:only-of-type {\n",
       "        vertical-align: middle;\n",
       "    }\n",
       "\n",
       "    .dataframe tbody tr th {\n",
       "        vertical-align: top;\n",
       "    }\n",
       "\n",
       "    .dataframe thead th {\n",
       "        text-align: right;\n",
       "    }\n",
       "</style>\n",
       "<table border=\"1\" class=\"dataframe\">\n",
       "  <thead>\n",
       "    <tr style=\"text-align: right;\">\n",
       "      <th></th>\n",
       "      <th>Countries</th>\n",
       "      <th>Secteur institutionnel</th>\n",
       "      <th>TIME_PERIOD</th>\n",
       "      <th>OBS_VALUE</th>\n",
       "      <th>Multiplicateur d'unité</th>\n",
       "      <th>CURRENCY</th>\n",
       "    </tr>\n",
       "  </thead>\n",
       "  <tbody>\n",
       "    <tr>\n",
       "      <th>1</th>\n",
       "      <td>Finland</td>\n",
       "      <td>Ménages</td>\n",
       "      <td>1990-06-01</td>\n",
       "      <td>0.010185</td>\n",
       "      <td>Millions</td>\n",
       "      <td>EUR</td>\n",
       "    </tr>\n",
       "    <tr>\n",
       "      <th>2</th>\n",
       "      <td>Finland</td>\n",
       "      <td>Ménages</td>\n",
       "      <td>1990-09-01</td>\n",
       "      <td>-0.013368</td>\n",
       "      <td>Millions</td>\n",
       "      <td>EUR</td>\n",
       "    </tr>\n",
       "    <tr>\n",
       "      <th>3</th>\n",
       "      <td>Finland</td>\n",
       "      <td>Ménages</td>\n",
       "      <td>1990-12-01</td>\n",
       "      <td>-0.009932</td>\n",
       "      <td>Millions</td>\n",
       "      <td>EUR</td>\n",
       "    </tr>\n",
       "    <tr>\n",
       "      <th>4</th>\n",
       "      <td>Finland</td>\n",
       "      <td>Ménages</td>\n",
       "      <td>1991-03-01</td>\n",
       "      <td>-0.016121</td>\n",
       "      <td>Millions</td>\n",
       "      <td>EUR</td>\n",
       "    </tr>\n",
       "    <tr>\n",
       "      <th>5</th>\n",
       "      <td>Finland</td>\n",
       "      <td>Ménages</td>\n",
       "      <td>1991-06-01</td>\n",
       "      <td>0.003006</td>\n",
       "      <td>Millions</td>\n",
       "      <td>EUR</td>\n",
       "    </tr>\n",
       "  </tbody>\n",
       "</table>\n",
       "</div>"
      ],
      "text/plain": [
       "  Countries Secteur institutionnel TIME_PERIOD  OBS_VALUE  \\\n",
       "1   Finland                Ménages  1990-06-01   0.010185   \n",
       "2   Finland                Ménages  1990-09-01  -0.013368   \n",
       "3   Finland                Ménages  1990-12-01  -0.009932   \n",
       "4   Finland                Ménages  1991-03-01  -0.016121   \n",
       "5   Finland                Ménages  1991-06-01   0.003006   \n",
       "\n",
       "  Multiplicateur d'unité CURRENCY  \n",
       "1               Millions      EUR  \n",
       "2               Millions      EUR  \n",
       "3               Millions      EUR  \n",
       "4               Millions      EUR  \n",
       "5               Millions      EUR  "
      ]
     },
     "execution_count": 162,
     "metadata": {},
     "output_type": "execute_result"
    }
   ],
   "source": [
    "consumption = pd.read_csv(\"global/dataglobal/clean_finalconsumptionexpenditure.csv\")\n",
    "consumption[\"Zone de référence\"] = np.where(consumption[\"Zone de référence\"] == 'European Union (27 countries as of 02/01/2020)','European Union',consumption[\"Zone de référence\"])\n",
    "consumption.rename(columns={'Zone de référence':'Countries'},inplace=True)\n",
    "consumption.drop(columns=['Unnamed: 0'],inplace=True)\n",
    "consumption.dropna(axis=0,inplace=True)\n",
    "consumption.head()"
   ]
  },
  {
   "cell_type": "code",
   "execution_count": 163,
   "metadata": {},
   "outputs": [],
   "source": [
    "#Define layout for page 3 (Employment Rate)\n",
    "def page3_layout():\n",
    "    return html.Div(\n",
    "        html.Div(\n",
    "            className='wrapper',\n",
    "            children=[\n",
    "                html.Div( #The Header\n",
    "                    className=\"app-header\",\n",
    "                    children=[\n",
    "                        html.H1(children=\"Final Consumption Expenditure\", className='app-header--title'),\n",
    "                        html.P(\n",
    "                            children=\"Year over Year Variation (for Households)\",\n",
    "                            className='app-header--description'),\n",
    "                    ],\n",
    "                ),\n",
    "                html.Div( #The Home Page link\n",
    "                    children=[\n",
    "                        dcc.Link('Home Page', href='/'),\n",
    "                    ],\n",
    "                    style={'width': '100%', 'margin-top':'-120px',}\n",
    "                ),\n",
    "                html.Div( #The dropdown list and the graphic\n",
    "                    className=\"dropdown\",\n",
    "                    children=[\n",
    "                        dmc.MultiSelect( #Dropdown list\n",
    "                            label=\"Select the Countries you want to analyse\",\n",
    "                            placeholder=\"Select one or more\",\n",
    "                            value=[\"France\"],\n",
    "                            data=options_consumption,\n",
    "                            id='countries_filter',\n",
    "                            style={'width': '100%'},\n",
    "                        ),\n",
    "                        dmc.Select( #Dropdown list economic activity\n",
    "                            label=\"Select the covid index you want to compare\",\n",
    "                            placeholder=\"Select one\",\n",
    "                            value=\"Cases\",\n",
    "                            data=['Cases','Deaths','stringency_index'],\n",
    "                            id='covid_filter',\n",
    "                            style={'width': '100%'},\n",
    "                        )\n",
    "                    ],\n",
    "                ),\n",
    "                html.Div( #Graphic (Code is in the dash part)\n",
    "                    className = 'plot_card',\n",
    "                    children=[\n",
    "                        dcc.Graph(id='consumption_plot',style={'width':'65%'}),\n",
    "                        html.Div(\n",
    "                            className='conclusion',\n",
    "                            children=[\n",
    "                                html.H1(children=\"Our Analysis\", className='app-conclusion--title'),\n",
    "                                html.P(\n",
    "                                    children=\"adkjnsakdfnajdfn\",\n",
    "                                    className='app-conclusion--description')\n",
    "                            ]\n",
    "                        ) \n",
    "                    ],\n",
    "                )\n",
    "            ]\n",
    "        )\n",
    "    )"
   ]
  },
  {
   "cell_type": "markdown",
   "metadata": {},
   "source": [
    "## Page 4: GFCF"
   ]
  },
  {
   "cell_type": "code",
   "execution_count": 164,
   "metadata": {},
   "outputs": [
    {
     "data": {
      "text/html": [
       "<div>\n",
       "<style scoped>\n",
       "    .dataframe tbody tr th:only-of-type {\n",
       "        vertical-align: middle;\n",
       "    }\n",
       "\n",
       "    .dataframe tbody tr th {\n",
       "        vertical-align: top;\n",
       "    }\n",
       "\n",
       "    .dataframe thead th {\n",
       "        text-align: right;\n",
       "    }\n",
       "</style>\n",
       "<table border=\"1\" class=\"dataframe\">\n",
       "  <thead>\n",
       "    <tr style=\"text-align: right;\">\n",
       "      <th></th>\n",
       "      <th>Countries</th>\n",
       "      <th>Secteur institutionnel</th>\n",
       "      <th>Instruments financiers et actifs non financiers</th>\n",
       "      <th>TIME_PERIOD</th>\n",
       "      <th>OBS_VALUE</th>\n",
       "    </tr>\n",
       "  </thead>\n",
       "  <tbody>\n",
       "    <tr>\n",
       "      <th>9</th>\n",
       "      <td>Algeria</td>\n",
       "      <td>Economie totale</td>\n",
       "      <td>Actifs fixes, brut</td>\n",
       "      <td>1969</td>\n",
       "      <td>1.610465e+12</td>\n",
       "    </tr>\n",
       "    <tr>\n",
       "      <th>10</th>\n",
       "      <td>Algeria</td>\n",
       "      <td>Economie totale</td>\n",
       "      <td>Actifs fixes, brut</td>\n",
       "      <td>1970</td>\n",
       "      <td>1.610465e+12</td>\n",
       "    </tr>\n",
       "    <tr>\n",
       "      <th>11</th>\n",
       "      <td>Algeria</td>\n",
       "      <td>Economie totale</td>\n",
       "      <td>Actifs fixes, brut</td>\n",
       "      <td>1971</td>\n",
       "      <td>1.610465e+12</td>\n",
       "    </tr>\n",
       "    <tr>\n",
       "      <th>12</th>\n",
       "      <td>Algeria</td>\n",
       "      <td>Economie totale</td>\n",
       "      <td>Actifs fixes, brut</td>\n",
       "      <td>1972</td>\n",
       "      <td>1.610465e+12</td>\n",
       "    </tr>\n",
       "    <tr>\n",
       "      <th>13</th>\n",
       "      <td>Algeria</td>\n",
       "      <td>Economie totale</td>\n",
       "      <td>Actifs fixes, brut</td>\n",
       "      <td>1973</td>\n",
       "      <td>1.610465e+12</td>\n",
       "    </tr>\n",
       "  </tbody>\n",
       "</table>\n",
       "</div>"
      ],
      "text/plain": [
       "   Countries Secteur institutionnel  \\\n",
       "9    Algeria        Economie totale   \n",
       "10   Algeria        Economie totale   \n",
       "11   Algeria        Economie totale   \n",
       "12   Algeria        Economie totale   \n",
       "13   Algeria        Economie totale   \n",
       "\n",
       "   Instruments financiers et actifs non financiers TIME_PERIOD     OBS_VALUE  \n",
       "9                               Actifs fixes, brut        1969  1.610465e+12  \n",
       "10                              Actifs fixes, brut        1970  1.610465e+12  \n",
       "11                              Actifs fixes, brut        1971  1.610465e+12  \n",
       "12                              Actifs fixes, brut        1972  1.610465e+12  \n",
       "13                              Actifs fixes, brut        1973  1.610465e+12  "
      ]
     },
     "execution_count": 164,
     "metadata": {},
     "output_type": "execute_result"
    }
   ],
   "source": [
    "gfcf = pd.read_csv(\"global/dataglobal/clean_GFCF.csv\")\n",
    "gfcf[\"Zone de référence\"] = np.where(gfcf[\"Zone de référence\"] == 'European Union (27 countries as of 02/01/2020)','European Union',np.where(gfcf[\"Zone de référence\"] == 'Eurozone (20 countries)','Eurozone',np.where(gfcf[\"Zone de référence\"] == 'UNITED STATES','United States',np.where(gfcf[\"Zone de référence\"] == 'Russian Federation','Russia',np.where(gfcf[\"Zone de référence\"] == 'Swiss','Switzerland',np.where(gfcf[\"Zone de référence\"] == 'The Netherlands','Netherlands',np.where(gfcf[\"Zone de référence\"] == 'Korea, Rep.','South Korea',np.where(gfcf[\"Zone de référence\"] == 'Turkiey','Turkey',np.where(gfcf[\"Zone de référence\"] == 'Viet Nam','Vietnam',np.where(gfcf[\"Zone de référence\"] == 'Egypt, Arab Rep.','Egypt',gfcf[\"Zone de référence\"]))))))))))\n",
    "gfcf.rename(columns={'Zone de référence':'Countries'},inplace=True)\n",
    "gfcf.drop(columns=['Unnamed: 0'],inplace=True)\n",
    "gfcf.dropna(axis=0,inplace=True)\n",
    "gfcf.head()"
   ]
  },
  {
   "cell_type": "code",
   "execution_count": 165,
   "metadata": {},
   "outputs": [],
   "source": [
    "# Define layout for page 4 (GFCF)\n",
    "def page4_layout():\n",
    "    return html.Div(\n",
    "        html.Div(\n",
    "            className='wrapper',\n",
    "            children=[\n",
    "                html.Div( #The Header\n",
    "                    className=\"app-header\",\n",
    "                    children=[\n",
    "                        html.H1(children=\"Gross Fixed Capital Formation\", className='app-header--title'),\n",
    "                        html.P(\n",
    "                            children=\"Year over Year Variation\",\n",
    "                            className='app-header--description'),\n",
    "                    ],\n",
    "                ),\n",
    "                html.Div( #The Home Page link\n",
    "                    children=[\n",
    "                        dcc.Link('Home Page', href='/'),\n",
    "                    ],\n",
    "                    style={'width': '100%', 'margin-top':'-120px',}\n",
    "                ),\n",
    "                html.Div( #The dropdown list and the graphic\n",
    "                    className=\"dropdown\",\n",
    "                    children=[\n",
    "                        dmc.MultiSelect( #Dropdown list\n",
    "                            label=\"Select the Countries you want to analyse\",\n",
    "                            placeholder=\"Select one or more\",\n",
    "                            value=[\"France\"],\n",
    "                            data=options_gfcf,\n",
    "                            id='countries_filter',\n",
    "                            style={'width': '100%'},\n",
    "                        ),\n",
    "                        dmc.Select( #Dropdown list economic activity\n",
    "                            label=\"Select the economic activity you want to see\",\n",
    "                            placeholder=\"Select one\",\n",
    "                            value=\"Actifs fixes, brut\",\n",
    "                            data=list(gfcf['Instruments financiers et actifs non financiers'].unique()),\n",
    "                            id='inst_filter',\n",
    "                            style={'width': '100%'},\n",
    "                        ),\n",
    "                        dmc.Select( #Dropdown list economic activity\n",
    "                            label=\"Select the covid index you want to compare\",\n",
    "                            placeholder=\"Select one\",\n",
    "                            value=\"Cases\",\n",
    "                            data=['Cases','Deaths','stringency_index'],\n",
    "                            id='covid_filter',\n",
    "                            style={'width': '100%'},\n",
    "                        )\n",
    "                    ],\n",
    "                ),\n",
    "                html.Div( #Graphic (Code is in the dash part)\n",
    "                    className = 'plot_card',\n",
    "                    children=[\n",
    "                        dcc.Graph(id='gfcf_plot',style={'width':'65%'}),\n",
    "                        html.Div(\n",
    "                            className='conclusion',\n",
    "                            children=[\n",
    "                                html.H1(children=\"Our Analysis\", className='app-conclusion--title'),\n",
    "                                html.P(\n",
    "                                    children=\"adkjnsakdfnajdfn\",\n",
    "                                    className='app-conclusion--description')\n",
    "                            ]\n",
    "                        ) \n",
    "                    ],\n",
    "                )\n",
    "            ],\n",
    "        )\n",
    "    )"
   ]
  },
  {
   "cell_type": "markdown",
   "metadata": {},
   "source": [
    "## Page 5: GDP"
   ]
  },
  {
   "cell_type": "code",
   "execution_count": 166,
   "metadata": {},
   "outputs": [
    {
     "data": {
      "text/html": [
       "<div>\n",
       "<style scoped>\n",
       "    .dataframe tbody tr th:only-of-type {\n",
       "        vertical-align: middle;\n",
       "    }\n",
       "\n",
       "    .dataframe tbody tr th {\n",
       "        vertical-align: top;\n",
       "    }\n",
       "\n",
       "    .dataframe thead th {\n",
       "        text-align: right;\n",
       "    }\n",
       "</style>\n",
       "<table border=\"1\" class=\"dataframe\">\n",
       "  <thead>\n",
       "    <tr style=\"text-align: right;\">\n",
       "      <th></th>\n",
       "      <th>Countries</th>\n",
       "      <th>Secteur institutionnel</th>\n",
       "      <th>Transaction</th>\n",
       "      <th>Activité économique</th>\n",
       "      <th>Unité de mesure</th>\n",
       "      <th>Transformation</th>\n",
       "      <th>TIME_PERIOD</th>\n",
       "      <th>OBS_VALUE</th>\n",
       "    </tr>\n",
       "  </thead>\n",
       "  <tbody>\n",
       "    <tr>\n",
       "      <th>0</th>\n",
       "      <td>Norway</td>\n",
       "      <td>Economie totale</td>\n",
       "      <td>Produit intérieur brut</td>\n",
       "      <td>Non applicable</td>\n",
       "      <td>Changement en pourcentage</td>\n",
       "      <td>Taux de croissance, sur 1 an</td>\n",
       "      <td>1961-03-01</td>\n",
       "      <td>5.869164</td>\n",
       "    </tr>\n",
       "    <tr>\n",
       "      <th>1</th>\n",
       "      <td>Norway</td>\n",
       "      <td>Economie totale</td>\n",
       "      <td>Produit intérieur brut</td>\n",
       "      <td>Non applicable</td>\n",
       "      <td>Changement en pourcentage</td>\n",
       "      <td>Taux de croissance, sur 1 an</td>\n",
       "      <td>1961-06-01</td>\n",
       "      <td>6.768961</td>\n",
       "    </tr>\n",
       "    <tr>\n",
       "      <th>2</th>\n",
       "      <td>Norway</td>\n",
       "      <td>Economie totale</td>\n",
       "      <td>Produit intérieur brut</td>\n",
       "      <td>Non applicable</td>\n",
       "      <td>Changement en pourcentage</td>\n",
       "      <td>Taux de croissance, sur 1 an</td>\n",
       "      <td>1961-09-01</td>\n",
       "      <td>6.716544</td>\n",
       "    </tr>\n",
       "    <tr>\n",
       "      <th>3</th>\n",
       "      <td>Norway</td>\n",
       "      <td>Economie totale</td>\n",
       "      <td>Produit intérieur brut</td>\n",
       "      <td>Non applicable</td>\n",
       "      <td>Changement en pourcentage</td>\n",
       "      <td>Taux de croissance, sur 1 an</td>\n",
       "      <td>1961-12-01</td>\n",
       "      <td>5.746506</td>\n",
       "    </tr>\n",
       "    <tr>\n",
       "      <th>4</th>\n",
       "      <td>Norway</td>\n",
       "      <td>Economie totale</td>\n",
       "      <td>Produit intérieur brut</td>\n",
       "      <td>Non applicable</td>\n",
       "      <td>Changement en pourcentage</td>\n",
       "      <td>Taux de croissance, sur 1 an</td>\n",
       "      <td>1962-03-01</td>\n",
       "      <td>3.916006</td>\n",
       "    </tr>\n",
       "  </tbody>\n",
       "</table>\n",
       "</div>"
      ],
      "text/plain": [
       "  Countries Secteur institutionnel             Transaction  \\\n",
       "0    Norway        Economie totale  Produit intérieur brut   \n",
       "1    Norway        Economie totale  Produit intérieur brut   \n",
       "2    Norway        Economie totale  Produit intérieur brut   \n",
       "3    Norway        Economie totale  Produit intérieur brut   \n",
       "4    Norway        Economie totale  Produit intérieur brut   \n",
       "\n",
       "  Activité économique            Unité de mesure  \\\n",
       "0      Non applicable  Changement en pourcentage   \n",
       "1      Non applicable  Changement en pourcentage   \n",
       "2      Non applicable  Changement en pourcentage   \n",
       "3      Non applicable  Changement en pourcentage   \n",
       "4      Non applicable  Changement en pourcentage   \n",
       "\n",
       "                 Transformation TIME_PERIOD  OBS_VALUE  \n",
       "0  Taux de croissance, sur 1 an  1961-03-01   5.869164  \n",
       "1  Taux de croissance, sur 1 an  1961-06-01   6.768961  \n",
       "2  Taux de croissance, sur 1 an  1961-09-01   6.716544  \n",
       "3  Taux de croissance, sur 1 an  1961-12-01   5.746506  \n",
       "4  Taux de croissance, sur 1 an  1962-03-01   3.916006  "
      ]
     },
     "execution_count": 166,
     "metadata": {},
     "output_type": "execute_result"
    }
   ],
   "source": [
    "gdp = pd.read_csv(\"global/dataglobal/clean_gdp_recap.csv\")\n",
    "gdp[\"Zone de référence\"] = np.where(gdp[\"Zone de référence\"] == 'European Union (27 countries as of 02/01/2020)','European Union',np.where(gdp[\"Zone de référence\"] == 'Eurozone (20 countries)','Eurozone',np.where(gdp[\"Zone de référence\"] == \"China (People's Republic of)\",\"China\",np.where(gdp[\"Zone de référence\"] == 'UNITED STATES','United States',np.where(gdp[\"Zone de référence\"] == 'Swiss','Switzerland',np.where(gdp[\"Zone de référence\"] == 'The Netherlands','Netherlands',np.where(gdp[\"Zone de référence\"] == 'Korea, Rep.','South Korea',np.where(gdp[\"Zone de référence\"] == 'Turkiey','Turkey',gdp[\"Zone de référence\"]))))))))\n",
    "gdp.rename(columns={'Zone de référence':'Countries'},inplace=True)\n",
    "gdp.drop(columns=['Unnamed: 0'],inplace=True)\n",
    "gdp.dropna(axis=0,inplace=True)\n",
    "gdp.head()"
   ]
  },
  {
   "cell_type": "code",
   "execution_count": 167,
   "metadata": {},
   "outputs": [],
   "source": [
    "#Define layout for page 5 (Employment Rate)\n",
    "def page5_layout():\n",
    "    return html.Div(\n",
    "        html.Div(\n",
    "            className='wrapper',\n",
    "            children=[\n",
    "                html.Div( #The Header\n",
    "                    className=\"app-header\",\n",
    "                    children=[\n",
    "                        html.H1(children=\"GDP\", className='app-header--title'),\n",
    "                        html.P(\n",
    "                            children=\"Year over Year Variation\",\n",
    "                            className='app-header--description'),\n",
    "                    ],\n",
    "                ),\n",
    "                html.Div( #The Home Page link\n",
    "                    children=[\n",
    "                        dcc.Link('Home Page', href='/'),\n",
    "                    ],\n",
    "                    style={'width': '100%', 'margin-top':'-120px',}\n",
    "                ),\n",
    "                html.Div( #The dropdown list and the graphic\n",
    "                    className='dropdown',\n",
    "                    children=[\n",
    "                        dmc.MultiSelect( #Dropdown list\n",
    "                            label=\"Select the Countries you want to analyse\",\n",
    "                            placeholder=\"Select one or more\",\n",
    "                            value=[\"European Union\"],\n",
    "                            data=options_gdp,\n",
    "                            id='countries_filter',\n",
    "                            style={'width': '100%'},\n",
    "                        ),\n",
    "                        dmc.Select( #Dropdown list economic activity\n",
    "                            label=\"Select the covid index you want to compare\",\n",
    "                            placeholder=\"Select one\",\n",
    "                            value=\"Cases\",\n",
    "                            data=['Cases','Deaths','stringency_index'],\n",
    "                            id='covid_filter',\n",
    "                            style={'width': '100%'},\n",
    "                        )\n",
    "                    ],\n",
    "                ),\n",
    "                html.Div( #Graphic (Code is in the dash part)\n",
    "                    className = 'plot_card',\n",
    "                    children=[\n",
    "                        dcc.Graph(id='gdp_plot',style={'width':'65%'}),\n",
    "                        html.Div(\n",
    "                            className='conclusion',\n",
    "                            children=[\n",
    "                                html.H1(children=\"Our Analysis\", className='app-conclusion--title'),\n",
    "                                html.P(\n",
    "                                    children=\"adkjnsakdfnajdfn\",\n",
    "                                    className='app-conclusion--description')\n",
    "                            ]\n",
    "                        ) \n",
    "                    ],\n",
    "                )\n",
    "            ]\n",
    "        )\n",
    "    )"
   ]
  },
  {
   "cell_type": "markdown",
   "metadata": {},
   "source": [
    "# Main"
   ]
  },
  {
   "cell_type": "code",
   "execution_count": 169,
   "metadata": {},
   "outputs": [
    {
     "data": {
      "text/html": [
       "\n",
       "        <iframe\n",
       "            width=\"100%\"\n",
       "            height=\"650\"\n",
       "            src=\"http://127.0.0.1:8050/\"\n",
       "            frameborder=\"0\"\n",
       "            allowfullscreen\n",
       "            \n",
       "        ></iframe>\n",
       "        "
      ],
      "text/plain": [
       "<IPython.lib.display.IFrame at 0x266ee3da440>"
      ]
     },
     "metadata": {},
     "output_type": "display_data"
    }
   ],
   "source": [
    "'''import dash\n",
    "from dash import dcc, html\n",
    "from dash.dependencies import Input, Output\n",
    "import dash_core_components as dcc\n",
    "import dash_html_components as html\n",
    "from dash import Dash\n",
    "from dash import callback_context\n",
    "from dash.exceptions import PreventUpdate\n",
    "from dash.dependencies import Input, Output, State'''\n",
    "\n",
    "# Initialize the Dash app\n",
    "app = dash.Dash(__name__, suppress_callback_exceptions=True, index_string='''<!DOCTYPE html>\n",
    "<html>\n",
    "    <head>\n",
    "        <link rel=\"preconnect\" href=\"https://fonts.googleapis.com\">\n",
    "        <link rel=\"preconnect\" href=\"https://fonts.gstatic.com\" crossorigin>\n",
    "        <link href=\"https://fonts.googleapis.com/css2?family=Angkor&display=swap\" rel=\"stylesheet\">\n",
    "        {%metas%}\n",
    "        <title>{%title%}</title>\n",
    "        {%favicon%}\n",
    "        {%css%}\n",
    "    </head>\n",
    "    <body>\n",
    "        {%app_entry%}\n",
    "        <footer>\n",
    "            {%config%}\n",
    "            {%scripts%}\n",
    "            {%renderer%}\n",
    "        </footer>\n",
    "    </body>\n",
    "</html>\n",
    "''')\n",
    "\n",
    "#Upgrade page 1 Graphic (Employee Compensation)\n",
    "@app.callback(\n",
    "    Output('emp_comp_plot', 'figure'),\n",
    "    Input('countries_filter', 'value'),\n",
    "    Input('eco_act_filter', 'value'),\n",
    "    Input('covid_filter', 'value'))\n",
    "\n",
    "def update_graph_emp_comp(selected_countries,selected_eco_act,selected_covid):\n",
    "\n",
    "    filtered_df = emp_comp[emp_comp['Countries'].isin(selected_countries)]\n",
    "    filtered_df = filtered_df[filtered_df['Activité économique'] == selected_eco_act]\n",
    "    filtered_covid = covid_df[covid_df['Countries'].isin(selected_countries)]\n",
    "\n",
    "    colors = px.colors.qualitative.Plotly\n",
    "    fig = make_subplots(rows=2,cols=1, shared_xaxes=True, subplot_titles=(\"Employee Compensation per European Country\", \"Covid Index\"))\n",
    "\n",
    "    #Adding the lines\n",
    "    for idx, country in enumerate(filtered_df['Countries'].unique()):\n",
    "        country_data = filtered_df[filtered_df['Countries'] == country]\n",
    "        fig.add_trace(go.Scatter(x=country_data['TIME_PERIOD'], y=country_data['OBS_VALUE'], mode='lines', name=country,\n",
    "                                 line=dict(color=colors[idx])), row=1, col=1)\n",
    "        \n",
    "    for idx, country in enumerate(filtered_covid['Countries'].unique()):\n",
    "        country_data = filtered_covid[filtered_covid['Countries'] == country]\n",
    "        fig.add_trace(go.Scatter(x=country_data['TIME_PERIOD'], y=country_data[selected_covid], mode='lines', name=country,\n",
    "                                 line=dict(color=colors[idx]), showlegend=False), row=2, col=1)\n",
    "\n",
    "    fig.update_xaxes(range=['2000-01-01', '2024-04-01'], rangeslider_visible=True, row=2)\n",
    "\n",
    "    fig.update_yaxes(range=[filtered_df[(filtered_df['TIME_PERIOD']>='2000-01-01')]['OBS_VALUE'].min()-0.01,filtered_df[(filtered_df['TIME_PERIOD']>='2000-01-01')]['OBS_VALUE'].max()+0.01],\n",
    "                     row=1, col=1)\n",
    "    if selected_covid==\"stringency_index\":\n",
    "        fig.update_yaxes(range=[filtered_covid[(filtered_covid['TIME_PERIOD']>='2000-01-01')][selected_covid].min()-0.01,filtered_covid[(filtered_covid['TIME_PERIOD']>='2000-01-01')][selected_covid].max()+0.01],\n",
    "                        row=2, col=1)\n",
    "    elif selected_covid in ['Cases', 'Deaths']:\n",
    "        fig.update_yaxes(range=[filtered_covid[(filtered_covid['TIME_PERIOD']>='2000-01-01')][selected_covid].min()-5,filtered_covid[(filtered_covid['TIME_PERIOD']>='2000-01-01')][selected_covid].max()+5],\n",
    "                        row=2, col=1)\n",
    "\n",
    "    fig.update_layout(height=650)\n",
    "\n",
    "    return fig\n",
    "\n",
    "\n",
    "\n",
    "#Upgrade page 2 Graphic (Employment rate)\n",
    "@app.callback(\n",
    "    Output('emp_rate_plot', 'figure'),\n",
    "    Input('countries_filter', 'value'),\n",
    "    Input('eco_act_filter', 'value'),\n",
    "    Input('covid_filter', 'value'))\n",
    "\n",
    "def update_graph_emp_rate(selected_countries,selected_eco_act,selected_covid):\n",
    "\n",
    "    filtered_df = emp_rate[emp_rate['Countries'].isin(selected_countries)]\n",
    "    filtered_df = filtered_df[filtered_df['Activité économique'] == selected_eco_act]\n",
    "    filtered_covid = covid_df[covid_df['Countries'].isin(selected_countries)]\n",
    "\n",
    "    colors = px.colors.qualitative.Plotly\n",
    "    fig = make_subplots(rows=2,cols=1, shared_xaxes=True, subplot_titles=(\"Employment Rate per European Country\", \"Covid Index\"))\n",
    "\n",
    "    #Adding the lines\n",
    "    for idx, country in enumerate(filtered_df['Countries'].unique()):\n",
    "        country_data = filtered_df[filtered_df['Countries'] == country]\n",
    "        fig.add_trace(go.Scatter(x=country_data['TIME_PERIOD'], y=country_data['OBS_VALUE'], mode='lines', name=country,\n",
    "                                 line=dict(color=colors[idx])), row=1, col=1)\n",
    "        \n",
    "    for idx, country in enumerate(filtered_covid['Countries'].unique()):\n",
    "        country_data = filtered_covid[filtered_covid['Countries'] == country]\n",
    "        fig.add_trace(go.Scatter(x=country_data['TIME_PERIOD'], y=country_data[selected_covid], mode='lines', name=country,\n",
    "                                 line=dict(color=colors[idx]), showlegend=False), row=2, col=1)\n",
    "\n",
    "    fig.update_xaxes(range=['2000-01-01', '2024-04-01'], rangeslider_visible=True, row=2)\n",
    "\n",
    "    fig.update_yaxes(range=[filtered_df[(filtered_df['TIME_PERIOD']>='2000-01-01')]['OBS_VALUE'].min()-0.01,filtered_df[(filtered_df['TIME_PERIOD']>='2000-01-01')]['OBS_VALUE'].max()+0.01],\n",
    "                     row=1, col=1)\n",
    "    if selected_covid==\"stringency_index\":\n",
    "        fig.update_yaxes(range=[filtered_covid[(filtered_covid['TIME_PERIOD']>='2000-01-01')][selected_covid].min()-0.01,filtered_covid[(filtered_covid['TIME_PERIOD']>='2000-01-01')][selected_covid].max()+0.01],\n",
    "                        row=2, col=1)\n",
    "    elif selected_covid in ['Cases', 'Deaths']:\n",
    "        fig.update_yaxes(range=[filtered_covid[(filtered_covid['TIME_PERIOD']>='2000-01-01')][selected_covid].min()-5,filtered_covid[(filtered_covid['TIME_PERIOD']>='2000-01-01')][selected_covid].max()+5],\n",
    "                        row=2, col=1)\n",
    "\n",
    "    fig.update_layout(height=650)\n",
    "\n",
    "    return fig\n",
    "\n",
    "\n",
    "\n",
    "#Upgrade page 3 Graphic (Final Consumption Expenditure)\n",
    "@app.callback(\n",
    "    Output('consumption_plot', 'figure'),\n",
    "    Input('countries_filter', 'value'),\n",
    "    Input('covid_filter', 'value'))\n",
    "\n",
    "def update_graph_consumption(selected_countries,selected_covid):\n",
    "\n",
    "    filtered_df = consumption[consumption['Countries'].isin(selected_countries)]\n",
    "    filtered_covid = covid_df[covid_df['Countries'].isin(selected_countries)]\n",
    "\n",
    "    colors = px.colors.qualitative.Plotly\n",
    "    fig = make_subplots(rows=2,cols=1, shared_xaxes=True, subplot_titles=(\"Final Consumption Expenditure\", \"Covid Index\"))\n",
    "\n",
    "    for idx, country in enumerate(filtered_df['Countries'].unique()):\n",
    "        country_data = filtered_df[filtered_df['Countries'] == country]\n",
    "        fig.add_trace(go.Scatter(x=country_data['TIME_PERIOD'], y=country_data['OBS_VALUE'], mode='lines', name=country,\n",
    "                                 line=dict(color=colors[idx])), row=1, col=1)\n",
    "        \n",
    "    for idx, country in enumerate(filtered_covid['Countries'].unique()):\n",
    "        country_data = filtered_covid[filtered_covid['Countries'] == country]\n",
    "        fig.add_trace(go.Scatter(x=country_data['TIME_PERIOD'], y=country_data[selected_covid], mode='lines', name=country,\n",
    "                                 line=dict(color=colors[idx]), showlegend=False), row=2, col=1)\n",
    "\n",
    "    fig.update_xaxes(range=['2000-01-01', '2024-04-01'], rangeslider_visible=True, row=2)\n",
    "\n",
    "    fig.update_yaxes(range=[filtered_df[(filtered_df['TIME_PERIOD']>='2000-01-01')]['OBS_VALUE'].min()-0.01,filtered_df[(filtered_df['TIME_PERIOD']>='2000-01-01')]['OBS_VALUE'].max()+0.01],\n",
    "                     row=1, col=1)\n",
    "    if selected_covid==\"stringency_index\":\n",
    "        fig.update_yaxes(range=[filtered_covid[(filtered_covid['TIME_PERIOD']>='2000-01-01')][selected_covid].min()-0.01,filtered_covid[(filtered_covid['TIME_PERIOD']>='2000-01-01')][selected_covid].max()+0.01],\n",
    "                        row=2, col=1)\n",
    "    elif selected_covid in ['Cases', 'Deaths']:\n",
    "        fig.update_yaxes(range=[filtered_covid[(filtered_covid['TIME_PERIOD']>='2000-01-01')][selected_covid].min()-5,filtered_covid[(filtered_covid['TIME_PERIOD']>='2000-01-01')][selected_covid].max()+5],\n",
    "                        row=2, col=1)\n",
    "\n",
    "    fig.update_layout(height=650)\n",
    "\n",
    "    return fig\n",
    "\n",
    "\n",
    "\n",
    "#Upgrade page 4 Graphic (GFCF)\n",
    "@app.callback(\n",
    "    Output('gfcf_plot', 'figure'),\n",
    "    Input('countries_filter', 'value'),\n",
    "    Input('inst_filter', 'value'),\n",
    "    Input('covid_filter', 'value'))\n",
    "\n",
    "def update_graph_gfcf(selected_countries,selected_instruments,selected_covid):\n",
    "\n",
    "    filtered_df = gfcf[gfcf['Countries'].isin(selected_countries)]\n",
    "    filtered_df = filtered_df[filtered_df['Instruments financiers et actifs non financiers'] == selected_instruments]\n",
    "    filtered_covid = covid_df[covid_df['Countries'].isin(selected_countries)]\n",
    "\n",
    "    colors = px.colors.qualitative.Plotly\n",
    "    fig = make_subplots(rows=2,cols=1, shared_xaxes=True, subplot_titles=(\"Gross Fixed Capital Formation\", \"Covid Index\"))\n",
    "\n",
    "    #Adding the lines\n",
    "    for idx, country in enumerate(filtered_df['Countries'].unique()):\n",
    "        country_data = filtered_df[filtered_df['Countries'] == country]\n",
    "        fig.add_trace(go.Scatter(x=country_data['TIME_PERIOD'], y=country_data['OBS_VALUE'], mode='lines', name=country,\n",
    "                                 line=dict(color=colors[idx])), row=1, col=1)\n",
    "    \n",
    "    for idx, country in enumerate(filtered_covid['Countries'].unique()):\n",
    "        country_data_covid = filtered_covid[filtered_covid['Countries'] == country]\n",
    "        fig.add_trace(go.Scatter(x=country_data_covid['TIME_PERIOD'], y=country_data_covid[selected_covid], mode='lines', name=country,\n",
    "                                 line=dict(color=colors[idx]), showlegend=False), row=2, col=1)\n",
    "\n",
    "    fig.update_xaxes(range=['2000-01-01', '2024-04-01'], rangeslider_visible=True, row=2)\n",
    "\n",
    "    fig.update_yaxes(range=[filtered_df[(filtered_df['TIME_PERIOD']>='2000-01-01')]['OBS_VALUE'].min()-0.01,filtered_df[(filtered_df['TIME_PERIOD']>='2000-01-01')]['OBS_VALUE'].max()+0.01],\n",
    "                     row=1, col=1)\n",
    "    \n",
    "    if selected_covid==\"stringency_index\":\n",
    "        fig.update_yaxes(range=[filtered_covid[(filtered_covid['TIME_PERIOD']>='2000-01-01')][selected_covid].min()-0.01,filtered_covid[(filtered_covid['TIME_PERIOD']>='2000-01-01')][selected_covid].max()+0.01],\n",
    "                        row=2, col=1)\n",
    "    elif selected_covid in ['Cases', 'Deaths']:\n",
    "        fig.update_yaxes(range=[filtered_covid[(filtered_covid['TIME_PERIOD']>='2000-01-01')][selected_covid].min()-5,filtered_covid[(filtered_covid['TIME_PERIOD']>='2000-01-01')][selected_covid].max()+5],\n",
    "                        row=2, col=1)\n",
    "\n",
    "    fig.update_layout(height=650)\n",
    "\n",
    "    return fig\n",
    "\n",
    "\n",
    "#Upgrade page 5 Graphic (GDP)\n",
    "@app.callback(\n",
    "    Output('gdp_plot', 'figure'),\n",
    "    Input('countries_filter', 'value'),\n",
    "    Input('covid_filter', 'value'))\n",
    "\n",
    "def update_graph_gdp(selected_countries,selected_covid):\n",
    "\n",
    "    filtered_df = gdp[gdp['Countries'].isin(selected_countries)]\n",
    "    filtered_covid = covid_df[covid_df['Countries'].isin(selected_countries)]\n",
    "\n",
    "    colors = px.colors.qualitative.Plotly\n",
    "    fig = make_subplots(rows=2,cols=1, shared_xaxes=True, subplot_titles=(\"Gross Domestic Product\", \"Covid Index\"))\n",
    "\n",
    "    #Adding the lines\n",
    "    for idx, country in enumerate(filtered_df['Countries'].unique()):\n",
    "        country_data = filtered_df[filtered_df['Countries'] == country]\n",
    "        fig.add_trace(go.Scatter(x=country_data['TIME_PERIOD'], y=country_data['OBS_VALUE'], mode='lines', name=country,\n",
    "                                 line=dict(color=colors[idx])), row=1, col=1)\n",
    "    \n",
    "    for idx, country in enumerate(filtered_covid['Countries'].unique()):\n",
    "        country_data_covid = filtered_covid[filtered_covid['Countries'] == country]\n",
    "        fig.add_trace(go.Scatter(x=country_data_covid['TIME_PERIOD'], y=country_data_covid[selected_covid], mode='lines', name=country,\n",
    "                                 line=dict(color=colors[idx]), showlegend=False), row=2, col=1)\n",
    "\n",
    "    fig.update_xaxes(range=['2000-01-01', '2024-04-01'], rangeslider_visible=True, row=2)\n",
    "\n",
    "    fig.update_yaxes(range=[filtered_df[(filtered_df['TIME_PERIOD']>='2000-01-01')]['OBS_VALUE'].min()-0.01,filtered_df[(filtered_df['TIME_PERIOD']>='2000-01-01')]['OBS_VALUE'].max()+0.01],\n",
    "                     row=1, col=1)\n",
    "    \n",
    "    if selected_covid==\"stringency_index\":\n",
    "        fig.update_yaxes(range=[filtered_covid[(filtered_covid['TIME_PERIOD']>='2000-01-01')][selected_covid].min()-0.01,filtered_covid[(filtered_covid['TIME_PERIOD']>='2000-01-01')][selected_covid].max()+0.01],\n",
    "                        row=2, col=1)\n",
    "    elif selected_covid in ['Cases', 'Deaths']:\n",
    "        fig.update_yaxes(range=[filtered_covid[(filtered_covid['TIME_PERIOD']>='2000-01-01')][selected_covid].min()-5,filtered_covid[(filtered_covid['TIME_PERIOD']>='2000-01-01')][selected_covid].max()+5],\n",
    "                        row=2, col=1)\n",
    "\n",
    "    fig.update_layout(height=650)\n",
    "\n",
    "    return fig\n",
    "\n",
    "\n",
    "\n",
    "\n",
    "# Define callback to display the corresponding layout based on the current pathname\n",
    "@app.callback(Output('page-content', 'children'),\n",
    "              [Input('url', 'pathname')])\n",
    "def display_page(pathname):\n",
    "    if pathname == '/employee_compensation':\n",
    "        return page1_layout()\n",
    "    elif pathname == '/employment_rate':\n",
    "        return page2_layout()\n",
    "    elif pathname == '/final_consumption_expenditure':\n",
    "        return page3_layout()\n",
    "    elif pathname == '/gfcf':\n",
    "        return page4_layout()\n",
    "    elif pathname == '/gdp':\n",
    "        return page5_layout()\n",
    "    else:\n",
    "        return homepage_layout()\n",
    "\n",
    "# Define the layout of the entire app\n",
    "app.layout = html.Div([\n",
    "    dcc.Location(id='url', refresh=False),\n",
    "    html.Div(id='page-content')\n",
    "])\n",
    "\n",
    "# Run the app\n",
    "if __name__ == '__main__':\n",
    "    app.run_server(debug=True)"
   ]
  }
 ],
 "metadata": {
  "kernelspec": {
   "display_name": "MachineLearning",
   "language": "python",
   "name": "python3"
  },
  "language_info": {
   "codemirror_mode": {
    "name": "ipython",
    "version": 3
   },
   "file_extension": ".py",
   "mimetype": "text/x-python",
   "name": "python",
   "nbconvert_exporter": "python",
   "pygments_lexer": "ipython3",
   "version": "3.10.0"
  }
 },
 "nbformat": 4,
 "nbformat_minor": 2
}
